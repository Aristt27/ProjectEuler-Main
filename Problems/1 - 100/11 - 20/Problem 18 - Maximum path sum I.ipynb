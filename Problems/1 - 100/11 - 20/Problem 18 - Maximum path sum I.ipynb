{
 "cells": [
  {
   "cell_type": "markdown",
   "metadata": {},
   "source": [
    "### Problem 18 ###\n",
    "\n",
    "By starting at the top of the triangle below and moving to adjacent numbers on the row below, the maximum total from top to bottom is 23.\n",
    "\n",
    "3\n",
    "7 4\n",
    "2 4 6\n",
    "8 5 9 3\n",
    "\n",
    "That is, 3 + 7 + 4 + 9 = 23.\n",
    "\n",
    "Find the maximum total from top to bottom of the triangle below:\n",
    "\n",
    "                   75\n",
    "                  95 64\n",
    "                 17 47 82\n",
    "                18 35 87 10\n",
    "               20 04 82 47 65\n",
    "              19 01 23 75 03 34\n",
    "             88 02 77 73 07 63 67\n",
    "            99 65 04 28 06 16 70 92\n",
    "           41 41 26 56 83 40 80 70 33\n",
    "          41 48 72 33 47 32 37 16 94 29\n",
    "         53 71 44 65 25 43 91 52 97 51 14\n",
    "        70 11 33 28 77 73 17 78 39 68 17 57\n",
    "       91 71 52 38 17 14 91 43 58 50 27 29 48\n",
    "      63 66 04 68 89 53 67 30 73 16 69 87 40 31\n",
    "     04 62 98 27 23 09 70 98 73 93 38 53 60 04 23\n",
    "\n",
    "NOTE: As there are only 16384 routes, it is possible to solve this problem by trying every route. However, Problem 67, is the same challenge with a triangle containing one-hundred rows; it cannot be solved by brute force, and requires a clever method! ;o)"
   ]
  },
  {
   "cell_type": "code",
   "execution_count": 11,
   "metadata": {
    "collapsed": true
   },
   "outputs": [],
   "source": [
    "import numpy as np\n",
    "import copy\n"
   ]
  },
  {
   "cell_type": "code",
   "execution_count": 6,
   "metadata": {
    "collapsed": true
   },
   "outputs": [],
   "source": [
    "t = [[75], \n",
    "[95, 64],\n",
    "[17, 47, 82],\n",
    "[18 ,35, 87, 10],\n",
    "[20 ,4, 82, 47,65],\n",
    "[19, 1, 23, 75 ,3, 34],\n",
    "[88, 2, 77, 73, 7, 63,67],\n",
    "[99, 65, 4 ,28 ,6, 16, 70 ,92],\n",
    "[41, 41 ,26, 56, 83, 40, 80, 70, 33],\n",
    "[41, 48, 72 ,33 ,47 ,32, 37, 16, 94, 29],\n",
    "[53, 71, 44, 65, 25 ,43, 91, 52, 97, 51, 14],\n",
    "[70, 11, 33, 28, 77, 73, 17, 78, 39, 68, 17, 57],\n",
    "[91, 71 ,52, 38, 17, 14, 91, 43, 58, 50, 27, 29, 48],\n",
    "[63, 66 ,4, 68 ,89 ,53, 67, 30, 73 ,16, 69, 87, 40, 31],\n",
    "[4 ,62, 98, 27 ,23, 9, 70, 98, 73 ,93, 38, 53, 60, 4 ,23]]"
   ]
  },
  {
   "cell_type": "markdown",
   "metadata": {},
   "source": [
    "problema 18 com o caminho"
   ]
  },
  {
   "cell_type": "markdown",
   "metadata": {},
   "source": [
    "problema 18 com todos os caminhos"
   ]
  },
  {
   "cell_type": "code",
   "execution_count": 7,
   "metadata": {
    "collapsed": true
   },
   "outputs": [],
   "source": [
    "def pathsum(py):\n",
    "    t = copy.deepcopy(py)\n",
    "    k = len(t)\n",
    "    i = k-2\n",
    "    if len(t) > 1:\n",
    "        for mm in t[i]:\n",
    "            indi = t[i].index(mm)\n",
    "            maior = 0\n",
    "            if t[i+1][indi+1] < t[i+1][indi]:\n",
    "                maior = t[i+1][indi]\n",
    "            else:\n",
    "                maior = t[i+1][indi+1]\n",
    "            t[i][t[i].index(mm)] += maior\n",
    "        return pathsum(t[:-1])\n",
    "    return t[0]"
   ]
  },
  {
   "cell_type": "code",
   "execution_count": 39,
   "metadata": {
    "collapsed": false
   },
   "outputs": [
    {
     "data": {
      "text/plain": [
       "[1074]"
      ]
     },
     "execution_count": 39,
     "metadata": {},
     "output_type": "execute_result"
    }
   ],
   "source": [
    "pathsum(t)"
   ]
  },
  {
   "cell_type": "code",
   "execution_count": 9,
   "metadata": {
    "collapsed": true
   },
   "outputs": [],
   "source": [
    "def write_pyramid(n,lim=100):\n",
    "    'creates a pyramid.txt file with n lines and every number up to 100'\n",
    "    with open('pyramid.txt', 'w') as file:\n",
    "        for l in range(n):\n",
    "            for c in range(l+1):\n",
    "                    k = np.random.randint(0,100)\n",
    "                    file.write(str(k)+' ')\n",
    "            file.write('\\n')"
   ]
  },
  {
   "cell_type": "code",
   "execution_count": 596,
   "metadata": {
    "collapsed": true
   },
   "outputs": [],
   "source": [
    "write_pyramid(10)"
   ]
  },
  {
   "cell_type": "code",
   "execution_count": 8,
   "metadata": {
    "collapsed": true
   },
   "outputs": [],
   "source": [
    "def pathsum2(t):\n",
    "    'retorna a parada ai sem ser recursivamente'\n",
    "    u = copy.deepcopy(t)\n",
    "    u = u[::-1]\n",
    "    k = len(u)\n",
    "    for i in range(k+1):\n",
    "        for j in range(k-i-1):\n",
    "            if u[i][j] > u[i][j+1]:\n",
    "                u[i+1][j] += u[i][j]\n",
    "            else:\n",
    "                u[i+1][j] += u[i][j+1]\n",
    "    return u[-1]"
   ]
  },
  {
   "cell_type": "code",
   "execution_count": 33,
   "metadata": {
    "collapsed": true
   },
   "outputs": [],
   "source": [
    "t = [[75],[95, 64],[99, 47, 82],[35, 99, 87, 10]]"
   ]
  },
  {
   "cell_type": "code",
   "execution_count": 44,
   "metadata": {
    "collapsed": false
   },
   "outputs": [
    {
     "name": "stdout",
     "output_type": "stream",
     "text": [
      "1000 loops, best of 3: 1.15 ms per loop\n"
     ]
    }
   ],
   "source": [
    "%timeit pathsum(t)"
   ]
  },
  {
   "cell_type": "code",
   "execution_count": 42,
   "metadata": {
    "collapsed": false
   },
   "outputs": [
    {
     "name": "stdout",
     "output_type": "stream",
     "text": [
      "1000 loops, best of 3: 214 µs per loop\n"
     ]
    }
   ],
   "source": [
    "%timeit pathsum2(t)"
   ]
  },
  {
   "cell_type": "code",
   "execution_count": 3,
   "metadata": {
    "collapsed": true
   },
   "outputs": [],
   "source": [
    "def pym_string(file):\n",
    "    'pyramid.txt -> string conversion'\n",
    "    iis = []\n",
    "    ans = []\n",
    "    with open(file,'r') as f:\n",
    "        ks = (f.readlines())\n",
    "    for k in ks:\n",
    "        iis += [k.split(' ')]\n",
    "    for ii in iis:\n",
    "        bn = []\n",
    "        for n in ii:\n",
    "            bn += [int(n)]\n",
    "        ans += [bn]\n",
    "    return ans"
   ]
  },
  {
   "cell_type": "code",
   "execution_count": 733,
   "metadata": {
    "collapsed": true
   },
   "outputs": [],
   "source": [
    "t = [[75], \n",
    "[95, 64],\n",
    "[17, 47, 82],\n",
    "[18 ,35, 87, 10],\n",
    "[20 ,4, 82, 47,65],\n",
    "[19, 1, 23, 75 ,3, 34],\n",
    "[88, 2, 77, 73, 7, 63,67],\n",
    "[99, 65, 4,28 ,6, 16, 70 ,92],\n",
    "[41, 41 ,26, 56, 83, 40, 80, 70, 33],\n",
    "[41, 48, 72 ,33 ,47 ,32, 37, 16, 94, 29],\n",
    "[53, 71, 44, 65, 25 ,43, 91, 52, 97, 51, 14],\n",
    "[70, 11, 33, 28, 77, 73, 17, 78, 39, 68, 17, 57],\n",
    "[91, 71 ,52, 38, 17, 14, 91, 43, 58, 50, 27, 29, 48],\n",
    "[63, 66 ,4, 68 ,89 ,53, 67, 30, 73 ,16, 69, 87, 40, 31],\n",
    "[4 ,62, 98, 27 ,23, 9, 70, 98, 73 ,93, 38, 53, 60, 4 ,23]]"
   ]
  },
  {
   "cell_type": "code",
   "execution_count": 4,
   "metadata": {
    "collapsed": false
   },
   "outputs": [
    {
     "ename": "FileNotFoundError",
     "evalue": "[Errno 2] No such file or directory: 'pe018.txt'",
     "output_type": "error",
     "traceback": [
      "\u001b[1;31m---------------------------------------------------------------------------\u001b[0m",
      "\u001b[1;31mFileNotFoundError\u001b[0m                         Traceback (most recent call last)",
      "\u001b[1;32m<ipython-input-4-774d8ab6ad42>\u001b[0m in \u001b[0;36m<module>\u001b[1;34m()\u001b[0m\n\u001b[1;32m----> 1\u001b[1;33m \u001b[0mt\u001b[0m \u001b[1;33m=\u001b[0m \u001b[0mpym_string\u001b[0m\u001b[1;33m(\u001b[0m\u001b[1;34m'pe018.txt'\u001b[0m\u001b[1;33m)\u001b[0m\u001b[1;33m\u001b[0m\u001b[0m\n\u001b[0m",
      "\u001b[1;32m<ipython-input-3-57467b1dd01f>\u001b[0m in \u001b[0;36mpym_string\u001b[1;34m(file)\u001b[0m\n\u001b[0;32m      3\u001b[0m     \u001b[0miis\u001b[0m \u001b[1;33m=\u001b[0m \u001b[1;33m[\u001b[0m\u001b[1;33m]\u001b[0m\u001b[1;33m\u001b[0m\u001b[0m\n\u001b[0;32m      4\u001b[0m     \u001b[0mans\u001b[0m \u001b[1;33m=\u001b[0m \u001b[1;33m[\u001b[0m\u001b[1;33m]\u001b[0m\u001b[1;33m\u001b[0m\u001b[0m\n\u001b[1;32m----> 5\u001b[1;33m     \u001b[1;32mwith\u001b[0m \u001b[0mopen\u001b[0m\u001b[1;33m(\u001b[0m\u001b[0mfile\u001b[0m\u001b[1;33m,\u001b[0m\u001b[1;34m'r'\u001b[0m\u001b[1;33m)\u001b[0m \u001b[1;32mas\u001b[0m \u001b[0mf\u001b[0m\u001b[1;33m:\u001b[0m\u001b[1;33m\u001b[0m\u001b[0m\n\u001b[0m\u001b[0;32m      6\u001b[0m         \u001b[0mks\u001b[0m \u001b[1;33m=\u001b[0m \u001b[1;33m(\u001b[0m\u001b[0mf\u001b[0m\u001b[1;33m.\u001b[0m\u001b[0mreadlines\u001b[0m\u001b[1;33m(\u001b[0m\u001b[1;33m)\u001b[0m\u001b[1;33m)\u001b[0m\u001b[1;33m\u001b[0m\u001b[0m\n\u001b[0;32m      7\u001b[0m     \u001b[1;32mfor\u001b[0m \u001b[0mk\u001b[0m \u001b[1;32min\u001b[0m \u001b[0mks\u001b[0m\u001b[1;33m:\u001b[0m\u001b[1;33m\u001b[0m\u001b[0m\n",
      "\u001b[1;31mFileNotFoundError\u001b[0m: [Errno 2] No such file or directory: 'pe018.txt'"
     ]
    }
   ],
   "source": [
    "t = pym_string('pe018.txt')"
   ]
  },
  {
   "cell_type": "code",
   "execution_count": 5,
   "metadata": {
    "collapsed": false
   },
   "outputs": [
    {
     "ename": "NameError",
     "evalue": "name 't' is not defined",
     "output_type": "error",
     "traceback": [
      "\u001b[1;31m---------------------------------------------------------------------------\u001b[0m",
      "\u001b[1;31mNameError\u001b[0m                                 Traceback (most recent call last)",
      "\u001b[1;32m<ipython-input-5-b7269fa25085>\u001b[0m in \u001b[0;36m<module>\u001b[1;34m()\u001b[0m\n\u001b[1;32m----> 1\u001b[1;33m \u001b[0mt\u001b[0m\u001b[1;33m\u001b[0m\u001b[0m\n\u001b[0m",
      "\u001b[1;31mNameError\u001b[0m: name 't' is not defined"
     ]
    }
   ],
   "source": [
    "t"
   ]
  },
  {
   "cell_type": "code",
   "execution_count": 19,
   "metadata": {
    "collapsed": false
   },
   "outputs": [],
   "source": [
    "def pathfinder(t):\n",
    "    'retorna o maior caminho'\n",
    "    u = copy.deepcopy(t)\n",
    "    iis = []\n",
    "    u = u[::-1]\n",
    "    k = len(u)\n",
    "    \n",
    "    for i in range(k+1):\n",
    "        for j in range(k-i-1):\n",
    "            if u[i][j] > u[i][j+1]:\n",
    "                u[i+1][j] += u[i][j]\n",
    "            else:\n",
    "                u[i+1][j] += u[i][j+1]\n",
    "    u = u[::-1]\n",
    "    iis.append(u[0][0])\n",
    "    ans = []\n",
    "    i = 0\n",
    "    while len(iis) < k:\n",
    "        indx = u[i].index(iis[-1])\n",
    "        cand = iis[-1] - max(u[i+1][indx],u[i+1][indx+1])\n",
    "        iis.append(max(u[i+1][indx],u[i+1][indx+1]))\n",
    "        ans.append(cand)\n",
    "        i += 1\n",
    "    missindex = t[-2].index(ans[-1])\n",
    "    if u[-1][missindex] > u[-1][missindex+1]:\n",
    "        ans.append(u[-1][missindex])\n",
    "    else:\n",
    "        ans.append(u[-1][missindex+1])\n",
    "    return ans"
   ]
  },
  {
   "cell_type": "code",
   "execution_count": 21,
   "metadata": {
    "collapsed": false
   },
   "outputs": [
    {
     "data": {
      "text/plain": [
       "[75, 64, 82, 87, 82, 75, 73, 28, 83, 32, 91, 78, 58, 73, 93]"
      ]
     },
     "execution_count": 21,
     "metadata": {},
     "output_type": "execute_result"
    }
   ],
   "source": [
    "pathfinder(t)"
   ]
  }
 ],
 "metadata": {
  "anaconda-cloud": {},
  "kernelspec": {
   "display_name": "Python [Root]",
   "language": "python",
   "name": "Python [Root]"
  },
  "language_info": {
   "codemirror_mode": {
    "name": "ipython",
    "version": 3
   },
   "file_extension": ".py",
   "mimetype": "text/x-python",
   "name": "python",
   "nbconvert_exporter": "python",
   "pygments_lexer": "ipython3",
   "version": "3.5.2"
  }
 },
 "nbformat": 4,
 "nbformat_minor": 2
}
