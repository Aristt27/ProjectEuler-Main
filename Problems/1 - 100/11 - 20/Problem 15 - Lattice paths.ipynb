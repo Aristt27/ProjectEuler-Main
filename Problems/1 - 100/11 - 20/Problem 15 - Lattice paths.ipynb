{
 "cells": [
  {
   "cell_type": "markdown",
   "metadata": {},
   "source": [
    "### Problem 15 ###\n",
    "\n",
    "\n",
    "Starting in the top left corner of a 2×2 grid, and only being able to move to the right and down, there are exactly 6 routes to the bottom right corner.\n",
    "\n",
    "How many such routes are there through a 20×20 grid?\n"
   ]
  },
  {
   "cell_type": "code",
   "execution_count": 31,
   "metadata": {
    "collapsed": true
   },
   "outputs": [],
   "source": [
    "import numpy as np"
   ]
  },
  {
   "cell_type": "code",
   "execution_count": 5,
   "metadata": {
    "collapsed": true
   },
   "outputs": [],
   "source": [
    "def latpath(n):\n",
    "    'returns the number of routes to go from a corner to the opposite one in a n x n grid only moving right or down'\n",
    "    'combinatoriamente'\n",
    "    'semi simplificado'\n",
    "    q = 1\n",
    "    p = 1\n",
    "    for i in range (n+1,2*n+1):\n",
    "        q *= i\n",
    "    for j in range (1,n+1):\n",
    "        p *= j\n",
    "    return q/p\n",
    "\n",
    "def latpath2(n):\n",
    "    'same'\n",
    "    'dividir primeiro gera mt erro numerico...'\n",
    "    quo = 2\n",
    "    for i in range(1,n):\n",
    "        quo = (quo * (n+i))//(i)\n",
    "    return quo\n"
   ]
  },
  {
   "cell_type": "code",
   "execution_count": 6,
   "metadata": {},
   "outputs": [
    {
     "name": "stdout",
     "output_type": "stream",
     "text": [
      "The slowest run took 6.06 times longer than the fastest. This could mean that an intermediate result is being cached.\n",
      "1000000 loops, best of 3: 1.94 µs per loop\n",
      "16094453760\n"
     ]
    }
   ],
   "source": [
    "%timeit latpath2(20)\n",
    "print(latpath2(20))"
   ]
  },
  {
   "cell_type": "code",
   "execution_count": 7,
   "metadata": {},
   "outputs": [
    {
     "ename": "NameError",
     "evalue": "name 'latpath3' is not defined",
     "output_type": "error",
     "traceback": [
      "\u001b[1;31m---------------------------------------------------------------------------\u001b[0m",
      "\u001b[1;31mNameError\u001b[0m                                 Traceback (most recent call last)",
      "\u001b[1;32m<ipython-input-7-d872faa9b5cb>\u001b[0m in \u001b[0;36m<module>\u001b[1;34m()\u001b[0m\n\u001b[1;32m----> 1\u001b[1;33m \u001b[0mprint\u001b[0m\u001b[1;33m(\u001b[0m\u001b[0mlatpath3\u001b[0m\u001b[1;33m(\u001b[0m\u001b[1;36m20\u001b[0m\u001b[1;33m)\u001b[0m\u001b[1;33m)\u001b[0m\u001b[1;33m\u001b[0m\u001b[0m\n\u001b[0m",
      "\u001b[1;31mNameError\u001b[0m: name 'latpath3' is not defined"
     ]
    }
   ],
   "source": [
    "print(latpath3(20))"
   ]
  },
  {
   "cell_type": "code",
   "execution_count": null,
   "metadata": {},
   "outputs": [],
   "source": [
    "%timeit latpath3(20)"
   ]
  },
  {
   "cell_type": "code",
   "execution_count": null,
   "metadata": {},
   "outputs": [],
   "source": [
    "latpath(20)"
   ]
  },
  {
   "cell_type": "code",
   "execution_count": null,
   "metadata": {
    "collapsed": true
   },
   "outputs": [],
   "source": [
    "xs = np.arange(2,66)"
   ]
  },
  {
   "cell_type": "code",
   "execution_count": null,
   "metadata": {},
   "outputs": [],
   "source": [
    "xs"
   ]
  },
  {
   "cell_type": "code",
   "execution_count": null,
   "metadata": {
    "collapsed": true
   },
   "outputs": [],
   "source": [
    "ys = [abs(latpath(x) - latpath3(x))for x in xs]\n"
   ]
  },
  {
   "cell_type": "code",
   "execution_count": null,
   "metadata": {},
   "outputs": [],
   "source": [
    "%pylab inline"
   ]
  },
  {
   "cell_type": "code",
   "execution_count": 54,
   "metadata": {},
   "outputs": [
    {
     "data": {
      "text/plain": [
       "[<matplotlib.lines.Line2D at 0x7fb7a2908b00>]"
      ]
     },
     "execution_count": 54,
     "metadata": {},
     "output_type": "execute_result"
    },
    {
     "data": {
      "image/png": "[encoded data removed]",
      "text/plain": [
       "<matplotlib.figure.Figure at 0x7fb7a29e18d0>"
      ]
     },
     "metadata": {},
     "output_type": "display_data"
    }
   ],
   "source": [
    "plt.semilogy(xs,ys)"
   ]
  },
  {
   "cell_type": "code",
   "execution_count": 53,
   "metadata": {},
   "outputs": [
    {
     "data": {
      "text/plain": [
       "[0.0,\n",
       " 0.0,\n",
       " 0.0,\n",
       " 0.0,\n",
       " 1.1368683772161603e-13,\n",
       " 4.5474735088646412e-13,\n",
       " 0.0,\n",
       " 7.2759576141834259e-12,\n",
       " 0.0,\n",
       " 1.1641532182693481e-10,\n",
       " 0.0,\n",
       " 0.0,\n",
       " 7.4505805969238281e-09,\n",
       " 0.0,\n",
       " 2.384185791015625e-07,\n",
       " 0.0,\n",
       " 1.9073486328125e-06,\n",
       " 0.0,\n",
       " 6.103515625e-05,\n",
       " 0.00018310546875,\n",
       " 0.00146484375,\n",
       " 0.0009765625,\n",
       " 0.0078125,\n",
       " 0.0,\n",
       " 0.0,\n",
       " 0.5,\n",
       " 0.0,\n",
       " 16.0,\n",
       " 16.0,\n",
       " 512.0,\n",
       " 0.0,\n",
       " 0.0,\n",
       " 0.0,\n",
       " 32768.0,\n",
       " 262144.0,\n",
       " 524288.0,\n",
       " 1048576.0,\n",
       " 12582912.0,\n",
       " 16777216.0,\n",
       " 201326592.0,\n",
       " 805306368.0,\n",
       " 1073741824.0,\n",
       " 38654705664.0,\n",
       " 17179869184.0,\n",
       " 137438953472.0,\n",
       " 0.0,\n",
       " 5497558138880.0,\n",
       " 13194139533312.0,\n",
       " 35184372088832.0,\n",
       " 140737488355328.0,\n",
       " 844424930131968.0,\n",
       " 2251799813685248.0,\n",
       " 9007199254740992.0,\n",
       " 18014398509481984.0,\n",
       " 1.4411518807585587e+17,\n",
       " 0.0,\n",
       " 1.152921504606847e+18,\n",
       " 1.8446744073709552e+19,\n",
       " 5.5340232221128655e+19,\n",
       " 7.3786976294838206e+19,\n",
       " 1.1805916207174113e+21,\n",
       " 1.1805916207174113e+21,\n",
       " 4.7223664828696452e+21,\n",
       " 9.4447329657392904e+22]"
      ]
     },
     "execution_count": 53,
     "metadata": {},
     "output_type": "execute_result"
    }
   ],
   "source": [
    "ys"
   ]
  },
  {
   "cell_type": "code",
   "execution_count": null,
   "metadata": {
    "collapsed": true
   },
   "outputs": [],
   "source": []
  }
 ],
 "metadata": {
  "kernelspec": {
   "display_name": "Python 3",
   "language": "python",
   "name": "python3"
  },
  "language_info": {
   "codemirror_mode": {
    "name": "ipython",
    "version": 3
   },
   "file_extension": ".py",
   "mimetype": "text/x-python",
   "name": "python",
   "nbconvert_exporter": "python",
   "pygments_lexer": "ipython3",
   "version": "3.6.1"
  }
 },
 "nbformat": 4,
 "nbformat_minor": 2
}
