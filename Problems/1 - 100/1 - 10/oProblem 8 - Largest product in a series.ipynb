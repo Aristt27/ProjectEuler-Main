{
 "cells": [
  {
   "cell_type": "code",
   "execution_count": 5,
   "metadata": {
    "collapsed": false
   },
   "outputs": [
    {
     "name": "stdout",
     "output_type": "stream",
     "text": [
      "Populating the interactive namespace from numpy and matplotlib\n"
     ]
    }
   ],
   "source": [
    "import numpy as np\n",
    "%pylab inline\n",
    "from time import clock"
   ]
  },
  {
   "cell_type": "markdown",
   "metadata": {},
   "source": [
    "### Problem 8 ###\n",
    "\n",
    "The four adjacent digits in the 1000-digit number that have the greatest product are 9 × 9 × 8 × 9 = 5832.\n",
    "\n",
    "\n",
    "\n",
    "73167176531330624919225119674426574742355349194934\n",
    "96983520312774506326239578318016984801869478851843\n",
    "85861560789112949495459501737958331952853208805511\n",
    "12540698747158523863050715693290963295227443043557\n",
    "66896648950445244523161731856403098711121722383113\n",
    "62229893423380308135336276614282806444486645238749\n",
    "30358907296290491560440772390713810515859307960866\n",
    "70172427121883998797908792274921901699720888093776\n",
    "65727333001053367881220235421809751254540594752243\n",
    "52584907711670556013604839586446706324415722155397\n",
    "53697817977846174064955149290862569321978468622482\n",
    "83972241375657056057490261407972968652414535100474\n",
    "82166370484403199890008895243450658541227588666881\n",
    "16427171479924442928230863465674813919123162824586\n",
    "17866458359124566529476545682848912883142607690042\n",
    "24219022671055626321111109370544217506941658960408\n",
    "07198403850962455444362981230987879927244284909188\n",
    "84580156166097919133875499200524063689912560717606\n",
    "05886116467109405077541002256983155200055935729725\n",
    "71636269561882670428252483600823257530420752963450\n",
    "\n",
    "Find the thirteen adjacent digits in the 1000-digit number that have the greatest product. What is the value of this product?\n",
    "\n"
   ]
  },
  {
   "cell_type": "code",
   "execution_count": 2,
   "metadata": {
    "collapsed": true
   },
   "outputs": [],
   "source": [
    "a = 7316717653133062491922511967442657474235534919493496983520312774506326239578318016984801869478851843858615607891129494954595017379583319528532088055111254069874715852386305071569329096329522744304355766896648950445244523161731856403098711121722383113622298934233803081353362766142828064444866452387493035890729629049156044077239071381051585930796086670172427121883998797908792274921901699720888093776657273330010533678812202354218097512545405947522435258490771167055601360483958644670632441572215539753697817977846174064955149290862569321978468622482839722413756570560574902614079729686524145351004748216637048440319989000889524345065854122758866688116427171479924442928230863465674813919123162824586178664583591245665294765456828489128831426076900422421902267105562632111110937054421750694165896040807198403850962455444362981230987879927244284909188845801561660979191338754992005240636899125607176060588611646710940507754100225698315520005593572972571636269561882670428252483600823257530420752963450"
   ]
  },
  {
   "cell_type": "code",
   "execution_count": 3,
   "metadata": {
    "collapsed": true
   },
   "outputs": [],
   "source": [
    "b  = str(a)"
   ]
  },
  {
   "cell_type": "code",
   "execution_count": 4,
   "metadata": {
    "collapsed": false
   },
   "outputs": [
    {
     "data": {
      "text/plain": [
       "1000"
      ]
     },
     "execution_count": 4,
     "metadata": {},
     "output_type": "execute_result"
    }
   ],
   "source": [
    "len(b)"
   ]
  },
  {
   "cell_type": "markdown",
   "metadata": {
    "collapsed": true
   },
   "source": [
    "def linprod(x,n):\n",
    "    'calcula o maior produto numa linha, com n fatores, de uma string x'\n",
    "    newmaxi = [0]\n",
    "    for i in range(0,1000-n):\n",
    "        geg = 1\n",
    "        for j in range(i,i+n):\n",
    "            geg = geg * int(x[j])\n",
    "        if geg >= newmaxi[-1]:\n",
    "            newmaxi.append(geg)\n",
    "    return newmaxi[-1]\n",
    "    "
   ]
  },
  {
   "cell_type": "code",
   "execution_count": 5,
   "metadata": {
    "collapsed": true
   },
   "outputs": [],
   "source": [
    "def exec8(x,n):\n",
    "    a  = ''\n",
    "    with open(x,'r') as file:\n",
    "        ks = (file.readlines())\n",
    "        for k in ks:\n",
    "            a += str(k).replace('\\n','')\n",
    "    l = a\n",
    "    newmaxi = [0]\n",
    "    for i in range(0,1000-n):\n",
    "        geg = 1\n",
    "        for j in range(i,i+n):\n",
    "            geg = geg * int(l[j])\n",
    "        if geg >= newmaxi[-1]:\n",
    "            newmaxi.append(geg)\n",
    "    return newmaxi[-1]"
   ]
  },
  {
   "cell_type": "code",
   "execution_count": 6,
   "metadata": {
    "collapsed": false
   },
   "outputs": [
    {
     "name": "stdout",
     "output_type": "stream",
     "text": [
      "100 loops, best of 3: 16.4 ms per loop\n"
     ]
    }
   ],
   "source": [
    "%timeit exec8('a8.txt',13)"
   ]
  },
  {
   "cell_type": "code",
   "execution_count": 7,
   "metadata": {
    "collapsed": false
   },
   "outputs": [
    {
     "name": "stdout",
     "output_type": "stream",
     "text": [
      "100 loops, best of 3: 14.9 ms per loop\n"
     ]
    }
   ],
   "source": [
    "%timeit exec8('a8.txt',13)"
   ]
  },
  {
   "cell_type": "markdown",
   "metadata": {
    "collapsed": true
   },
   "source": [
    "### A more general problem ###\n"
   ]
  },
  {
   "cell_type": "code",
   "execution_count": 6,
   "metadata": {
    "collapsed": true
   },
   "outputs": [],
   "source": [
    "def numbers(cs,ls):\n",
    "    'generates a numbers.txt file, with a string with l lines and c characters per line'\n",
    "    with open('numbers.txt', 'w') as file:\n",
    "        for l in range(ls):\n",
    "            for c in range(cs):\n",
    "                k = np.random.randint(0,10)\n",
    "                file.write(str(k))\n",
    "            file.write('\\n')"
   ]
  },
  {
   "cell_type": "code",
   "execution_count": 13,
   "metadata": {
    "collapsed": false
   },
   "outputs": [],
   "source": [
    "def lps(file,lenght):\n",
    "    'largest product in a series of l numbers of a file'\n",
    "    'colocando tudo numa string só'\n",
    "    with open(file,'r') as file:\n",
    "        ks = (file.readlines())\n",
    "        a = ''\n",
    "        product = 1\n",
    "        maxprod = 0\n",
    "        u = 0\n",
    "        for k in ks: # aqui removemos o \\n somando numa string vazia os termos até o \\n ( que sabemos q estao no final da linha)\n",
    "            a += k[:-1]\n",
    "        while u < len(a):\n",
    "            for i in range(lenght): # zeros checker\n",
    "                if u+i < len(a):\n",
    "                    if a[u+i] == 0:\n",
    "                        u += 1+i\n",
    "                        break\n",
    "                else:\n",
    "                    return maxprod\n",
    "            if u < lenght:\n",
    "                product *= int(a[u])\n",
    "            if u >= lenght:\n",
    "                if int(a[u-lenght]) != 0:\n",
    "                    product /= int(a[u-lenght])\n",
    "                product *= int(a[u])\n",
    "            if product > maxprod:\n",
    "                maxprod = product\n",
    "            u += 1\n",
    "        return maxprod"
   ]
  },
  {
   "cell_type": "code",
   "execution_count": null,
   "metadata": {
    "collapsed": true
   },
   "outputs": [],
   "source": []
  },
  {
   "cell_type": "code",
   "execution_count": 11,
   "metadata": {
    "collapsed": false
   },
   "outputs": [],
   "source": [
    "numbers(5,5)"
   ]
  },
  {
   "cell_type": "code",
   "execution_count": 14,
   "metadata": {
    "collapsed": false
   },
   "outputs": [
    {
     "name": "stdout",
     "output_type": "stream",
     "text": [
      "88810\n",
      "\n",
      "94599\n",
      "\n",
      "63300\n",
      "\n",
      "23690\n",
      "\n",
      "48477\n",
      "\n"
     ]
    },
    {
     "data": {
      "text/plain": [
       "512"
      ]
     },
     "execution_count": 14,
     "metadata": {},
     "output_type": "execute_result"
    }
   ],
   "source": [
    "lps('numbers.txt',3)"
   ]
  },
  {
   "cell_type": "code",
   "execution_count": 12,
   "metadata": {
    "collapsed": false
   },
   "outputs": [
    {
     "name": "stdout",
     "output_type": "stream",
     "text": [
      "100 loops, best of 3: 14.2 ms per loop\n"
     ]
    }
   ],
   "source": [
    "%timeit lps('a8.txt',13)"
   ]
  },
  {
   "cell_type": "code",
   "execution_count": 13,
   "metadata": {
    "collapsed": false
   },
   "outputs": [
    {
     "name": "stdout",
     "output_type": "stream",
     "text": [
      "100 loops, best of 3: 15.6 ms per loop\n"
     ]
    }
   ],
   "source": [
    "%timeit exec8('a8.txt',13)"
   ]
  },
  {
   "cell_type": "code",
   "execution_count": 14,
   "metadata": {
    "collapsed": true
   },
   "outputs": [],
   "source": [
    "xs1 = np.arange(100,1050,50)\n",
    "ts1 = []\n",
    "c = 11"
   ]
  },
  {
   "cell_type": "code",
   "execution_count": 15,
   "metadata": {
    "collapsed": false
   },
   "outputs": [],
   "source": [
    "for x in xs1:\n",
    "    numbers(x,x)\n",
    "    t0 = clock()\n",
    "    lps('numbers.txt',c)\n",
    "    t1 = clock()\n",
    "    ts1.append(t1-t0)"
   ]
  },
  {
   "cell_type": "code",
   "execution_count": 16,
   "metadata": {
    "collapsed": false
   },
   "outputs": [
    {
     "data": {
      "image/png": "[encoded data removed]",
      "text/plain": [
       "<matplotlib.figure.Figure at 0x2749b626f98>"
      ]
     },
     "metadata": {},
     "output_type": "display_data"
    }
   ],
   "source": [
    "plot(xs1,ts1)\n",
    "title('LPS with fixed lenght and different txt sizes');"
   ]
  },
  {
   "cell_type": "code",
   "execution_count": 17,
   "metadata": {
    "collapsed": true
   },
   "outputs": [],
   "source": [
    "xs2 = np.arange(10,51,5)\n",
    "numbers(1000,1000)\n",
    "ts2 = []"
   ]
  },
  {
   "cell_type": "code",
   "execution_count": 18,
   "metadata": {
    "collapsed": false
   },
   "outputs": [],
   "source": [
    "for x in xs2:\n",
    "    t0 = clock()\n",
    "    lps('numbers.txt',x)\n",
    "    t1 = clock()\n",
    "    ts2.append(t1-t0)"
   ]
  },
  {
   "cell_type": "code",
   "execution_count": 19,
   "metadata": {
    "collapsed": false
   },
   "outputs": [
    {
     "data": {
      "image/png": "[encoded data removed]",
      "text/plain": [
       "<matplotlib.figure.Figure at 0x2749b6e99b0>"
      ]
     },
     "metadata": {},
     "output_type": "display_data"
    }
   ],
   "source": [
    "plot(xs2,ts2)\n",
    "title('LPS with fixed txt sizes and different sequence lenghts');"
   ]
  },
  {
   "cell_type": "code",
   "execution_count": 20,
   "metadata": {
    "collapsed": true
   },
   "outputs": [],
   "source": [
    "def rngrng(cs,ls):\n",
    "    lines = []\n",
    "    'creates a txt file with l lines and c digits per lines'\n",
    "    with open('numbers.txt', 'w') as n:\n",
    "        for l in range(ls):\n",
    "            for c in range(cs):\n",
    "                n.write(str(np.random.randint(0,10)))\n",
    "            n.write('\\n')\n",
    "    n.close()"
   ]
  },
  {
   "cell_type": "code",
   "execution_count": 21,
   "metadata": {
    "collapsed": true
   },
   "outputs": [],
   "source": [
    "def horner(x,coefs,yTemp = 0):\n",
    "    if len(coefs)==1:\n",
    "        return yTemp + coefs[0]\n",
    "    yTemp = (coefs[-1]+yTemp)*x\n",
    "    return horner(x,coefs[:-1],yTemp)\n",
    "\n",
    "def eval_p(coefs):\n",
    "    def p(x):\n",
    "        return horner(x,coefs)\n",
    "    return p"
   ]
  },
  {
   "cell_type": "code",
   "execution_count": 22,
   "metadata": {
    "collapsed": true
   },
   "outputs": [],
   "source": [
    "cs = np.arange(100,1001,100)"
   ]
  },
  {
   "cell_type": "code",
   "execution_count": 23,
   "metadata": {
    "collapsed": false
   },
   "outputs": [],
   "source": [
    "tempos = []\n",
    "rngrng(15,15)\n",
    "for c in cs:\n",
    "    rngrng(c,c)\n",
    "    t0 = clock()\n",
    "    lps('numbers.txt',10)\n",
    "    t1 = clock()\n",
    "    tempos.append(t1-t0)\n",
    "    "
   ]
  },
  {
   "cell_type": "code",
   "execution_count": 24,
   "metadata": {
    "collapsed": false,
    "scrolled": true
   },
   "outputs": [
    {
     "data": {
      "image/png": "[encoded data removed]",
      "text/plain": [
       "<matplotlib.figure.Figure at 0x2749b79b470>"
      ]
     },
     "metadata": {},
     "output_type": "display_data"
    }
   ],
   "source": [
    "plot(cs,tempos);"
   ]
  },
  {
   "cell_type": "code",
   "execution_count": 25,
   "metadata": {
    "collapsed": true
   },
   "outputs": [],
   "source": [
    "coefst = np.polyfit(cs,tempos,2)"
   ]
  },
  {
   "cell_type": "code",
   "execution_count": 26,
   "metadata": {
    "collapsed": false
   },
   "outputs": [
    {
     "data": {
      "image/png": "[encoded data removed]",
      "text/plain": [
       "<matplotlib.figure.Figure at 0x2749b7f2b70>"
      ]
     },
     "metadata": {},
     "output_type": "display_data"
    }
   ],
   "source": [
    "plot(cs,tempos);\n",
    "plot(cs,eval_p(coefst[::-1])(cs));"
   ]
  },
  {
   "cell_type": "code",
   "execution_count": 29,
   "metadata": {
    "collapsed": true
   },
   "outputs": [],
   "source": [
    "ks = arange(12,49)\n",
    "c = 12\n",
    "rngrng(c,c)"
   ]
  },
  {
   "cell_type": "code",
   "execution_count": 30,
   "metadata": {
    "collapsed": false
   },
   "outputs": [],
   "source": [
    "temposk = []\n",
    "lps('numbers.txt',9)\n",
    "for k in ks:\n",
    "    t0 = clock()\n",
    "    for _ in range(10):\n",
    "        lps('numbers.txt',k)\n",
    "    t1 = clock()\n",
    "    temposk.append(t1-t0)"
   ]
  },
  {
   "cell_type": "code",
   "execution_count": 31,
   "metadata": {
    "collapsed": false
   },
   "outputs": [
    {
     "data": {
      "image/png": "[encoded data removed]",
      "text/plain": [
       "<matplotlib.figure.Figure at 0x2749bb43e48>"
      ]
     },
     "metadata": {},
     "output_type": "display_data"
    }
   ],
   "source": [
    "plot(ks,temposk);"
   ]
  },
  {
   "cell_type": "code",
   "execution_count": 32,
   "metadata": {
    "collapsed": true
   },
   "outputs": [],
   "source": [
    "coefs = np.polyfit(ks,temposk,1)"
   ]
  },
  {
   "cell_type": "code",
   "execution_count": 33,
   "metadata": {
    "collapsed": false
   },
   "outputs": [
    {
     "data": {
      "image/png": "[encoded data removed]",
      "text/plain": [
       "<matplotlib.figure.Figure at 0x2749bc24c88>"
      ]
     },
     "metadata": {},
     "output_type": "display_data"
    }
   ],
   "source": [
    "plot(ks,temposk);\n",
    "plot(ks,eval_p(coefs[::-1])(ks));"
   ]
  },
  {
   "cell_type": "code",
   "execution_count": 2,
   "metadata": {
    "collapsed": true
   },
   "outputs": [],
   "source": [
    "a  = [1,2,3,4,5,6,7,8,9]"
   ]
  },
  {
   "cell_type": "code",
   "execution_count": 3,
   "metadata": {
    "collapsed": false
   },
   "outputs": [
    {
     "data": {
      "text/plain": [
       "(9, 5)"
      ]
     },
     "execution_count": 3,
     "metadata": {},
     "output_type": "execute_result"
    }
   ],
   "source": [
    "len(a) , len(a[:5])"
   ]
  },
  {
   "cell_type": "markdown",
   "metadata": {},
   "source": [
    "## problema\n",
    "\n",
    "Qual a probabilidade num arquivo KxK ( com k linhas e k caracteres por linha) de entre dois 0 conter p digitos nao nulos consecutivos."
   ]
  },
  {
   "cell_type": "code",
   "execution_count": 396,
   "metadata": {
    "collapsed": false
   },
   "outputs": [],
   "source": [
    "def numbers(cs,ls):\n",
    "    'generates a numbers.txt file, with a string with l lines and c characters per line'\n",
    "    with open('numbers.txt', 'w') as file:\n",
    "        for l in range(ls):\n",
    "            for c in range(cs):\n",
    "                k = np.random.randint(0,10)\n",
    "                file.write(str(k))\n",
    "            file.write('\\n')\n",
    "\n",
    "def pe008_dumby(x,n,cs):\n",
    "    'returns the p8 doing all the products.'\n",
    "    a  = ''\n",
    "    with open(x,'r') as file:\n",
    "        ks = (file.readlines())\n",
    "        for k in ks:\n",
    "            a += str(k).replace('\\n','')\n",
    "    l = a\n",
    "    newmaxi = [0]\n",
    "    for i in range(0,cs-n+1):\n",
    "        geg = 1\n",
    "        for j in range(i,i+n):\n",
    "            geg = geg * int(l[j])\n",
    "        if geg >= newmaxi[-1]:\n",
    "            newmaxi.append(geg)\n",
    "    return newmaxi[-1]\n",
    "\n",
    "def divprod(a,lenght):\n",
    "    'returns the highest product of len l of  a string dividing and multiplying with no zeroes'\n",
    "    maxprod = 1\n",
    "    u = 0\n",
    "    blocky = 1\n",
    "    while u < len(a):\n",
    "        while u < lenght:\n",
    "            blocky *= int(a[u])\n",
    "            u +=1\n",
    "        if blocky > maxprod:\n",
    "            maxprod = blocky\n",
    "        if lenght == len(a):\n",
    "            return maxprod\n",
    "        blocky /= int(a[u-lenght])\n",
    "        blocky *= int(a[u])\n",
    "        if blocky > maxprod:\n",
    "            maxprod = blocky\n",
    "        u+=1\n",
    "    return maxprod\n",
    "    \n",
    "def pe008_lilsmarter(file,lenght):\n",
    "    'largest product in a series of lenght numbers of a file'\n",
    "    'colocando tudo numa string só'\n",
    "    with open(file,'r') as file:\n",
    "        ks = (file.readlines())\n",
    "        a = ''\n",
    "        maxprod = []\n",
    "        j = 0 #zero counter\n",
    "        for k in ks: # aqui removemos o \\n somando numa string vazia os termos até o \\n ( que sabemos q estao no final da linha)\n",
    "            a += k[:-1]\n",
    "        gigs = a.split('0')\n",
    "        for gig in gigs:\n",
    "            if len(gig) >= lenght:\n",
    "                maxprod.append(divprod(gig,lenght))\n",
    "        return max(maxprod)"
   ]
  },
  {
   "cell_type": "code",
   "execution_count": 397,
   "metadata": {
    "collapsed": false
   },
   "outputs": [],
   "source": [
    "for i in range(4,20):\n",
    "    numbers(i,i)\n",
    "    for pp in range(2,9):\n",
    "        assert(pe008_dumby('numbers.txt',pp,i**2) == pe008_lilsmarter('numbers.txt',pp))\n"
   ]
  },
  {
   "cell_type": "code",
   "execution_count": 386,
   "metadata": {
    "collapsed": false
   },
   "outputs": [
    {
     "data": {
      "text/plain": [
       "(6, 3)"
      ]
     },
     "execution_count": 386,
     "metadata": {},
     "output_type": "execute_result"
    }
   ],
   "source": [
    "i,pp"
   ]
  },
  {
   "cell_type": "code",
   "execution_count": 365,
   "metadata": {
    "collapsed": false
   },
   "outputs": [
    {
     "data": {
      "text/plain": [
       "11520"
      ]
     },
     "execution_count": 365,
     "metadata": {},
     "output_type": "execute_result"
    }
   ],
   "source": [
    "9*5*8*8*4"
   ]
  },
  {
   "cell_type": "code",
   "execution_count": 393,
   "metadata": {
    "collapsed": false
   },
   "outputs": [
    {
     "data": {
      "text/plain": [
       "576"
      ]
     },
     "execution_count": 393,
     "metadata": {},
     "output_type": "execute_result"
    }
   ],
   "source": [
    "pe008_dumby('numbers.txt',3,36)"
   ]
  },
  {
   "cell_type": "code",
   "execution_count": 394,
   "metadata": {
    "collapsed": false,
    "scrolled": true
   },
   "outputs": [
    {
     "name": "stdout",
     "output_type": "stream",
     "text": [
      "['533564225748951626559641192921', '41898']\n"
     ]
    },
    {
     "data": {
      "text/plain": [
       "576.0"
      ]
     },
     "execution_count": 394,
     "metadata": {},
     "output_type": "execute_result"
    }
   ],
   "source": [
    "pe008_lilsmarter('numbers.txt',3)"
   ]
  },
  {
   "cell_type": "code",
   "execution_count": 363,
   "metadata": {
    "collapsed": false
   },
   "outputs": [],
   "source": []
  },
  {
   "cell_type": "code",
   "execution_count": 357,
   "metadata": {
    "collapsed": false
   },
   "outputs": [
    {
     "data": {
      "text/plain": [
       "378.0"
      ]
     },
     "execution_count": 357,
     "metadata": {},
     "output_type": "execute_result"
    }
   ],
   "source": [
    "pe008_lilsmarter('numbers.txt',3)"
   ]
  },
  {
   "cell_type": "code",
   "execution_count": 342,
   "metadata": {
    "collapsed": false
   },
   "outputs": [
    {
     "data": {
      "text/plain": [
       "6"
      ]
     },
     "execution_count": 342,
     "metadata": {},
     "output_type": "execute_result"
    }
   ],
   "source": [
    "divprod('123',3)"
   ]
  },
  {
   "cell_type": "code",
   "execution_count": 326,
   "metadata": {
    "collapsed": true
   },
   "outputs": [],
   "source": [
    "c = '33312312332133312'"
   ]
  },
  {
   "cell_type": "code",
   "execution_count": 328,
   "metadata": {
    "collapsed": false
   },
   "outputs": [
    {
     "data": {
      "text/plain": [
       "['3331', '31', '33', '13331', '']"
      ]
     },
     "execution_count": 328,
     "metadata": {},
     "output_type": "execute_result"
    }
   ],
   "source": [
    "c.split('2')"
   ]
  },
  {
   "cell_type": "code",
   "execution_count": 402,
   "metadata": {
    "collapsed": false
   },
   "outputs": [],
   "source": [
    "def timer(func,string,k,c=0,dumb=False):\n",
    "    if dumb == False:\n",
    "        t0 = clock()\n",
    "        func(string,k)\n",
    "        t1 = clock()\n",
    "        tf = t1-t0\n",
    "        return tf\n",
    "    else:\n",
    "        t0 = clock()\n",
    "        func(string,k,c)\n",
    "        t1 = clock()\n",
    "        tf = t1-t0\n",
    "    return tf"
   ]
  },
  {
   "cell_type": "code",
   "execution_count": null,
   "metadata": {
    "collapsed": true
   },
   "outputs": [],
   "source": [
    "timer(pe008_dumby,)\n",
    "timer"
   ]
  },
  {
   "cell_type": "code",
   "execution_count": 404,
   "metadata": {
    "collapsed": false
   },
   "outputs": [
    {
     "name": "stdout",
     "output_type": "stream",
     "text": [
      "lets measure some time\n"
     ]
    }
   ],
   "source": [
    "print('lets measure some time')\n",
    "times_dumby = []\n",
    "times_lilsmart = []\n",
    "k = 13\n",
    "for j in range(10,20):\n",
    "    numbers(j,j)\n",
    "    c = j**2\n",
    "    beta_dumby = []\n",
    "    beta_smart = []\n",
    "    for i in range(100):\n",
    "        beta_dumby += [timer(pe008_dumby,'numbers.txt',k,c,dumb = True)]\n",
    "        beta_smart += [timer(pe008_lilsmarter,'numbers.txt',k)]\n",
    "    beta_dumby.sort()\n",
    "    beta_smart.sort()\n",
    "    times_dumby += [sum(beta_dumby[:20])/20]\n",
    "    times_lilsmart += [sum(beta_smart[:20])/20]"
   ]
  },
  {
   "cell_type": "code",
   "execution_count": 409,
   "metadata": {
    "collapsed": false
   },
   "outputs": [
    {
     "data": {
      "image/png": "[encoded data removed]",
      "text/plain": [
       "<matplotlib.figure.Figure at 0x1e0a9495e10>"
      ]
     },
     "metadata": {},
     "output_type": "display_data"
    }
   ],
   "source": [
    "plt.plot(times_dumby,label = 'Solving dumbly');\n",
    "plt.plot(times_lilsmart,label = 'Solving smartly');\n",
    "plt.xlabel('A txt with 10+x **2 characters')\n",
    "plt.ylabel('time (s)')\n",
    "plt.title('Dumb vs Smart - Problem 8')\n",
    "plt.legend(loc = 0)\n",
    "plt.show();"
   ]
  },
  {
   "cell_type": "code",
   "execution_count": 413,
   "metadata": {
    "collapsed": false
   },
   "outputs": [
    {
     "name": "stdout",
     "output_type": "stream",
     "text": [
      "now we vary the numbers of numbers in the product and fix the txt file\n"
     ]
    },
    {
     "ename": "KeyboardInterrupt",
     "evalue": "",
     "output_type": "error",
     "traceback": [
      "\u001b[1;31m---------------------------------------------------------------------------\u001b[0m",
      "\u001b[1;31mKeyboardInterrupt\u001b[0m                         Traceback (most recent call last)",
      "\u001b[1;32m<ipython-input-413-c7fc66d328c9>\u001b[0m in \u001b[0;36m<module>\u001b[1;34m()\u001b[0m\n\u001b[0;32m      9\u001b[0m     \u001b[0mbeta_smart\u001b[0m \u001b[1;33m=\u001b[0m \u001b[1;33m[\u001b[0m\u001b[1;33m]\u001b[0m\u001b[1;33m\u001b[0m\u001b[0m\n\u001b[0;32m     10\u001b[0m     \u001b[1;32mfor\u001b[0m \u001b[0mi\u001b[0m \u001b[1;32min\u001b[0m \u001b[0mrange\u001b[0m\u001b[1;33m(\u001b[0m\u001b[1;36m100\u001b[0m\u001b[1;33m)\u001b[0m\u001b[1;33m:\u001b[0m\u001b[1;33m\u001b[0m\u001b[0m\n\u001b[1;32m---> 11\u001b[1;33m         \u001b[0mbeta_dumby\u001b[0m \u001b[1;33m+=\u001b[0m \u001b[1;33m[\u001b[0m\u001b[0mtimer\u001b[0m\u001b[1;33m(\u001b[0m\u001b[0mpe008_dumby\u001b[0m\u001b[1;33m,\u001b[0m\u001b[1;34m'numbers.txt'\u001b[0m\u001b[1;33m,\u001b[0m\u001b[0mk\u001b[0m\u001b[1;33m,\u001b[0m\u001b[0mc\u001b[0m\u001b[1;33m,\u001b[0m\u001b[0mdumb\u001b[0m \u001b[1;33m=\u001b[0m \u001b[1;32mTrue\u001b[0m\u001b[1;33m)\u001b[0m\u001b[1;33m]\u001b[0m\u001b[1;33m\u001b[0m\u001b[0m\n\u001b[0m\u001b[0;32m     12\u001b[0m         \u001b[0mbeta_smart\u001b[0m \u001b[1;33m+=\u001b[0m \u001b[1;33m[\u001b[0m\u001b[0mtimer\u001b[0m\u001b[1;33m(\u001b[0m\u001b[0mpe008_lilsmarter\u001b[0m\u001b[1;33m,\u001b[0m\u001b[1;34m'numbers.txt'\u001b[0m\u001b[1;33m,\u001b[0m\u001b[0mk\u001b[0m\u001b[1;33m)\u001b[0m\u001b[1;33m]\u001b[0m\u001b[1;33m\u001b[0m\u001b[0m\n\u001b[0;32m     13\u001b[0m     \u001b[0mbeta_dumby\u001b[0m\u001b[1;33m.\u001b[0m\u001b[0msort\u001b[0m\u001b[1;33m(\u001b[0m\u001b[1;33m)\u001b[0m\u001b[1;33m\u001b[0m\u001b[0m\n",
      "\u001b[1;32m<ipython-input-402-6721148287ce>\u001b[0m in \u001b[0;36mtimer\u001b[1;34m(func, string, k, c, dumb)\u001b[0m\n\u001b[0;32m      8\u001b[0m     \u001b[1;32melse\u001b[0m\u001b[1;33m:\u001b[0m\u001b[1;33m\u001b[0m\u001b[0m\n\u001b[0;32m      9\u001b[0m         \u001b[0mt0\u001b[0m \u001b[1;33m=\u001b[0m \u001b[0mclock\u001b[0m\u001b[1;33m(\u001b[0m\u001b[1;33m)\u001b[0m\u001b[1;33m\u001b[0m\u001b[0m\n\u001b[1;32m---> 10\u001b[1;33m         \u001b[0mfunc\u001b[0m\u001b[1;33m(\u001b[0m\u001b[0mstring\u001b[0m\u001b[1;33m,\u001b[0m\u001b[0mk\u001b[0m\u001b[1;33m,\u001b[0m\u001b[0mc\u001b[0m\u001b[1;33m)\u001b[0m\u001b[1;33m\u001b[0m\u001b[0m\n\u001b[0m\u001b[0;32m     11\u001b[0m         \u001b[0mt1\u001b[0m \u001b[1;33m=\u001b[0m \u001b[0mclock\u001b[0m\u001b[1;33m(\u001b[0m\u001b[1;33m)\u001b[0m\u001b[1;33m\u001b[0m\u001b[0m\n\u001b[0;32m     12\u001b[0m         \u001b[0mtf\u001b[0m \u001b[1;33m=\u001b[0m \u001b[0mt1\u001b[0m\u001b[1;33m-\u001b[0m\u001b[0mt0\u001b[0m\u001b[1;33m\u001b[0m\u001b[0m\n",
      "\u001b[1;32m<ipython-input-396-09babff0f0ca>\u001b[0m in \u001b[0;36mpe008_dumby\u001b[1;34m(x, n, cs)\u001b[0m\n\u001b[0;32m     21\u001b[0m         \u001b[0mgeg\u001b[0m \u001b[1;33m=\u001b[0m \u001b[1;36m1\u001b[0m\u001b[1;33m\u001b[0m\u001b[0m\n\u001b[0;32m     22\u001b[0m         \u001b[1;32mfor\u001b[0m \u001b[0mj\u001b[0m \u001b[1;32min\u001b[0m \u001b[0mrange\u001b[0m\u001b[1;33m(\u001b[0m\u001b[0mi\u001b[0m\u001b[1;33m,\u001b[0m\u001b[0mi\u001b[0m\u001b[1;33m+\u001b[0m\u001b[0mn\u001b[0m\u001b[1;33m)\u001b[0m\u001b[1;33m:\u001b[0m\u001b[1;33m\u001b[0m\u001b[0m\n\u001b[1;32m---> 23\u001b[1;33m             \u001b[0mgeg\u001b[0m \u001b[1;33m=\u001b[0m \u001b[0mgeg\u001b[0m \u001b[1;33m*\u001b[0m \u001b[0mint\u001b[0m\u001b[1;33m(\u001b[0m\u001b[0ml\u001b[0m\u001b[1;33m[\u001b[0m\u001b[0mj\u001b[0m\u001b[1;33m]\u001b[0m\u001b[1;33m)\u001b[0m\u001b[1;33m\u001b[0m\u001b[0m\n\u001b[0m\u001b[0;32m     24\u001b[0m         \u001b[1;32mif\u001b[0m \u001b[0mgeg\u001b[0m \u001b[1;33m>=\u001b[0m \u001b[0mnewmaxi\u001b[0m\u001b[1;33m[\u001b[0m\u001b[1;33m-\u001b[0m\u001b[1;36m1\u001b[0m\u001b[1;33m]\u001b[0m\u001b[1;33m:\u001b[0m\u001b[1;33m\u001b[0m\u001b[0m\n\u001b[0;32m     25\u001b[0m             \u001b[0mnewmaxi\u001b[0m\u001b[1;33m.\u001b[0m\u001b[0mappend\u001b[0m\u001b[1;33m(\u001b[0m\u001b[0mgeg\u001b[0m\u001b[1;33m)\u001b[0m\u001b[1;33m\u001b[0m\u001b[0m\n",
      "\u001b[1;31mKeyboardInterrupt\u001b[0m: "
     ]
    }
   ],
   "source": [
    "print('now we vary the numbers of numbers in the product and fix the txt file')\n",
    "times_dumby = []\n",
    "times_lilsmart = []\n",
    "j = 1000\n",
    "numbers(j,j)\n",
    "c = j**2\n",
    "for k in range(11,21):\n",
    "    beta_dumby = []\n",
    "    beta_smart = []\n",
    "    for i in range(100):\n",
    "        beta_dumby += [timer(pe008_dumby,'numbers.txt',k,c,dumb = True)]\n",
    "        beta_smart += [timer(pe008_lilsmarter,'numbers.txt',k)]\n",
    "    beta_dumby.sort()\n",
    "    beta_smart.sort()\n",
    "    times_dumby += [sum(beta_dumby[:20])/20]\n",
    "    times_lilsmart += [sum(beta_smart[:20])/20]"
   ]
  },
  {
   "cell_type": "code",
   "execution_count": null,
   "metadata": {
    "collapsed": false
   },
   "outputs": [],
   "source": [
    "plt.plot(times_dumby,label = 'Solving dumbly');\n",
    "plt.plot(times_lilsmart,label = 'Solving smartly');\n",
    "plt.xlabel('A product with 10+x characters')\n",
    "plt.ylabel('time (s)')\n",
    "plt.title('Dumb vs Smart - Problem 8 with 1000x1000 txt file')\n",
    "plt.legend(loc = 0)\n",
    "plt.show();"
   ]
  },
  {
   "cell_type": "code",
   "execution_count": null,
   "metadata": {
    "collapsed": true
   },
   "outputs": [],
   "source": []
  }
 ],
 "metadata": {
  "anaconda-cloud": {},
  "kernelspec": {
   "display_name": "Python [Root]",
   "language": "python",
   "name": "Python [Root]"
  },
  "language_info": {
   "codemirror_mode": {
    "name": "ipython",
    "version": 3
   },
   "file_extension": ".py",
   "mimetype": "text/x-python",
   "name": "python",
   "nbconvert_exporter": "python",
   "pygments_lexer": "ipython3",
   "version": "3.5.2"
  }
 },
 "nbformat": 4,
 "nbformat_minor": 1
}
