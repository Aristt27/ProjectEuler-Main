{
 "cells": [
  {
   "cell_type": "markdown",
   "metadata": {},
   "source": [
    "### Problem 7###\n",
    "\n",
    "By listing the first six prime numbers: 2, 3, 5, 7, 11, and 13, we can see that the 6th prime is 13.\n",
    "\n",
    "What is the 10 001st prime number?"
   ]
  },
  {
   "cell_type": "code",
   "execution_count": 34,
   "metadata": {},
   "outputs": [],
   "source": [
    "import numpy as np"
   ]
  },
  {
   "cell_type": "code",
   "execution_count": 29,
   "metadata": {},
   "outputs": [],
   "source": [
    "def nthprime(n):\n",
    "    \"returns the nth prime\"\n",
    "    primes = [2,3]\n",
    "    j = 0\n",
    "    while len(primes) < n :\n",
    "        np = (primes[-1] + 2*(j+1))\n",
    "        i = 0\n",
    "        for p in primes:\n",
    "            if p <= np**(1/2):\n",
    "                    if np%p != 0:\n",
    "                        i += 1\n",
    "            else:\n",
    "                i += 1\n",
    "        if i == len(primes):\n",
    "            primes.append(np)\n",
    "            j = 0\n",
    "        else:\n",
    "            j += 1\n",
    "    return primes[-1]\n",
    "                    "
   ]
  },
  {
   "cell_type": "code",
   "execution_count": 31,
   "metadata": {},
   "outputs": [
    {
     "data": {
      "text/plain": [
       "104743"
      ]
     },
     "execution_count": 31,
     "metadata": {},
     "output_type": "execute_result"
    }
   ],
   "source": [
    "nthprime(10001)"
   ]
  },
  {
   "cell_type": "code",
   "execution_count": 88,
   "metadata": {},
   "outputs": [],
   "source": [
    "def isprime(x):\n",
    "    n=2\n",
    "    while n<= x**(1/2) and x%n!=0:\n",
    "        n=n+1\n",
    "    if x%n==0: return 0\n",
    "    else: return 1\n",
    "        \n",
    "def primelist(n):\n",
    "    \"creates a list with n primes\"\n",
    "    primes = [2,3]\n",
    "    ks  = n*n\n",
    "    for k in range(5,ks,2):\n",
    "        if len(primes) < n:\n",
    "            if isprime(int(k)) == 1:\n",
    "                primes.append(k)\n",
    "    return primes       "
   ]
  },
  {
   "cell_type": "code",
   "execution_count": 89,
   "metadata": {},
   "outputs": [],
   "source": [
    "def betternthprime(n):\n",
    "    \"returns the nth prime using the prime list funciton\"\n",
    "    return primelist(n)[-1]"
   ]
  },
  {
   "cell_type": "code",
   "execution_count": 90,
   "metadata": {},
   "outputs": [
    {
     "name": "stdout",
     "output_type": "stream",
     "text": [
      "12.8 s ± 298 ms per loop (mean ± std. dev. of 7 runs, 1 loop each)\n"
     ]
    }
   ],
   "source": [
    "%timeit betternthprime(10001)"
   ]
  },
  {
   "cell_type": "code",
   "execution_count": null,
   "metadata": {},
   "outputs": [],
   "source": []
  }
 ],
 "metadata": {
  "kernelspec": {
   "display_name": "Python 3",
   "language": "python",
   "name": "python3"
  },
  "language_info": {
   "codemirror_mode": {
    "name": "ipython",
    "version": 3
   },
   "file_extension": ".py",
   "mimetype": "text/x-python",
   "name": "python",
   "nbconvert_exporter": "python",
   "pygments_lexer": "ipython3",
   "version": "3.6.5"
  }
 },
 "nbformat": 4,
 "nbformat_minor": 1
}
