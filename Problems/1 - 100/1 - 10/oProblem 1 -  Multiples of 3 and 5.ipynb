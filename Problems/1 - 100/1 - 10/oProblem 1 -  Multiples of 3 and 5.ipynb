{
 "cells": [
  {
   "cell_type": "markdown",
   "metadata": {},
   "source": [
    "### Problem 1 ### \n",
    "   If we list all the natural numbers below 10 that are multiples of 3 or 5, we get 3, 5, 6 and 9. The sum of these multiples is 23.\n",
    "\n",
    "Find the sum of all the multiples of 3 or 5 below 1000."
   ]
  },
  {
   "cell_type": "code",
   "execution_count": 1,
   "metadata": {
    "collapsed": true
   },
   "outputs": [],
   "source": [
    "import numpy as np"
   ]
  },
  {
   "cell_type": "code",
   "execution_count": 2,
   "metadata": {
    "collapsed": true
   },
   "outputs": [],
   "source": [
    "def func():\n",
    "    elem = []\n",
    "    for i in range (1,1000):\n",
    "        if i % 3 == 0 or i % 5 == 0:\n",
    "            elem.append(i)\n",
    "    return sum(elem)\n"
   ]
  },
  {
   "cell_type": "code",
   "execution_count": 3,
   "metadata": {},
   "outputs": [
    {
     "name": "stdout",
     "output_type": "stream",
     "text": [
      "1000 loops, best of 3: 548 µs per loop\n"
     ]
    }
   ],
   "source": [
    "%timeit func()"
   ]
  },
  {
   "cell_type": "code",
   "execution_count": 4,
   "metadata": {},
   "outputs": [
    {
     "name": "stdout",
     "output_type": "stream",
     "text": [
      "1000 loops, best of 3: 981 µs per loop\n"
     ]
    }
   ],
   "source": [
    "%timeit func()"
   ]
  },
  {
   "cell_type": "code",
   "execution_count": 5,
   "metadata": {},
   "outputs": [
    {
     "name": "stdout",
     "output_type": "stream",
     "text": [
      "1000 loops, best of 3: 1.03 ms per loop\n"
     ]
    }
   ],
   "source": [
    "%timeit func()"
   ]
  },
  {
   "cell_type": "code",
   "execution_count": 6,
   "metadata": {
    "collapsed": true
   },
   "outputs": [],
   "source": [
    "\"\"\"First of all, if we summed all the multiples of 3 and all the multiples of 5 we would have some numbers in common.\"\"\"\n",
    "\n",
    "def multiples():\n",
    "    lista = []\n",
    "    listb = []\n",
    "    for i in range(334):\n",
    "        xs = 3*i \n",
    "        if xs < 1000:\n",
    "            lista.append(xs)\n",
    "    for i in range(201):\n",
    "        ys = 5*i\n",
    "        if ys < 1000:\n",
    "            listb.append(ys)\n",
    "    return sum(lista) + sum(listb)"
   ]
  },
  {
   "cell_type": "code",
   "execution_count": 7,
   "metadata": {},
   "outputs": [
    {
     "data": {
      "text/plain": [
       "266333"
      ]
     },
     "execution_count": 7,
     "metadata": {},
     "output_type": "execute_result"
    }
   ],
   "source": [
    "multiples()"
   ]
  },
  {
   "cell_type": "code",
   "execution_count": 8,
   "metadata": {
    "collapsed": true
   },
   "outputs": [],
   "source": [
    "\"\"\"After reading lista and listb we can spot that the numbers in common are when xs = 3*(5*j) and ys = 5*(3*k)\n",
    "so actually they are all the multiples of 15*m up to 1000! So we only need to subtract them to get to the final answer.\"\"\"\n",
    "\n",
    "def support():\n",
    "    listc = []\n",
    "    for i in range(67):\n",
    "        numb = 15*i\n",
    "        if numb < 1000:\n",
    "            listc.append(numb)\n",
    "    return sum(listc)"
   ]
  },
  {
   "cell_type": "code",
   "execution_count": 9,
   "metadata": {},
   "outputs": [
    {
     "data": {
      "text/plain": [
       "33165"
      ]
     },
     "execution_count": 9,
     "metadata": {},
     "output_type": "execute_result"
    }
   ],
   "source": [
    "support()"
   ]
  },
  {
   "cell_type": "code",
   "execution_count": 10,
   "metadata": {
    "collapsed": true
   },
   "outputs": [],
   "source": [
    "def ans():\n",
    "    return multiples() - support()"
   ]
  },
  {
   "cell_type": "code",
   "execution_count": 11,
   "metadata": {},
   "outputs": [
    {
     "data": {
      "text/plain": [
       "233168"
      ]
     },
     "execution_count": 11,
     "metadata": {},
     "output_type": "execute_result"
    }
   ],
   "source": [
    "ans()"
   ]
  },
  {
   "cell_type": "markdown",
   "metadata": {},
   "source": [
    "## Some General Problems ##\n",
    "### Problem 1.1### \n",
    "   If we list all the natural numbers below 10 that are multiples of 3 or 5, we get 3, 5, 6 and 9. The sum of these multiples is 23.\n",
    "\n",
    "Find the sum of all the multiples of a or b below X."
   ]
  },
  {
   "cell_type": "code",
   "execution_count": 12,
   "metadata": {
    "collapsed": true
   },
   "outputs": [],
   "source": [
    "\"\"\"The idea is kinda the same, so we keep on calculating everyone and then subtract the commom multiples\"\"\"\n",
    "def multiples(a,b,x):\n",
    "    lista = []\n",
    "    listb = []\n",
    "    for i in range((x//a)+1):\n",
    "        zs = a*i \n",
    "        if zs < x:\n",
    "            lista.append(zs)\n",
    "    for i in range((x//b)+1):\n",
    "        ys = b*i\n",
    "        if ys < x:\n",
    "            listb.append(ys)\n",
    "    return sum(lista) + sum(listb)\n",
    "\n",
    "def support(a,b,x):\n",
    "    listc = []\n",
    "    c = a*b\n",
    "    for i in range((x//c)+1):\n",
    "        numb = c*i\n",
    "        if numb < x:\n",
    "            listc.append(numb)\n",
    "    return sum(listc)"
   ]
  },
  {
   "cell_type": "code",
   "execution_count": 13,
   "metadata": {
    "collapsed": true
   },
   "outputs": [],
   "source": [
    "def ans(a,b,x):\n",
    "    return multiples(a,b,x) - support(a,b,x)"
   ]
  },
  {
   "cell_type": "code",
   "execution_count": 14,
   "metadata": {},
   "outputs": [
    {
     "ename": "KeyboardInterrupt",
     "evalue": "",
     "output_type": "error",
     "traceback": [
      "\u001b[1;31m---------------------------------------------------------------------------\u001b[0m",
      "\u001b[1;31mKeyboardInterrupt\u001b[0m                         Traceback (most recent call last)",
      "\u001b[1;32m<ipython-input-14-72aae97a9d2e>\u001b[0m in \u001b[0;36m<module>\u001b[1;34m()\u001b[0m\n\u001b[1;32m----> 1\u001b[1;33m \u001b[0mget_ipython\u001b[0m\u001b[1;33m(\u001b[0m\u001b[1;33m)\u001b[0m\u001b[1;33m.\u001b[0m\u001b[0mmagic\u001b[0m\u001b[1;33m(\u001b[0m\u001b[1;34m'timeit ans(13,25,100000000) #3.12 s'\u001b[0m\u001b[1;33m)\u001b[0m\u001b[1;33m\u001b[0m\u001b[0m\n\u001b[0m",
      "\u001b[1;32mC:\\Users\\Aristt\\Anaconda3\\lib\\site-packages\\IPython\\core\\interactiveshell.py\u001b[0m in \u001b[0;36mmagic\u001b[1;34m(self, arg_s)\u001b[0m\n\u001b[0;32m   2161\u001b[0m         \u001b[0mmagic_name\u001b[0m\u001b[1;33m,\u001b[0m \u001b[0m_\u001b[0m\u001b[1;33m,\u001b[0m \u001b[0mmagic_arg_s\u001b[0m \u001b[1;33m=\u001b[0m \u001b[0marg_s\u001b[0m\u001b[1;33m.\u001b[0m\u001b[0mpartition\u001b[0m\u001b[1;33m(\u001b[0m\u001b[1;34m' '\u001b[0m\u001b[1;33m)\u001b[0m\u001b[1;33m\u001b[0m\u001b[0m\n\u001b[0;32m   2162\u001b[0m         \u001b[0mmagic_name\u001b[0m \u001b[1;33m=\u001b[0m \u001b[0mmagic_name\u001b[0m\u001b[1;33m.\u001b[0m\u001b[0mlstrip\u001b[0m\u001b[1;33m(\u001b[0m\u001b[0mprefilter\u001b[0m\u001b[1;33m.\u001b[0m\u001b[0mESC_MAGIC\u001b[0m\u001b[1;33m)\u001b[0m\u001b[1;33m\u001b[0m\u001b[0m\n\u001b[1;32m-> 2163\u001b[1;33m         \u001b[1;32mreturn\u001b[0m \u001b[0mself\u001b[0m\u001b[1;33m.\u001b[0m\u001b[0mrun_line_magic\u001b[0m\u001b[1;33m(\u001b[0m\u001b[0mmagic_name\u001b[0m\u001b[1;33m,\u001b[0m \u001b[0mmagic_arg_s\u001b[0m\u001b[1;33m)\u001b[0m\u001b[1;33m\u001b[0m\u001b[0m\n\u001b[0m\u001b[0;32m   2164\u001b[0m \u001b[1;33m\u001b[0m\u001b[0m\n\u001b[0;32m   2165\u001b[0m     \u001b[1;31m#-------------------------------------------------------------------------\u001b[0m\u001b[1;33m\u001b[0m\u001b[1;33m\u001b[0m\u001b[0m\n",
      "\u001b[1;32mC:\\Users\\Aristt\\Anaconda3\\lib\\site-packages\\IPython\\core\\interactiveshell.py\u001b[0m in \u001b[0;36mrun_line_magic\u001b[1;34m(self, magic_name, line)\u001b[0m\n\u001b[0;32m   2082\u001b[0m                 \u001b[0mkwargs\u001b[0m\u001b[1;33m[\u001b[0m\u001b[1;34m'local_ns'\u001b[0m\u001b[1;33m]\u001b[0m \u001b[1;33m=\u001b[0m \u001b[0msys\u001b[0m\u001b[1;33m.\u001b[0m\u001b[0m_getframe\u001b[0m\u001b[1;33m(\u001b[0m\u001b[0mstack_depth\u001b[0m\u001b[1;33m)\u001b[0m\u001b[1;33m.\u001b[0m\u001b[0mf_locals\u001b[0m\u001b[1;33m\u001b[0m\u001b[0m\n\u001b[0;32m   2083\u001b[0m             \u001b[1;32mwith\u001b[0m \u001b[0mself\u001b[0m\u001b[1;33m.\u001b[0m\u001b[0mbuiltin_trap\u001b[0m\u001b[1;33m:\u001b[0m\u001b[1;33m\u001b[0m\u001b[0m\n\u001b[1;32m-> 2084\u001b[1;33m                 \u001b[0mresult\u001b[0m \u001b[1;33m=\u001b[0m \u001b[0mfn\u001b[0m\u001b[1;33m(\u001b[0m\u001b[1;33m*\u001b[0m\u001b[0margs\u001b[0m\u001b[1;33m,\u001b[0m\u001b[1;33m**\u001b[0m\u001b[0mkwargs\u001b[0m\u001b[1;33m)\u001b[0m\u001b[1;33m\u001b[0m\u001b[0m\n\u001b[0m\u001b[0;32m   2085\u001b[0m             \u001b[1;32mreturn\u001b[0m \u001b[0mresult\u001b[0m\u001b[1;33m\u001b[0m\u001b[0m\n\u001b[0;32m   2086\u001b[0m \u001b[1;33m\u001b[0m\u001b[0m\n",
      "\u001b[1;32m<decorator-gen-60>\u001b[0m in \u001b[0;36mtimeit\u001b[1;34m(self, line, cell)\u001b[0m\n",
      "\u001b[1;32mC:\\Users\\Aristt\\Anaconda3\\lib\\site-packages\\IPython\\core\\magic.py\u001b[0m in \u001b[0;36m<lambda>\u001b[1;34m(f, *a, **k)\u001b[0m\n\u001b[0;32m    191\u001b[0m     \u001b[1;31m# but it's overkill for just that one bit of state.\u001b[0m\u001b[1;33m\u001b[0m\u001b[1;33m\u001b[0m\u001b[0m\n\u001b[0;32m    192\u001b[0m     \u001b[1;32mdef\u001b[0m \u001b[0mmagic_deco\u001b[0m\u001b[1;33m(\u001b[0m\u001b[0marg\u001b[0m\u001b[1;33m)\u001b[0m\u001b[1;33m:\u001b[0m\u001b[1;33m\u001b[0m\u001b[0m\n\u001b[1;32m--> 193\u001b[1;33m         \u001b[0mcall\u001b[0m \u001b[1;33m=\u001b[0m \u001b[1;32mlambda\u001b[0m \u001b[0mf\u001b[0m\u001b[1;33m,\u001b[0m \u001b[1;33m*\u001b[0m\u001b[0ma\u001b[0m\u001b[1;33m,\u001b[0m \u001b[1;33m**\u001b[0m\u001b[0mk\u001b[0m\u001b[1;33m:\u001b[0m \u001b[0mf\u001b[0m\u001b[1;33m(\u001b[0m\u001b[1;33m*\u001b[0m\u001b[0ma\u001b[0m\u001b[1;33m,\u001b[0m \u001b[1;33m**\u001b[0m\u001b[0mk\u001b[0m\u001b[1;33m)\u001b[0m\u001b[1;33m\u001b[0m\u001b[0m\n\u001b[0m\u001b[0;32m    194\u001b[0m \u001b[1;33m\u001b[0m\u001b[0m\n\u001b[0;32m    195\u001b[0m         \u001b[1;32mif\u001b[0m \u001b[0mcallable\u001b[0m\u001b[1;33m(\u001b[0m\u001b[0marg\u001b[0m\u001b[1;33m)\u001b[0m\u001b[1;33m:\u001b[0m\u001b[1;33m\u001b[0m\u001b[0m\n",
      "\u001b[1;32mC:\\Users\\Aristt\\Anaconda3\\lib\\site-packages\\IPython\\core\\magics\\execution.py\u001b[0m in \u001b[0;36mtimeit\u001b[1;34m(self, line, cell)\u001b[0m\n\u001b[0;32m   1039\u001b[0m             \u001b[0mnumber\u001b[0m \u001b[1;33m=\u001b[0m \u001b[1;36m1\u001b[0m\u001b[1;33m\u001b[0m\u001b[0m\n\u001b[0;32m   1040\u001b[0m             \u001b[1;32mfor\u001b[0m \u001b[0m_\u001b[0m \u001b[1;32min\u001b[0m \u001b[0mrange\u001b[0m\u001b[1;33m(\u001b[0m\u001b[1;36m1\u001b[0m\u001b[1;33m,\u001b[0m \u001b[1;36m10\u001b[0m\u001b[1;33m)\u001b[0m\u001b[1;33m:\u001b[0m\u001b[1;33m\u001b[0m\u001b[0m\n\u001b[1;32m-> 1041\u001b[1;33m                 \u001b[0mtime_number\u001b[0m \u001b[1;33m=\u001b[0m \u001b[0mtimer\u001b[0m\u001b[1;33m.\u001b[0m\u001b[0mtimeit\u001b[0m\u001b[1;33m(\u001b[0m\u001b[0mnumber\u001b[0m\u001b[1;33m)\u001b[0m\u001b[1;33m\u001b[0m\u001b[0m\n\u001b[0m\u001b[0;32m   1042\u001b[0m                 \u001b[0mworst_tuning\u001b[0m \u001b[1;33m=\u001b[0m \u001b[0mmax\u001b[0m\u001b[1;33m(\u001b[0m\u001b[0mworst_tuning\u001b[0m\u001b[1;33m,\u001b[0m \u001b[0mtime_number\u001b[0m \u001b[1;33m/\u001b[0m \u001b[0mnumber\u001b[0m\u001b[1;33m)\u001b[0m\u001b[1;33m\u001b[0m\u001b[0m\n\u001b[0;32m   1043\u001b[0m                 \u001b[1;32mif\u001b[0m \u001b[0mtime_number\u001b[0m \u001b[1;33m>=\u001b[0m \u001b[1;36m0.2\u001b[0m\u001b[1;33m:\u001b[0m\u001b[1;33m\u001b[0m\u001b[0m\n",
      "\u001b[1;32mC:\\Users\\Aristt\\Anaconda3\\lib\\site-packages\\IPython\\core\\magics\\execution.py\u001b[0m in \u001b[0;36mtimeit\u001b[1;34m(self, number)\u001b[0m\n\u001b[0;32m    135\u001b[0m         \u001b[0mgc\u001b[0m\u001b[1;33m.\u001b[0m\u001b[0mdisable\u001b[0m\u001b[1;33m(\u001b[0m\u001b[1;33m)\u001b[0m\u001b[1;33m\u001b[0m\u001b[0m\n\u001b[0;32m    136\u001b[0m         \u001b[1;32mtry\u001b[0m\u001b[1;33m:\u001b[0m\u001b[1;33m\u001b[0m\u001b[0m\n\u001b[1;32m--> 137\u001b[1;33m             \u001b[0mtiming\u001b[0m \u001b[1;33m=\u001b[0m \u001b[0mself\u001b[0m\u001b[1;33m.\u001b[0m\u001b[0minner\u001b[0m\u001b[1;33m(\u001b[0m\u001b[0mit\u001b[0m\u001b[1;33m,\u001b[0m \u001b[0mself\u001b[0m\u001b[1;33m.\u001b[0m\u001b[0mtimer\u001b[0m\u001b[1;33m)\u001b[0m\u001b[1;33m\u001b[0m\u001b[0m\n\u001b[0m\u001b[0;32m    138\u001b[0m         \u001b[1;32mfinally\u001b[0m\u001b[1;33m:\u001b[0m\u001b[1;33m\u001b[0m\u001b[0m\n\u001b[0;32m    139\u001b[0m             \u001b[1;32mif\u001b[0m \u001b[0mgcold\u001b[0m\u001b[1;33m:\u001b[0m\u001b[1;33m\u001b[0m\u001b[0m\n",
      "\u001b[1;32m<magic-timeit>\u001b[0m in \u001b[0;36minner\u001b[1;34m(_it, _timer)\u001b[0m\n",
      "\u001b[1;32m<ipython-input-13-08ea503dc277>\u001b[0m in \u001b[0;36mans\u001b[1;34m(a, b, x)\u001b[0m\n\u001b[0;32m      1\u001b[0m \u001b[1;32mdef\u001b[0m \u001b[0mans\u001b[0m\u001b[1;33m(\u001b[0m\u001b[0ma\u001b[0m\u001b[1;33m,\u001b[0m\u001b[0mb\u001b[0m\u001b[1;33m,\u001b[0m\u001b[0mx\u001b[0m\u001b[1;33m)\u001b[0m\u001b[1;33m:\u001b[0m\u001b[1;33m\u001b[0m\u001b[0m\n\u001b[1;32m----> 2\u001b[1;33m     \u001b[1;32mreturn\u001b[0m \u001b[0mmultiples\u001b[0m\u001b[1;33m(\u001b[0m\u001b[0ma\u001b[0m\u001b[1;33m,\u001b[0m\u001b[0mb\u001b[0m\u001b[1;33m,\u001b[0m\u001b[0mx\u001b[0m\u001b[1;33m)\u001b[0m \u001b[1;33m-\u001b[0m \u001b[0msupport\u001b[0m\u001b[1;33m(\u001b[0m\u001b[0ma\u001b[0m\u001b[1;33m,\u001b[0m\u001b[0mb\u001b[0m\u001b[1;33m,\u001b[0m\u001b[0mx\u001b[0m\u001b[1;33m)\u001b[0m\u001b[1;33m\u001b[0m\u001b[0m\n\u001b[0m",
      "\u001b[1;32m<ipython-input-12-833332cbbef0>\u001b[0m in \u001b[0;36mmultiples\u001b[1;34m(a, b, x)\u001b[0m\n\u001b[0;32m      6\u001b[0m         \u001b[0mzs\u001b[0m \u001b[1;33m=\u001b[0m \u001b[0ma\u001b[0m\u001b[1;33m*\u001b[0m\u001b[0mi\u001b[0m\u001b[1;33m\u001b[0m\u001b[0m\n\u001b[0;32m      7\u001b[0m         \u001b[1;32mif\u001b[0m \u001b[0mzs\u001b[0m \u001b[1;33m<\u001b[0m \u001b[0mx\u001b[0m\u001b[1;33m:\u001b[0m\u001b[1;33m\u001b[0m\u001b[0m\n\u001b[1;32m----> 8\u001b[1;33m             \u001b[0mlista\u001b[0m\u001b[1;33m.\u001b[0m\u001b[0mappend\u001b[0m\u001b[1;33m(\u001b[0m\u001b[0mzs\u001b[0m\u001b[1;33m)\u001b[0m\u001b[1;33m\u001b[0m\u001b[0m\n\u001b[0m\u001b[0;32m      9\u001b[0m     \u001b[1;32mfor\u001b[0m \u001b[0mi\u001b[0m \u001b[1;32min\u001b[0m \u001b[0mrange\u001b[0m\u001b[1;33m(\u001b[0m\u001b[1;33m(\u001b[0m\u001b[0mx\u001b[0m\u001b[1;33m//\u001b[0m\u001b[0mb\u001b[0m\u001b[1;33m)\u001b[0m\u001b[1;33m+\u001b[0m\u001b[1;36m1\u001b[0m\u001b[1;33m)\u001b[0m\u001b[1;33m:\u001b[0m\u001b[1;33m\u001b[0m\u001b[0m\n\u001b[0;32m     10\u001b[0m         \u001b[0mys\u001b[0m \u001b[1;33m=\u001b[0m \u001b[0mb\u001b[0m\u001b[1;33m*\u001b[0m\u001b[0mi\u001b[0m\u001b[1;33m\u001b[0m\u001b[0m\n",
      "\u001b[1;31mKeyboardInterrupt\u001b[0m: "
     ]
    }
   ],
   "source": [
    "%timeit ans(13,25,100000000) #3.12 s"
   ]
  },
  {
   "cell_type": "markdown",
   "metadata": {},
   "source": [
    "\n",
    "### Problem 1.2 ### \n",
    "   If we list all the natural numbers below 10 that are multiples of 3 or 5, we get 3, 5, 6 and 9. The sum of these multiples is 23.\n",
    "\n",
    "Find the sum of all the multiples of a or b or c below X.\n",
    "\n",
    "a,b,c are \"primos entre si\""
   ]
  },
  {
   "cell_type": "code",
   "execution_count": null,
   "metadata": {
    "collapsed": true
   },
   "outputs": [],
   "source": [
    "\"\"\"The idea is kinda the same, so we keep on calculating everyone and then subtract the commom multiples, the only different thing\n",
    "would be calculating all the common between ab and ac and cb and a,b,c\"\"\"\n",
    "\n",
    "\n",
    "def multiples(a,b,c,x):\n",
    "    lista = []\n",
    "    listb = []\n",
    "    listc = []\n",
    "    for i in range((x//a)+1):\n",
    "        xs = a*i \n",
    "        if xs < x:\n",
    "            lista.append(xs)\n",
    "    for i in range((x//b)+1):\n",
    "        ys = b*i\n",
    "        if ys < x:\n",
    "            listb.append(ys)\n",
    "    for i in range((x//c)+1):\n",
    "        zs = c*i\n",
    "        if zs < x:\n",
    "            listc.append(zs)\n",
    "    return sum(lista) + sum(listb) + sum(listc)\n"
   ]
  },
  {
   "cell_type": "code",
   "execution_count": null,
   "metadata": {
    "collapsed": true
   },
   "outputs": [],
   "source": [
    "def support(a,b,x):\n",
    "    listc = []\n",
    "    c = a*b\n",
    "    for i in range((x//c)+1):\n",
    "        numb = c*i\n",
    "        if numb < x:\n",
    "            listc.append(numb)\n",
    "    return sum(listc)\n",
    "\n",
    "def support3(a,b,c,x):\n",
    "    listd = []\n",
    "    d = a*b*c\n",
    "    for i in range((x//d)+1):\n",
    "        numb = d*i\n",
    "        if numb < x:\n",
    "            listd.append(numb)\n",
    "    return sum(listd)\n",
    "\n",
    "def newsup(a,b,c,x):\n",
    "    return support(a,b,x) + support(a,c,x) + support(b,c,x) - support3(a,b,c,x)\n",
    "    "
   ]
  },
  {
   "cell_type": "code",
   "execution_count": null,
   "metadata": {
    "collapsed": true
   },
   "outputs": [],
   "source": [
    "def ans(a,b,c,x):\n",
    "    return multiples(a,b,c,x) - newsup(a,b,c,x)"
   ]
  },
  {
   "cell_type": "code",
   "execution_count": null,
   "metadata": {},
   "outputs": [],
   "source": [
    "%timeit ans(3,5,7,1000)"
   ]
  },
  {
   "cell_type": "markdown",
   "metadata": {},
   "source": [
    "### We should have used the formula for the sum of a Arith. Prog. ###"
   ]
  },
  {
   "cell_type": "code",
   "execution_count": null,
   "metadata": {
    "collapsed": true
   },
   "outputs": [],
   "source": [
    "def somadepa(an,n):\n",
    "    'soma de pa'\n",
    "    sn = an*(n+1)/2\n",
    "    return sn\n",
    "    \n",
    "def maiorn(x,n):\n",
    "    'retorna o maior multiplo de x, menor que n'\n",
    "    for i in range(n,n-x,-1):\n",
    "        if i%x == 0:\n",
    "            return i"
   ]
  },
  {
   "cell_type": "code",
   "execution_count": null,
   "metadata": {
    "collapsed": true
   },
   "outputs": [],
   "source": [
    "# instead of a*b we should have used the LCM ( least commom number)"
   ]
  },
  {
   "cell_type": "code",
   "execution_count": null,
   "metadata": {
    "collapsed": true
   },
   "outputs": [],
   "source": [
    "def gcd(x, y):\n",
    "    #This function implements the Euclidian algorithm to find G.C.D. of two numbers'\n",
    "\n",
    "    while y>0:\n",
    "        x, y = y, x % y\n",
    "\n",
    "    return x\n",
    "\n",
    "# define lcm function\n",
    "def lcm(x, y):\n",
    "    #This function takes two integers and returns the L.C.M\n",
    "\n",
    "    lcm = (x*y)//gcd(x,y)\n",
    "    \n",
    "    return lcm"
   ]
  },
  {
   "cell_type": "code",
   "execution_count": null,
   "metadata": {
    "collapsed": true
   },
   "outputs": [],
   "source": [
    "def smartans(a,b,x):\n",
    "    if a%b == 0:     \n",
    "        bn = maiorn(b,x-1)\n",
    "        return  bn*(bn/b  + 1)/2\n",
    "    if b%a == 0: \n",
    "        an = maiorn(a,x-1)\n",
    "        return  an*(an/a  + 1)/2\n",
    "    an = maiorn(a,x-1)\n",
    "    bn = maiorn(b,x-1)\n",
    "    ab = lcm(a,b)\n",
    "    abn = maiorn(ab,x-1)\n",
    "    numeroa = an/a  + 1\n",
    "    numerob = bn/b  + 1\n",
    "    numeroab = abn/ab + 1\n",
    "    return (an*(numeroa) + bn*(numerob) - abn*(numeroab))/2\n",
    "    "
   ]
  },
  {
   "cell_type": "code",
   "execution_count": null,
   "metadata": {},
   "outputs": [],
   "source": [
    "smartans(13,25,100000000)"
   ]
  },
  {
   "cell_type": "code",
   "execution_count": null,
   "metadata": {},
   "outputs": [],
   "source": [
    "%timeit smartans(3,5,1000)  # 5.73 us"
   ]
  },
  {
   "cell_type": "code",
   "execution_count": null,
   "metadata": {},
   "outputs": [],
   "source": [
    "%timeit smartans(13,25,100000000) # 20us"
   ]
  },
  {
   "cell_type": "code",
   "execution_count": null,
   "metadata": {},
   "outputs": [],
   "source": [
    "smartans(6,3,1000)"
   ]
  },
  {
   "cell_type": "code",
   "execution_count": null,
   "metadata": {},
   "outputs": [],
   "source": [
    "%timeit smartans(3,6,1000) # 1.72us"
   ]
  },
  {
   "cell_type": "markdown",
   "metadata": {},
   "source": [
    "# Way more general Problem #\n",
    "\n",
    "If we list all the natural numbers below 10 that are multiples of 3 or 5, we get 3, 5, 6 and 9. The sum of these multiples is 23.\n",
    "\n",
    "Find the sum of all the multiples of a list with n numbers below X."
   ]
  },
  {
   "cell_type": "code",
   "execution_count": null,
   "metadata": {
    "collapsed": true
   },
   "outputs": [],
   "source": [
    "# tentando colocar a arvore aqui pra gerar todos os subconjuntos dos numeros"
   ]
  },
  {
   "cell_type": "code",
   "execution_count": 2,
   "metadata": {
    "collapsed": true
   },
   "outputs": [],
   "source": [
    "def subconj(list):\n",
    "    'dada uma lista retorna uma lista com as partes(lista)'\n",
    "    root = [[1]]\n",
    "    ans = 0\n",
    "    for node in list:\n",
    "        current_floor = []\n",
    "        root = root+root[1:]\n",
    "        for j in range(len(root)):\n",
    "            if j > len(root)/2 :\n",
    "                root[j] = root [j] + [node]\n",
    "                current_floor.append(root[j])\n",
    "        root.append([node])\n",
    "    return root,current_floor"
   ]
  },
  {
   "cell_type": "code",
   "execution_count": 3,
   "metadata": {},
   "outputs": [
    {
     "name": "stdout",
     "output_type": "stream",
     "text": [
      "([[1], [3], [3, 5], [5], [3, 9], [3, 5, 9], [5, 9], [9], [3, 12], [3, 5, 12], [5, 12], [3, 9, 12], [3, 5, 9, 12], [5, 9, 12], [9, 12], [12]], [[3, 12], [3, 5, 12], [5, 12], [3, 9, 12], [3, 5, 9, 12], [5, 9, 12], [9, 12]])\n",
      "size= 16\n"
     ]
    }
   ],
   "source": [
    "ns = [3,5,9,12]\n",
    "print((subconj(ns)))\n",
    "print('size= ' + str(len((subconj(ns))[0])))"
   ]
  },
  {
   "cell_type": "code",
   "execution_count": 4,
   "metadata": {
    "collapsed": true
   },
   "outputs": [],
   "source": [
    "def sum_pa(k,n):\n",
    "    'returns the sum of the arith. prog. when k is the first and the ratio'\n",
    "    pa = ((n+1)*n*k*(0.5))\n",
    "    return int(pa)"
   ]
  },
  {
   "cell_type": "code",
   "execution_count": 16,
   "metadata": {
    "collapsed": true
   },
   "outputs": [],
   "source": [
    "def gcd(a,b):\n",
    "    'returns the greatest commond divisor'\n",
    "    while b != 0:\n",
    "        (a, b) = (b, a % b)\n",
    "    return a"
   ]
  },
  {
   "cell_type": "code",
   "execution_count": 17,
   "metadata": {
    "collapsed": true
   },
   "outputs": [],
   "source": [
    "def lcm_2(a,b):\n",
    "    'returs the least common multiple between a and b'\n",
    "    lcm = (a/gcd(a,b)) * b\n",
    "    return lcm"
   ]
  },
  {
   "cell_type": "code",
   "execution_count": 18,
   "metadata": {
    "collapsed": true
   },
   "outputs": [],
   "source": [
    "def multiples_sum(ms,x):\n",
    "    'find the sum of all the multiples of a list with n numbers below X.'\n",
    "    ns = []\n",
    "    for m in range(len(ms)):\n",
    "        if ms[m] < x:\n",
    "            ns.append(ms[m]) # aqui resolvemos o problema se tiver algum m > x em ms\n",
    "    ns.sort()\n",
    "    root = [[0,1]]  # aqui vamos guardar os numeros repetidos/useless\n",
    "    ans = 0\n",
    "\n",
    "    for node in ns:\n",
    "        for lln in range(len(ns)):      #aqui eu to removendo o problema do fato dos numeros n serem primos entre si\n",
    "            if ns[lln] % node == 0 and ns[lln] != node:\n",
    "                while ns[lln] > node and node > 1.1 and ns[lln] % node == 0:\n",
    "#                     print(node,lln,ns,'a')\n",
    "                    kk = int(ns[lln]/node)\n",
    "                    if kk in ns:\n",
    "                        ns[lln] = kk\n",
    "                    else:\n",
    "                        break\n",
    "#                     print(node,lln,ns)\n",
    "                    \n",
    "        if node not in root[0]:  # evitamos o problema de numeros repetidos\n",
    "            root[0].append(node)\n",
    "            ans += sum_pa(node,(x-1)//node) # sempre somamos as single element lists , (x-1)//node é o numero de eltos multiplos\n",
    "            root.append([node])\n",
    "            current_lcm = [1,1]\n",
    "            for j in range(1,len(root)):\n",
    "                current_lcm[0] = root[j][0]\n",
    "                if isinstance(root[j][0], int) == True:\n",
    "                    current_lcm[0] = lcm_2(root[j][0],node)\n",
    "                    current_lcm[1] *= -1  # alternamos o sinal..\n",
    "#                     print(current_lcm,'lcm')\n",
    "#                     print(root,'root')\n",
    "#                     print(ans,'ans')\n",
    "                if int(current_lcm[0]) not in root[0]:\n",
    "                    lu = np.prod(current_lcm)\n",
    "                    ans += sum_pa(lu,(x-1)//lu)\n",
    "                    root[0].append(int(current_lcm[0]))\n",
    "\n",
    "            \n",
    "    return ans"
   ]
  },
  {
   "cell_type": "code",
   "execution_count": 19,
   "metadata": {},
   "outputs": [
    {
     "data": {
      "text/plain": [
       "233168"
      ]
     },
     "execution_count": 19,
     "metadata": {},
     "output_type": "execute_result"
    }
   ],
   "source": [
    "multiples_sum([3,5],1000)"
   ]
  },
  {
   "cell_type": "code",
   "execution_count": 20,
   "metadata": {},
   "outputs": [
    {
     "name": "stdout",
     "output_type": "stream",
     "text": [
      "100 loops, best of 3: 2.41 ms per loop\n"
     ]
    }
   ],
   "source": [
    "%timeit multiples_sum([3,5,7,11,13,17,19,23,29,31,2],1e4)"
   ]
  },
  {
   "cell_type": "code",
   "execution_count": 21,
   "metadata": {},
   "outputs": [
    {
     "name": "stdout",
     "output_type": "stream",
     "text": [
      "100 loops, best of 3: 2.4 ms per loop\n"
     ]
    }
   ],
   "source": [
    "%timeit multiples_sum([3,5,7,11,13,17,19,23,29,31,2],1e6)"
   ]
  },
  {
   "cell_type": "code",
   "execution_count": 22,
   "metadata": {},
   "outputs": [
    {
     "name": "stdout",
     "output_type": "stream",
     "text": [
      "100 loops, best of 3: 2.42 ms per loop\n"
     ]
    }
   ],
   "source": [
    "%timeit multiples_sum([3,5,7,11,13,17,19,23,29,31,2],1e10)"
   ]
  },
  {
   "cell_type": "code",
   "execution_count": 23,
   "metadata": {},
   "outputs": [
    {
     "name": "stdout",
     "output_type": "stream",
     "text": [
      "100 loops, best of 3: 2.56 ms per loop\n"
     ]
    }
   ],
   "source": [
    "%timeit multiples_sum([3,5,7,11,13,17,19,23,29,31,2],1e90)"
   ]
  },
  {
   "cell_type": "code",
   "execution_count": 24,
   "metadata": {},
   "outputs": [
    {
     "data": {
      "text/plain": [
       "False"
      ]
     },
     "execution_count": 24,
     "metadata": {},
     "output_type": "execute_result"
    }
   ],
   "source": [
    "multiples_sum([3,225],1000)  == multiples_sum([3,45],1000) == multiples_sum([3,75],1000) == multiples_sum([3,225],1000)"
   ]
  },
  {
   "cell_type": "markdown",
   "metadata": {},
   "source": [
    "### tá errado, tentativa de concertar ###"
   ]
  },
  {
   "cell_type": "code",
   "execution_count": 25,
   "metadata": {
    "collapsed": true
   },
   "outputs": [],
   "source": [
    "def multiples2_beta(ms,x):\n",
    "    'find the sum of all the multiples of a list with n numbers below X.'\n",
    "    ns = []\n",
    "    for m in range(len(ms)):\n",
    "        if ms[m] < x:\n",
    "            ns.append(ms[m]) # aqui resolvemos o problema se tiver algum m > x em ms\n",
    "    ns.sort()\n",
    "    root = [[0,1]]  # aqui vamos guardar os numeros repetidos/useless\n",
    "    ans = 0\n",
    "\n",
    "    for node in ns:\n",
    "#         print(ns)\n",
    "        for lln in range(len(ns)): #aqui eu to removendo o problema do fato dos numeros n serem primos entre si\n",
    "#             print(lln) \n",
    "            if ns[lln] % node == 0:\n",
    "                while ns[lln] > node and node > 1.1 and ns[lln] % node == 0:\n",
    "#                     print(node,lln,ns,'a')\n",
    "                    kk = int(ns[lln]/node)\n",
    "                    ns[lln] = 1\n",
    "#                     print(node,lln,ns)\n",
    "    while 1 in ns:\n",
    "        ns.remove(1)\n",
    "        \n",
    "    if node not in root[0]:  # evitamos o problema de lcms repetidos\n",
    "        root[0].append(node)\n",
    "        ans += sum_pa(node,(x-1)//node) # sempre somamos as single element lists , (x-1)//node é o numero de eltos multiplos\n",
    "        root.append([node])\n",
    "        current_lcm = [1,1]\n",
    "        for j in range(1,len(root)):\n",
    "            current_lcm[0] = root[j][0]\n",
    "            if isinstance(root[j][0], int) == True:\n",
    "                current_lcm[0] = lcm_2(root[j][0],node)\n",
    "                current_lcm[1] *= -1  # alternamos o sinal..\n",
    "#               print(current_lcm,'lcm')\n",
    "#               print(root,'root')\n",
    "#               print(ans,'ans')\n",
    "            if int(current_lcm[0]) not in root[0]:\n",
    "                lu = np.prod(current_lcm)\n",
    "                ans += sum_pa(lu,(x-1)//lu)\n",
    "                root[0].append(int(current_lcm[0]))\n",
    "        \n",
    "    return ans"
   ]
  },
  {
   "cell_type": "code",
   "execution_count": 26,
   "metadata": {},
   "outputs": [
    {
     "data": {
      "text/plain": [
       "True"
      ]
     },
     "execution_count": 26,
     "metadata": {},
     "output_type": "execute_result"
    }
   ],
   "source": [
    "multiples2_beta([9,15,27,81],1000) == multiples2_beta([15,27,81,30,45],1000) == multiples2_beta([15,27,81,30,45],1000)"
   ]
  },
  {
   "cell_type": "code",
   "execution_count": 27,
   "metadata": {
    "collapsed": true
   },
   "outputs": [],
   "source": [
    "def multiples2(ms,x):\n",
    "    'find the sum of all the multiples of a list with n numbers below X.'\n",
    "    ns = []\n",
    "    for m in range(len(ms)):\n",
    "        if ms[m] < x and ms[m] > 0:\n",
    "            ns.append(ms[m]) # aqui resolvemos o problema se tiver algum m > x em ms\n",
    "    ns.sort()\n",
    "    root = [[0,1]]  # aqui vamos guardar os numeros repetidos/useless\n",
    "    ans = 0\n",
    "\n",
    "    for node in ns:\n",
    "        for lln in range(len(ns)): #aqui eu to removendo o problema do fato dos numeros nao serem primos entre si\n",
    "            if ns[lln] % node == 0:\n",
    "                while ns[lln] > node and node > 1.1 and ns[lln] % node == 0:\n",
    "                    kk = int(ns[lln]/node)\n",
    "                    ns[lln] = 1\n",
    "    while 1 in ns:\n",
    "        ns.remove(1)\n",
    "    # até aqui td bem\n",
    "    for n in ns:    # aqui começa o algoritmo pra tentar percorrer a lista só uma vez\n",
    "        if n not in root[0]:  # evitamos o problema de lcms repetidos\n",
    "            root[0].append(n)\n",
    "            ans += sum_pa(n,(x-1)//n) # sempre somamos as single element lists , (x-1)//node é o numero de eltos multiplos\n",
    "            root.append([n])\n",
    "            current_lcm = [1,1]\n",
    "            for j in range(1,len(root)):\n",
    "                current_lcm[0] = root[j][0]\n",
    "                if isinstance(root[j][0], int) == True:\n",
    "                    current_lcm[0] = lcm_2(root[j][0],n)\n",
    "                    current_lcm[1] *= -1  # alternamos o sinal..\n",
    "                if int(current_lcm[0]) not in root[0]:\n",
    "                    lu = np.prod(current_lcm)\n",
    "                    ans += sum_pa(lu,(x-1)//lu)\n",
    "                    root[0].append(int(current_lcm[0]))\n",
    "        \n",
    "    return ans"
   ]
  },
  {
   "cell_type": "code",
   "execution_count": 28,
   "metadata": {},
   "outputs": [
    {
     "name": "stdout",
     "output_type": "stream",
     "text": [
      "233168\n"
     ]
    }
   ],
   "source": [
    "print(multiples2([3,5],1000))"
   ]
  },
  {
   "cell_type": "code",
   "execution_count": 29,
   "metadata": {},
   "outputs": [
    {
     "data": {
      "text/plain": [
       "True"
      ]
     },
     "execution_count": 29,
     "metadata": {},
     "output_type": "execute_result"
    }
   ],
   "source": [
    "multiples2([3,225],1000)  == multiples2([3,45],1000) == multiples2([3,75],1000)"
   ]
  },
  {
   "cell_type": "code",
   "execution_count": 30,
   "metadata": {},
   "outputs": [
    {
     "name": "stdout",
     "output_type": "stream",
     "text": [
      "x up to 1e4\n",
      "100 loops, best of 3: 2.5 ms per loop\n",
      "x up to 1e6\n",
      "100 loops, best of 3: 2.48 ms per loop\n",
      "x up to 1e10\n",
      "100 loops, best of 3: 2.63 ms per loop\n",
      "x up to 1e90\n",
      "100 loops, best of 3: 2.58 ms per loop\n"
     ]
    }
   ],
   "source": [
    "print('x up to 1e4')\n",
    "%timeit multiples2([3,5,7,11,13,17,19,23,29,31,2],1e4),\n",
    "print('x up to 1e6')\n",
    "%timeit multiples2([3,5,7,11,13,17,19,23,29,31,2],1e6), \n",
    "print('x up to 1e10')\n",
    "%timeit multiples2([3,5,7,11,13,17,19,23,29,31,2],1e10), \n",
    "print('x up to 1e90')\n",
    "%timeit multiples2([3,5,7,11,13,17,19,23,29,31,2],1e90), "
   ]
  },
  {
   "cell_type": "markdown",
   "metadata": {},
   "source": [
    "### Em tese da para fazer melhor, visto que eu to percorrendo a arvore na 'diagonal', ao inves de 'cima para baixo' ou de 'nivel em nivel'. Entao  por que eu to to indo na 'diagonal'? Porque eu to criando ela dessa maneira xd.###"
   ]
  },
  {
   "cell_type": "code",
   "execution_count": null,
   "metadata": {
    "collapsed": true
   },
   "outputs": [],
   "source": [
    "def multiples3_alpha(ms,x):\n",
    "    'se sobrar tempo e stamina eu tento'\n",
    "    'find the sum of all the multiples of a list with n numbers below X. Uma tentativa FRACASSADA de fazer melhor xd'\n",
    "    ns = []\n",
    "    for m in range(len(ms)):\n",
    "        if ms[m] < x and ms[m]:\n",
    "            ns.append(ms[m])        # aqui resolvemos o problema se tiver algum m > x em ms\n",
    "    ns.sort()\n",
    "    root = [[0,1]]                  # aqui vamos guardar os numeros repetidos/useless\n",
    "    ans = 0\n",
    "    # até aqui td bem\n",
    "    for n in ns:    # aqui começa o algoritmo pra tentar percorrer a lista só uma vez\n",
    "        if n not in root[0]:  # evitamos o problema de lcms repetidos\n",
    "            root[0].append(n)\n",
    "            ans += sum_pa(n,(x-1)//n) # sempre somamos as single element lists , (x-1)//node é o numero de eltos multiplos\n",
    "            root.append([n])\n",
    "            current_lcm = [1,1]\n",
    "            for j in range(1,len(root)):\n",
    "                current_lcm[0] = root[0][j]\n",
    "                current_lcm[0] = lcm_2(root[j][0],n)\n",
    "                current_lcm[1] *= -1  # alternamos o sinal..\n",
    "                if int(current_lcm[0]) not in root[0]:\n",
    "                    lu = np.prod(current_lcm)\n",
    "                    ans += sum_pa(lu,(x-1)//lu)\n",
    "                    root[0].append(int(current_lcm[0]))\n",
    "    return ans"
   ]
  },
  {
   "cell_type": "code",
   "execution_count": null,
   "metadata": {
    "collapsed": true
   },
   "outputs": [],
   "source": [
    "def timer(func):\n",
    "        t0 = clock()\n",
    "        func()\n",
    "        t1 = clock()\n",
    "        tf = t1-t0\n",
    "        return tf"
   ]
  },
  {
   "cell_type": "code",
   "execution_count": null,
   "metadata": {
    "collapsed": true
   },
   "outputs": [],
   "source": [
    "def prod(lis):\n",
    "    val = Apply[Times, list]\n",
    "    return val"
   ]
  },
  {
   "cell_type": "code",
   "execution_count": null,
   "metadata": {},
   "outputs": [],
   "source": [
    "prod([2.,3])"
   ]
  },
  {
   "cell_type": "code",
   "execution_count": null,
   "metadata": {
    "collapsed": true
   },
   "outputs": [],
   "source": [
    "def prod(lis):\n",
    "    val = reduce(lambda x, y: x * y, [1, 2, 3], 1)\n",
    "    return val"
   ]
  },
  {
   "cell_type": "code",
   "execution_count": null,
   "metadata": {},
   "outputs": [],
   "source": [
    "prod([2,3])"
   ]
  },
  {
   "cell_type": "code",
   "execution_count": null,
   "metadata": {
    "collapsed": true
   },
   "outputs": [],
   "source": [
    "from functools import reduce\n"
   ]
  },
  {
   "cell_type": "code",
   "execution_count": null,
   "metadata": {},
   "outputs": [],
   "source": [
    "%timeit prod([3,5,6])"
   ]
  },
  {
   "cell_type": "code",
   "execution_count": null,
   "metadata": {},
   "outputs": [],
   "source": [
    "%timeit np.prod([3,5,6])"
   ]
  },
  {
   "cell_type": "code",
   "execution_count": null,
   "metadata": {},
   "outputs": [],
   "source": [
    "def pe001_listbf(l,x):\n",
    "    ns = l\n",
    "    ms = set()\n",
    "    for n in ns:\n",
    "        for i in range(n,x,n):\n",
    "            ms.add(i)\n",
    "    return sum(ms)\n",
    "        "
   ]
  },
  {
   "cell_type": "code",
   "execution_count": null,
   "metadata": {},
   "outputs": [],
   "source": [
    "pe001_listbf([3,5,9],1000)"
   ]
  },
  {
   "cell_type": "code",
   "execution_count": null,
   "metadata": {
    "collapsed": true
   },
   "outputs": [],
   "source": [
    "l = [3,5]"
   ]
  },
  {
   "cell_type": "code",
   "execution_count": null,
   "metadata": {
    "collapsed": true
   },
   "outputs": [],
   "source": [
    "ms = set()"
   ]
  },
  {
   "cell_type": "code",
   "execution_count": null,
   "metadata": {
    "collapsed": true
   },
   "outputs": [],
   "source": [
    "def rnglist(l,teto):\n",
    "    lis = []\n",
    "    'returns a random list with lenght l up to teto'\n",
    "    for i in range(l):\n",
    "        lis.append(np.random.randint(0,teto+1))\n",
    "    return lis"
   ]
  },
  {
   "cell_type": "code",
   "execution_count": null,
   "metadata": {},
   "outputs": [],
   "source": [
    "rnglist(5,10)"
   ]
  },
  {
   "cell_type": "code",
   "execution_count": null,
   "metadata": {},
   "outputs": [],
   "source": [
    "for k in range(500,5000,500):\n",
    "    print(k)\n",
    "    for i in range(100):\n",
    "        for j in range(50):\n",
    "            lis = rnglist(j,100)\n",
    "            assert(pe001_listbf(l,k) == multiples2(l,k))"
   ]
  },
  {
   "cell_type": "code",
   "execution_count": 720,
   "metadata": {
    "collapsed": true
   },
   "outputs": [],
   "source": [
    "from functools import reduce\n",
    "\n",
    "def prod(lis):\n",
    "    'fast list product'\n",
    "    return reduce(lambda x, y: x * y, lis, 1)\n",
    "\n",
    "def gcd(x, y):\n",
    "    'This function implements the Euclidian algorithm to find G.C.D. of two numbers'\n",
    "    while y>0:\n",
    "        x, y = y, x % y\n",
    "    return x\n",
    "\n",
    "def lcm(a,b):\n",
    "    'returs the least common multiple between a and b'\n",
    "    mmc = (a/gcd(a,b)) * b\n",
    "    return mmc\n",
    "\n",
    "def lcm2(a,b,c):\n",
    "    'returs the least common multiple between a and b and c'\n",
    "    mmc = lcm(lcm(a,b),c)\n",
    "    return mmc\n",
    "\n",
    "def sum_pa(k,n):\n",
    "    'returns the sum of the arith. prog. when k is the first and the ratio'\n",
    "    pa = int((n+1)*n*k*(0.5))\n",
    "    return pa\n",
    "\n",
    "def pe001_bf(a,b,n):\n",
    "    elem = []\n",
    "    for i in range (1,n):\n",
    "        if i % a == 0 or i % b == 0:\n",
    "            elem.append(i)\n",
    "    return sum(elem)\n",
    "\n",
    "def pe001_treemmc(l,x):\n",
    "    'find the sum of all the multiples of a the elements of a list, below X.'\n",
    "    ns = []\n",
    "    for m in range(len(l)):\n",
    "        if l[m] < x and l[m] > 0:\n",
    "            ns.append(l[m]) # aqui resolvemos o problema se tiver algum m > x em ms\n",
    "    ns.sort()\n",
    "    root = [[0,1]]  # aqui vamos guardar os numeros repetidos/useless\n",
    "    ans = 0\n",
    "    print(ns)\n",
    "    for node in ns:\n",
    "        for lln in range(len(ns)): #aqui eu to removendo o problema do fato dos numeros nao serem primos entre si\n",
    "            if ns[lln] % node == 0:\n",
    "                while ns[lln] > node and node > 1.1 and ns[lln] % node == 0:\n",
    "                    kk = int(ns[lln]/node)\n",
    "                    ns[lln] = 1\n",
    "    while 1 in ns:\n",
    "        ns.remove(1)\n",
    "    # até aqui td bem\n",
    "    for n in ns:    # aqui começa o algoritmo pra tentar percorrer a lista só uma vez\n",
    "        if n not in root[0]:  # evitamos o problema de lcms repetidos\n",
    "            root[0].append(n)\n",
    "            ans += sum_pa(n,(x-1)//n) # sempre somamos as single element lists , (x-1)//node é o numero de eltos multiplos\n",
    "            root.append([n])\n",
    "            current_lcm = [1,1]\n",
    "            for j in range(1,len(root)):\n",
    "                current_lcm[0] = root[j][0]\n",
    "                if isinstance(root[j][0], int) == True:\n",
    "                    current_lcm[0] = lcm(root[j][0],n)\n",
    "                    current_lcm[1] *= -1 \n",
    "                    # alternamos o sinal..\n",
    "                if int(current_lcm[0]) not in root[0]:\n",
    "                    lu = prod(current_lcm)\n",
    "                    ans += sum_pa(lu,(x-1)//lu)\n",
    "                    root[0].append(int(current_lcm[0]))\n",
    "        \n",
    "    return ans\n",
    "\n",
    "def pe001_listbf(l,x):\n",
    "    'returns the sum of all the multiples of the elements of a list, below X. ~using sets~'\n",
    "    ms = set()\n",
    "    for elto in l:\n",
    "        for i in range(elto,x,elto):\n",
    "            ms.add(i)\n",
    "    return sum(ms)"
   ]
  },
  {
   "cell_type": "code",
   "execution_count": 7,
   "metadata": {
    "collapsed": true
   },
   "outputs": [],
   "source": [
    "import numpy as np\n",
    "\n",
    "def rnglist(l,teto):\n",
    "    lis = []\n",
    "    'returns a random list with lenght l up to teto'\n",
    "    for i in range(l):\n",
    "        lis.append(np.random.randint(2,teto+1))\n",
    "    return lis\n",
    "\n",
    "def rngnumb(teto):\n",
    "    'returns 2 random numbers lower than teto'\n",
    "    a,b = (np.random.randint(2,teto+1)),(np.random.randint(2,teto+1))\n",
    "    return a,b"
   ]
  },
  {
   "cell_type": "code",
   "execution_count": 8,
   "metadata": {
    "collapsed": true
   },
   "outputs": [],
   "source": [
    "def multiples3(ms,x):\n",
    "    'find the sum of all the multiples of a list with n numbers below X.'\n",
    "    ns = []\n",
    "    for m in range(len(ms)):\n",
    "        if ms[m] < x and ms[m] > 0:\n",
    "            ns.append(ms[m]) # aqui resolvemos o problema se tiver algum m > x em ms\n",
    "    ns.sort()\n",
    "    root = [[0,1]]  # aqui vamos guardar os numeros repetidos/useless\n",
    "    ans = 0\n",
    "\n",
    "    for node in ns:\n",
    "        for lln in range(len(ns)): #aqui eu to removendo o problema do fato dos numeros nao serem primos entre si\n",
    "            if ns[lln] % node == 0:\n",
    "                while ns[lln] > node and node > 1.1 and ns[lln] % node == 0:\n",
    "                    kk = int(ns[lln]/node)\n",
    "                    ns[lln] = 1\n",
    "    while 1 in ns:\n",
    "        ns.remove(1)\n",
    "    # até aqui td bem\n",
    "    for n in ns:    # aqui começa o algoritmo pra tentar percorrer a lista só uma vez\n",
    "        if n not in root[0]:  # evitamos o problema de lcms repetidos\n",
    "            root[0].append(n)\n",
    "            ans += sum_pa(n,(x-1)//n) # sempre somamos as single element lists , (x-1)//node é o numero de eltos multiplos\n",
    "            root.append([n])\n",
    "            current_lcm = [1,1]\n",
    "            for j in range(1,len(root)):\n",
    "                current_lcm[0] = root[j][0]\n",
    "                if isinstance(root[j][0], int) == True:\n",
    "                    current_lcm[0] = lcm_2(root[j][0],n)\n",
    "                    current_lcm[1] *= -1  # alternamos o sinal..\n",
    "                if int(current_lcm[0]) not in root[0]:\n",
    "                    lu = np.prod(current_lcm)\n",
    "                    ans += sum_pa(lu,(x-1)//lu)\n",
    "                    root[0].append(int(current_lcm[0]))\n",
    "        \n",
    "    return ans"
   ]
  },
  {
   "cell_type": "code",
   "execution_count": 19,
   "metadata": {},
   "outputs": [],
   "source": [
    "lis = [85, 51, 88, 13, 92, 80]\n",
    "k = 500"
   ]
  },
  {
   "cell_type": "code",
   "execution_count": 20,
   "metadata": {},
   "outputs": [
    {
     "name": "stdout",
     "output_type": "stream",
     "text": [
      "[13, 51, 80, 85, 88, 92]\n"
     ]
    },
    {
     "data": {
      "text/plain": [
       "17838"
      ]
     },
     "execution_count": 20,
     "metadata": {},
     "output_type": "execute_result"
    }
   ],
   "source": [
    "pe001_treemmc(lis,k)"
   ]
  },
  {
   "cell_type": "code",
   "execution_count": 13,
   "metadata": {},
   "outputs": [
    {
     "name": "stdout",
     "output_type": "stream",
     "text": [
      "[52, 78]\n",
      "3042 3042\n",
      "[52, 78]\n",
      "[35, 53, 54]\n",
      "8490 8490\n",
      "[35, 53, 54]\n",
      "[14, 24, 65, 67]\n",
      "17052 17052\n",
      "[14, 24, 65, 67]\n",
      "[6, 49, 51, 68, 69]\n",
      "26988 26988\n",
      "[6, 49, 51, 68, 69]\n",
      "[13, 51, 80, 85, 88, 92]\n",
      "17328 17838\n",
      "[13, 51, 80, 85, 88, 92]\n"
     ]
    },
    {
     "ename": "AssertionError",
     "evalue": "",
     "output_type": "error",
     "traceback": [
      "\u001b[1;31m---------------------------------------------------------------------------\u001b[0m",
      "\u001b[1;31mAssertionError\u001b[0m                            Traceback (most recent call last)",
      "\u001b[1;32m<ipython-input-13-71a85ebce28f>\u001b[0m in \u001b[0;36m<module>\u001b[1;34m()\u001b[0m\n\u001b[0;32m      4\u001b[0m             \u001b[0mlis\u001b[0m \u001b[1;33m=\u001b[0m \u001b[0mrnglist\u001b[0m\u001b[1;33m(\u001b[0m\u001b[0mj\u001b[0m\u001b[1;33m,\u001b[0m\u001b[1;36m100\u001b[0m\u001b[1;33m)\u001b[0m\u001b[1;33m\u001b[0m\u001b[0m\n\u001b[0;32m      5\u001b[0m             \u001b[0mprint\u001b[0m\u001b[1;33m(\u001b[0m\u001b[0mpe001_listbf\u001b[0m\u001b[1;33m(\u001b[0m\u001b[0mlis\u001b[0m\u001b[1;33m,\u001b[0m\u001b[0mk\u001b[0m\u001b[1;33m)\u001b[0m \u001b[1;33m,\u001b[0m \u001b[0mpe001_treemmc\u001b[0m\u001b[1;33m(\u001b[0m\u001b[0mlis\u001b[0m\u001b[1;33m,\u001b[0m\u001b[0mk\u001b[0m\u001b[1;33m)\u001b[0m\u001b[1;33m)\u001b[0m\u001b[1;33m\u001b[0m\u001b[0m\n\u001b[1;32m----> 6\u001b[1;33m             \u001b[1;32massert\u001b[0m\u001b[1;33m(\u001b[0m\u001b[0mpe001_listbf\u001b[0m\u001b[1;33m(\u001b[0m\u001b[0mlis\u001b[0m\u001b[1;33m,\u001b[0m\u001b[0mk\u001b[0m\u001b[1;33m)\u001b[0m \u001b[1;33m==\u001b[0m \u001b[0mpe001_treemmc\u001b[0m\u001b[1;33m(\u001b[0m\u001b[0mlis\u001b[0m\u001b[1;33m,\u001b[0m\u001b[0mk\u001b[0m\u001b[1;33m)\u001b[0m\u001b[1;33m)\u001b[0m\u001b[1;33m\u001b[0m\u001b[0m\n\u001b[0m\u001b[0;32m      7\u001b[0m \u001b[1;33m\u001b[0m\u001b[0m\n",
      "\u001b[1;31mAssertionError\u001b[0m: "
     ]
    }
   ],
   "source": [
    "for k in range(500,5001,500):\n",
    "    for i in range(2,100):\n",
    "        for j in range(2,50):\n",
    "            lis = rnglist(j,100)\n",
    "            print(pe001_listbf(lis,k) , pe001_treemmc(lis,k))\n",
    "            assert(pe001_listbf(lis,k) == pe001_treemmc(lis,k))\n",
    "\n"
   ]
  },
  {
   "cell_type": "code",
   "execution_count": 37,
   "metadata": {},
   "outputs": [
    {
     "name": "stdout",
     "output_type": "stream",
     "text": [
      "[5, 28, 33, 44, 45, 47, 66, 78, 81]\n"
     ]
    },
    {
     "data": {
      "text/plain": [
       "-616"
      ]
     },
     "execution_count": 37,
     "metadata": {},
     "output_type": "execute_result"
    }
   ],
   "source": [
    "pe001_listbf(lis,k) - pe001_treemmc(lis,k)"
   ]
  },
  {
   "cell_type": "code",
   "execution_count": null,
   "metadata": {},
   "outputs": [],
   "source": [
    "for k in range(500,5001,500):\n",
    "    print(k)\n",
    "    for i in range(100):\n",
    "        a,b = rngnumb(100)\n",
    "        assert(pe001_bf(a,b,k) == pe001_listbf([a,b],k) == pe001_treemmc([a,b],k))"
   ]
  },
  {
   "cell_type": "code",
   "execution_count": null,
   "metadata": {
    "collapsed": true
   },
   "outputs": [],
   "source": [
    "from time import clock"
   ]
  },
  {
   "cell_type": "code",
   "execution_count": null,
   "metadata": {},
   "outputs": [],
   "source": [
    "def timer(func,a,b,k, lista = False):\n",
    "        if lista == True:\n",
    "            t0 = clock()\n",
    "            func([a,b],k)\n",
    "            t1 = clock()\n",
    "            tf = t1-t0\n",
    "            return tf\n",
    "        t0 = clock()\n",
    "        func(a,b,k)\n",
    "        t1 = clock()\n",
    "        tf = t1-t0\n",
    "        return tf"
   ]
  },
  {
   "cell_type": "code",
   "execution_count": null,
   "metadata": {
    "collapsed": true
   },
   "outputs": [],
   "source": [
    "from time import clock\n",
    "import matplotlib.pyplot as plt\n",
    "import numpy as np\n",
    "\n",
    "def timer(func):\n",
    "    'returns the time to run a certain function func'\n",
    "    t0 = clock()\n",
    "    func\n",
    "    t1 = clock()\n",
    "    tf = t1-t0\n",
    "    return tf\n",
    "\n",
    "def rnglist(l,teto):\n",
    "    lis = []\n",
    "    'returns a random list with lenght l up to teto'\n",
    "    for i in range(l):\n",
    "        lis.append(np.random.randint(0,teto+1))\n",
    "    return lis\n",
    "\n",
    "def rngnumb(teto):\n",
    "    'returns 2 random numbers lower than teto'\n",
    "    a,b = (np.random.randint(2,teto+1)),(np.random.randint(2,teto+1))\n",
    "    return a,b"
   ]
  },
  {
   "cell_type": "code",
   "execution_count": null,
   "metadata": {},
   "outputs": [],
   "source": [
    "print('lets measure some time')\n",
    "times_brutef = []\n",
    "times_listbf = []\n",
    "times_treemmc = []\n",
    "for k in range(500,3001,500):\n",
    "    print(k)\n",
    "    for j in range(100):\n",
    "        a,b = rngnumb(100)\n",
    "        beta_tbf = []\n",
    "        beta_lbf = []\n",
    "        beta_tree = []\n",
    "        for i in range(100):\n",
    "            beta_tbf += [timer(pe001_bf,a,b,k)]\n",
    "            beta_lbf += [timer(pe001_listbf,a,b,k, lista = True)]\n",
    "            beta_tree += [timer(pe001_treemmc,a,b,k, lista = True)]\n",
    "        beta_tbf.sort()\n",
    "        beta_lbf.sort()\n",
    "        beta_tree.sort()\n",
    "        times_brutef += [sum(beta_tbf[:20])/20]\n",
    "        times_listbf += [sum(beta_lbf[:20])/20]\n",
    "        times_treemmc += [sum(beta_tree[:20])/20]"
   ]
  },
  {
   "cell_type": "code",
   "execution_count": null,
   "metadata": {},
   "outputs": [],
   "source": [
    "ks = np.arange(500,5001,500)"
   ]
  },
  {
   "cell_type": "code",
   "execution_count": null,
   "metadata": {
    "collapsed": true
   },
   "outputs": [],
   "source": [
    "plt.plot(times_brutef,label = 'Solving with Brute Force');\n",
    "plt.plot(times_listbf,label = 'Solving with sets and Brutaly');\n",
    "plt.plot(times_treemmc,label = 'Solving with the MMC tree');\n",
    "plt.xlabel(' the xth test')\n",
    "plt.ylabel('time (s)')\n",
    "plt.title('Limit from 500 to 5001 and doing 100 tests for every limit')\n",
    "plt.legend(loc = 0)\n",
    "plt.show();"
   ]
  },
  {
   "cell_type": "code",
   "execution_count": null,
   "metadata": {
    "collapsed": true
   },
   "outputs": [],
   "source": [
    "def timerl(func,lista,k):\n",
    "        t0 = clock()\n",
    "        func(l,k)\n",
    "        t1 = clock()\n",
    "        tf = t1-t0\n",
    "        return tf"
   ]
  },
  {
   "cell_type": "code",
   "execution_count": null,
   "metadata": {},
   "outputs": [],
   "source": [
    "print('now lets compare the tree vs the set method, increasing the lenght of the list')\n",
    "times_set = []\n",
    "times_treemmc2 = []\n",
    "k = 50000\n",
    "for j in range(2,60):\n",
    "    l = rnglist(j,k)\n",
    "    beta_set = []\n",
    "    beta_tree = []\n",
    "    for i in range(100):\n",
    "        beta_set += [timerl(pe001_listbf,l,k)]\n",
    "        beta_tree += [timerl(pe001_treemmc,l,k,)]\n",
    "    beta_set.sort()\n",
    "    beta_tree.sort()\n",
    "    times_set += [sum(beta_set[:20])/20]\n",
    "    times_treemmc2 += [sum(beta_tree[:20])/20]"
   ]
  },
  {
   "cell_type": "code",
   "execution_count": null,
   "metadata": {
    "collapsed": true
   },
   "outputs": [],
   "source": [
    "plt.plot(times_set,label = 'Brutaly solving with sets');\n",
    "plt.plot(times_treemmc2,label = 'Solving with the MMC tree');\n",
    "plt.xlabel(' the xth test')\n",
    "plt.ylabel('time (s)')\n",
    "plt.title('Limit is 50k, increasing the list lenght from 2 to 60')\n",
    "plt.legend(loc = 0)\n",
    "plt.show();"
   ]
  },
  {
   "cell_type": "code",
   "execution_count": 309,
   "metadata": {
    "collapsed": true
   },
   "outputs": [],
   "source": [
    "def pe001_treemmc(l,x):\n",
    "    'find the sum of all the multiples of a the elements of a list, below X.'\n",
    "    ns = []\n",
    "    for m in range(len(l)):\n",
    "        if l[m] < x and l[m] > 0:\n",
    "            ns.append(l[m]) # aqui resolvemos o problema se tiver algum m > x em ms\n",
    "    ns.sort()\n",
    "    root = [[0,1]]  # aqui vamos guardar os numeros repetidos/useless\n",
    "    ans = 0\n",
    "    print(ns)\n",
    "    for node in ns:\n",
    "        for lln in range(len(ns)): #aqui eu to removendo o problema do fato dos numeros nao serem primos entre si\n",
    "            if ns[lln] % node == 0:\n",
    "                while ns[lln] > node and node > 1.1 and ns[lln] % node == 0:\n",
    "                    kk = int(ns[lln]/node)\n",
    "                    ns[lln] = 1\n",
    "    while 1 in ns:\n",
    "        ns.remove(1)\n",
    "    # até aqui td bem\n",
    "    \n",
    "    for n in ns:# aqui começa o algoritmo pra tentar percorrer a lista só uma vez\n",
    "        print(n)\n",
    "        print(root)\n",
    "        root[0].append(n)\n",
    "        current_lcm = [n,1]\n",
    "        root.append(current_lcm)\n",
    "        for j in range(1,len(root[0])):\n",
    "            current_lcm[0] = lcm(root[j][0],n)\n",
    "            current_lcm[1] *= -1 # alternamos o sinal..\n",
    "            lu = prod(current_lcm)\n",
    "            ans += sum_pa(lu,(x-1)//lu)\n",
    "            print(current_lcm,'current_lcm')\n",
    "            root.append([lu])\n",
    "        print(root)   \n",
    "    return ans"
   ]
  },
  {
   "cell_type": "code",
   "execution_count": 310,
   "metadata": {},
   "outputs": [],
   "source": [
    "lis = [51,13,85]\n",
    "k = 500"
   ]
  },
  {
   "cell_type": "code",
   "execution_count": 311,
   "metadata": {
    "scrolled": true
   },
   "outputs": [
    {
     "name": "stdout",
     "output_type": "stream",
     "text": [
      "[13, 51, 85]\n",
      "13\n",
      "[[0, 1]]\n",
      "[13.0, -1] current_lcm\n",
      "[-13.0, 1] current_lcm\n",
      "[[0, 1, 13], [-13.0, 1], [-13.0], [-13.0]]\n",
      "51\n",
      "[[0, 1, 13], [-13.0, 1], [-13.0], [-13.0]]\n",
      "[-663.0, -1] current_lcm\n",
      "[-663.0, 1] current_lcm\n",
      "[-663.0, -1] current_lcm\n",
      "[[0, 1, 13, 51], [-13.0, 1], [-13.0], [-13.0], [-663.0, -1], [663.0], [-663.0], [663.0]]\n",
      "85\n",
      "[[0, 1, 13, 51], [-13.0, 1], [-13.0], [-13.0], [-663.0, -1], [663.0], [-663.0], [663.0]]\n",
      "[-1105.0, -1] current_lcm\n",
      "[-1105.0, 1] current_lcm\n",
      "[-1105.0, -1] current_lcm\n",
      "[-3315.0, 1] current_lcm\n",
      "[[0, 1, 13, 51, 85], [-13.0, 1], [-13.0], [-13.0], [-663.0, -1], [663.0], [-663.0], [663.0], [-3315.0, 1], [1105.0], [-1105.0], [1105.0], [-3315.0]]\n"
     ]
    },
    {
     "data": {
      "text/plain": [
       "-15730.0"
      ]
     },
     "execution_count": 311,
     "metadata": {},
     "output_type": "execute_result"
    }
   ],
   "source": [
    "pe001_treemmc(lis,k)"
   ]
  },
  {
   "cell_type": "code",
   "execution_count": 273,
   "metadata": {},
   "outputs": [
    {
     "data": {
      "text/plain": [
       "12948"
      ]
     },
     "execution_count": 273,
     "metadata": {},
     "output_type": "execute_result"
    }
   ],
   "source": [
    "pe001_listbf(lis,k)"
   ]
  },
  {
   "cell_type": "code",
   "execution_count": 216,
   "metadata": {},
   "outputs": [
    {
     "name": "stdout",
     "output_type": "stream",
     "text": [
      "[13, 51, 80]\n"
     ]
    },
    {
     "data": {
      "text/plain": [
       "17688.0"
      ]
     },
     "execution_count": 216,
     "metadata": {},
     "output_type": "execute_result"
    }
   ],
   "source": [
    "lis = [13,51,80]\n",
    "k = 500\n",
    "pe001_treemmc(lis,k)"
   ]
  },
  {
   "cell_type": "code",
   "execution_count": 217,
   "metadata": {},
   "outputs": [
    {
     "data": {
      "text/plain": [
       "13608"
      ]
     },
     "execution_count": 217,
     "metadata": {},
     "output_type": "execute_result"
    }
   ],
   "source": [
    "pe001_listbf(lis,k)"
   ]
  },
  {
   "cell_type": "code",
   "execution_count": 729,
   "metadata": {},
   "outputs": [],
   "source": [
    "def pe001doneright(ls,k):\n",
    "    ans = 0\n",
    "    root = [[]]\n",
    "    for l in ls:\n",
    "        i = 1\n",
    "        currentlylcm = l\n",
    "        root = root+root[1:]\n",
    "        for j in range(len(root)):\n",
    "            if j > len(root)/2 :\n",
    "                i *= -1\n",
    "                currentlylcm = lcm(l,root[j][0])\n",
    "                root[j] = [currentlylcm,i]\n",
    "        i = 1\n",
    "        root.append([l,i])\n",
    "    for seed in root[1:]:\n",
    "        lu = sum_pa(seed[0],(k-1)//seed[0]) * seed[1]\n",
    "        ans += lu\n",
    "    return ans\n"
   ]
  },
  {
   "cell_type": "code",
   "execution_count": 739,
   "metadata": {
    "collapsed": true
   },
   "outputs": [],
   "source": [
    "ls =[5,7,11,3]\n",
    "k = 106"
   ]
  },
  {
   "cell_type": "code",
   "execution_count": 740,
   "metadata": {},
   "outputs": [
    {
     "data": {
      "text/plain": [
       "3210"
      ]
     },
     "execution_count": 740,
     "metadata": {},
     "output_type": "execute_result"
    }
   ],
   "source": [
    "pe001doneright(ls,k)"
   ]
  },
  {
   "cell_type": "code",
   "execution_count": 741,
   "metadata": {},
   "outputs": [
    {
     "data": {
      "text/plain": [
       "3210"
      ]
     },
     "execution_count": 741,
     "metadata": {},
     "output_type": "execute_result"
    }
   ],
   "source": [
    "pe001_listbf(ls,k)"
   ]
  },
  {
   "cell_type": "code",
   "execution_count": 32,
   "metadata": {},
   "outputs": [
    {
     "data": {
      "text/plain": [
       "20"
      ]
     },
     "execution_count": 32,
     "metadata": {},
     "output_type": "execute_result"
    }
   ],
   "source": [
    "sum_pa(2,4)"
   ]
  },
  {
   "cell_type": "code",
   "execution_count": 331,
   "metadata": {
    "collapsed": true
   },
   "outputs": [],
   "source": [
    "for i in range(1,1):\n",
    "    print(i)"
   ]
  },
  {
   "cell_type": "code",
   "execution_count": null,
   "metadata": {
    "collapsed": true
   },
   "outputs": [],
   "source": [
    "def subconj(list):\n",
    "    'dada uma lista retorna uma lista com as partes(lista)'\n",
    "    root = [[1]]\n",
    "    ans = 0\n",
    "    for node in list:\n",
    "        current_floor = []\n",
    "        root = root+root[1:]\n",
    "        for j in range(len(root)):\n",
    "            if j > len(root)/2 :\n",
    "                root[j] = root [j] + [node]\n",
    "                current_floor.append(root[j])\n",
    "        root.append([node])\n",
    "    return root,current_floor"
   ]
  },
  {
   "cell_type": "code",
   "execution_count": 756,
   "metadata": {
    "collapsed": true
   },
   "outputs": [],
   "source": [
    "lis = [3,5,7,11,23,27,29,31,37,39,17,19]\n",
    "k = 1000"
   ]
  },
  {
   "cell_type": "code",
   "execution_count": 757,
   "metadata": {},
   "outputs": [
    {
     "name": "stdout",
     "output_type": "stream",
     "text": [
      "100 loops, best of 3: 13.8 ms per loop\n"
     ]
    }
   ],
   "source": [
    "%timeit pe001doneright(lis,k)"
   ]
  },
  {
   "cell_type": "code",
   "execution_count": 754,
   "metadata": {},
   "outputs": [
    {
     "data": {
      "text/plain": [
       "301807"
      ]
     },
     "execution_count": 754,
     "metadata": {},
     "output_type": "execute_result"
    }
   ],
   "source": [
    "pe001doneright(lis,k)"
   ]
  },
  {
   "cell_type": "code",
   "execution_count": 758,
   "metadata": {},
   "outputs": [
    {
     "name": "stdout",
     "output_type": "stream",
     "text": [
      "10000 loops, best of 3: 159 µs per loop\n"
     ]
    }
   ],
   "source": [
    "%timeit pe001_listbf(lis,k)"
   ]
  },
  {
   "cell_type": "code",
   "execution_count": 755,
   "metadata": {},
   "outputs": [
    {
     "data": {
      "text/plain": [
       "301807"
      ]
     },
     "execution_count": 755,
     "metadata": {},
     "output_type": "execute_result"
    }
   ],
   "source": [
    "pe001_listbf(lis,k)"
   ]
  },
  {
   "cell_type": "code",
   "execution_count": null,
   "metadata": {
    "collapsed": true
   },
   "outputs": [],
   "source": []
  }
 ],
 "metadata": {
  "anaconda-cloud": {},
  "kernelspec": {
   "display_name": "Python 3",
   "language": "python",
   "name": "python3"
  },
  "language_info": {
   "codemirror_mode": {
    "name": "ipython",
    "version": 3
   },
   "file_extension": ".py",
   "mimetype": "text/x-python",
   "name": "python",
   "nbconvert_exporter": "python",
   "pygments_lexer": "ipython3",
   "version": "3.6.5"
  }
 },
 "nbformat": 4,
 "nbformat_minor": 1
}
