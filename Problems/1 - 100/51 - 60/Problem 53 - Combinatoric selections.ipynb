{
 "cells": [
  {
   "cell_type": "markdown",
   "metadata": {},
   "source": [
    "### Problem 53\n",
    "\n",
    "There are exactly ten ways of selecting three from five, 12345:\n",
    "\n",
    "123, 124, 125, 134, 135, 145, 234, 235, 245, and 345\n",
    "\n",
    "In combinatorics, we use the notation, $C^{5}_3$ = 10.\n",
    "\n",
    "In general,\n",
    "\n",
    "$C^{n}_r$ =\tn! r!(n−r)!\n",
    ",where r ≤ n, n! = n×(n−1)×...×3×2×1, and 0! = 1.\n",
    "It is not until n = 23, that a value exceeds one-million: $C^{23}_{10}$ = 1144066.\n",
    "\n",
    "How many, not necessarily distinct, values of  $C^{n}_r$, for 1 ≤ n ≤ 100, are greater than one-million?\n"
   ]
  },
  {
   "cell_type": "code",
   "execution_count": 7,
   "metadata": {
    "collapsed": true
   },
   "outputs": [],
   "source": [
    "import matplotlib.pyplot as plt"
   ]
  },
  {
   "cell_type": "code",
   "execution_count": 1,
   "metadata": {
    "collapsed": true
   },
   "outputs": [],
   "source": [
    "import math\n",
    "import numpy as np"
   ]
  },
  {
   "cell_type": "code",
   "execution_count": 44,
   "metadata": {
    "collapsed": true
   },
   "outputs": [],
   "source": [
    "def binom_rec(n,k):\n",
    "    if k ==0:\n",
    "        return 1\n",
    "    return n*binom_rec(n-1,k-1)/k"
   ]
  },
  {
   "cell_type": "code",
   "execution_count": 36,
   "metadata": {
    "collapsed": true
   },
   "outputs": [],
   "source": [
    "def euler_053(y,teto):\n",
    "    ans = 11   # ja contei o de 23 e 24 lmao\n",
    "    for n in range(25,y+1):\n",
    "        lim = (n//2)\n",
    "        for k in range(0,lim):\n",
    "            if binom_rec(n,k) > teto:\n",
    "                ans += 2*(lim - k) + 1\n",
    "                if n%2 == 0:\n",
    "                    ans += 1\n",
    "                break\n",
    "    return ans"
   ]
  },
  {
   "cell_type": "markdown",
   "metadata": {},
   "source": [
    "$C^{23}_{10}$ = $\\frac{23!}{10!13!}$"
   ]
  },
  {
   "cell_type": "code",
   "execution_count": 34,
   "metadata": {},
   "outputs": [
    {
     "data": {
      "text/plain": [
       "4075"
      ]
     },
     "execution_count": 34,
     "metadata": {},
     "output_type": "execute_result"
    }
   ],
   "source": [
    "euler_053(100,1e6)"
   ]
  },
  {
   "cell_type": "code",
   "execution_count": 35,
   "metadata": {},
   "outputs": [
    {
     "name": "stdout",
     "output_type": "stream",
     "text": [
      "1000 loops, best of 3: 621 µs per loop\n"
     ]
    }
   ],
   "source": [
    "%timeit euler_053(100,1e6)"
   ]
  },
  {
   "cell_type": "code",
   "execution_count": 44,
   "metadata": {},
   "outputs": [
    {
     "name": "stdout",
     "output_type": "stream",
     "text": [
      "1000 loops, best of 3: 1.19 ms per loop\n"
     ]
    }
   ],
   "source": [
    "%timeit euler_053(200,10**6)"
   ]
  },
  {
   "cell_type": "code",
   "execution_count": 39,
   "metadata": {
    "collapsed": true
   },
   "outputs": [],
   "source": [
    "def dumb_053(y,teto):\n",
    "    ans = 0\n",
    "    for n in range(1,y+1):\n",
    "        for k in range(1,n):\n",
    "            if binom_rec(n,k) > teto:\n",
    "                ans += 1\n",
    "    return ans "
   ]
  },
  {
   "cell_type": "code",
   "execution_count": 41,
   "metadata": {},
   "outputs": [
    {
     "name": "stdout",
     "output_type": "stream",
     "text": [
      "10 loops, best of 3: 71.2 ms per loop\n"
     ]
    }
   ],
   "source": [
    "%timeit dumb_053(100,1e6)"
   ]
  },
  {
   "cell_type": "code",
   "execution_count": 43,
   "metadata": {},
   "outputs": [
    {
     "name": "stdout",
     "output_type": "stream",
     "text": [
      "1 loop, best of 3: 558 ms per loop\n"
     ]
    }
   ],
   "source": [
    "%timeit dumb_053(200,10**6)"
   ]
  },
  {
   "cell_type": "markdown",
   "metadata": {},
   "source": [
    "as you can see the index where we start should not reset."
   ]
  },
  {
   "cell_type": "code",
   "execution_count": 66,
   "metadata": {
    "collapsed": true
   },
   "outputs": [],
   "source": [
    "def smart_053(y,teto):\n",
    "    ans = 11   # ja contei o de 23 e 24 lmao\n",
    "    i = 1 #starting binomial index ( since binom(x,0) = 1 we can skip that)\n",
    "    for n in range(y,24,-1):\n",
    "        lim = (n//2)\n",
    "        for k in range(i,lim):  #instead of zero we should use a variable i that keeps sliding\n",
    "            #and I shall do it backwards!\n",
    "            if binom_rec(n,k) > teto:\n",
    "                i = k\n",
    "                ans += 2*(lim - k) + 1\n",
    "                if n%2 == 0:\n",
    "                    ans += 1\n",
    "                break\n",
    "    return ans"
   ]
  },
  {
   "cell_type": "code",
   "execution_count": 64,
   "metadata": {},
   "outputs": [
    {
     "data": {
      "text/plain": [
       "4075"
      ]
     },
     "execution_count": 64,
     "metadata": {},
     "output_type": "execute_result"
    }
   ],
   "source": [
    "smart_053(100,1e6)"
   ]
  },
  {
   "cell_type": "code",
   "execution_count": 65,
   "metadata": {},
   "outputs": [
    {
     "name": "stdout",
     "output_type": "stream",
     "text": [
      "1000 loops, best of 3: 249 µs per loop\n"
     ]
    }
   ],
   "source": [
    "%timeit smart_053(100,1e6)"
   ]
  },
  {
   "cell_type": "code",
   "execution_count": null,
   "metadata": {
    "collapsed": true
   },
   "outputs": [],
   "source": [
    "def generate_pascal_triangle(n):\n",
    "    'returns the nth row'\n",
    "    triangle = [[1], [1, 1]]\n",
    "    row = [1, 1] # Starts with the second row and calculate the next\n",
    "    for i in range(2, n):\n",
    "        row =[1]+[sum(column) for column in zip(row[1:], row)]+[1]\n",
    "\n",
    "    return row"
   ]
  }
 ],
 "metadata": {
  "anaconda-cloud": {},
  "kernelspec": {
   "display_name": "Python 3",
   "language": "python",
   "name": "python3"
  },
  "language_info": {
   "codemirror_mode": {
    "name": "ipython",
    "version": 3
   },
   "file_extension": ".py",
   "mimetype": "text/x-python",
   "name": "python",
   "nbconvert_exporter": "python",
   "pygments_lexer": "ipython3",
   "version": "3.6.5"
  }
 },
 "nbformat": 4,
 "nbformat_minor": 2
}
