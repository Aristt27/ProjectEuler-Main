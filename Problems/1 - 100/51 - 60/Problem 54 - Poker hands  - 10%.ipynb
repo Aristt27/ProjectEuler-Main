{
 "cells": [
  {
   "cell_type": "markdown",
   "metadata": {},
   "source": [
    "## Problem 54 - Poker hands  "
   ]
  },
  {
   "cell_type": "markdown",
   "metadata": {},
   "source": [
    "In the card game poker, a hand consists of five cards and are ranked, from lowest to highest, in the following way:  \n",
    "   \n",
    "High Card: Highest value card.  \n",
    "One Pair: Two cards of the same value.  \n",
    "Two Pairs: Two different pairs.  \n",
    "Three of a Kind: Three cards of the same value.  \n",
    "Straight: All cards are consecutive values.  \n",
    "Flush: All cards of the same suit.  \n",
    "Full House: Three of a kind and a pair.  \n",
    "Four of a Kind: Four cards of the same value.  \n",
    "Straight Flush: All cards are consecutive values of same suit.  \n",
    "Royal Flush: Ten, Jack, Queen, King, Ace, in same suit.  \n",
    "  \n",
    "The cards are valued in the order:  \n",
    "\n",
    "2, 3, 4, 5, 6, 7, 8, 9, 10, Jack, Queen, King, Ace.  \n",
    "  \n",
    "If two players have the same ranked hands then the rank made up of the highest value wins; for example, a pair of eights beats a pair of fives (see example 1 below). But if two ranks tie, for example, both players have a pair of queens, then highest cards in each hand are compared (see example 4 below); if the highest cards tie then the next highest cards are compared, and so on.  \n",
    "  \n",
    "Consider the following five hands dealt to two players:  \n",
    "\n",
    "           Hand\t \tPlayer 1\t \tPlayer 2\t \tWinner  \n",
    "            1\t \t5H 5C 6S 7S KD    2C 3S 8S 8D TD    Player 2  \n",
    "                    Pair of Fives     Pair of Eights  \n",
    "\n",
    "            2\t \t5D 8C 9S JS AC    2C 5C 7D 8S QH    Player 1  \n",
    "                    Highest card Ace  Highest card Queen  \n",
    "\n",
    "            3\t \t2D 9C AS AH AC    3D 6D 7D TD QD    Player 2  \n",
    "                    Three Aces        Flush with Diamonds  \n",
    "\n",
    "            4\t \t4D 6S 9H QH QC    3D 6D 7H QD QS    Player 1  \n",
    "                    Pair of Queens    Pair of Queens  \n",
    "                    Highest card Nine Highest card Seven  \n",
    "\n",
    "            5\t \t2H 2D 4C 4D 4S    3C 3D 3S 9S 9D    Player 1  \n",
    "                    Full House        Full House    \n",
    "                    With Three Fours  with Three Threes  \n",
    " \t\n",
    "\n",
    "The file, poker.txt, contains one-thousand random hands dealt to two players. Each line of the file contains ten cards (separated by a single space): the first five are Player 1's cards and the last five are Player 2's cards. You can assume that all hands are valid (no invalid characters or repeated cards), each player's hand is in no specific order, and in each hand there is a clear winner.   \n",
    "\n",
    "How many hands does Player 1 win?  "
   ]
  },
  {
   "cell_type": "markdown",
   "metadata": {},
   "source": [
    "High Card: Highest value card.  [1,..,12]  \n",
    "One Pair: Two cards of the same value. [13,..,24]  \n",
    "Two Pairs: Two different pairs.  \n",
    "Three of a Kind: Three cards of the same value. [25,...46]   \n",
    "Straight: All cards are consecutive values.  \n",
    "Flush: All cards of the same suit.  \n",
    "Full House: Three of a kind and a pair.  \n",
    "Four of a Kind: Four cards of the same value.   \n",
    "Straight Flush: All cards are consecutive values of same suit.  \n",
    "Royal Flush: Ten, Jack, Queen, King, Ace, in same suit.  "
   ]
  },
  {
   "cell_type": "code",
   "execution_count": 81,
   "metadata": {},
   "outputs": [],
   "source": [
    "card_values = {'2':2, '3':3, '4':4, '5':5, '6':6, '7':7, '8':8, '9':9, 'T':10,'J':11,'Q':12,'K':13,'A':14}"
   ]
  },
  {
   "cell_type": "code",
   "execution_count": 82,
   "metadata": {},
   "outputs": [],
   "source": [
    "def hand_value(hand):\n",
    "    'returns a hand value, checks for high cards, pairs, trples and quads'\n",
    "    \n",
    "    values = []\n",
    "    suits  = []\n",
    "    \n",
    "    for card in hand:\n",
    "        \n",
    "        valor = card_values[card[0]]\n",
    "        naipe = card[1]\n",
    "        \n",
    "        if valor in values:\n",
    "            p_card = valor\n",
    "            \n",
    "        suits.append(naipe)\n",
    "        values.append(valor)\n",
    "        \n",
    "    try:\n",
    "        power = values.count(p_card)\n",
    "    except:\n",
    "        power = 0\n",
    "        p_card = max(values)\n",
    "        \n",
    "    return p_card+((power*13) -1)"
   ]
  },
  {
   "cell_type": "code",
   "execution_count": 83,
   "metadata": {},
   "outputs": [],
   "source": [
    "def winner(p1,p2):\n",
    "    'returns 1 if player 1 wins, 0 otherwise'\n",
    "    v1 = hand_value(p1)\n",
    "    v2 = hand_value(p2)\n",
    "    print(v1,v2)\n",
    "    if v1 > v2:\n",
    "        return 1\n",
    "    return 0"
   ]
  },
  {
   "cell_type": "markdown",
   "metadata": {},
   "source": [
    "##### Testing with the Examples"
   ]
  },
  {
   "cell_type": "code",
   "execution_count": 90,
   "metadata": {},
   "outputs": [],
   "source": [
    "hand_1 = ['5H','5C','6S','7S','KD'] # 55\n",
    "hand_2 = ['2C','2S','5S','8D','TD'] # 88"
   ]
  },
  {
   "cell_type": "code",
   "execution_count": 91,
   "metadata": {},
   "outputs": [
    {
     "name": "stdout",
     "output_type": "stream",
     "text": [
      "30 27\n"
     ]
    },
    {
     "data": {
      "text/plain": [
       "1"
      ]
     },
     "execution_count": 91,
     "metadata": {},
     "output_type": "execute_result"
    }
   ],
   "source": [
    "winner(hand_1,hand_2)"
   ]
  },
  {
   "cell_type": "code",
   "execution_count": 86,
   "metadata": {},
   "outputs": [],
   "source": [
    "hand_1 = ['5D','8C','9S','JS','AC']\n",
    "hand_2 = ['2C','5C','7D','8S','QH']"
   ]
  },
  {
   "cell_type": "code",
   "execution_count": 87,
   "metadata": {},
   "outputs": [
    {
     "name": "stdout",
     "output_type": "stream",
     "text": [
      "13 11\n"
     ]
    },
    {
     "data": {
      "text/plain": [
       "1"
      ]
     },
     "execution_count": 87,
     "metadata": {},
     "output_type": "execute_result"
    }
   ],
   "source": [
    "winner(hand_1,hand_2)"
   ]
  },
  {
   "cell_type": "code",
   "execution_count": 88,
   "metadata": {},
   "outputs": [],
   "source": [
    "hand_1 = ['2D','9C','AS','AH','AC']\n",
    "hand_2 = ['3D','6D','7D','TD','QD']"
   ]
  },
  {
   "cell_type": "code",
   "execution_count": 89,
   "metadata": {},
   "outputs": [
    {
     "name": "stdout",
     "output_type": "stream",
     "text": [
      "52 11\n"
     ]
    },
    {
     "data": {
      "text/plain": [
       "1"
      ]
     },
     "execution_count": 89,
     "metadata": {},
     "output_type": "execute_result"
    }
   ],
   "source": [
    "winner(hand_1,hand_2)"
   ]
  }
 ],
 "metadata": {
  "kernelspec": {
   "display_name": "Python 3",
   "language": "python",
   "name": "python3"
  },
  "language_info": {
   "codemirror_mode": {
    "name": "ipython",
    "version": 3
   },
   "file_extension": ".py",
   "mimetype": "text/x-python",
   "name": "python",
   "nbconvert_exporter": "python",
   "pygments_lexer": "ipython3",
   "version": "3.6.5"
  }
 },
 "nbformat": 4,
 "nbformat_minor": 2
}
