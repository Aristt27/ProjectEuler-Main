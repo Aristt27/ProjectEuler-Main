{
 "cells": [
  {
   "cell_type": "markdown",
   "metadata": {},
   "source": [
    "1000-digit Fibonacci number  \n",
    "Problem 25   \n",
    "The Fibonacci sequence is defined by the recurrence relation:  \n",
    "\n",
    "Fn = Fn−1 + Fn−2, where F1 = 1 and F2 = 1.  \n",
    "Hence the first 12 terms will be:  \n",
    "  \n",
    "F1= 1   \n",
    "F2 = 1  \n",
    "F3 = 2  \n",
    "F4 = 3  \n",
    "F5 = 5  \n",
    "F6 = 8  \n",
    "F7 = 13  \n",
    "F8 = 21  \n",
    "F9 = 34  \n",
    "F10 = 55  \n",
    "F11 = 89  \n",
    "F12 = 144  \n",
    "The 12th term, F12, is the first term to contain three digits.  \n",
    "  \n",
    "What is the index of the first term in the Fibonacci sequence to contain 1000 digits?  "
   ]
  },
  {
   "cell_type": "code",
   "execution_count": 32,
   "metadata": {},
   "outputs": [],
   "source": [
    "import matplotlib.pyplot as plt"
   ]
  },
  {
   "cell_type": "code",
   "execution_count": 39,
   "metadata": {},
   "outputs": [],
   "source": [
    "def fibo(n):\n",
    "    a = [1,1]\n",
    "    ks = [1,1]\n",
    "    for i in range(n-2):\n",
    "        b = a[-2]\n",
    "        c = a[-1]\n",
    "        f = b+c\n",
    "        a += [f]\n",
    "        ks += [len(str(b+c))]\n",
    "    return ks"
   ]
  },
  {
   "cell_type": "code",
   "execution_count": 48,
   "metadata": {
    "scrolled": false
   },
   "outputs": [],
   "source": [
    "ts = range(1000)\n",
    "ys = fibo(4784)"
   ]
  },
  {
   "cell_type": "code",
   "execution_count": 49,
   "metadata": {},
   "outputs": [
    {
     "data": {
      "text/plain": [
       "[998, 998, 998, 999, 999, 999, 999, 1000, 1000, 1000]"
      ]
     },
     "execution_count": 49,
     "metadata": {},
     "output_type": "execute_result"
    }
   ],
   "source": [
    "ys[-10:]"
   ]
  },
  {
   "cell_type": "code",
   "execution_count": null,
   "metadata": {},
   "outputs": [],
   "source": []
  }
 ],
 "metadata": {
  "kernelspec": {
   "display_name": "Python 3",
   "language": "python",
   "name": "python3"
  },
  "language_info": {
   "codemirror_mode": {
    "name": "ipython",
    "version": 3
   },
   "file_extension": ".py",
   "mimetype": "text/x-python",
   "name": "python",
   "nbconvert_exporter": "python",
   "pygments_lexer": "ipython3",
   "version": "3.6.5"
  }
 },
 "nbformat": 4,
 "nbformat_minor": 2
}
