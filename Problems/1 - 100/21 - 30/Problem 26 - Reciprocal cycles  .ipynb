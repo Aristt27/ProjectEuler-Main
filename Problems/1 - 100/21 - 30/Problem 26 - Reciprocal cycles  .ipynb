{
 "cells": [
  {
   "cell_type": "markdown",
   "metadata": {},
   "source": [
    "### Reciprocal cycles\n",
    "\n",
    "Problem 26  \n",
    "\n",
    "A unit fraction contains 1 in the numerator. The decimal representation of the unit fractions with denominators 2 to 10 are given:\n",
    "\n",
    "1/2\t= \t0.5  \n",
    "1/3\t= \t0.(3)  \n",
    "1/4\t= \t0.25  \n",
    "1/5\t= \t0.2  \n",
    "1/6\t= \t0.1(6)  \n",
    "1/7\t= \t0.(142857)  \n",
    "1/8\t= \t0.125  \n",
    "1/9\t= \t0.(1)  \n",
    "1/10\t= \t0.1  \n",
    "Where 0.1(6) means 0.166666..., and has a 1-digit recurring cycle. It can be seen that 1/7 has a 6-digit recurring cycle.  \n",
    "  \n",
    "Find the value of d < 1000 for which 1/d contains the longest recurring cycle in its decimal fraction part."
   ]
  },
  {
   "cell_type": "code",
   "execution_count": 34,
   "metadata": {},
   "outputs": [],
   "source": [
    "def units_d(d):\n",
    "    'returns the unit fracs up to d'\n",
    "    l = [format(10000000000000/i, '.17f') for i in range(2,d)]\n",
    "    return l"
   ]
  },
  {
   "cell_type": "code",
   "execution_count": 35,
   "metadata": {},
   "outputs": [],
   "source": [
    "def pe026(d):\n",
    "    l = units_d(1000)\n",
    "    for s in l:\n",
    "        pattern = ''\n",
    "        ç = 0\n",
    "        for letter in s:\n",
    "            pattern += letter"
   ]
  },
  {
   "cell_type": "code",
   "execution_count": 36,
   "metadata": {},
   "outputs": [
    {
     "data": {
      "text/plain": [
       "['5000000000000.00000000000000000',\n",
       " '3333333333333.33349609375000000',\n",
       " '2500000000000.00000000000000000',\n",
       " '2000000000000.00000000000000000',\n",
       " '1666666666666.66674804687500000',\n",
       " '1428571428571.42846679687500000',\n",
       " '1250000000000.00000000000000000',\n",
       " '1111111111111.11108398437500000',\n",
       " '1000000000000.00000000000000000',\n",
       " '909090909090.90905761718750000',\n",
       " '833333333333.33337402343750000',\n",
       " '769230769230.76928710937500000',\n",
       " '714285714285.71423339843750000',\n",
       " '666666666666.66662597656250000',\n",
       " '625000000000.00000000000000000']"
      ]
     },
     "execution_count": 36,
     "metadata": {},
     "output_type": "execute_result"
    }
   ],
   "source": [
    "units_d(17)"
   ]
  },
  {
   "cell_type": "code",
   "execution_count": 32,
   "metadata": {},
   "outputs": [
    {
     "ename": "NameError",
     "evalue": "name 'longfloat' is not defined",
     "output_type": "error",
     "traceback": [
      "\u001b[1;31m---------------------------------------------------------------------------\u001b[0m",
      "\u001b[1;31mNameError\u001b[0m                                 Traceback (most recent call last)",
      "\u001b[1;32m<ipython-input-32-59ec79d64187>\u001b[0m in \u001b[0;36m<module>\u001b[1;34m()\u001b[0m\n\u001b[1;32m----> 1\u001b[1;33m \u001b[0mlongfloat\u001b[0m\u001b[1;33m(\u001b[0m\u001b[0mformat\u001b[0m\u001b[1;33m(\u001b[0m\u001b[1;36m1\u001b[0m\u001b[1;33m/\u001b[0m\u001b[1;36m991\u001b[0m\u001b[1;33m,\u001b[0m \u001b[1;34m'.50f'\u001b[0m\u001b[1;33m)\u001b[0m\u001b[1;33m)\u001b[0m\u001b[1;33m\u001b[0m\u001b[0m\n\u001b[0m",
      "\u001b[1;31mNameError\u001b[0m: name 'longfloat' is not defined"
     ]
    }
   ],
   "source": [
    "longfloat(format(1/991, '.50f'))"
   ]
  },
  {
   "cell_type": "code",
   "execution_count": null,
   "metadata": {},
   "outputs": [],
   "source": []
  }
 ],
 "metadata": {
  "kernelspec": {
   "display_name": "Python 3",
   "language": "python",
   "name": "python3"
  },
  "language_info": {
   "codemirror_mode": {
    "name": "ipython",
    "version": 3
   },
   "file_extension": ".py",
   "mimetype": "text/x-python",
   "name": "python",
   "nbconvert_exporter": "python",
   "pygments_lexer": "ipython3",
   "version": "3.6.5"
  }
 },
 "nbformat": 4,
 "nbformat_minor": 2
}
