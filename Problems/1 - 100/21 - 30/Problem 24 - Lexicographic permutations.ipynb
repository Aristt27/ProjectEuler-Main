{
 "cells": [
  {
   "cell_type": "markdown",
   "metadata": {},
   "source": [
    "### Problem 24 ###\n",
    "\n",
    "A permutation is an ordered arrangement of objects. For example, 3124 is one possible permutation of the digits 1, 2, 3 and 4. If all of the permutations are listed numerically or alphabetically, we call it lexicographic order. The lexicographic permutations of 0, 1 and 2 are:\n",
    "\n",
    "012   021   102   120   201   210\n",
    "\n",
    "What is the millionth lexicographic permutation of the digits 0, 1, 2, 3, 4, 5, 6, 7, 8 and 9?"
   ]
  },
  {
   "cell_type": "code",
   "execution_count": 40,
   "metadata": {},
   "outputs": [],
   "source": [
    "import math"
   ]
  },
  {
   "cell_type": "code",
   "execution_count": 72,
   "metadata": {},
   "outputs": [],
   "source": [
    "g = lambda n: 1 if n ==1 else f(n-1)*n"
   ]
  },
  {
   "cell_type": "code",
   "execution_count": 195,
   "metadata": {},
   "outputs": [],
   "source": [
    "import copy \n",
    "\n",
    "g = lambda n: 1 if n <=1 else f(n-1)*n\n",
    "\n",
    "def nlexperm(n,chars):\n",
    "    l =  copy.deepcopy(chars)\n",
    "    if n == 1:\n",
    "        return l\n",
    "    'returns the nth lexicographic permutation of the digits in the list l'\n",
    "    # i have len(l) - 1 permutations for every l in l starting the sequencnes\n",
    "    q,r = divmod(n,g(len(l)-1))\n",
    "    q = l.pop(q)\n",
    "    ans =  nlexperm(r,l)\n",
    "    ans.insert(0, q)\n",
    "    return ans\n",
    "\n",
    "def dumblexperm(n,chars,ans = []):\n",
    "    'returns the nth lexicographic permitation dumbly'\n",
    "    l = copy.deepcopy(chars)\n",
    "    k = len(l)\n",
    "    if k == 1:\n",
    "        return ans[:-1] + l + [ans[-1]]\n",
    "    if len(ans) == 0:\n",
    "        l.sort()\n",
    "    j = g(k-1)\n",
    "    o = 0\n",
    "    while n > j:\n",
    "        n -= j\n",
    "        o += 1        \n",
    "    ans += [l[o]]\n",
    "    l.remove(ans[-1])\n",
    "    return dumblexperm(n,l,ans)"
   ]
  },
  {
   "cell_type": "code",
   "execution_count": 196,
   "metadata": {},
   "outputs": [
    {
     "name": "stdout",
     "output_type": "stream",
     "text": [
      "The slowest run took 6.90 times longer than the fastest. This could mean that an intermediate result is being cached.\n",
      "3.61 ms ± 2.01 ms per loop (mean ± std. dev. of 7 runs, 1000 loops each)\n"
     ]
    }
   ],
   "source": [
    "%timeit dumblexperm(10**6,chars)"
   ]
  },
  {
   "cell_type": "code",
   "execution_count": 197,
   "metadata": {},
   "outputs": [
    {
     "name": "stdout",
     "output_type": "stream",
     "text": [
      "274 µs ± 57.8 µs per loop (mean ± std. dev. of 7 runs, 1000 loops each)\n"
     ]
    }
   ],
   "source": [
    "%timeit nlexperm(10**6-1,chars)"
   ]
  },
  {
   "cell_type": "code",
   "execution_count": 7,
   "metadata": {},
   "outputs": [
    {
     "data": {
      "text/plain": [
       "array([ 31.,  41.,  51.,  61.,  71.,  81.,  91.])"
      ]
     },
     "execution_count": 7,
     "metadata": {},
     "output_type": "execute_result"
    }
   ],
   "source": [
    "import numpy as np\n",
    "np.linspace(31,91,7)"
   ]
  },
  {
   "cell_type": "code",
   "execution_count": 63,
   "metadata": {},
   "outputs": [],
   "source": [
    "def f(x):\n",
    "    return math.factorial(x)"
   ]
  },
  {
   "cell_type": "code",
   "execution_count": 82,
   "metadata": {},
   "outputs": [
    {
     "data": {
      "text/plain": [
       "[2, 7, 8, 3, 9, 1, 5, 4, 0, 6]"
      ]
     },
     "execution_count": 82,
     "metadata": {},
     "output_type": "execute_result"
    }
   ],
   "source": [
    "nlexperm(10**6-1,list(range(10)))"
   ]
  },
  {
   "cell_type": "code",
   "execution_count": 183,
   "metadata": {},
   "outputs": [
    {
     "name": "stdout",
     "output_type": "stream",
     "text": [
      "['a', 'b', 'c', 'd', 'e', 'f', 'g', 'h', 'i', 'j', 'k', 'l', 'm', 'o', 'p', 'n', 'q'] ['a', 'b', 'c', 'd', 'e', 'f', 'g', 'h', 'i', 'j', 'k', 'l', 'm', 'o', 'p', 'n', 'q']\n",
      "['a', 'b', 'c', 'd', 'e', 'f', 'g', 'h', 'i', 'j', 'k', 'l', 'q', 'm', 'o', 'n', 'p'] ['a', 'b', 'c', 'd', 'e', 'f', 'g', 'h', 'i', 'j', 'k', 'l', 'q', 'm', 'o', 'n', 'p']\n",
      "['a', 'b', 'c', 'd', 'e', 'f', 'g', 'h', 'i', 'j', 'l', 'n', 'm', 'p', 'o', 'k', 'q'] ['a', 'b', 'c', 'd', 'e', 'f', 'g', 'h', 'i', 'j', 'l', 'n', 'm', 'p', 'o', 'k', 'q']\n",
      "['a', 'b', 'c', 'd', 'e', 'f', 'g', 'h', 'i', 'k', 'q', 'p', 'l', 'n', 'm', 'j', 'o'] ['a', 'b', 'c', 'd', 'e', 'f', 'g', 'h', 'i', 'k', 'q', 'p', 'l', 'n', 'm', 'j', 'o']\n",
      "['a', 'b', 'c', 'd', 'e', 'f', 'g', 'h', 'k', 'm', 'p', 'q', 'j', 'n', 'l', 'i', 'o'] ['a', 'b', 'c', 'd', 'e', 'f', 'g', 'h', 'k', 'm', 'p', 'q', 'j', 'n', 'l', 'i', 'o']\n",
      "['a', 'b', 'c', 'd', 'e', 'f', 'g', 'j', 'o', 'p', 'k', 'q', 'i', 'm', 'l', 'h', 'n'] ['a', 'b', 'c', 'd', 'e', 'f', 'g', 'j', 'o', 'p', 'k', 'q', 'i', 'm', 'l', 'h', 'n']\n",
      "['a', 'b', 'c', 'd', 'e', 'f', 'i', 'o', 'm', 'g', 'h', 'q', 'k', 'n', 'l', 'j', 'p'] ['a', 'b', 'c', 'd', 'e', 'f', 'i', 'o', 'm', 'g', 'h', 'q', 'k', 'n', 'l', 'j', 'p']\n",
      "['a', 'b', 'c', 'd', 'e', 'h', 'l', 'm', 'n', 'g', 'i', 'q', 'j', 'o', 'k', 'f', 'p'] ['a', 'b', 'c', 'd', 'e', 'h', 'l', 'm', 'n', 'g', 'i', 'q', 'j', 'o', 'k', 'f', 'p']\n",
      "['a', 'b', 'c', 'd', 'g', 'f', 'e', 'm', 'o', 'l', 'n', 'q', 'i', 'k', 'j', 'h', 'p'] ['a', 'b', 'c', 'd', 'g', 'f', 'e', 'm', 'o', 'l', 'n', 'q', 'i', 'k', 'j', 'h', 'p']\n",
      "['a', 'b', 'c', 'e', 'l', 'p', 'j', 'n', 'g', 'o', 'q', 'm', 'f', 'i', 'h', 'd', 'k'] ['a', 'b', 'c', 'e', 'l', 'p', 'j', 'n', 'g', 'o', 'q', 'm', 'f', 'i', 'h', 'd', 'k']\n",
      "['a', 'b', 'd', 'f', 'c', 'o', 'h', 'j', 'g', 'n', 'p', 'q', 'i', 'l', 'k', 'e', 'm'] ['a', 'b', 'd', 'f', 'c', 'o', 'h', 'j', 'g', 'n', 'p', 'q', 'i', 'l', 'k', 'e', 'm']\n"
     ]
    }
   ],
   "source": [
    "ns = [10**i for i in range(1,7)]\n",
    "chars = [i for i in range(10)]\n",
    "\n",
    "for n in ns:\n",
    "    assert(dumblexperm(n,chars, ans = []) == nlexperm(n-1,chars))\n",
    "\n",
    "\n",
    "ns = [10**i for i in range(1,12)]\n",
    "chars2 = ['a','b','c','d','e','f','g','h','i','j','k','l','m','n','o','p','q']\n",
    "\n",
    "\n",
    "ns = [10**i for i in range(1,12)]\n",
    "chars2 = ['a','b','c','d','e','f','g','h','i','j','k','l','m','n','o','p','q']\n",
    "\n",
    "for n in ns:\n",
    "    print(dumblexperm(n,chars2, ans = []), nlexperm(n-1,chars2))"
   ]
  },
  {
   "cell_type": "code",
   "execution_count": 160,
   "metadata": {},
   "outputs": [
    {
     "name": "stdout",
     "output_type": "stream",
     "text": [
      "10 [0, 1, 2, 3, 4, 5, 7, 8, 6, 9] [0, 1, 2, 3, 4, 5, 7, 8, 6, 9]\n",
      "100 [0, 1, 2, 3, 4, 9, 5, 7, 6, 8] [0, 1, 2, 3, 4, 9, 5, 7, 6, 8]\n",
      "1000 [0, 1, 2, 4, 6, 5, 8, 7, 3, 9] [0, 1, 2, 4, 6, 5, 8, 7, 3, 9]\n",
      "10000 [0, 1, 3, 9, 8, 4, 6, 5, 2, 7] [0, 1, 3, 9, 8, 4, 6, 5, 2, 7]\n",
      "100000 [0, 3, 5, 8, 9, 2, 6, 4, 1, 7] [0, 3, 5, 8, 9, 2, 6, 4, 1, 7]\n",
      "1000000 [2, 7, 8, 3, 9, 1, 5, 4, 0, 6] [2, 7, 8, 3, 9, 1, 5, 4, 0, 6]\n"
     ]
    }
   ],
   "source": [
    "for n in ns:\n",
    "    print(n,dumblexperm(n,chars, ans = []), nlexperm(n-1,chars))"
   ]
  },
  {
   "cell_type": "code",
   "execution_count": 21,
   "metadata": {},
   "outputs": [
    {
     "name": "stdout",
     "output_type": "stream",
     "text": [
      "2.52 µs ± 11.3 ns per loop (mean ± std. dev. of 7 runs, 100000 loops each)\n"
     ]
    }
   ],
   "source": [
    "%timeit nlexperm(3,[0,2,1])"
   ]
  },
  {
   "cell_type": "code",
   "execution_count": 208,
   "metadata": {},
   "outputs": [
    {
     "data": {
      "image/png": "[encoded data removed]",
      "text/plain": [
       "<matplotlib.figure.Figure at 0x7fe6795b6710>"
      ]
     },
     "metadata": {},
     "output_type": "display_data"
    }
   ],
   "source": [
    "from time import clock\n",
    "import matplotlib.pyplot as plt\n",
    "import numpy as np \n",
    "\n",
    "\n",
    "def timer(func,n,chars,dumb=False):\n",
    "    if dumb == True:\n",
    "        t0 = clock()\n",
    "        func(n,chars,[])\n",
    "        t1 = clock()\n",
    "    t0 = clock()\n",
    "    func(n,chars)\n",
    "    t1 = clock()\n",
    "    return t1 - t0\n",
    "\n",
    "times_dumb = []\n",
    "times_isit = []\n",
    "\n",
    "ns = [10**i for i in range(2,8)]\n",
    "chars = [i for i in range(13)]\n",
    "\n",
    "for n in ns:\n",
    "    meaning = []\n",
    "    reason = []\n",
    "    for i in range(16):\n",
    "        for _ in range(19):\n",
    "            s = timer(nlexperm,n-1,chars)\n",
    "            t = timer(dumblexperm,n,chars)\n",
    "            meaning.append(t)\n",
    "            reason.append(s)\n",
    "        tim = sum(meaning[:-4])/15\n",
    "        tom = sum(reason[:-4])/15\n",
    "        times_dumb += [tim]\n",
    "        times_isit += [tom]\n",
    "\n",
    "plt.semilogy(times_dumb,label='Times da funçao recursiva')\n",
    "plt.semilogy(times_isit,label='Times da função menos recursiva')\n",
    "plt.title('Tempos em, função de N')\n",
    "plt.legend(loc=0)\n",
    "plt.show()\n",
    "\n"
   ]
  },
  {
   "cell_type": "code",
   "execution_count": null,
   "metadata": {},
   "outputs": [],
   "source": []
  },
  {
   "cell_type": "code",
   "execution_count": 35,
   "metadata": {},
   "outputs": [
    {
     "data": {
      "text/plain": [
       "[2, 7, 8, 3, 9, 1, 5, 4, 0, 6]"
      ]
     },
     "execution_count": 35,
     "metadata": {},
     "output_type": "execute_result"
    }
   ],
   "source": [
    "dumblexperm(10**6,list(range(10)))"
   ]
  },
  {
   "cell_type": "code",
   "execution_count": null,
   "metadata": {},
   "outputs": [],
   "source": [
    "[2, 7, 8, 3, 9, 1, 5, 4, 0, 6]"
   ]
  },
  {
   "cell_type": "code",
   "execution_count": 169,
   "metadata": {},
   "outputs": [],
   "source": [
    "ns = [10**i for i in range(1,7)]\n",
    "chars = [i for i in range(10)]\n",
    "for n in ns:\n",
    "    assert(dumblexperm(n,chars, ans = []) == nlexperm(n-1,chars))\n",
    "\n",
    "\n",
    "\n",
    "ns = [10**i for i in range(1,12)]\n",
    "chars2 = ['a','b','c','d','e','f','g','h','i','j','k','l','m','n','o','p','q']\n",
    "for n in ns:\n",
    "    assert(dumblexperm(n,chars2, ans = []) == nlexperm(n-1,chars2))\n",
    "    \n",
    "\n"
   ]
  },
  {
   "cell_type": "code",
   "execution_count": null,
   "metadata": {},
   "outputs": [],
   "source": []
  }
 ],
 "metadata": {
  "kernelspec": {
   "display_name": "Python 3",
   "language": "python",
   "name": "python3"
  },
  "language_info": {
   "codemirror_mode": {
    "name": "ipython",
    "version": 3
   },
   "file_extension": ".py",
   "mimetype": "text/x-python",
   "name": "python",
   "nbconvert_exporter": "python",
   "pygments_lexer": "ipython3",
   "version": "3.5.2"
  }
 },
 "nbformat": 4,
 "nbformat_minor": 2
}
