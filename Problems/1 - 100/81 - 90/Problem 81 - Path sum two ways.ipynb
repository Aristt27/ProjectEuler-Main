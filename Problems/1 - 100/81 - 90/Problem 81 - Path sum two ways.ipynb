{
 "cells": [
  {
   "cell_type": "markdown",
   "metadata": {},
   "source": [
    "### Problem 81 \n",
    "###### done wrong\n",
    "In the 5 by 5 matrix below, the minimal path sum from the top left to the bottom right, by only moving to the right and down, is indicated in bold red and is equal to 2427.\n",
    "\n",
    "\n",
    "Find the minimal path sum, in matrix.txt (right click and \"Save Link/Target As...\"), a 31K text file containing a 80 by 80 matrix, from the top left to the bottom right by only moving right and down.\n",
    "\n"
   ]
  },
  {
   "cell_type": "code",
   "execution_count": 1,
   "metadata": {},
   "outputs": [],
   "source": [
    "import numpy as np\n",
    "import copy"
   ]
  },
  {
   "cell_type": "code",
   "execution_count": 4,
   "metadata": {},
   "outputs": [],
   "source": [
    "a = [[131,673,234,103,18],[201,96,342,965,150],[630,803,746,422,111],[537,699,497,121,956],[805,732,524,37,331]]"
   ]
  },
  {
   "cell_type": "code",
   "execution_count": 5,
   "metadata": {},
   "outputs": [
    {
     "data": {
      "text/plain": [
       "[[131, 673, 234, 103, 18],\n",
       " [201, 96, 342, 965, 150],\n",
       " [630, 803, 746, 422, 111],\n",
       " [537, 699, 497, 121, 956],\n",
       " [805, 732, 524, 37, 331]]"
      ]
     },
     "execution_count": 5,
     "metadata": {},
     "output_type": "execute_result"
    }
   ],
   "source": [
    "a"
   ]
  },
  {
   "cell_type": "code",
   "execution_count": 6,
   "metadata": {},
   "outputs": [],
   "source": [
    "def matrix_reader(file):\n",
    "    'matrix.txt -> matrix conversion'\n",
    "    ans = []\n",
    "    with open(file,'r') as f:\n",
    "        ks = (f.readlines())\n",
    "    for k in ks:\n",
    "        iis = []\n",
    "        k = k.split(',')\n",
    "        for ii in k[:]:\n",
    "            iis += [int(ii)]\n",
    "        ans += [iis]\n",
    "    return ans"
   ]
  },
  {
   "cell_type": "code",
   "execution_count": 7,
   "metadata": {},
   "outputs": [],
   "source": [
    "mat = matrix_reader('p081_matrix.txt')"
   ]
  },
  {
   "cell_type": "code",
   "execution_count": 29,
   "metadata": {},
   "outputs": [],
   "source": [
    "def triang_square(matrix):\n",
    "    w = len(matrix)\n",
    "    h = len(matrix[0])\n",
    "    ans = []\n",
    "    bns = []\n",
    "    for p in range(h+w-1):\n",
    "        an = []\n",
    "        bn = []\n",
    "        for q in range(min(p,h-1),max(0,p-w+1)-1,-1):\n",
    "            an += [matrix[p-q][q]]\n",
    "        ans += [an]\n",
    "    for an in ans[w-1:][::-1]:\n",
    "        bns += [an[::-1]]\n",
    "    return ans[:w],bns"
   ]
  },
  {
   "cell_type": "code",
   "execution_count": 23,
   "metadata": {},
   "outputs": [],
   "source": [
    "def pathfinder(t):\n",
    "    'retorna o menor caminho'\n",
    "    u = copy.deepcopy(t)\n",
    "    iis = []\n",
    "    u = u[::-1]\n",
    "    k = len(u)\n",
    "    \n",
    "    for i in range(k+1):\n",
    "        for j in range(k-i-1):\n",
    "            if u[i][j] < u[i][j+1]:\n",
    "                u[i+1][j] += u[i][j]\n",
    "            else:\n",
    "                u[i+1][j] += u[i][j+1]\n",
    "    u = u[::-1]\n",
    "    iis.append(u[0][0])\n",
    "    ans = []\n",
    "    i = 0\n",
    "    while len(iis) < k:\n",
    "        indx = u[i].index(iis[-1])\n",
    "        cand = iis[-1] - min(u[i+1][indx],u[i+1][indx+1])\n",
    "        iis.append(min(u[i+1][indx],u[i+1][indx+1]))\n",
    "        ans.append(cand)\n",
    "        i += 1\n",
    "    missindex = t[-2].index(ans[-1])\n",
    "    if u[-1][missindex] < u[-1][missindex+1]:\n",
    "        ans.append(u[-1][missindex])\n",
    "    else:\n",
    "        ans.append(u[-1][missindex+1])\n",
    "    return ans"
   ]
  },
  {
   "cell_type": "code",
   "execution_count": 46,
   "metadata": {},
   "outputs": [],
   "source": [
    "def euler_81(file):\n",
    "    matrix = matrix_reader(file)\n",
    "    h = len(matrix)\n",
    "    a,b = triang_square(matrix)\n",
    "    l,r = copy.deepcopy(a),copy.deepcopy(b)\n",
    "    for i in range(h):\n",
    "        leastsum = pathfinder(l)\n",
    "        if l[-1].count(leastsum[-1]) == 1:\n",
    "            mis_l = l[-1].index(leastsum[-1]) # the only ptoblem is here\n",
    "            l[-1][mis_l] = sum(leastsum)*77777\n",
    "            \n",
    "        else:\n",
    "            iis = []\n",
    "            ms = copy.deepcopy(l[-1])\n",
    "            err = 0 \n",
    "            for why in range(l[-1].count(leastsum[-1])):\n",
    "                iis += [ms.index(leastsum[-1])+err]\n",
    "                ms = ms[:iis[-1]] + ms[iis[-1]+1:]\n",
    "                err += 1\n",
    "            # iis is now a list of indexes of the occurrence of __NUM__\n",
    "            for ii in iis:\n",
    "                if ii + 1 == l[-2].index(leastsum[-2]) or ii == l[-2].index(leastsum[-2]):\n",
    "                    win = ii\n",
    "                    break\n",
    "            l[-1][win] = sum(leastsum)*77777\n",
    "            \n",
    "                \n",
    "        reastsum = pathfinder(r)\n",
    "        if r[-1].count(reastsum[-1]) == 1:\n",
    "            mis_r = r[-1].index(reastsum[-1]) # and here xd\n",
    "            r[-1][mis_r] = sum(reastsum)*77777\n",
    "            \n",
    "        elif r[-1].count(reastsum[-1]) > 1:\n",
    "            iis = []\n",
    "            ns = copy.deepcopy(r[-1])\n",
    "            err = 0  \n",
    "            for why in range(r[-1].count(reastsum[-1])):\n",
    "                iis += [ns.index(reastsum[-1])+err] \n",
    "                ns = ns[:iis[-1]] + ns[iis[-1]+1:]\n",
    "                err += 1\n",
    "            # iis is now a list of indexes of the occurrence of __NUM__\n",
    "            print(iis)\n",
    "            for ii in iis:\n",
    "                print('iiiiii',ii,r[-2].index(reastsum[-2]))\n",
    "                if ii - 1 == r[-2].index(reastsum[-2]) or ii == r[-2].index(reastsum[-2]):\n",
    "                    win = ii\n",
    "                    print(r[-1],ii)\n",
    "                    break\n",
    "            r[-1][win] = sum(reastsum)*77777\n",
    "    \n",
    "    ansv =  np.array(l[-1]) + np.array(r[-1])\n",
    "    print(ansv/77777 - b[-1])\n",
    "    return min(ansv/77777 - b[-1])"
   ]
  },
  {
   "cell_type": "code",
   "execution_count": 36,
   "metadata": {},
   "outputs": [],
   "source": [
    "def euler_81(file):\n",
    "    matrix = matrix_reader(file)\n",
    "    h = len(matrix)\n",
    "    a,b = triang_square(matrix)\n",
    "    l,r = copy.deepcopy(a),copy.deepcopy(b)\n",
    "    \n",
    "    for i in range(h):\n",
    "        leastsum = pathfinder(l)\n",
    "        mis_l = l[-1].index(leastsum[-1])\n",
    "        l[-1][mis_l] = sum(leastsum)*1000\n",
    "        \n",
    "        reastsum = pathfinder(r)\n",
    "        mis_r = r[-1].index(reastsum[-1])\n",
    "        r[-1][mis_r] = sum(reastsum)*1000\n",
    "        \n",
    "    return int(min((np.array(l[-1]) + np.array(r[-1]))[::-1] -( np.array(a[-1])*1000))/1000)"
   ]
  },
  {
   "cell_type": "code",
   "execution_count": 15,
   "metadata": {},
   "outputs": [],
   "source": [
    "def euler_81_str(matrix):\n",
    "    h = len(matrix)\n",
    "    a,b = triang_square(matrix)\n",
    "    l,r = copy.deepcopy(a),copy.deepcopy(b)\n",
    "    \n",
    "    for i in range(h):\n",
    "        leastsum = pathfinder(l)\n",
    "        mis_l = l[-1].index(leastsum[-1])\n",
    "        l[-1][mis_l] = sum(leastsum)*1000\n",
    "        \n",
    "        reastsum = pathfinder(r)\n",
    "        mis_r = r[-1].index(reastsum[-1])\n",
    "        r[-1][mis_r] = sum(reastsum)*1000\n",
    "        \n",
    "    return int(min((np.array(l[-1]) + np.array(r[-1])) -( np.array(a[-1])*1000))/1000)"
   ]
  },
  {
   "cell_type": "code",
   "execution_count": 30,
   "metadata": {},
   "outputs": [
    {
     "data": {
      "text/plain": [
       "([[131],\n",
       "  [673, 201],\n",
       "  [234, 96, 630],\n",
       "  [103, 342, 803, 537],\n",
       "  [18, 965, 746, 699, 805]],\n",
       " [[331],\n",
       "  [37, 956],\n",
       "  [524, 121, 111],\n",
       "  [732, 497, 422, 150],\n",
       "  [805, 699, 746, 965, 18]])"
      ]
     },
     "execution_count": 30,
     "metadata": {},
     "output_type": "execute_result"
    }
   ],
   "source": [
    "triang_square(a)"
   ]
  },
  {
   "cell_type": "code",
   "execution_count": 31,
   "metadata": {},
   "outputs": [
    {
     "data": {
      "text/plain": [
       "([[131],\n",
       "  [673, 201],\n",
       "  [234, 96, 630],\n",
       "  [103, 342, 803, 537],\n",
       "  [18, 965, 746, 699, 805]],\n",
       " [[331],\n",
       "  [37, 956],\n",
       "  [524, 121, 111],\n",
       "  [732, 497, 422, 150],\n",
       "  [805, 699, 746, 965, 18]])"
      ]
     },
     "execution_count": 31,
     "metadata": {},
     "output_type": "execute_result"
    }
   ],
   "source": [
    "triang_square(a)"
   ]
  },
  {
   "cell_type": "code",
   "execution_count": 32,
   "metadata": {},
   "outputs": [
    {
     "data": {
      "text/plain": [
       "2427"
      ]
     },
     "execution_count": 32,
     "metadata": {},
     "output_type": "execute_result"
    }
   ],
   "source": [
    "euler_81_str(a)"
   ]
  },
  {
   "cell_type": "code",
   "execution_count": 47,
   "metadata": {},
   "outputs": [
    {
     "name": "stdout",
     "output_type": "stream",
     "text": [
      "[41, 76]\n",
      "iiiiii 41 40\n",
      "[5304, 8992, 1763, 4678, 8588, 6294, 3452, 3063, 2274, 5519, 1378, 2487, 6239, 5751, 4662, 8990, 4667, 17306938040, 9931, 7960, 8076, 9245, 9608, 9283, 7857, 8574, 2684, 5008, 3301, 6353, 8004, 9494, 17440092264, 5503, 17440092264, 2075, 7525, 7430, 7216, 17008974353, 16991785636, 8434, 17198750233, 17306938040, 17356170881, 8613, 7270, 2034, 4574, 3272, 6061, 2687, 7444, 6823, 5845, 621, 7843, 9199, 6318, 774, 1391, 4759, 3280, 1646, 7385, 3685, 4412, 7960, 841, 5902, 7565, 5815, 7012, 7474, 1538, 345, 8434, 9515, 9353, 5870] 41\n",
      "[19, 67]\n",
      "iiiiii 19 18\n",
      "[5304, 8992, 1763, 4678, 8588, 6294, 3452, 3063, 2274, 5519, 20210975666, 2487, 6239, 5751, 4662, 8990, 4667, 17306938040, 9931, 7960, 8076, 9245, 9608, 9283, 19287684899, 19343451008, 18737334847, 18918088595, 18639646935, 18474604141, 18603013968, 18532781337, 17440092264, 18379482870, 17440092264, 18001175542, 18976810230, 18001175542, 17734011547, 17008974353, 16991785636, 17440092264, 17198750233, 17306938040, 17356170881, 17833566107, 17729111596, 17953809349, 18589869655, 18488604001, 18718901698, 19103664517, 19473649706, 19302851414, 19226785508, 18923766316, 19485471810, 20044610663, 19555393333, 19124197645, 19556715542, 19818668478, 19958667078, 20099832333, 7385, 3685, 4412, 7960, 841, 5902, 7565, 5815, 7012, 7474, 1538, 345, 8434, 9515, 9353, 5870] 19\n",
      "[ 399854.07547218  399854.12025406  400942.12233694  363564.10843823\n",
      "  347115.00443576  335103.01977448  280481.09609525  319568.09015519\n",
      "  319568.07476503  312695.09726526  258480.07588362  283428.01081297\n",
      "  283428.10234388  270110.05672628  267358.04737905  265456.09495095\n",
      "  483243.          452144.          251898.06118775  482478.          485089.\n",
      "  263246.08123224  490701.          486386.          458301.          461096.\n",
      "  458464.          451769.          438542.          433870.          431081.\n",
      "  433922.          424526.          437466.          438262.          445307.\n",
      "  453084.          443519.          220795.10843823  216482.03432891\n",
      "  439678.          446378.          218530.09552953  215388.09675097\n",
      "  443961.          220678.00064286  449681.          452969.\n",
      "  234441.12206693  462118.          460639.          470336.\n",
      "  242934.06438922  241359.03450892  241359.11023825  242687.10101958\n",
      "  242687.11935405  248520.12353266  245111.11886547  245111.10383532\n",
      "  250055.10234388  250055.12768556  253334.00034715  256783.06000489\n",
      "  265245.11558687  268335.0599406   268335.07394217  280927.08021652\n",
      "  283092.03197603  283092.01771732  284593.07095928  284593.02923744\n",
      "  287497.03938182  294279.0443833   294279.08092367  312668.11041825\n",
      "  318694.06014632  322339.02266737  351911.11561258  400591.06819497]\n"
     ]
    },
    {
     "data": {
      "text/plain": [
       "215388.0967509675"
      ]
     },
     "execution_count": 47,
     "metadata": {},
     "output_type": "execute_result"
    }
   ],
   "source": [
    "euler_81('p081_matrix.txt')"
   ]
  },
  {
   "cell_type": "code",
   "execution_count": 50,
   "metadata": {},
   "outputs": [],
   "source": [
    "def euler_81_4(matrix):\n",
    "    h = len(matrix)\n",
    "    a,b = triang_square(matrix)\n",
    "    l,r = copy.deepcopy(a),copy.deepcopy(b)\n",
    "    for i in range(h):\n",
    "        leastsum = pathfinder(l)\n",
    "        mis_l = l[-1].index(leastsum[-1])\n",
    "        l[-1][mis_l] = sum(leastsum)*777\n",
    "        \n",
    "        reastsum = pathfinder(r)\n",
    "        mis_r = r[-1].index(reastsum[-1])\n",
    "        r[-1][mis_r] = sum(reastsum)*777\n",
    "\n",
    "    ansv =  np.array(l[-1]) + np.array(r[-1])\n",
    "    return ansv/777 - b[-1], min(ansv/777- b[-1])"
   ]
  },
  {
   "cell_type": "code",
   "execution_count": 61,
   "metadata": {},
   "outputs": [],
   "source": [
    "def euler_81_5(file):\n",
    "    matrix = matrix_reader(file)\n",
    "    h = len(matrix)\n",
    "    a,b = triang_square(matrix)\n",
    "    l,r = copy.deepcopy(a),copy.deepcopy(b)\n",
    "    for i in range(h):\n",
    "        leastsum = pathfinder(l)\n",
    "        mis_l = l[-1].index(leastsum[-1])\n",
    "        l[-1][mis_l] = sum(leastsum)*777\n",
    "        \n",
    "        reastsum = pathfinder(r)\n",
    "        mis_r = r[-1].index(reastsum[-1])\n",
    "        r[-1][mis_r] = sum(reastsum)*777\n",
    "\n",
    "    ansv =  np.array(l[-1])[::-1] + np.array(r[-1])\n",
    "    return min(ansv/777- b[-1])"
   ]
  },
  {
   "cell_type": "code",
   "execution_count": 59,
   "metadata": {},
   "outputs": [
    {
     "data": {
      "text/plain": [
       "427337.0"
      ]
     },
     "execution_count": 59,
     "metadata": {},
     "output_type": "execute_result"
    }
   ],
   "source": [
    "euler_81_5('p081_matrix.txt')"
   ]
  },
  {
   "cell_type": "code",
   "execution_count": 62,
   "metadata": {},
   "outputs": [
    {
     "name": "stdout",
     "output_type": "stream",
     "text": [
      "1.41 s ± 7.55 ms per loop (mean ± std. dev. of 7 runs, 1 loop each)\n"
     ]
    }
   ],
   "source": [
    "%timeit euler_81_5('p081_matrix.txt')"
   ]
  }
 ],
 "metadata": {
  "anaconda-cloud": {},
  "kernelspec": {
   "display_name": "Python 3",
   "language": "python",
   "name": "python3"
  },
  "language_info": {
   "codemirror_mode": {
    "name": "ipython",
    "version": 3
   },
   "file_extension": ".py",
   "mimetype": "text/x-python",
   "name": "python",
   "nbconvert_exporter": "python",
   "pygments_lexer": "ipython3",
   "version": "3.5.2"
  }
 },
 "nbformat": 4,
 "nbformat_minor": 2
}
