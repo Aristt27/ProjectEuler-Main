{
 "cells": [
  {
   "cell_type": "code",
   "execution_count": 1,
   "metadata": {},
   "outputs": [],
   "source": [
    "from itertools import *"
   ]
  },
  {
   "cell_type": "code",
   "execution_count": 5,
   "metadata": {},
   "outputs": [],
   "source": [
    "import copy \n",
    "\n",
    "g = lambda n: 1 if n <=1 else g(n-1)*n\n",
    "\n",
    "def nlexperm(n,chars):\n",
    "    l =  copy.deepcopy(chars)\n",
    "    if n == 1:\n",
    "        return l\n",
    "    'returns the nth lexicographic permutation of the digits in the list l'\n",
    "    # i have len(l) - 1 permutations for every l in l starting the sequencnes\n",
    "    q,r = divmod(n,g(len(l)-1))\n",
    "    q = l.pop(q)\n",
    "    ans =  nlexperm(r,l)\n",
    "    ans.insert(0, q)\n",
    "    return ans\n",
    "\n",
    "def circular_permutation(n,chars):\n",
    "    'returns the nth circular permutation'"
   ]
  },
  {
   "cell_type": "code",
   "execution_count": 2,
   "metadata": {},
   "outputs": [],
   "source": [
    "def euler_068():\n",
    "    magic = list(range(1,10))\n",
    "    everything = list(permutations(magic))\n",
    "    for m in everything:\n",
    "        minimal_pentagram = list(m[:5])\n",
    "        maximal_pentagram = list(m[5:])\n",
    "        maxp = maximal_pentagram[:] \n",
    "        for i in range(len(minimal_pentagram)):\n",
    "            summy = []\n",
    "            mini = nlexperm(i+1,minimal_pentagram) #permutação atual\n",
    "            mini += [mini[0]]\n",
    "            for j in range(len(minimal_pentagram)):\n",
    "                summy += [mini[j] + mini[j+1]]\n",
    "            num_sum = min(summy) + 10\n",
    "            summy.remove(num_sum - 10)\n",
    "            counter = 0\n",
    "            for outra_soma in summy:\n",
    "                if num_sum - outra_soma in maxp:\n",
    "                    maxp.remove(num_sum - outra_soma)\n",
    "                    counter += 1\n",
    "                else:\n",
    "                    break\n",
    "            if counter == 4:\n",
    "                return minimal_pentagram,maximal_pentagram\n",
    "            else:\n",
    "                break\n",
    "    return 'fudeu'"
   ]
  },
  {
   "cell_type": "code",
   "execution_count": 6,
   "metadata": {},
   "outputs": [],
   "source": [
    "def euler_068_n(n):\n",
    "    magic = list(range(1,2*n))\n",
    "    everything = list(permutations(magic))\n",
    "    for m in everything:\n",
    "        minimal_ngon = list(m[:n])\n",
    "        maximal_ngon = list(m[n:])\n",
    "        maxp = maximal_ngon[:] \n",
    "        for i in range(len(minimal_ngon)):\n",
    "            summy = []\n",
    "            mini = nlexperm(i+1,minimal_ngon) #permutação atual\n",
    "            mini += [mini[0]]\n",
    "            for j in range(len(minimal_ngon)):\n",
    "                summy += [mini[j] + mini[j+1]]\n",
    "            num_sum = min(summy) + 10\n",
    "            summy.remove(num_sum - 10)\n",
    "            counter = 0\n",
    "            for outra_soma in summy:\n",
    "                if num_sum - outra_soma in maxp:\n",
    "                    maxp.remove(num_sum - outra_soma)\n",
    "                    counter += 1\n",
    "                else:\n",
    "                    break\n",
    "            if counter == (n-1):\n",
    "                return minimal_ngon,maximal_ngon\n",
    "            else:\n",
    "                break\n",
    "    return 'fudeu'"
   ]
  },
  {
   "cell_type": "code",
   "execution_count": 4,
   "metadata": {},
   "outputs": [],
   "source": [
    "import copy \n",
    "\n",
    "g = lambda n: 1 if n <=1 else g(n-1)*n\n",
    "\n",
    "def nlexperm(n,chars):\n",
    "    l =  copy.deepcopy(chars)\n",
    "    if n == 1:\n",
    "        return l\n",
    "    'returns the nth lexicographic permutation of the digits in the list l'\n",
    "    # i have len(l) - 1 permutations for every l in l starting the sequencnes\n",
    "    q,r = divmod(n,g(len(l)-1))\n",
    "    q = l.pop(q)\n",
    "    ans =  nlexperm(r,l)\n",
    "    ans.insert(0, q)\n",
    "    return ans\n",
    "\n",
    "def circular_permutation(n,chars):\n",
    "    'returns the nth circular permutation'"
   ]
  },
  {
   "cell_type": "code",
   "execution_count": 101,
   "metadata": {},
   "outputs": [
    {
     "data": {
      "text/plain": [
       "([1, 3, 5, 2, 4], [6, 7, 8, 9])"
      ]
     },
     "execution_count": 101,
     "metadata": {},
     "output_type": "execute_result"
    }
   ],
   "source": [
    "magic_do()"
   ]
  },
  {
   "cell_type": "code",
   "execution_count": 87,
   "metadata": {
    "collapsed": true
   },
   "outputs": [],
   "source": [
    "# podemos tentar chutar as somas das linhas, visto que ela tem a soma dos de dentro é nom minimo 15"
   ]
  },
  {
   "cell_type": "code",
   "execution_count": 88,
   "metadata": {
    "collapsed": true
   },
   "outputs": [],
   "source": [
    "a = [1,2,4\n",
    "    ]"
   ]
  },
  {
   "cell_type": "code",
   "execution_count": 89,
   "metadata": {},
   "outputs": [
    {
     "data": {
      "text/plain": [
       "True"
      ]
     },
     "execution_count": 89,
     "metadata": {},
     "output_type": "execute_result"
    }
   ],
   "source": [
    "4 in a"
   ]
  },
  {
   "cell_type": "code",
   "execution_count": 90,
   "metadata": {},
   "outputs": [],
   "source": [
    "a = list(permutations([1,2,3]))"
   ]
  },
  {
   "cell_type": "code",
   "execution_count": 91,
   "metadata": {
    "collapsed": true
   },
   "outputs": [],
   "source": [
    "a.sort()"
   ]
  },
  {
   "cell_type": "code",
   "execution_count": 92,
   "metadata": {},
   "outputs": [
    {
     "data": {
      "text/plain": [
       "[(1, 2, 3), (1, 3, 2), (2, 1, 3), (2, 3, 1), (3, 1, 2), (3, 2, 1)]"
      ]
     },
     "execution_count": 92,
     "metadata": {},
     "output_type": "execute_result"
    }
   ],
   "source": [
    "a"
   ]
  },
  {
   "cell_type": "code",
   "execution_count": 93,
   "metadata": {
    "collapsed": true
   },
   "outputs": [],
   "source": [
    "a = list(range(10))"
   ]
  },
  {
   "cell_type": "code",
   "execution_count": 94,
   "metadata": {},
   "outputs": [
    {
     "data": {
      "text/plain": [
       "[0, 1, 2, 3, 4]"
      ]
     },
     "execution_count": 94,
     "metadata": {},
     "output_type": "execute_result"
    }
   ],
   "source": [
    "a[:5]"
   ]
  },
  {
   "cell_type": "code",
   "execution_count": 95,
   "metadata": {},
   "outputs": [
    {
     "data": {
      "text/plain": [
       "[5, 6, 7, 8, 9]"
      ]
     },
     "execution_count": 95,
     "metadata": {},
     "output_type": "execute_result"
    }
   ],
   "source": [
    "a[5:]"
   ]
  },
  {
   "cell_type": "code",
   "execution_count": null,
   "metadata": {
    "collapsed": true
   },
   "outputs": [],
   "source": []
  },
  {
   "cell_type": "code",
   "execution_count": null,
   "metadata": {
    "collapsed": true
   },
   "outputs": [],
   "source": []
  }
 ],
 "metadata": {
  "kernelspec": {
   "display_name": "Python 3",
   "language": "python",
   "name": "python3"
  },
  "language_info": {
   "codemirror_mode": {
    "name": "ipython",
    "version": 3
   },
   "file_extension": ".py",
   "mimetype": "text/x-python",
   "name": "python",
   "nbconvert_exporter": "python",
   "pygments_lexer": "ipython3",
   "version": "3.5.2"
  }
 },
 "nbformat": 4,
 "nbformat_minor": 2
}
