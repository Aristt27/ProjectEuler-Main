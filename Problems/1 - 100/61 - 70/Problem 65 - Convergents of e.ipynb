{
 "cells": [
  {
   "cell_type": "markdown",
   "metadata": {},
   "source": [
    "### Problem 65\n",
    "\n",
    "The square root of 2 can be written as an infinite continued fraction.\n",
    "\n",
    "√2 = \n",
    "The infinite continued fraction can be written, √2 = [1;(2)], (2) indicates that 2 repeats ad infinitum. In a similar way,\n",
    "√23 = [4;(1,3,1,8)].\n",
    "\n",
    "It turns out that the sequence of partial values of continued fractions for square roots provide the best rational approximations.\n",
    "Let us consider the convergents for √2.\n",
    "\n",
    "Hence the sequence of the first ten convergents for √2 are:\n",
    "\n",
    "1, 3/2, 7/5, 17/12, 41/29, 99/70, 239/169, 577/408, 1393/985, 3363/2378, ...\n",
    "What is most surprising is that the important mathematical constant,\n",
    "e = [2; 1,2,1, 1,4,1, 1,6,1 , ... , 1,2k,1, ...].\n",
    "\n",
    "The first ten terms in the sequence of convergents for e are:\n",
    "\n",
    "2, 3, 8/3, 11/4, 19/7, 87/32, 106/39, 193/71, 1264/465, 1457/536, ...\n",
    "The sum of digits in the numerator of the 10th convergent is 1+4+5+7=17.\n",
    "\n",
    "Find the sum of digits in the numerator of the 100th convergent of the continued fraction for e."
   ]
  },
  {
   "cell_type": "code",
   "execution_count": 2,
   "metadata": {},
   "outputs": [
    {
     "ename": "SyntaxError",
     "evalue": "unexpected EOF while parsing (<ipython-input-2-fa179f5036fa>, line 2)",
     "output_type": "error",
     "traceback": [
      "\u001b[1;36m  File \u001b[1;32m\"<ipython-input-2-fa179f5036fa>\"\u001b[1;36m, line \u001b[1;32m2\u001b[0m\n\u001b[1;33m    \u001b[0m\n\u001b[1;37m    ^\u001b[0m\n\u001b[1;31mSyntaxError\u001b[0m\u001b[1;31m:\u001b[0m unexpected EOF while parsing\n"
     ]
    }
   ],
   "source": [
    "def xth_convergent_e(x):"
   ]
  },
  {
   "cell_type": "markdown",
   "metadata": {
    "collapsed": true
   },
   "source": [
    "# exercise\n",
    " prove that<br>\n",
    " $p_n = a_n p_{n-1} + p_{n-2}$ <br>\n",
    " $q_n = a_n q_{n-1} + q_{n-2}$\n",
    "\n",
    "where p/q --> k"
   ]
  },
  {
   "cell_type": "code",
   "execution_count": 13,
   "metadata": {},
   "outputs": [],
   "source": [
    "def gen_list_numb(n):\n",
    "    ans = [2]\n",
    "    for i in range(1,(n+3)//2):\n",
    "        ans += [1,2*i,1]\n",
    "    return ans[:n+1]"
   ]
  },
  {
   "cell_type": "code",
   "execution_count": 14,
   "metadata": {},
   "outputs": [
    {
     "data": {
      "text/plain": [
       "[2, 1, 2]"
      ]
     },
     "execution_count": 14,
     "metadata": {},
     "output_type": "execute_result"
    }
   ],
   "source": [
    "gen_list_numb(2)"
   ]
  },
  {
   "cell_type": "code",
   "execution_count": 15,
   "metadata": {},
   "outputs": [
    {
     "data": {
      "text/plain": [
       "True"
      ]
     },
     "execution_count": 15,
     "metadata": {},
     "output_type": "execute_result"
    }
   ],
   "source": [
    "aa = None\n",
    "not aa"
   ]
  },
  {
   "cell_type": "code",
   "execution_count": 35,
   "metadata": {},
   "outputs": [],
   "source": [
    "def p_gold_rec(n,aas = None):\n",
    "    print(aas)\n",
    "    if not aas:\n",
    "        aas = gen_list_numb(n)\n",
    "    if n == 0:\n",
    "        return aas[0]\n",
    "    if n == 1:\n",
    "        return aas[0] + aas[1]\n",
    "    else:\n",
    "        return (aas[n-1] * p_n_rec(n-1,aas)) + p_n_rec(n-2,aas) "
   ]
  },
  {
   "cell_type": "code",
   "execution_count": 40,
   "metadata": {},
   "outputs": [
    {
     "name": "stdout",
     "output_type": "stream",
     "text": [
      "None\n",
      "[2, 1, 2, 1]\n",
      "[2, 1, 2, 1]\n",
      "[2, 1, 2, 1]\n",
      "[2, 1, 2, 1]\n"
     ]
    },
    {
     "data": {
      "text/plain": [
       "13"
      ]
     },
     "execution_count": 40,
     "metadata": {},
     "output_type": "execute_result"
    }
   ],
   "source": [
    "p_gold_rec(3)"
   ]
  },
  {
   "cell_type": "code",
   "execution_count": 48,
   "metadata": {},
   "outputs": [],
   "source": [
    "def p_n_while(n):\n",
    "    a = gen_list_numb(n)\n",
    "    p = [0]*n\n",
    "    p[0] = a[0]\n",
    "    p[1] = a[0] + a[1]\n",
    "    i = 2\n",
    "    while i < n:\n",
    "        p[i] = a[i]*p[i-1] + p[i-2]; i+=1;\n",
    "    return p[-1]"
   ]
  },
  {
   "cell_type": "code",
   "execution_count": 50,
   "metadata": {},
   "outputs": [
    {
     "data": {
      "text/plain": [
       "6963524437876961749120273824619538346438023188214475670667"
      ]
     },
     "execution_count": 50,
     "metadata": {},
     "output_type": "execute_result"
    }
   ],
   "source": [
    "p_n_while(100)"
   ]
  },
  {
   "cell_type": "code",
   "execution_count": 29,
   "metadata": {},
   "outputs": [],
   "source": [
    "x[1:3] = [-40,-30]"
   ]
  },
  {
   "cell_type": "code",
   "execution_count": 30,
   "metadata": {},
   "outputs": [
    {
     "data": {
      "text/plain": [
       "[1, -40, -30]"
      ]
     },
     "execution_count": 30,
     "metadata": {},
     "output_type": "execute_result"
    }
   ],
   "source": [
    "x"
   ]
  },
  {
   "cell_type": "code",
   "execution_count": 51,
   "metadata": {},
   "outputs": [
    {
     "data": {
      "text/plain": [
       "272"
      ]
     },
     "execution_count": 51,
     "metadata": {},
     "output_type": "execute_result"
    }
   ],
   "source": [
    "sum([int(x) for x in \"6963524437876961749120273824619538346438023188214475670667\"])"
   ]
  },
  {
   "cell_type": "code",
   "execution_count": null,
   "metadata": {},
   "outputs": [],
   "source": []
  }
 ],
 "metadata": {
  "kernelspec": {
   "display_name": "Python 3",
   "language": "python",
   "name": "python3"
  },
  "language_info": {
   "codemirror_mode": {
    "name": "ipython",
    "version": 3
   },
   "file_extension": ".py",
   "mimetype": "text/x-python",
   "name": "python",
   "nbconvert_exporter": "python",
   "pygments_lexer": "ipython3",
   "version": "3.5.2"
  }
 },
 "nbformat": 4,
 "nbformat_minor": 1
}
