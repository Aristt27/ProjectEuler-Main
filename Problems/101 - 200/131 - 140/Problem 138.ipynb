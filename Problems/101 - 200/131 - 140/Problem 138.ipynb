{
 "cells": [
  {
   "cell_type": "markdown",
   "metadata": {},
   "source": [
    "Pythagorean theorem it can be seen that the height of the triangle, h = √(17^2 − 8^2) = 15, which is one less than the base length.  \n",
    "\n",
    "With b = 272 and L = 305, we get h = 273, which is one more than the base length, and this is the second smallest isosceles triangle with the property that h = b ± 1.  \n",
    "\n",
    "Find ∑ L for the twelve smallest isosceles triangles for which h = b ± 1 and b, L are positive integers."
   ]
  },
  {
   "cell_type": "code",
   "execution_count": 3,
   "metadata": {},
   "outputs": [],
   "source": [
    "import numpy as np"
   ]
  },
  {
   "cell_type": "code",
   "execution_count": null,
   "metadata": {},
   "outputs": [],
   "source": [
    "def int_test(k):\n",
    "    "
   ]
  },
  {
   "cell_type": "code",
   "execution_count": 4,
   "metadata": {},
   "outputs": [],
   "source": [
    "def bf138(n):\n",
    "    ans = [17]\n",
    "    j = 0\n",
    "    b = 16\n",
    "    semi_b = 8\n",
    "    while j < n:\n",
    "        b += 2\n",
    "        semi_b += 1\n",
    "        h_1 = b+1\n",
    "        h_2 = b-1\n",
    "        L1  = np.sqrt(semi_b*semi_b + h_1*h_1)\n",
    "        L2  = np.sqrt(semi_b*semi_b + h_2*h_2)\n",
    "        if int_test(L1) == True:\n",
    "            ans += [L1]\n",
    "        if int_test(L2) == True:\n",
    "            ans += [L2]\n",
    "\n",
    "    return ans"
   ]
  },
  {
   "cell_type": "code",
   "execution_count": null,
   "metadata": {},
   "outputs": [],
   "source": []
  }
 ],
 "metadata": {
  "kernelspec": {
   "display_name": "Python 3",
   "language": "python",
   "name": "python3"
  },
  "language_info": {
   "codemirror_mode": {
    "name": "ipython",
    "version": 3
   },
   "file_extension": ".py",
   "mimetype": "text/x-python",
   "name": "python",
   "nbconvert_exporter": "python",
   "pygments_lexer": "ipython3",
   "version": "3.6.5"
  }
 },
 "nbformat": 4,
 "nbformat_minor": 2
}
