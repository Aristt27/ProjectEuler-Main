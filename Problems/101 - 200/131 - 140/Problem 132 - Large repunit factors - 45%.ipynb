{
 "cells": [
  {
   "cell_type": "markdown",
   "metadata": {},
   "source": [
    "#### Problem 132 - Large repunit factors\n",
    "\n",
    "A number consisting entirely of ones is called a repunit. We shall define R(k) to be a repunit of length k.  \n",
    "\n",
    "For example, R(10) = 1111111111 = 11×41×271×9091, and the sum of these prime factors is 9414.  \n",
    "\n",
    "Find the sum of the first forty prime factors of R($10^9$).  "
   ]
  },
  {
   "cell_type": "code",
   "execution_count": 1,
   "metadata": {},
   "outputs": [],
   "source": [
    "def repunit(k):\n",
    "    l = 0\n",
    "    for _ in range(k):\n",
    "        l += 10**_\n",
    "    return l"
   ]
  },
  {
   "cell_type": "code",
   "execution_count": 5,
   "metadata": {},
   "outputs": [
    {
     "name": "stdout",
     "output_type": "stream",
     "text": [
      "1.0\n",
      "10.090909090909092\n",
      "101.0\n",
      "1010.0909090909091\n",
      "10101.0\n",
      "101010.09090909091\n",
      "1010101.0\n",
      "10101010.090909092\n"
     ]
    }
   ],
   "source": [
    "for _ in range(2,10):\n",
    "    print(repunit(_)/11)"
   ]
  },
  {
   "cell_type": "code",
   "execution_count": 8,
   "metadata": {},
   "outputs": [
    {
     "name": "stdout",
     "output_type": "stream",
     "text": [
      "0.2682926829268293\n",
      "2.707317073170732\n",
      "27.097560975609756\n",
      "271.0\n",
      "2710.0243902439024\n",
      "27100.268292682926\n",
      "271002.7073170732\n",
      "2710027.0975609757\n",
      "27100271.0\n",
      "271002710.0243902\n",
      "2710027100.268293\n",
      "27100271002.707317\n",
      "271002710027.09756\n",
      "2710027100271.0\n",
      "27100271002710.023\n",
      "271002710027100.28\n",
      "2710027100271002.5\n",
      "2.7100271002710028e+16\n"
     ]
    }
   ],
   "source": [
    "for _ in range(2,20):\n",
    "    print(repunit(_)/41)"
   ]
  },
  {
   "cell_type": "code",
   "execution_count": null,
   "metadata": {},
   "outputs": [],
   "source": []
  }
 ],
 "metadata": {
  "kernelspec": {
   "display_name": "Python 3",
   "language": "python",
   "name": "python3"
  },
  "language_info": {
   "codemirror_mode": {
    "name": "ipython",
    "version": 3
   },
   "file_extension": ".py",
   "mimetype": "text/x-python",
   "name": "python",
   "nbconvert_exporter": "python",
   "pygments_lexer": "ipython3",
   "version": "3.6.5"
  }
 },
 "nbformat": 4,
 "nbformat_minor": 2
}
