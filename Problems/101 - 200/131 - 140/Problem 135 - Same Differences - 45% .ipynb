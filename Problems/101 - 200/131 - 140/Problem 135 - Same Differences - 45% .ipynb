{
 "cells": [
  {
   "cell_type": "markdown",
   "metadata": {},
   "source": [
    "#### Problem 135 - Same differences\n",
    "  \n",
    "Given the positive integers, x, y, and z, are consecutive terms of an arithmetic progression, the least value of the positive integer, n, for which the equation, $x^2 − y^2 − z^2 = n$, has exactly two solutions is n = 27:  \n",
    "\n",
    "$$ 34^2 − 27^2 − 20^2 = 12^2 − 9^2 − 6^2 = 27$$\n",
    "\n",
    "It turns out that n = 1155 is the least value which has exactly ten solutions.  \n",
    "\n",
    "How many values of n less than one million have exactly ten distinct solutions?  "
   ]
  },
  {
   "cell_type": "markdown",
   "metadata": {},
   "source": [
    "rewriting the expression since x,y,z are consecutive terms of an arithmetic progession:  \n",
    "  $$ (p+r)^{2} - p^{2} - (p-r)^{2} = n,$$  \n",
    "  \n",
    "which is equal to:\n",
    "  $$ p(4r - p) = n $$  \n",
    "  \n",
    "or  \n",
    "  \n",
    "  $$ p^{2} = 4rp - n $$"
   ]
  },
  {
   "cell_type": "code",
   "execution_count": 27,
   "metadata": {},
   "outputs": [],
   "source": [
    "import functools\n",
    "import itertools\n",
    "import operator"
   ]
  },
  {
   "cell_type": "code",
   "execution_count": 28,
   "metadata": {},
   "outputs": [],
   "source": [
    "def prime_generator(n):\n",
    "    \"\"\"\n",
    "    Sieve of Eratosthenes\n",
    "    Create a candidate list within which non-primes will be\n",
    "    marked as None.\n",
    "    \"\"\"    \n",
    "    cand = [i for i in range(3, n + 1, 2)]\n",
    "    end = int(n ** 0.5) // 2\n",
    "\n",
    "    # Loop over candidates (cand), marking out each multiple.\n",
    "    for i in range(end):\n",
    "        if cand[i]:\n",
    "            cand[cand[i] + i::cand[i]] = [None] * (\n",
    "                (n // cand[i]) - (n // (2 * cand[i])) - 1)\n",
    "\n",
    "    # Filter out non-primes and return the list.\n",
    "    return [2] + [i for i in cand if i]"
   ]
  },
  {
   "cell_type": "code",
   "execution_count": 29,
   "metadata": {},
   "outputs": [],
   "source": [
    "primes_list = prime_generator(100000)"
   ]
  },
  {
   "cell_type": "code",
   "execution_count": 35,
   "metadata": {},
   "outputs": [],
   "source": [
    "def how_many_times_divides(n, div):\n",
    "    \"\"\"\n",
    "    >>> list(how_many_times_divides(40, 2))\n",
    "    [2, 2, 2]\n",
    "    \"\"\"\n",
    "    while n > 1:\n",
    "        if n % div != 0:\n",
    "            break\n",
    "        n //= div\n",
    "        yield div\n",
    "        \n",
    "def factorize(n):\n",
    "    \"\"\"\n",
    "    >>> list(factorize(480))\n",
    "    [2, 2, 2, 2, 2, 3, 5]\n",
    "    \"\"\"\n",
    "    for item in primes_list:\n",
    "        if item > n:\n",
    "            break\n",
    "        yield from how_many_times_divides(n, item)"
   ]
  },
  {
   "cell_type": "code",
   "execution_count": 59,
   "metadata": {},
   "outputs": [],
   "source": [
    "def calculate_divisors(n):\n",
    "    prime_multiples_list = list(factorize(n))\n",
    "\n",
    "    \"\"\"\n",
    "    construct unique combinations\n",
    "    A, B, B, C --> A, B, C, AB, AC, BB, BC, ABC, ABB, BBC\n",
    "    \"\"\"\n",
    "    unique_combinations = set()\n",
    "    for i in range(1, len(prime_multiples_list)):\n",
    "        unique_combinations.update(\n",
    "            set(itertools.combinations(prime_multiples_list, i)))\n",
    "\n",
    "    return sorted(functools.reduce(operator.mul, i) for i in unique_combinations)"
   ]
  },
  {
   "cell_type": "code",
   "execution_count": 60,
   "metadata": {},
   "outputs": [
    {
     "name": "stdout",
     "output_type": "stream",
     "text": [
      "[2, 4, 5, 10, 20, 25, 50, 100, 125, 250, 500, 625, 1250, 2500, 3125, 6250]\n"
     ]
    }
   ],
   "source": [
    "calculate_divisors(12500)"
   ]
  },
  {
   "cell_type": "code",
   "execution_count": 72,
   "metadata": {},
   "outputs": [],
   "source": [
    "def divisors(n):\n",
    "    return [1] + calculate_divisors(n) + [n]"
   ]
  },
  {
   "cell_type": "code",
   "execution_count": null,
   "metadata": {},
   "outputs": [],
   "source": [
    "divisors(12500)"
   ]
  },
  {
   "cell_type": "code",
   "execution_count": 89,
   "metadata": {},
   "outputs": [],
   "source": [
    "def pe135_div(n):\n",
    "    ' ineff ;c '\n",
    "    counter = 0\n",
    "    for p in divisors(n):\n",
    "        r = (n/p + p)\n",
    "        if r%4 == 0:  # faster check for integers\n",
    "            if 4*p > r:\n",
    "                counter += 1\n",
    "    return counter"
   ]
  },
  {
   "cell_type": "code",
   "execution_count": 90,
   "metadata": {},
   "outputs": [],
   "source": [
    "def pe135(n):\n",
    "    ' ineff ;c '\n",
    "    counter = 0\n",
    "    for p in range(1,n+1):\n",
    "        if n%p == 0:        # if i can get the divisors of n ......\n",
    "            r = (n/p + p)\n",
    "            if r%4 == 0:  # faster check for integers\n",
    "                if 4*p > r:\n",
    "                    counter += 1\n",
    "    return counter"
   ]
  },
  {
   "cell_type": "code",
   "execution_count": 91,
   "metadata": {},
   "outputs": [],
   "source": [
    "def ans_pe135_div(n):\n",
    "    ans = 0\n",
    "    for _ in range(1,n):\n",
    "        if pe135_div(_) == 10:\n",
    "            ans += 1\n",
    "    return ans"
   ]
  },
  {
   "cell_type": "code",
   "execution_count": 92,
   "metadata": {},
   "outputs": [],
   "source": [
    "def ans_pe135_bf(n):\n",
    "    ans = 0\n",
    "    for _ in range(1,n):\n",
    "        if pe135(_) == 10:\n",
    "            ans += 1\n",
    "    return ans"
   ]
  },
  {
   "cell_type": "code",
   "execution_count": 95,
   "metadata": {},
   "outputs": [
    {
     "name": "stdout",
     "output_type": "stream",
     "text": [
      "107 ms ± 7.01 ms per loop (mean ± std. dev. of 7 runs, 10 loops each)\n"
     ]
    }
   ],
   "source": [
    "%timeit ans_pe135_div(2000)"
   ]
  },
  {
   "cell_type": "code",
   "execution_count": 96,
   "metadata": {},
   "outputs": [
    {
     "name": "stdout",
     "output_type": "stream",
     "text": [
      "109 ms ± 11.1 ms per loop (mean ± std. dev. of 7 runs, 10 loops each)\n"
     ]
    }
   ],
   "source": [
    "%timeit ans_pe135_bf(2000)"
   ]
  },
  {
   "cell_type": "code",
   "execution_count": 97,
   "metadata": {},
   "outputs": [
    {
     "name": "stdout",
     "output_type": "stream",
     "text": [
      "1.89 s ± 117 ms per loop (mean ± std. dev. of 7 runs, 1 loop each)\n"
     ]
    }
   ],
   "source": [
    "%timeit ans_pe135_div(10000)"
   ]
  },
  {
   "cell_type": "code",
   "execution_count": 98,
   "metadata": {},
   "outputs": [
    {
     "name": "stdout",
     "output_type": "stream",
     "text": [
      "2.8 s ± 118 ms per loop (mean ± std. dev. of 7 runs, 1 loop each)\n"
     ]
    }
   ],
   "source": [
    "%timeit ans_pe135_bf(10000)"
   ]
  },
  {
   "cell_type": "code",
   "execution_count": 99,
   "metadata": {},
   "outputs": [
    {
     "name": "stdout",
     "output_type": "stream",
     "text": [
      "7.12 s ± 438 ms per loop (mean ± std. dev. of 7 runs, 1 loop each)\n"
     ]
    }
   ],
   "source": [
    "%timeit ans_pe135_div(20000)"
   ]
  },
  {
   "cell_type": "code",
   "execution_count": 100,
   "metadata": {},
   "outputs": [
    {
     "name": "stdout",
     "output_type": "stream",
     "text": [
      "12.6 s ± 1.66 s per loop (mean ± std. dev. of 7 runs, 1 loop each)\n"
     ]
    }
   ],
   "source": [
    "%timeit ans_pe135_bf(20000)"
   ]
  },
  {
   "cell_type": "code",
   "execution_count": 101,
   "metadata": {},
   "outputs": [
    {
     "data": {
      "text/plain": [
       "4989"
      ]
     },
     "execution_count": 101,
     "metadata": {},
     "output_type": "execute_result"
    }
   ],
   "source": [
    "ans_pe135_div(1000000)"
   ]
  }
 ],
 "metadata": {
  "kernelspec": {
   "display_name": "Python 3",
   "language": "python",
   "name": "python3"
  },
  "language_info": {
   "codemirror_mode": {
    "name": "ipython",
    "version": 3
   },
   "file_extension": ".py",
   "mimetype": "text/x-python",
   "name": "python",
   "nbconvert_exporter": "python",
   "pygments_lexer": "ipython3",
   "version": "3.6.5"
  }
 },
 "nbformat": 4,
 "nbformat_minor": 2
}
