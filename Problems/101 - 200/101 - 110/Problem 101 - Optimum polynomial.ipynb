{
 "cells": [
  {
   "cell_type": "code",
   "execution_count": 2,
   "metadata": {},
   "outputs": [],
   "source": [
    "import numpy as np"
   ]
  },
  {
   "cell_type": "code",
   "execution_count": 15,
   "metadata": {},
   "outputs": [],
   "source": [
    "def OP(k,n):\n",
    "    t = len(k)\n",
    "    if n <= t:\n",
    "        return k[n-1]\n",
    "    else:\n",
    "        ts = range(1,t+1)\n",
    "        return np.polyval(np.polyfit(ts,k,t-1),n)"
   ]
  },
  {
   "cell_type": "code",
   "execution_count": 20,
   "metadata": {},
   "outputs": [
    {
     "data": {
      "text/plain": [
       "343.00000000000045"
      ]
     },
     "execution_count": 20,
     "metadata": {},
     "output_type": "execute_result"
    }
   ],
   "source": [
    "OP([1,8,27,64],7)"
   ]
  },
  {
   "cell_type": "code",
   "execution_count": 74,
   "metadata": {},
   "outputs": [],
   "source": [
    "def ks_gen(l):\n",
    "    ans = []\n",
    "    for x in range(1,l+1):\n",
    "        ks = []\n",
    "        for i in range(11):\n",
    "            ks += [(-1)**i*x**i]\n",
    "        ans += [sum(ks)]\n",
    "    return ans"
   ]
  },
  {
   "cell_type": "code",
   "execution_count": 75,
   "metadata": {},
   "outputs": [],
   "source": [
    "ks = ks_gen(10)"
   ]
  },
  {
   "cell_type": "code",
   "execution_count": 76,
   "metadata": {},
   "outputs": [
    {
     "data": {
      "text/plain": [
       "[1,\n",
       " 683,\n",
       " 44287,\n",
       " 838861,\n",
       " 8138021,\n",
       " 51828151,\n",
       " 247165843,\n",
       " 954437177,\n",
       " 3138105961,\n",
       " 9090909091]"
      ]
     },
     "execution_count": 76,
     "metadata": {},
     "output_type": "execute_result"
    }
   ],
   "source": [
    "ks"
   ]
  },
  {
   "cell_type": "code",
   "execution_count": 39,
   "metadata": {},
   "outputs": [],
   "source": [
    "def un(n):\n",
    "    return sum([(-n)**i for i in range(11)])"
   ]
  },
  {
   "cell_type": "code",
   "execution_count": 106,
   "metadata": {},
   "outputs": [],
   "source": [
    "def fit():\n",
    "    A = [1]\n",
    "    for l in range(2,11):\n",
    "        n  = 2\n",
    "        ks = ks_gen(l)\n",
    "        j  = OP(ks,n)\n",
    "        une = un(n)\n",
    "        while j == une:\n",
    "            n += 1\n",
    "            j  = OP(ks,n)\n",
    "            une = un(n)\n",
    "            if n >= 20:\n",
    "                return 'fuck'\n",
    "        A += [j]\n",
    "    return A"
   ]
  },
  {
   "cell_type": "code",
   "execution_count": 110,
   "metadata": {
    "scrolled": true
   },
   "outputs": [],
   "source": [
    "ans = fit()\n",
    "ans\n",
    "bn = 0\n",
    "for an in ans:\n",
    "    bn += np.round(an)"
   ]
  },
  {
   "cell_type": "code",
   "execution_count": 111,
   "metadata": {},
   "outputs": [
    {
     "data": {
      "text/plain": [
       "37076114526.0"
      ]
     },
     "execution_count": 111,
     "metadata": {},
     "output_type": "execute_result"
    }
   ],
   "source": [
    "bn"
   ]
  }
 ],
 "metadata": {
  "kernelspec": {
   "display_name": "Python 3",
   "language": "python",
   "name": "python3"
  },
  "language_info": {
   "codemirror_mode": {
    "name": "ipython",
    "version": 3
   },
   "file_extension": ".py",
   "mimetype": "text/x-python",
   "name": "python",
   "nbconvert_exporter": "python",
   "pygments_lexer": "ipython3",
   "version": "3.6.5"
  }
 },
 "nbformat": 4,
 "nbformat_minor": 2
}
