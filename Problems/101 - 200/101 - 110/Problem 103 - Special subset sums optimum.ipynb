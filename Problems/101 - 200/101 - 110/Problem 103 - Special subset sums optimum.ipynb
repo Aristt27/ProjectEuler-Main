{
 "cells": [
  {
   "cell_type": "markdown",
   "metadata": {},
   "source": [
    "### Problem 103 ###\n",
    "\n",
    "Let S(A) represent the sum of elements in set A of size n. We shall call it a special sum set if for any two non-empty disjoint subsets, B and C, the following properties are true:\n",
    "\n",
    "S(B) ≠ S(C); that is, sums of subsets cannot be equal. <br>\n",
    "If B contains more elements than C then S(B) > S(C). <br>\n",
    "<br>\n",
    "If S(A) is minimised for a given n, we shall call it an optimum special sum set. The first five optimum special sum sets are given below.\n",
    "\n",
    "n = 1: {1}\n",
    "n = 2: {1, 2}\n",
    "n = 3: {2, 3, 4}\n",
    "n = 4: {3, 5, 6, 7}\n",
    "n = 5: {6, 9, 11, 12, 13}\n",
    "\n",
    "It seems that for a given optimum set, A = {a1, a2, ... , an}, the next optimum set is of the form B = {b, a1+b, a2+b, ... ,an+b}, where b is the \"middle\" element on the previous row.\n",
    "\n",
    "By applying this \"rule\" we would expect the optimum set for n = 6 to be A = {11, 17, 20, 22, 23, 24}, with S(A) = 117. However, this is not the optimum set, as we have merely applied an algorithm to provide a near optimum set. The optimum set for n = 6 is A = {11, 18, 19, 20, 22, 25}, with S(A) = 115 and corresponding set string: 111819202225.\n",
    "\n",
    "Given that A is an optimum special sum set for n = 7, find its set string.\n",
    "\n",
    "NOTE: This problem is related to Problem 105 and Problem 106."
   ]
  },
  {
   "cell_type": "code",
   "execution_count": 1,
   "metadata": {
    "collapsed": true
   },
   "outputs": [],
   "source": [
    "import numpy as np\n",
    "import copy"
   ]
  },
  {
   "cell_type": "code",
   "execution_count": 2,
   "metadata": {},
   "outputs": [],
   "source": [
    "#hm... começamos com uma lista:"
   ]
  },
  {
   "cell_type": "code",
   "execution_count": 3,
   "metadata": {
    "collapsed": true
   },
   "outputs": [],
   "source": [
    "def subconj(list):\n",
    "    'dada uma lista retorna uma lista com as somas das partes(lista) e o numero de caras somados'\n",
    "    root = [[]]\n",
    "    for node in list:\n",
    "        root = root+root[1:]\n",
    "        for j in range(len(root)):\n",
    "            if j > len(root)/2 :\n",
    "                root[j] = root[j] + [node]\n",
    "        root.append([node])\n",
    "    jjs = []\n",
    "    for roo in root:\n",
    "        jjs += [[sum(roo),len(roo)]]\n",
    "    return jjs[1:]"
   ]
  },
  {
   "cell_type": "code",
   "execution_count": 4,
   "metadata": {},
   "outputs": [],
   "source": [
    "def sumtest(A):\n",
    "    'tests if the list A has the proprieties'\n",
    "    tree = subconj(A) # tree é da forma [[1, 1], [3, 2], [2, 1]] onde o segundo denota o numero de elementos somados\n",
    "    n = len(tree)\n",
    "    #note que queremos que cada lista com o segundo indice maior tenha o primeiro maior tambem\n",
    "    for leaf in tree:\n",
    "        for i in range(n):\n",
    "            if leaf[1] > tree[i][1]:\n",
    "                if leaf[0] > tree[i][0]:\n",
    "                    pass\n",
    "                if leaf[0] <= tree[i][0]:\n",
    "                    return 1\n",
    "            if leaf[1] == tree[i][1]:\n",
    "                if leaf[0] == tree[i][0]:\n",
    "                    return 2  # aqui eu aumento o shift level\n",
    "    return 3"
   ]
  },
  {
   "cell_type": "code",
   "execution_count": 5,
   "metadata": {},
   "outputs": [],
   "source": [
    "def sigma(A,level = 0):\n",
    "    'shifts level units of the list by 1'\n",
    "    #i.e. level = 0 shifts the whole list\n",
    "    B = A[:level-1]\n",
    "    for a in A[level:]:\n",
    "        B.append(a+1)\n",
    "    return B"
   ]
  },
  {
   "cell_type": "code",
   "execution_count": 6,
   "metadata": {},
   "outputs": [],
   "source": [
    "def pe103(s):\n",
    "    level = 0\n",
    "    while sumtest(s) < 3:\n",
    "        if sumtest(s) == 2:\n",
    "            print(s)\n",
    "            level+= 1\n",
    "            s = sigma(s,level)\n",
    "        else:\n",
    "            s = sigma(s,level)\n",
    "    return s"
   ]
  },
  {
   "cell_type": "code",
   "execution_count": 7,
   "metadata": {
    "collapsed": true
   },
   "outputs": [],
   "source": [
    "a  = [1,2,3]\n",
    "b  = a [:0]"
   ]
  },
  {
   "cell_type": "code",
   "execution_count": 14,
   "metadata": {},
   "outputs": [],
   "source": [
    "import numpy as np"
   ]
  },
  {
   "cell_type": "code",
   "execution_count": 24,
   "metadata": {
    "collapsed": true
   },
   "outputs": [],
   "source": [
    "def near_optmi(A):\n",
    "    'returns the near optimal list from optimum A'\n",
    "    B = []\n",
    "    k = len(A)\n",
    "    if k % 2 == 0:\n",
    "        nk = int(k/2)\n",
    "    else:\n",
    "        nk = int((k-1)/2)\n",
    "    c = A[nk]\n",
    "    A = np.array(A)\n",
    "    return [c]+ list(A+c)"
   ]
  },
  {
   "cell_type": "code",
   "execution_count": 25,
   "metadata": {
    "collapsed": true
   },
   "outputs": [],
   "source": [
    "A = [11, 18, 19, 20, 22, 25]"
   ]
  },
  {
   "cell_type": "code",
   "execution_count": 35,
   "metadata": {},
   "outputs": [],
   "source": [
    "L = near_optmi(A)"
   ]
  },
  {
   "cell_type": "code",
   "execution_count": 30,
   "metadata": {
    "collapsed": true
   },
   "outputs": [],
   "source": [
    "def sumtest(A):\n",
    "    'tests if the list A has the proprieties'\n",
    "    tree = subconj(A) # tree é da forma [[1, 1], [3, 2], [2, 1]] onde o segundo denota o numero de elementos somados\n",
    "    n = len(tree)\n",
    "    #note que queremos que cada lista com o segundo indice maior tenha o primeiro maior tambem\n",
    "    for leaf in tree:\n",
    "        for i in range(n):\n",
    "            if i != tree.index(leaf):\n",
    "                if leaf[1] > tree[i][1]:\n",
    "                    if leaf[0] > tree[i][0]:\n",
    "                        pass\n",
    "                    if leaf[0] <= tree[i][0]:\n",
    "                        return 0\n",
    "                if leaf[1] == tree[i][1]:\n",
    "                    if leaf[0] == tree[i][0]:\n",
    "                        return 0\n",
    "    return 1"
   ]
  },
  {
   "cell_type": "code",
   "execution_count": 31,
   "metadata": {},
   "outputs": [
    {
     "data": {
      "text/plain": [
       "1"
      ]
     },
     "execution_count": 31,
     "metadata": {},
     "output_type": "execute_result"
    }
   ],
   "source": [
    "sumtest(L)"
   ]
  },
  {
   "cell_type": "code",
   "execution_count": 32,
   "metadata": {
    "collapsed": true
   },
   "outputs": [],
   "source": [
    "import copy"
   ]
  },
  {
   "cell_type": "code",
   "execution_count": 46,
   "metadata": {
    "collapsed": true
   },
   "outputs": [],
   "source": [
    "def flicking(A):\n",
    "    'da um peteleco nos elementos de A em uma ordem qualquer mesmo'\n",
    "    j = 1\n",
    "    while j >  1:\n",
    "        while sumtest(A) == 1:\n",
    "            old_A = copy.deepcopy(A)\n",
    "            elto = A[j]\n",
    "            new_elto = elto - 1\n",
    "            A = A[:-2] + [new_elto] + [45]\n",
    "            print(A)\n",
    "        j -= 1\n",
    "    return old_A"
   ]
  },
  {
   "cell_type": "code",
   "execution_count": 51,
   "metadata": {},
   "outputs": [
    {
     "data": {
      "text/plain": [
       "([20, 31, 38, 39, 40, 42, 45], 255)"
      ]
     },
     "execution_count": 51,
     "metadata": {},
     "output_type": "execute_result"
    }
   ],
   "source": [
    "L , sum(L)"
   ]
  },
  {
   "cell_type": "code",
   "execution_count": 48,
   "metadata": {},
   "outputs": [
    {
     "name": "stdout",
     "output_type": "stream",
     "text": [
      "[20, 31, 38, 39, 40, 41, 45]\n"
     ]
    },
    {
     "data": {
      "text/plain": [
       "[20, 31, 38, 39, 40, 42, 45]"
      ]
     },
     "execution_count": 48,
     "metadata": {},
     "output_type": "execute_result"
    }
   ],
   "source": [
    "flicking(L)"
   ]
  },
  {
   "cell_type": "code",
   "execution_count": 58,
   "metadata": {},
   "outputs": [
    {
     "data": {
      "text/plain": [
       "1"
      ]
     },
     "execution_count": 58,
     "metadata": {},
     "output_type": "execute_result"
    }
   ],
   "source": [
    "k = [20, 31, 38, 39, 40, 42, 45]\n",
    "sumtest(k)"
   ]
  },
  {
   "cell_type": "code",
   "execution_count": 60,
   "metadata": {},
   "outputs": [
    {
     "data": {
      "text/plain": [
       "4096000000"
      ]
     },
     "execution_count": 60,
     "metadata": {},
     "output_type": "execute_result"
    }
   ],
   "source": [
    "40**6"
   ]
  },
  {
   "cell_type": "code",
   "execution_count": 67,
   "metadata": {},
   "outputs": [
    {
     "data": {
      "text/plain": [
       "1.70859375"
      ]
     },
     "execution_count": 67,
     "metadata": {},
     "output_type": "execute_result"
    }
   ],
   "source": [
    "15**7 / 10**8"
   ]
  },
  {
   "cell_type": "code",
   "execution_count": 81,
   "metadata": {},
   "outputs": [
    {
     "name": "stdout",
     "output_type": "stream",
     "text": [
      "[20, 31, 38, 39, 40, 42, 45] 255 love 1\n",
      "[20, 32, 39, 40, 41, 43, 46] 261 love 2\n",
      "[20, 33, 40, 41, 42, 44, 47] 267 love 3\n",
      "[20, 34, 37, 39, 40, 41, 48] 259 love 4\n",
      "[20, 35, 38, 40, 41, 42, 49] 265 love 5\n"
     ]
    }
   ],
   "source": [
    "azul = 0\n",
    "for i in range(30,39): \n",
    "    for j in range(i,42):\n",
    "        for k in range(j,43):\n",
    "            for l in range(k,44):\n",
    "                for m in range(l,45):\n",
    "                    for n in range(m,50):\n",
    "                        A = [20,i,j,k,l,m,n]\n",
    "                        if sumtest(A) == 1:\n",
    "                            azul += 1\n",
    "                            print(A,sum(A),'love ' + str(azul))\n",
    "                            "
   ]
  },
  {
   "cell_type": "code",
   "execution_count": 78,
   "metadata": {},
   "outputs": [
    {
     "data": {
      "text/plain": [
       "[20, 29, 41, 41, 43, 44, 49]"
      ]
     },
     "execution_count": 78,
     "metadata": {},
     "output_type": "execute_result"
    }
   ],
   "source": [
    "from time import clock\n",
    "A"
   ]
  },
  {
   "cell_type": "code",
   "execution_count": null,
   "metadata": {
    "collapsed": true
   },
   "outputs": [],
   "source": [
    "print(clock())"
   ]
  },
  {
   "cell_type": "code",
   "execution_count": 71,
   "metadata": {},
   "outputs": [
    {
     "name": "stdout",
     "output_type": "stream",
     "text": [
      "29 41 41 43 44 49\n"
     ]
    }
   ],
   "source": [
    "print(i,j,k,l,m,n)"
   ]
  },
  {
   "cell_type": "code",
   "execution_count": 77,
   "metadata": {},
   "outputs": [
    {
     "name": "stdout",
     "output_type": "stream",
     "text": [
      "20 29 41 41 43 44 49\n"
     ]
    }
   ],
   "source": [
    "print(20,i,j,k,l,m,n)"
   ]
  },
  {
   "cell_type": "code",
   "execution_count": 76,
   "metadata": {},
   "outputs": [
    {
     "data": {
      "text/plain": [
       "[20, 31, 38, 39, 40, 42, 45]"
      ]
     },
     "execution_count": 76,
     "metadata": {},
     "output_type": "execute_result"
    }
   ],
   "source": [
    "[20, 31, 38, 39, 40, 42, 45]"
   ]
  },
  {
   "cell_type": "code",
   "execution_count": null,
   "metadata": {
    "collapsed": true
   },
   "outputs": [],
   "source": []
  }
 ],
 "metadata": {
  "kernelspec": {
   "display_name": "Python 3",
   "language": "python",
   "name": "python3"
  },
  "language_info": {
   "codemirror_mode": {
    "name": "ipython",
    "version": 3
   },
   "file_extension": ".py",
   "mimetype": "text/x-python",
   "name": "python",
   "nbconvert_exporter": "python",
   "pygments_lexer": "ipython3",
   "version": "3.6.5"
  }
 },
 "nbformat": 4,
 "nbformat_minor": 1
}
