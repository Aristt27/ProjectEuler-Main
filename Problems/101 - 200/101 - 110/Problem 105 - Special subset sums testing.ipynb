{
 "cells": [
  {
   "cell_type": "markdown",
   "metadata": {},
   "source": [
    "### Problem 105 ###\n",
    "\n",
    "Let S(A) represent the sum of elements in set A of size n. We shall call it a special sum set if for any two non-empty disjoint subsets, B and C, the following properties are true:\n",
    "\n",
    "S(B) ≠ S(C); that is, sums of subsets cannot be equal.\n",
    "If B contains more elements than C then S(B) > S(C).\n",
    "For example, {81, 88, 75, 42, 87, 84, 86, 65} is not a special sum set because 65 + 87 + 88 = 75 + 81 + 84, whereas {157, 150, 164, 119, 79, 159, 161, 139, 158} satisfies both rules for all possible subset pair combinations and S(A) = 1286.\n",
    "\n",
    "Using sets.txt (right click and \"Save Link/Target As...\"), a 4K text file with one-hundred sets containing seven to twelve elements (the two examples given above are the first two sets in the file), identify all the special sum sets, A1, A2, ..., Ak, and find the value of S(A1) + S(A2) + ... + S(Ak).\n",
    "\n",
    "NOTE: This problem is related to Problem 103 and Problem 106."
   ]
  },
  {
   "cell_type": "code",
   "execution_count": 77,
   "metadata": {
    "collapsed": true
   },
   "outputs": [],
   "source": [
    "def subconj(list):\n",
    "    'dada uma lista retorna uma lista com as somas das partes(lista) e o numero de caras somados'\n",
    "    root = [[]]\n",
    "    for node in list:\n",
    "        root = root+root[1:]\n",
    "        for j in range(len(root)):\n",
    "            if j > len(root)/2 :\n",
    "                root[j] = root[j] + [node]\n",
    "        root.append([node])\n",
    "    jjs = []\n",
    "    for roo in root:\n",
    "        jjs += [[sum(roo),len(roo)]]\n",
    "    return jjs[1:]\n"
   ]
  },
  {
   "cell_type": "code",
   "execution_count": 95,
   "metadata": {
    "collapsed": true
   },
   "outputs": [],
   "source": [
    "def sumtest(A):\n",
    "    'tests if the list A has the proprieties'\n",
    "    tree = subconj(A) # tree é da forma [[1, 1], [3, 2], [2, 1]] onde o segundo denota o numero de elementos somados\n",
    "    n = len(tree)\n",
    "    #note que queremos que cada lista com o segundo indice maior tenha o primeiro maior tambem\n",
    "    for leaf in tree:\n",
    "        for i in range(n):\n",
    "            if i != tree.index(leaf):\n",
    "                if leaf[1] > tree[i][1]:\n",
    "                    if leaf[0] > tree[i][0]:\n",
    "                        pass\n",
    "                    if leaf[0] <= tree[i][0]:\n",
    "                        return 0\n",
    "                if leaf[1] == tree[i][1]:\n",
    "                    if leaf[0] == tree[i][0]:\n",
    "                        return 0\n",
    "    return sum(A)"
   ]
  },
  {
   "cell_type": "code",
   "execution_count": 96,
   "metadata": {
    "collapsed": false
   },
   "outputs": [],
   "source": [
    "def pe105(file):\n",
    "    iis = []\n",
    "    bs = []\n",
    "    ans = []\n",
    "    gg = []\n",
    "    resposta = 0\n",
    "    with open(file, 'r') as f:\n",
    "        ks = f.readlines()\n",
    "        for k in ks:\n",
    "            iis += k.split('\\n')\n",
    "    while '' in iis:\n",
    "        iis.remove('')\n",
    "    for ii in iis:\n",
    "        bs += [[ii]]\n",
    "    for b in bs:\n",
    "        ans += [b[0].split(',')]\n",
    "    for an in ans:\n",
    "        ll = []\n",
    "        for k in an:\n",
    "            ll += [int(k)]\n",
    "        gg += [ll]\n",
    "    for g in gg:\n",
    "        resposta += sumtest(g)\n",
    "    return resposta"
   ]
  },
  {
   "cell_type": "code",
   "execution_count": null,
   "metadata": {
    "collapsed": false
   },
   "outputs": [],
   "source": [
    "%timeit pe105('p105_sets.txt')"
   ]
  },
  {
   "cell_type": "code",
   "execution_count": 103,
   "metadata": {
    "collapsed": true
   },
   "outputs": [],
   "source": [
    "partial1 = pe105('p1')"
   ]
  },
  {
   "cell_type": "code",
   "execution_count": 104,
   "metadata": {
    "collapsed": true
   },
   "outputs": [],
   "source": [
    "partial2 = pe105('p2')"
   ]
  },
  {
   "cell_type": "code",
   "execution_count": 105,
   "metadata": {
    "collapsed": true
   },
   "outputs": [],
   "source": [
    "partial3 = pe105('p3')"
   ]
  },
  {
   "cell_type": "code",
   "execution_count": 106,
   "metadata": {
    "collapsed": true
   },
   "outputs": [],
   "source": [
    "partial4 = pe105('p4')"
   ]
  },
  {
   "cell_type": "code",
   "execution_count": 107,
   "metadata": {
    "collapsed": true
   },
   "outputs": [],
   "source": [
    "partial5 = pe105('p5')"
   ]
  },
  {
   "cell_type": "code",
   "execution_count": 109,
   "metadata": {
    "collapsed": false
   },
   "outputs": [
    {
     "data": {
      "text/plain": [
       "73702"
      ]
     },
     "execution_count": 109,
     "metadata": {},
     "output_type": "execute_result"
    }
   ],
   "source": [
    "partial1 + partial2 + partial3 + partial4 + partial5"
   ]
  },
  {
   "cell_type": "code",
   "execution_count": 110,
   "metadata": {
    "collapsed": false
   },
   "outputs": [
    {
     "data": {
      "text/plain": [
       "2"
      ]
     },
     "execution_count": 110,
     "metadata": {},
     "output_type": "execute_result"
    }
   ],
   "source": [
    "1+1"
   ]
  }
 ],
 "metadata": {
  "kernelspec": {
   "display_name": "Python [Root]",
   "language": "python",
   "name": "Python [Root]"
  },
  "language_info": {
   "codemirror_mode": {
    "name": "ipython",
    "version": 3
   },
   "file_extension": ".py",
   "mimetype": "text/x-python",
   "name": "python",
   "nbconvert_exporter": "python",
   "pygments_lexer": "ipython3",
   "version": "3.5.2"
  }
 },
 "nbformat": 4,
 "nbformat_minor": 0
}
