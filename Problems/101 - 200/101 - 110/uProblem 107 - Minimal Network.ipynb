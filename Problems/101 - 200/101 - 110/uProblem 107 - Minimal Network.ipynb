{
 "cells": [
  {
   "cell_type": "markdown",
   "metadata": {},
   "source": [
    "### Problem 107 \n",
    "The following undirected network consists of seven vertices and twelve edges with a total weight of 243.\n",
    "\n",
    "\n",
    "The same network can be represented by the matrix below.\n",
    "\n",
    "    \tA\tB\tC\tD\tE\tF\tG\n",
    "    A\t-\t16\t12\t21\t-\t-\t-\n",
    "    B\t16\t-\t-\t17\t20\t-\t-\n",
    "    C\t12\t-\t-\t28\t-\t31\t-\n",
    "    D\t21\t17\t28\t-\t18\t19\t23\n",
    "    E\t-\t20\t-\t18\t-\t-\t11\n",
    "    F\t-\t-\t31\t19\t-\t-\t27\n",
    "    G\t-\t-\t-\t23\t11\t27\t-  \n",
    "  </br>\n",
    "However, it is possible to optimise the network by removing some edges and still ensure that all points on the network remain connected. The network which achieves the maximum saving is shown below. It has a weight of 93, representing a saving of 243 − 93 = 150 from the original network.\n",
    "\n",
    "\n",
    "Using network.txt (right click and 'Save Link/Target As...'), a 6K text file containing a network with forty vertices, and given in matrix form, find the maximum saving which can be achieved by removing redundant edges whilst ensuring that the network remains connected.\n",
    "\n"
   ]
  },
  {
   "cell_type": "code",
   "execution_count": 19,
   "metadata": {},
   "outputs": [],
   "source": [
    "def matrix_reader(file):\n",
    "    ans = []\n",
    "    with open(file,'r') as f:\n",
    "        ks = f.readlines()\n",
    "        for k in ks:\n",
    "            a = []\n",
    "            for ii in k[:-1]:\n",
    "                if ii not in ',':\n",
    "                    a.append(ii)\n",
    "            ans += [a]\n",
    "    return ans"
   ]
  },
  {
   "cell_type": "code",
   "execution_count": 1,
   "metadata": {},
   "outputs": [],
   "source": [
    "example_matrix  = [['-','16','12','-'],['16','-','13','9'],['12','13','-','3'],['-','9','3','-']]"
   ]
  },
  {
   "cell_type": "code",
   "execution_count": null,
   "metadata": {},
   "outputs": [],
   "source": [
    "def little_problem(matrix):\n",
    "    nodes = len(matrix)\n",
    "    graph = []\n",
    "    for i in matrix:\n",
    "        a =[]\n",
    "        for j in i[::-1]:\n",
    "            if int(j+'1') > 0:\n",
    "                k = i.index(j)\n",
    "                weight = [j]\n",
    "                graph\n",
    "                \n",
    "            \n",
    "    "
   ]
  },
  {
   "cell_type": "code",
   "execution_count": 20,
   "metadata": {},
   "outputs": [
    {
     "name": "stdout",
     "output_type": "stream",
     "text": [
      "[['-', '-', '-', '4', '2', '7', '6', '6', '8', '4', '9', '5', '3', '7', '7', '6', '7', '8', '-', '1', '7', '7', '-', '-', '8', '7', '0', '-', '8', '6', '9', '6', '2', '4', '3', '0', '0', '6', '0', '9', '1', '3', '1', '-', '2', '5', '1', '-', '-', '-', '8', '5', '6', '2', '2', '1', '5', '1', '4', '-', '5', '9', '1', '7', '6', '2', '1', '8', '2', '5', '6', '-', '8', '8', '4', '4', '1', '2', '2', '7', '3', '6', '3', '6', '-', '-', '7', '7', '4'], ['-', '-', '2', '6', '2', '-', '-', '5', '0', '8', '4', '7', '2', '7', '9', '9', '-', '9', '5', '6', '5', '7', '8', '3', '6', '3', '9', '4', '0', '1', '4', '3', '-', '1', '6', '2', '1', '2', '2', '9', '1', '0', '-', '7', '2', '9', '8', '0', '2', '9', '4', '1', '9', '2', '2', '5', '7', '3', '5', '3', '1', '5', '3', '9', '6', '6', '7', '6', '0', '7', '-', '9', '2', '0', '-', '-', '3', '1', '5', '6', '4', '9', '9', '3', '7', '-', '1', '8', '5', '1', '0', '2', '6', '3', '6', '2', '8', '9'], ['-', '2', '6', '2', '-', '-', '9', '2', '6', '-', '9', '5', '8', '1', '5', '8', '6', '4', '7', '4', '7', '6', '2', '1', '2', '6', '4', '8', '1', '-', '4', '0', '2', '8', '1', '3', '6', '4', '9', '3', '8', '6', '2', '5', '2', '3', '9', '1', '2', '6', '4', '6', '3', '7', '3', '4', '9', '-', '-', '-', '1', '0', '8', '-', '7', '2', '7', '2', '2', '5', '5', '7', '8', '6', '9', '9', '-', '8', '9', '8', '2', '9', '4', '-', '5', '7', '5', '1', '6', '8', '4', '3', '2', '8', '3', '3'], ['4', '2', '7', '-', '-', '-', '3', '6', '6', '-', '-', '6', '3', '5', '-', '3', '2', '9', '6', '2', '4', '6', '8', '8', '9', '3', '8', '5', '4', '7', '1', '8', '4', '2', '7', '4', '4', '8', '9', '1', '6', '2', '5', '8', '-', '7', '6', '0', '9', '0', '9', '5', '2', '9', '3', '1', '1', '4', '0', '4', '-', '-', '5', '8', '8', '6', '8', '0', '8', '7', '5', '-', '6', '1', '5', '-', '4', '0', '9', '7', '5', '8', '2', '2', '1', '-', '-', '7', '6', '2', '5', '7'], ['6', '6', '8', '-', '9', '2', '6', '3', '6', '6', '-', '-', '-', '2', '5', '0', '2', '6', '8', '-', '5', '0', '3', '9', '4', '4', '-', '6', '7', '7', '-', '7', '2', '7', '7', '9', '3', '4', '5', '7', '9', '8', '1', '1', '9', '1', '-', '-', '-', '3', '5', '1', '9', '6', '9', '9', '2', '5', '9', '8', '7', '3', '2', '8', '2', '8', '2', '5', '8', '9', '-', '8', '7', '3', '4', '7', '7', '-', '-', '1', '9', '4', '5', '0', '-', '-', '-'], ['4', '9', '5', '5', '0', '8', '-', '-', '-', '-', '-', '7', '6', '5', '7', '1', '1', '8', '1', '9', '3', '0', '5', '3', '0', '2', '9', '2', '6', '-', '-', '5', '8', '2', '-', '8', '6', '1', '-', '6', '8', '3', '2', '9', '3', '-', '-', '6', '6', '-', '2', '7', '-', '-', '2', '9', '0', '-', '7', '8', '6', '-', '5', '5', '4', '8', '1', '7', '3', '3', '-', '5', '4', '5', '0', '6', '3', '8', '6', '3', '8', '1'], ['3', '7', '7', '4', '7', '2', '9', '5', '8', '-', '-', '-', '-', '-', '-', '1', '2', '0', '4', '2', '-', '1', '3', '4', '2', '1', '9', '4', '5', '7', '6', '3', '9', '5', '3', '8', '3', '7', '4', '-', '-', '-', '9', '6', '6', '-', '-', '-', '-', '-', '4', '4', '9', '1', '2', '0', '7', '9', '7', '3', '5', '8', '2', '3', '2', '5', '5', '0', '-', '3', '0', '5', '9', '9', '7', '6', '6', '2', '7', '4', '4', '6', '8', '6', '2', '3', '9']]\n"
     ]
    }
   ],
   "source": [
    "print(matrix_reader('p107_network.txt')[0:7])"
   ]
  },
  {
   "cell_type": "code",
   "execution_count": 4,
   "metadata": {},
   "outputs": [
    {
     "data": {
      "text/plain": [
       "-1"
      ]
     },
     "execution_count": 4,
     "metadata": {},
     "output_type": "execute_result"
    }
   ],
   "source": [
    "int('-'+'1')"
   ]
  },
  {
   "cell_type": "code",
   "execution_count": null,
   "metadata": {},
   "outputs": [],
   "source": []
  }
 ],
 "metadata": {
  "kernelspec": {
   "display_name": "Python 3",
   "language": "python",
   "name": "python3"
  },
  "language_info": {
   "codemirror_mode": {
    "name": "ipython",
    "version": 3
   },
   "file_extension": ".py",
   "mimetype": "text/x-python",
   "name": "python",
   "nbconvert_exporter": "python",
   "pygments_lexer": "ipython3",
   "version": "3.6.5"
  }
 },
 "nbformat": 4,
 "nbformat_minor": 2
}
