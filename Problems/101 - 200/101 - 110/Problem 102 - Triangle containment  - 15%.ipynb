{
 "cells": [
  {
   "cell_type": "markdown",
   "metadata": {},
   "source": [
    "## Triangle containment \n",
    "Problem 102\n",
    "\n",
    "Three distinct points are plotted at random on a Cartesian plane, for which -1000 ≤ x, y ≤ 1000, such that a triangle is formed.  \n",
    "\n",
    "Consider the following two triangles:  \n",
    "\n",
    "A(-340,495), B(-153,-910), C(835,-947)  \n",
    "\n",
    "X(-175,41), Y(-421,-714), Z(574,-645)  \n",
    "\n",
    "It can be verified that triangle ABC contains the origin, whereas triangle XYZ does not.  \n",
    "\n",
    "Using triangles.txt (right click and 'Save Link/Target As...'), a 27K text file containing the co-ordinates of one thousand   \"random\" triangles, find the number of triangles for which the interior contains the origin.  \n",
    "\n",
    "NOTE: The first two examples in the file represent the triangles in the example given above.  "
   ]
  },
  {
   "cell_type": "code",
   "execution_count": 7,
   "metadata": {},
   "outputs": [],
   "source": [
    "import numpy as np"
   ]
  },
  {
   "cell_type": "code",
   "execution_count": 34,
   "metadata": {},
   "outputs": [],
   "source": [
    "Tri_ABC = [(-340,495),(-153,-910),(835,-947)]\n",
    "Tri_XYZ = [(-175,41),(-421,-714),(574,-645)]\n",
    "\n",
    "A,B,C = Tri_ABC\n",
    "x,y,z = Tri_XYZ\n",
    "\n",
    "zero  = np.array([0,0])\n",
    "\n",
    "z_a = np.array(list(A))\n",
    "z_b = np.array(list(B))\n",
    "z_c = np.array(list(C))\n",
    "\n",
    "ab    = z_b - z_a\n",
    "bc    = z_c - z_b\n",
    "ca    = z_a - z_c\n",
    "\n",
    "z_x = np.array(list(x))\n",
    "z_y = np.array(list(y))\n",
    "z_z = np.array(list(z))\n",
    "\n",
    "xy    = z_y - z_x\n",
    "yz    = z_z - z_y\n",
    "zx    = z_x - z_z\n"
   ]
  },
  {
   "cell_type": "code",
   "execution_count": 33,
   "metadata": {},
   "outputs": [
    {
     "data": {
      "text/plain": [
       "(-759055,\n",
       " -354235,\n",
       " 1113290,\n",
       " 'a',\n",
       " 1249939,\n",
       " -117494,\n",
       " -1132445,\n",
       " 'b',\n",
       " 1486680,\n",
       " 860019,\n",
       " -2346699,\n",
       " 'c')"
      ]
     },
     "execution_count": 33,
     "metadata": {},
     "output_type": "execute_result"
    }
   ],
   "source": [
    "z_a@ab,z_a@bc,z_a@ca,'a',z_b@ab,z_b@bc,z_b@ca,'b',z_c@ab,z_c@bc,z_c@ca,'c'"
   ]
  },
  {
   "cell_type": "code",
   "execution_count": 35,
   "metadata": {},
   "outputs": [
    {
     "data": {
      "text/plain": [
       "(12095,\n",
       " -171296,\n",
       " 159201,\n",
       " 'x',\n",
       " 642636,\n",
       " -468161,\n",
       " -174475,\n",
       " 'y',\n",
       " 345771,\n",
       " 526625,\n",
       " -872396,\n",
       " 'z')"
      ]
     },
     "execution_count": 35,
     "metadata": {},
     "output_type": "execute_result"
    }
   ],
   "source": [
    "z_x@xy,z_x@yz,z_x@zx,'x',z_y@xy,z_y@yz,z_y@zx,'y',z_z@xy,z_z@yz,z_z@zx,'z'"
   ]
  },
  {
   "cell_type": "code",
   "execution_count": 22,
   "metadata": {},
   "outputs": [
    {
     "data": {
      "text/plain": [
       "0"
      ]
     },
     "execution_count": 22,
     "metadata": {},
     "output_type": "execute_result"
    }
   ],
   "source": [
    "np.dot(z_c,zero)"
   ]
  },
  {
   "cell_type": "code",
   "execution_count": 28,
   "metadata": {},
   "outputs": [],
   "source": [
    "def origin_test(Triangle):\n",
    "    'returns if the triangle contains the origin using the @ operator'\n",
    "    A,B,C = Tri_ABC\n",
    "    \n",
    "    z_a = np.array(list(A))\n",
    "    z_b = np.array(list(B))\n",
    "    z_c = np.array(list(C))\n",
    "    \n",
    "    ab    = z_b - z_a\n",
    "    bc    = z_c - z_b\n",
    "    ca    = z_a - z_c\n",
    "    \n",
    "    if z_a@ca >= 0 and z_b@ab>= 0 and z_c@bc >= 0:\n",
    "        \n",
    "        return True\n",
    "    else:\n",
    "        return False"
   ]
  },
  {
   "cell_type": "code",
   "execution_count": 29,
   "metadata": {},
   "outputs": [
    {
     "data": {
      "text/plain": [
       "True"
      ]
     },
     "execution_count": 29,
     "metadata": {},
     "output_type": "execute_result"
    }
   ],
   "source": [
    "origin_test(Tri_ABC)"
   ]
  },
  {
   "cell_type": "code",
   "execution_count": 30,
   "metadata": {},
   "outputs": [
    {
     "data": {
      "text/plain": [
       "True"
      ]
     },
     "execution_count": 30,
     "metadata": {},
     "output_type": "execute_result"
    }
   ],
   "source": [
    "origin_test(Tri_XYZ)"
   ]
  }
 ],
 "metadata": {
  "kernelspec": {
   "display_name": "Python 3",
   "language": "python",
   "name": "python3"
  },
  "language_info": {
   "codemirror_mode": {
    "name": "ipython",
    "version": 3
   },
   "file_extension": ".py",
   "mimetype": "text/x-python",
   "name": "python",
   "nbconvert_exporter": "python",
   "pygments_lexer": "ipython3",
   "version": "3.6.5"
  }
 },
 "nbformat": 4,
 "nbformat_minor": 2
}
