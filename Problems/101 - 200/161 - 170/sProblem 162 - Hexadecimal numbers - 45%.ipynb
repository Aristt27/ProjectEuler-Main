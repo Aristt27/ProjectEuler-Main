{
 "cells": [
  {
   "cell_type": "markdown",
   "metadata": {},
   "source": [
    "### Hexadecimal numbers"
   ]
  },
  {
   "cell_type": "markdown",
   "metadata": {},
   "source": [
    "In the hexadecimal number system numbers are represented using 16 different digits:  \n",
    "\n",
    "$$ 0,1,2,3,4,5,6,7,8,9,A,B,C,D,E,F $$\n",
    "  \n",
    "The hexadecimal number AF when written in the decimal number system equals 10x16+15=175.\n",
    "\n",
    "In the 3-digit hexadecimal numbers 10A, 1A0, A10, and A01 the digits 0,1 and A are all present.\n",
    "Like numbers written in base ten we write hexadecimal numbers without leading zeroes.\n",
    "\n",
    "#### How many hexadecimal numbers containing at most sixteen hexadecimal digits exist with all of the digits 0,1, and A present at least once?\n",
    "Give your answer as a hexadecimal number.\n",
    "\n",
    "(A,B,C,D,E and F in upper case, without any leading or trailing code that marks the number as hexadecimal and without leading zeroes , e.g. 1A3F and not: 1a3f and not 0x1a3f and not $1A3F and not #1A3F and not 0000001A3F)"
   ]
  },
  {
   "cell_type": "code",
   "execution_count": 44,
   "metadata": {},
   "outputs": [],
   "source": [
    "# total - cntrary condition: how many hex numbers exists containing at most sixteen digits without 0,1,A"
   ]
  },
  {
   "cell_type": "code",
   "execution_count": 45,
   "metadata": {},
   "outputs": [],
   "source": [
    "import numpy as np"
   ]
  },
  {
   "cell_type": "code",
   "execution_count": 46,
   "metadata": {},
   "outputs": [],
   "source": [
    "def Combinatoric_Solution(): \n",
    "    #boring\n",
    "    return ans"
   ]
  },
  {
   "cell_type": "code",
   "execution_count": 47,
   "metadata": {},
   "outputs": [],
   "source": [
    "def check_if_base(hex_num,base,index):\n",
    "    if hex_num[index] == base:\n",
    "        hex_num[index-1] += 1\n",
    "        hex_num[index] = 0\n",
    "    return hex_num"
   ]
  },
  {
   "cell_type": "code",
   "execution_count": 100,
   "metadata": {},
   "outputs": [],
   "source": [
    "def pe162bf(n,lenght=16,base=16):\n",
    "    #dumb\n",
    "    \n",
    "    counter = 0\n",
    "    \n",
    "    A = 10\n",
    "    \n",
    "    hex_num = np.zeros(lenght)\n",
    "    \n",
    "    for i in range(16**n):\n",
    "        hex_num[-1] += 1\n",
    "        \n",
    "        for k in range(lenght)[::-1]:\n",
    "            hex_num = check_if_base(hex_num,base,k)\n",
    "        \n",
    "        count_a,count_1,count_0 = 0,0,0\n",
    "        \n",
    "        #leading zeroes fix\n",
    "        if hex_num[0] != 0:\n",
    "            \n",
    "            for num in hex_num[1:]:\n",
    "\n",
    "                if num == A:\n",
    "                    count_a += 1\n",
    "                if num == 0:\n",
    "                    count_0 += 1\n",
    "                if num == 1:\n",
    "                    count_1 += 1\n",
    "\n",
    "            if count_a * count_0 * count_1 >= 1:\n",
    "                counter += 1\n",
    "\n",
    "    return counter,hex_num"
   ]
  },
  {
   "cell_type": "code",
   "execution_count": 101,
   "metadata": {},
   "outputs": [
    {
     "name": "stdout",
     "output_type": "stream",
     "text": [
      "16 ms ± 26.5 µs per loop (mean ± std. dev. of 7 runs, 100 loops each)\n"
     ]
    }
   ],
   "source": [
    "%timeit pe162bf(3,3)"
   ]
  },
  {
   "cell_type": "code",
   "execution_count": 102,
   "metadata": {},
   "outputs": [
    {
     "name": "stdout",
     "output_type": "stream",
     "text": [
      "307 ms ± 883 µs per loop (mean ± std. dev. of 7 runs, 1 loop each)\n"
     ]
    }
   ],
   "source": [
    "%timeit pe162bf(4,4)"
   ]
  },
  {
   "cell_type": "code",
   "execution_count": 103,
   "metadata": {},
   "outputs": [
    {
     "name": "stdout",
     "output_type": "stream",
     "text": [
      "5.78 s ± 46.2 ms per loop (mean ± std. dev. of 7 runs, 1 loop each)\n"
     ]
    }
   ],
   "source": [
    "%timeit pe162bf(5,5)"
   ]
  },
  {
   "cell_type": "code",
   "execution_count": 104,
   "metadata": {},
   "outputs": [
    {
     "name": "stdout",
     "output_type": "stream",
     "text": [
      "The slowest run took 14.20 times longer than the fastest. This could mean that an intermediate result is being cached.\n",
      "5min 4s ± 8min 6s per loop (mean ± std. dev. of 7 runs, 1 loop each)\n"
     ]
    }
   ],
   "source": [
    "%timeit pe162bf(6,6)"
   ]
  },
  {
   "cell_type": "code",
   "execution_count": 98,
   "metadata": {},
   "outputs": [
    {
     "name": "stdout",
     "output_type": "stream",
     "text": [
      "(0, array([0., 1.]))\n",
      "(4, array([0., 0., 1.]))\n",
      "(258, array([0., 0., 0., 1.]))\n",
      "(9928, array([0., 0., 0., 0., 1.]))\n"
     ]
    }
   ],
   "source": [
    "for _ in range(2,6):\n",
    "    print(pe162bf(_,_))"
   ]
  },
  {
   "cell_type": "code",
   "execution_count": 95,
   "metadata": {},
   "outputs": [
    {
     "name": "stdout",
     "output_type": "stream",
     "text": [
      "Wall time: 1min 55s\n"
     ]
    },
    {
     "data": {
      "text/plain": [
       "299490"
      ]
     },
     "execution_count": 95,
     "metadata": {},
     "output_type": "execute_result"
    }
   ],
   "source": [
    "%time pe162bf(6,6)"
   ]
  },
  {
   "cell_type": "code",
   "execution_count": 96,
   "metadata": {},
   "outputs": [],
   "source": [
    "# 16**3 = 0.019 s\n",
    "# 16**4 = 0.333 s\n",
    "# 16**5 = 6.100 s\n",
    "# 16**6 = 1 min 55 s \n",
    "# 16**7 = 40min\n",
    "# 16**8 = 800 min\n",
    "# 16**9 = 16000 min ( 1 day + sth )\n",
    "# so this is bad isn't it :( \n"
   ]
  }
 ],
 "metadata": {
  "kernelspec": {
   "display_name": "Python 3",
   "language": "python",
   "name": "python3"
  },
  "language_info": {
   "codemirror_mode": {
    "name": "ipython",
    "version": 3
   },
   "file_extension": ".py",
   "mimetype": "text/x-python",
   "name": "python",
   "nbconvert_exporter": "python",
   "pygments_lexer": "ipython3",
   "version": "3.6.5"
  }
 },
 "nbformat": 4,
 "nbformat_minor": 2
}
