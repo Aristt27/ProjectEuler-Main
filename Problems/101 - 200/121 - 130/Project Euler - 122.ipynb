{
 "cells": [
  {
   "cell_type": "markdown",
   "metadata": {},
   "source": [
    "Project Euler - Problem 122"
   ]
  },
  {
   "cell_type": "markdown",
   "metadata": {},
   "source": [
    "The most naive way of computing $n^{15}$ requires fourteen multiplications:\n",
    "\n",
    "$n × n × ... × n = n^{15}$\n",
    "\n",
    "But using a \"binary\" method you can compute it in six multiplications:\n",
    "\n",
    "$n × n = n^2$  \n",
    "$n^2 × n^2 = n^4$  \n",
    "$n^4 × n^4 = n^8$  \n",
    "$n^8 × n^4 = n^{12}$  \n",
    "$n^{12} × n^2 = n^{14}$  \n",
    "$n^{14} × n = n^{15}$  \n",
    "\n",
    "However it is yet possible to compute it in only five multiplications:\n",
    "  \n",
    "$n × n = n^2$  \n",
    "$n^2 × n = n^3$  \n",
    "$n^3 × n^3 = n^6$  \n",
    "$n^6 × n^6 = n^{12}$  \n",
    "$n^{12} × n^3 = n^{15}$  \n",
    "\n",
    "We shall define m(k) to be the minimum number of multiplications to compute $n^k$; for example m(15) = 5.\n",
    "  \n",
    "For 1 ≤ k ≤ 200, find ∑ m(k).\n"
   ]
  },
  {
   "cell_type": "code",
   "execution_count": 1,
   "metadata": {},
   "outputs": [],
   "source": [
    "# fisrst we note tat fiven n^k, with 1 opperation, we can obtain x^{k+!},x^{2k} or x^{k+l} for every l already obtained."
   ]
  },
  {
   "cell_type": "code",
   "execution_count": 4,
   "metadata": {},
   "outputs": [],
   "source": [
    "def efficient_power_n(x,k,old_ks = [1,2]):\n",
    "    'given an x returns how many operations would it take to obtain x^k'\n",
    "    for ok in old_ks:\n",
    "        if old_ks[-1] + ok == k:\n",
    "            return 1\n",
    "        else:\n",
    "            old_ks += [ok + 1]\n",
    "            return efficient_power_n(x,)\n",
    "    \n",
    "    return n + 1"
   ]
  },
  {
   "cell_type": "code",
   "execution_count": 5,
   "metadata": {},
   "outputs": [],
   "source": [
    "# tree walking"
   ]
  },
  {
   "cell_type": "code",
   "execution_count": 11,
   "metadata": {},
   "outputs": [],
   "source": [
    "def tree_walking_n(x,k):\n",
    "    tree = [[1]*15]\n",
    "    for i,branch in enumerate(tree):\n",
    "        if branch[-1] == k:\n",
    "            return len(branch)\n",
    "        else:\n",
    "            branch += [i]\n",
    "        \n",
    "        "
   ]
  },
  {
   "cell_type": "code",
   "execution_count": null,
   "metadata": {},
   "outputs": [],
   "source": [
    "15 14 7 6 3 2 "
   ]
  }
 ],
 "metadata": {
  "kernelspec": {
   "display_name": "Python 3",
   "language": "python",
   "name": "python3"
  },
  "language_info": {
   "codemirror_mode": {
    "name": "ipython",
    "version": 3
   },
   "file_extension": ".py",
   "mimetype": "text/x-python",
   "name": "python",
   "nbconvert_exporter": "python",
   "pygments_lexer": "ipython3",
   "version": "3.6.5"
  }
 },
 "nbformat": 4,
 "nbformat_minor": 2
}
