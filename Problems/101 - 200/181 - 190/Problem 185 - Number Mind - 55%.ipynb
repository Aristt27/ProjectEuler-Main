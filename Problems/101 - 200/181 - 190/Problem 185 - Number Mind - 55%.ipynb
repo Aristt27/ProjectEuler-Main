{
 "cells": [
  {
   "cell_type": "markdown",
   "metadata": {},
   "source": [
    "#### Problem 185 - Number Mind \n",
    " \n",
    "The game Number Mind is a variant of the well known game Master Mind.  \n",
    "\n",
    "Instead of coloured pegs, you have to guess a secret sequence of digits. After each guess you're only told in how many places you've guessed the correct digit. So, if the sequence was 1234 and you guessed 2036, you'd be told that you have one correct digit; however, you would NOT be told that you also have another digit in the wrong place.  \n",
    "\n",
    "For instance, given the following guesses for a 5-digit secret sequence,  \n",
    "\n",
    "90342 ;2 correct  \n",
    "70794 ;0 correct  \n",
    "39458 ;2 correct  \n",
    "34109 ;1 correct  \n",
    "51545 ;2 correct  \n",
    "12531 ;1 correct  \n",
    "\n",
    "The correct sequence 39542 is unique.  \n",
    "\n",
    "Based on the following guesses,  \n",
    "\n",
    "5616185650518293 ;2 correct  \n",
    "3847439647293047 ;1 correct  \n",
    "5855462940810587 ;3 correct  \n",
    "9742855507068353 ;3 correct  \n",
    "4296849643607543 ;3 correct  \n",
    "3174248439465858 ;1 correct  \n",
    "4513559094146117 ;2 correct   \n",
    "7890971548908067 ;3 correct  \n",
    "8157356344118483 ;1 correct  \n",
    "2615250744386899 ;2 correct  \n",
    "8690095851526254 ;3 correct  \n",
    "6375711915077050 ;1 correct  \n",
    "6913859173121360 ;1 correct  \n",
    "6442889055042768 ;2 correct  \n",
    "2321386104303845 ;0 correct  \n",
    "2326509471271448 ;2 correct  \n",
    "5251583379644322 ;2 correct  \n",
    "1748270476758276 ;3 correct  \n",
    "4895722652190306 ;1 correct  \n",
    "3041631117224635 ;3 correct  \n",
    "1841236454324589 ;3 correct  \n",
    "2659862637316867 ;2 correct  \n",
    "  \n",
    "Find the unique 16-digit secret sequence.  "
   ]
  },
  {
   "cell_type": "code",
   "execution_count": 6,
   "metadata": {},
   "outputs": [],
   "source": [
    "hints5 = [[2,90342],[0,70794],[2,39458],[1,34109],[2,51545],[1,12531]]"
   ]
  },
  {
   "cell_type": "code",
   "execution_count": 7,
   "metadata": {},
   "outputs": [],
   "source": [
    "def all_digits(n):\n",
    "    ans = []\n",
    "    for l in range(n):\n",
    "        ans.append(['0','1','2','3','4','5','6','7','8','9'])\n",
    "    return ans"
   ]
  },
  {
   "cell_type": "code",
   "execution_count": 8,
   "metadata": {},
   "outputs": [
    {
     "data": {
      "text/plain": [
       "[['0', '1', '2', '3', '4', '5', '6', '7', '8', '9'],\n",
       " ['0', '1', '2', '3', '4', '5', '6', '7', '8', '9']]"
      ]
     },
     "execution_count": 8,
     "metadata": {},
     "output_type": "execute_result"
    }
   ],
   "source": [
    "all_digits(2)"
   ]
  },
  {
   "cell_type": "code",
   "execution_count": 14,
   "metadata": {},
   "outputs": [],
   "source": [
    "def number_brute(n):\n",
    "    return try_guess(n)"
   ]
  },
  {
   "cell_type": "code",
   "execution_count": 12,
   "metadata": {},
   "outputs": [],
   "source": [
    "def number_mind(n,hints):\n",
    "    numbers = all_digits(n)\n",
    "    hints.sort()\n",
    "    guess = hints[0][1]\n",
    "    for l in range(len(guess)):\n",
    "        numbers[l].remove(guess[l])\n",
    "    for ind in range(len(numbers)):\n",
    "        for _ in numbers(ind):\n",
    "            \n"
   ]
  },
  {
   "cell_type": "code",
   "execution_count": 13,
   "metadata": {},
   "outputs": [
    {
     "data": {
      "text/plain": [
       "[['0', '1', '2', '3', '4', '5', '6', '8', '9'],\n",
       " ['1', '2', '3', '4', '5', '6', '7', '8', '9'],\n",
       " ['0', '1', '2', '3', '4', '5', '6', '8', '9'],\n",
       " ['0', '1', '2', '3', '4', '5', '6', '7', '8'],\n",
       " ['0', '1', '2', '3', '5', '6', '7', '8', '9']]"
      ]
     },
     "execution_count": 13,
     "metadata": {},
     "output_type": "execute_result"
    }
   ],
   "source": [
    "number_mind(5,hints5)"
   ]
  }
 ],
 "metadata": {
  "kernelspec": {
   "display_name": "Python 3",
   "language": "python",
   "name": "python3"
  },
  "language_info": {
   "codemirror_mode": {
    "name": "ipython",
    "version": 3
   },
   "file_extension": ".py",
   "mimetype": "text/x-python",
   "name": "python",
   "nbconvert_exporter": "python",
   "pygments_lexer": "ipython3",
   "version": "3.6.5"
  }
 },
 "nbformat": 4,
 "nbformat_minor": 2
}
