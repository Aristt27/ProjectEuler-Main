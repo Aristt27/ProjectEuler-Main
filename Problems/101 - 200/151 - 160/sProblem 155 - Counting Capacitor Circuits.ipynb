{
 "cells": [
  {
   "cell_type": "markdown",
   "metadata": {},
   "source": [
    "### Problem 155 ###\n",
    "\n",
    "An electric circuit uses exclusively identical capacitors of the same value C. \n",
    "The capacitors can be connected in series or in parallel to form sub-units, which can then be connected in series or in parallel with other capacitors or other sub-units to form larger sub-units, and so on up to a final circuit.\n",
    "\n",
    "Using this simple procedure and up to n identical capacitors, we can make circuits having a range of different total capacitances. For example, using up to n=3 capacitors of 60 F each, we can obtain the following 7 distinct total capacitance values:\n",
    "\n",
    "\n",
    "If we denote by D(n) the number of distinct total capacitance values we can obtain when using up to n equal-valued capacitors and the simple procedure described above, we have: D(1)=1, D(2)=3, D(3)=7 ...\n",
    "\n",
    "Find D(18).\n",
    "\n",
    "Reminder : When connecting capacitors C1, C2 etc in parallel, the total capacitance is CT = C1 + C2 +..., \n",
    "whereas when connecting them in series, the overall capacitance is given by: 1/Ct = 1/c1 + 1/c2 +..."
   ]
  },
  {
   "cell_type": "code",
   "execution_count": 19,
   "metadata": {
    "collapsed": true
   },
   "outputs": [],
   "source": [
    "import itertools\n",
    "import numpy as np"
   ]
  },
  {
   "cell_type": "code",
   "execution_count": 20,
   "metadata": {
    "collapsed": true
   },
   "outputs": [],
   "source": [
    "def harmmean(a,b):\n",
    "    return 1/(1/a + 1/b)"
   ]
  },
  {
   "cell_type": "code",
   "execution_count": 26,
   "metadata": {
    "collapsed": true
   },
   "outputs": [],
   "source": [
    "def subconj(list):\n",
    "    'dada uma lista retorna uma lista com o terço do meio sendo as harm e o terceiro terço sendo a soma'\n",
    "    root = [[]]\n",
    "    for node in list:\n",
    "        root = root+root[1:]+root[1:]\n",
    "        for j in range(len(root)):\n",
    "            if j > len(root)/3 and j <2*len(root)/3 :\n",
    "                root[j] = [harmmean(root[j][0],node)]\n",
    "            if j > 2*len(root)/3 :\n",
    "                root[j] = [(root[j][0] + node)]\n",
    "        root.append([node])\n",
    "    return root[1:]"
   ]
  },
  {
   "cell_type": "code",
   "execution_count": 165,
   "metadata": {
    "collapsed": true
   },
   "outputs": [],
   "source": [
    "def lenset(root):  #slower then the set method\n",
    "    for roo in rot:\n",
    "        \n",
    "    root.sort()\n",
    "    return (list(root for root,_ in itertools.groupby(root)))"
   ]
  },
  {
   "cell_type": "code",
   "execution_count": 98,
   "metadata": {
    "collapsed": true
   },
   "outputs": [],
   "source": [
    "def euler155(nodes):\n",
    "    'dada uma lista retorna uma lista com o terço do meio sendo as harm e o terceiro terço sendo a soma'\n",
    "    root = [[]]\n",
    "    jjs = set()\n",
    "    for node in nodes:\n",
    "        root = root+root[1:]+root[1:]\n",
    "        for j in range(len(root)):\n",
    "            if j > len(root)/3 and j <2*len(root)/3 :\n",
    "                livin = harmmean(root[j][0],node)\n",
    "                root[j] = [livin]\n",
    "                jjs.add(livin)\n",
    "            if j > 2*len(root)/3 :\n",
    "                livin = (root[j][0] + node)\n",
    "                root[j] = [(root[j][0] + node)]\n",
    "                jjs.add(livin)\n",
    "        root.append([node])\n",
    "    jjs.add(node)\n",
    "    return len(jjs)"
   ]
  },
  {
   "cell_type": "code",
   "execution_count": 69,
   "metadata": {},
   "outputs": [],
   "source": [
    "def euler155_fast(nodes):\n",
    "    jjs = set()\n",
    "    jjs.add(2)\n",
    "    kks = [nodes[0]]\n",
    "    i = 0\n",
    "    for node in nodes:\n",
    "        for kk in kks:\n",
    "            temp = []\n",
    "            livin = harmmean(kk,node)\n",
    "            dyin = (kk + node)\n",
    "            temp.append(livin)\n",
    "            temp.append(dyin)\n",
    "            for tem in temp:\n",
    "                jjs.add(tem)\n",
    "        for tem in temp:\n",
    "                kks.append(tem)\n",
    "    return len((jjs))"
   ]
  },
  {
   "cell_type": "code",
   "execution_count": 109,
   "metadata": {
    "collapsed": true
   },
   "outputs": [],
   "source": [
    "def euler155_fast(n,k=60):\n",
    "    'tries to visualize n capacitors with 60uF'\n",
    "    p = 0\n",
    "    s = 0\n",
    "    corrente = [p,s]\n",
    "    for i in range(n):\n",
    "        \n",
    "        a += [p+1,s] + [p,s+1]\n",
    "        "
   ]
  },
  {
   "cell_type": "code",
   "execution_count": 197,
   "metadata": {},
   "outputs": [],
   "source": [
    "def subconj(list):\n",
    "    'dada uma lista retorna uma lista com o terço do meio sendo as harm e o terceiro terço sendo a soma'\n",
    "    root = [[],[list[0],'f']]\n",
    "    for node in list:\n",
    "        root = root+root[1:]+root[1:]\n",
    "        for j in range(len(root)):\n",
    "            if j > len(root)/3 and j <2*len(root)/3 :\n",
    "                root[j] = [harmmean(root[j][0],node),root[j][1]+'s']\n",
    "            if j > 2*len(root)/3 :\n",
    "                root[j] = [(root[j][0] + node),root[j][1]+'p']\n",
    "        \n",
    "    return root[1:]"
   ]
  },
  {
   "cell_type": "code",
   "execution_count": 198,
   "metadata": {},
   "outputs": [
    {
     "ename": "SyntaxError",
     "evalue": "invalid syntax (<ipython-input-198-7b82aac3b622>, line 1)",
     "output_type": "error",
     "traceback": [
      "\u001b[1;36m  File \u001b[1;32m\"<ipython-input-198-7b82aac3b622>\"\u001b[1;36m, line \u001b[1;32m1\u001b[0m\n\u001b[1;33m    def euleul(list)\u001b[0m\n\u001b[1;37m                    ^\u001b[0m\n\u001b[1;31mSyntaxError\u001b[0m\u001b[1;31m:\u001b[0m invalid syntax\n"
     ]
    }
   ],
   "source": [
    "def euleul(list)"
   ]
  },
  {
   "cell_type": "code",
   "execution_count": 199,
   "metadata": {},
   "outputs": [
    {
     "data": {
      "text/plain": [
       "[[60, 'f'],\n",
       " [30.0, 'fs'],\n",
       " [120, 'fp'],\n",
       " [30.0, 'fs'],\n",
       " [20.0, 'fss'],\n",
       " [40.0, 'fps'],\n",
       " [120, 'fp'],\n",
       " [90.0, 'fsp'],\n",
       " [180, 'fpp'],\n",
       " [30.0, 'fs'],\n",
       " [20.0, 'fss'],\n",
       " [40.0, 'fps'],\n",
       " [20.0, 'fss'],\n",
       " [15.0, 'fsss'],\n",
       " [23.999999999999996, 'fpss'],\n",
       " [40.0, 'fps'],\n",
       " [36.0, 'fsps'],\n",
       " [45.0, 'fpps'],\n",
       " [120, 'fp'],\n",
       " [90.0, 'fsp'],\n",
       " [180, 'fpp'],\n",
       " [90.0, 'fsp'],\n",
       " [80.0, 'fssp'],\n",
       " [100.0, 'fpsp'],\n",
       " [180, 'fpp'],\n",
       " [150.0, 'fspp'],\n",
       " [240, 'fppp'],\n",
       " [30.0, 'fs'],\n",
       " [20.0, 'fss'],\n",
       " [40.0, 'fps'],\n",
       " [20.0, 'fss'],\n",
       " [15.0, 'fsss'],\n",
       " [23.999999999999996, 'fpss'],\n",
       " [40.0, 'fps'],\n",
       " [36.0, 'fsps'],\n",
       " [45.0, 'fpps'],\n",
       " [20.0, 'fss'],\n",
       " [15.0, 'fsss'],\n",
       " [23.999999999999996, 'fpss'],\n",
       " [15.0, 'fsss'],\n",
       " [12.0, 'fssss'],\n",
       " [17.142857142857142, 'fpsss'],\n",
       " [23.999999999999996, 'fpss'],\n",
       " [22.500000000000004, 'fspss'],\n",
       " [25.714285714285715, 'fppss'],\n",
       " [40.0, 'fps'],\n",
       " [36.0, 'fsps'],\n",
       " [45.0, 'fpps'],\n",
       " [36.0, 'fsps'],\n",
       " [34.285714285714285, 'fssps'],\n",
       " [37.5, 'fpsps'],\n",
       " [45.0, 'fpps'],\n",
       " [42.857142857142854, 'fspps'],\n",
       " [48.0, 'fppps'],\n",
       " [120, 'fp'],\n",
       " [90.0, 'fsp'],\n",
       " [180, 'fpp'],\n",
       " [90.0, 'fsp'],\n",
       " [80.0, 'fssp'],\n",
       " [100.0, 'fpsp'],\n",
       " [180, 'fpp'],\n",
       " [150.0, 'fspp'],\n",
       " [240, 'fppp'],\n",
       " [90.0, 'fsp'],\n",
       " [80.0, 'fssp'],\n",
       " [100.0, 'fpsp'],\n",
       " [80.0, 'fssp'],\n",
       " [75.0, 'fsssp'],\n",
       " [84.0, 'fpssp'],\n",
       " [100.0, 'fpsp'],\n",
       " [96.0, 'fspsp'],\n",
       " [105.0, 'fppsp'],\n",
       " [180, 'fpp'],\n",
       " [150.0, 'fspp'],\n",
       " [240, 'fppp'],\n",
       " [150.0, 'fspp'],\n",
       " [140.0, 'fsspp'],\n",
       " [160.0, 'fpspp'],\n",
       " [240, 'fppp'],\n",
       " [210.0, 'fsppp'],\n",
       " [300, 'fpppp']]"
      ]
     },
     "execution_count": 199,
     "metadata": {},
     "output_type": "execute_result"
    }
   ],
   "source": [
    "subconj([60,60,60,60])"
   ]
  },
  {
   "cell_type": "code",
   "execution_count": 181,
   "metadata": {},
   "outputs": [
    {
     "data": {
      "text/plain": [
       "{20.0, 30.0, 40.0, 60, 90.0, 120, 180}"
      ]
     },
     "execution_count": 181,
     "metadata": {},
     "output_type": "execute_result"
    }
   ],
   "source": [
    "euleul([60,60])"
   ]
  },
  {
   "cell_type": "code",
   "execution_count": 194,
   "metadata": {
    "collapsed": true
   },
   "outputs": [],
   "source": [
    "a = [60,60,60]"
   ]
  },
  {
   "cell_type": "code",
   "execution_count": 195,
   "metadata": {},
   "outputs": [
    {
     "data": {
      "text/plain": [
       "3"
      ]
     },
     "execution_count": 195,
     "metadata": {},
     "output_type": "execute_result"
    }
   ],
   "source": [
    "len(a)"
   ]
  },
  {
   "cell_type": "code",
   "execution_count": 196,
   "metadata": {},
   "outputs": [
    {
     "data": {
      "text/plain": [
       "{15.0,\n",
       " 20.0,\n",
       " 23.999999999999996,\n",
       " 30.0,\n",
       " 36.0,\n",
       " 40.0,\n",
       " 45.0,\n",
       " 60,\n",
       " 80.0,\n",
       " 90.0,\n",
       " 100.0,\n",
       " 120,\n",
       " 150.0,\n",
       " 180,\n",
       " 240}"
      ]
     },
     "execution_count": 196,
     "metadata": {},
     "output_type": "execute_result"
    }
   ],
   "source": [
    "(euleul(a))"
   ]
  },
  {
   "cell_type": "code",
   "execution_count": 202,
   "metadata": {},
   "outputs": [
    {
     "data": {
      "text/plain": [
       "36.0"
      ]
     },
     "execution_count": 202,
     "metadata": {},
     "output_type": "execute_result"
    }
   ],
   "source": [
    "1/(1/90 + 1/60)"
   ]
  },
  {
   "cell_type": "code",
   "execution_count": 203,
   "metadata": {},
   "outputs": [
    {
     "data": {
      "text/plain": [
       "262143"
      ]
     },
     "execution_count": 203,
     "metadata": {},
     "output_type": "execute_result"
    }
   ],
   "source": [
    "2**18 -1"
   ]
  },
  {
   "cell_type": "code",
   "execution_count": 204,
   "metadata": {},
   "outputs": [
    {
     "data": {
      "text/plain": [
       "131072"
      ]
     },
     "execution_count": 204,
     "metadata": {},
     "output_type": "execute_result"
    }
   ],
   "source": [
    "2**17"
   ]
  },
  {
   "cell_type": "code",
   "execution_count": 23,
   "metadata": {},
   "outputs": [],
   "source": [
    "def circuit(n,k=60):\n",
    "    'circuit with n capacitors of capacitance k each'\n",
    "    series = []\n",
    "    paraluls = []\n",
    "    \n",
    "    \n",
    "    for i in range(n):\n",
    "        \n",
    "        series.append([k/(i+1),i+1])\n",
    "        paraluls.append([k*(i+1),i+1])\n",
    "        \n",
    "    for l in range(1,n-1):\n",
    "        \n",
    "        for serie in series[1:]:\n",
    "            if serie[1]+1 <= n:\n",
    "                paraluls.append([serie[0]+k,serie[1]+1])\n",
    "                series.append([harmmean(serie[0],k),serie[1]+1])\n",
    "                \n",
    "        for paralul in paraluls[1:]:\n",
    "            if paralul[1]+1 <= n:\n",
    "                series.append([harmmean(paralul[0],k),paralul[1]+1])\n",
    "                paraluls.append([paralul[0]+k,paralul[1]+1])\n",
    "                \n",
    "    lls = series+paraluls\n",
    "    jjs = set()\n",
    "    for ll in lls:\n",
    "        if ll[1] <= n:\n",
    "            for mm in (lls[:lls.index(ll)]+lls[lls.index(ll)+1:]):\n",
    "                if mm[1] <= n:\n",
    "                    if abs(ll[0]-mm[0]) > 10**-8:\n",
    "                        jjs.add(ll[0])\n",
    "    return len(jjs)"
   ]
  },
  {
   "cell_type": "code",
   "execution_count": 5,
   "metadata": {
    "collapsed": true
   },
   "outputs": [],
   "source": [
    "def lenset(root):  #slower then the set method\n",
    "    root.sort()\n",
    "    return (list(root for root,_ in itertools.groupby(root)))"
   ]
  },
  {
   "cell_type": "code",
   "execution_count": 242,
   "metadata": {},
   "outputs": [
    {
     "name": "stdout",
     "output_type": "stream",
     "text": [
      "10 loops, best of 3: 31.9 ms per loop\n"
     ]
    }
   ],
   "source": [
    "%timeit len(lenset(circuit(10)))"
   ]
  },
  {
   "cell_type": "code",
   "execution_count": 243,
   "metadata": {},
   "outputs": [
    {
     "name": "stdout",
     "output_type": "stream",
     "text": [
      "1 1\n",
      "100000 loops, best of 3: 5.17 µs per loop\n",
      "2 3\n",
      "100000 loops, best of 3: 7.15 µs per loop\n",
      "3 7\n",
      "100000 loops, best of 3: 11.8 µs per loop\n",
      "4 16\n",
      "10000 loops, best of 3: 27.8 µs per loop\n",
      "5 33\n",
      "10000 loops, best of 3: 82.1 µs per loop\n",
      "6 60\n",
      "1000 loops, best of 3: 266 µs per loop\n",
      "7 95\n",
      "1000 loops, best of 3: 926 µs per loop\n",
      "8 138\n",
      "100 loops, best of 3: 3.21 ms per loop\n",
      "9 188\n",
      "100 loops, best of 3: 9.79 ms per loop\n",
      "10 246\n",
      "10 loops, best of 3: 33.5 ms per loop\n",
      "11 315\n",
      "10 loops, best of 3: 108 ms per loop\n",
      "12 392\n",
      "1 loop, best of 3: 341 ms per loop\n",
      "13 477\n",
      "1 loop, best of 3: 1.04 s per loop\n",
      "14 567\n",
      "1 loop, best of 3: 3.22 s per loop\n"
     ]
    }
   ],
   "source": [
    "for a in range(1,15):\n",
    "    print(a,len(lenset(circuit(a))))\n",
    "    %timeit len(lenset(circuit(a)))"
   ]
  },
  {
   "cell_type": "code",
   "execution_count": 321,
   "metadata": {},
   "outputs": [
    {
     "name": "stdout",
     "output_type": "stream",
     "text": [
      "1 1\n",
      "100000 loops, best of 3: 3.65 µs per loop\n",
      "2 3\n",
      "100000 loops, best of 3: 4.81 µs per loop\n",
      "3 7\n",
      "100000 loops, best of 3: 12.1 µs per loop\n",
      "4 15\n",
      "10000 loops, best of 3: 37.2 µs per loop\n",
      "5 31\n",
      "10000 loops, best of 3: 144 µs per loop\n",
      "6 63\n",
      "1000 loops, best of 3: 597 µs per loop\n",
      "7 127\n",
      "100 loops, best of 3: 2.52 ms per loop\n",
      "8 255\n",
      "100 loops, best of 3: 10.6 ms per loop\n",
      "9 511\n",
      "10 loops, best of 3: 47.7 ms per loop\n",
      "10 1023\n",
      "1 loop, best of 3: 212 ms per loop\n",
      "11 2048\n",
      "1 loop, best of 3: 885 ms per loop\n",
      "12 4096\n",
      "1 loop, best of 3: 3.69 s per loop\n",
      "13 8192\n",
      "1 loop, best of 3: 15.3 s per loop\n"
     ]
    },
    {
     "ename": "KeyboardInterrupt",
     "evalue": "",
     "output_type": "error",
     "traceback": [
      "\u001b[1;31m---------------------------------------------------------------------------\u001b[0m",
      "\u001b[1;31mKeyboardInterrupt\u001b[0m                         Traceback (most recent call last)",
      "\u001b[1;32m<ipython-input-321-ccbd0de79fd8>\u001b[0m in \u001b[0;36m<module>\u001b[1;34m()\u001b[0m\n\u001b[0;32m      1\u001b[0m \u001b[1;32mfor\u001b[0m \u001b[0ma\u001b[0m \u001b[1;32min\u001b[0m \u001b[0mrange\u001b[0m\u001b[1;33m(\u001b[0m\u001b[1;36m1\u001b[0m\u001b[1;33m,\u001b[0m\u001b[1;36m15\u001b[0m\u001b[1;33m)\u001b[0m\u001b[1;33m:\u001b[0m\u001b[1;33m\u001b[0m\u001b[0m\n\u001b[1;32m----> 2\u001b[1;33m     \u001b[0mprint\u001b[0m\u001b[1;33m(\u001b[0m\u001b[0ma\u001b[0m\u001b[1;33m,\u001b[0m\u001b[0mcircuit\u001b[0m\u001b[1;33m(\u001b[0m\u001b[0ma\u001b[0m\u001b[1;33m)\u001b[0m\u001b[1;33m)\u001b[0m\u001b[1;33m\u001b[0m\u001b[0m\n\u001b[0m\u001b[0;32m      3\u001b[0m     \u001b[0mget_ipython\u001b[0m\u001b[1;33m(\u001b[0m\u001b[1;33m)\u001b[0m\u001b[1;33m.\u001b[0m\u001b[0mmagic\u001b[0m\u001b[1;33m(\u001b[0m\u001b[1;34m'timeit circuit(a)'\u001b[0m\u001b[1;33m)\u001b[0m\u001b[1;33m\u001b[0m\u001b[0m\n",
      "\u001b[1;32m<ipython-input-318-673f60493204>\u001b[0m in \u001b[0;36mcircuit\u001b[1;34m(n, k)\u001b[0m\n\u001b[0;32m     14\u001b[0m         \u001b[1;32mfor\u001b[0m \u001b[0mserie\u001b[0m \u001b[1;32min\u001b[0m \u001b[0mseries\u001b[0m\u001b[1;33m[\u001b[0m\u001b[1;36m1\u001b[0m\u001b[1;33m:\u001b[0m\u001b[1;33m]\u001b[0m\u001b[1;33m:\u001b[0m\u001b[1;33m\u001b[0m\u001b[0m\n\u001b[0;32m     15\u001b[0m             \u001b[1;32mif\u001b[0m \u001b[0mserie\u001b[0m\u001b[1;33m[\u001b[0m\u001b[1;36m1\u001b[0m\u001b[1;33m]\u001b[0m\u001b[1;33m+\u001b[0m\u001b[1;36m1\u001b[0m \u001b[1;33m<=\u001b[0m \u001b[0mn\u001b[0m\u001b[1;33m:\u001b[0m\u001b[1;33m\u001b[0m\u001b[0m\n\u001b[1;32m---> 16\u001b[1;33m                 \u001b[0mparaluls\u001b[0m\u001b[1;33m.\u001b[0m\u001b[0mappend\u001b[0m\u001b[1;33m(\u001b[0m\u001b[1;33m[\u001b[0m\u001b[0mserie\u001b[0m\u001b[1;33m[\u001b[0m\u001b[1;36m0\u001b[0m\u001b[1;33m]\u001b[0m\u001b[1;33m+\u001b[0m\u001b[0mk\u001b[0m\u001b[1;33m,\u001b[0m\u001b[0mserie\u001b[0m\u001b[1;33m[\u001b[0m\u001b[1;36m1\u001b[0m\u001b[1;33m]\u001b[0m\u001b[1;33m+\u001b[0m\u001b[1;36m1\u001b[0m\u001b[1;33m]\u001b[0m\u001b[1;33m)\u001b[0m\u001b[1;33m\u001b[0m\u001b[0m\n\u001b[0m\u001b[0;32m     17\u001b[0m                 \u001b[0mseries\u001b[0m\u001b[1;33m.\u001b[0m\u001b[0mappend\u001b[0m\u001b[1;33m(\u001b[0m\u001b[1;33m[\u001b[0m\u001b[0mharmmean\u001b[0m\u001b[1;33m(\u001b[0m\u001b[0mserie\u001b[0m\u001b[1;33m[\u001b[0m\u001b[1;36m0\u001b[0m\u001b[1;33m]\u001b[0m\u001b[1;33m,\u001b[0m\u001b[0mk\u001b[0m\u001b[1;33m)\u001b[0m\u001b[1;33m,\u001b[0m\u001b[0mserie\u001b[0m\u001b[1;33m[\u001b[0m\u001b[1;36m1\u001b[0m\u001b[1;33m]\u001b[0m\u001b[1;33m+\u001b[0m\u001b[1;36m1\u001b[0m\u001b[1;33m]\u001b[0m\u001b[1;33m)\u001b[0m\u001b[1;33m\u001b[0m\u001b[0m\n\u001b[0;32m     18\u001b[0m \u001b[1;33m\u001b[0m\u001b[0m\n",
      "\u001b[1;31mKeyboardInterrupt\u001b[0m: "
     ]
    }
   ],
   "source": [
    "for a in range(1,15):\n",
    "    print(a,circuit(a))\n",
    "    %timeit circuit(a)"
   ]
  },
  {
   "cell_type": "code",
   "execution_count": null,
   "metadata": {
    "collapsed": true
   },
   "outputs": [],
   "source": []
  },
  {
   "cell_type": "code",
   "execution_count": 25,
   "metadata": {},
   "outputs": [
    {
     "data": {
      "text/plain": [
       "131071"
      ]
     },
     "execution_count": 25,
     "metadata": {},
     "output_type": "execute_result"
    }
   ],
   "source": [
    "2**17 - 1"
   ]
  },
  {
   "cell_type": "code",
   "execution_count": 15,
   "metadata": {
    "collapsed": true
   },
   "outputs": [],
   "source": [
    "from time import clock"
   ]
  },
  {
   "cell_type": "code",
   "execution_count": null,
   "metadata": {},
   "outputs": [],
   "source": [
    "t0 = clock()\n",
    "ans = circuit(18)\n",
    "t1 = clock()\n",
    "print(ans, t1-t0)"
   ]
  },
  {
   "cell_type": "code",
   "execution_count": null,
   "metadata": {
    "collapsed": true
   },
   "outputs": [],
   "source": [
    "#estimated - > 40min"
   ]
  }
 ],
 "metadata": {
  "anaconda-cloud": {},
  "kernelspec": {
   "display_name": "Python 3",
   "language": "python",
   "name": "python3"
  },
  "language_info": {
   "codemirror_mode": {
    "name": "ipython",
    "version": 3
   },
   "file_extension": ".py",
   "mimetype": "text/x-python",
   "name": "python",
   "nbconvert_exporter": "python",
   "pygments_lexer": "ipython3",
   "version": "3.5.2"
  }
 },
 "nbformat": 4,
 "nbformat_minor": 1
}
