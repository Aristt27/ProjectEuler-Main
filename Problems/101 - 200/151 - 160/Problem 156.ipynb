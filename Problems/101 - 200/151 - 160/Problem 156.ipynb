{
 "cells": [
  {
   "cell_type": "markdown",
   "metadata": {},
   "source": [
    "## Problem 156"
   ]
  },
  {
   "cell_type": "code",
   "execution_count": 92,
   "metadata": {},
   "outputs": [],
   "source": [
    "def bf(n):\n",
    "    c    = 0\n",
    "    ans  = [0,0,0,0,0,0,0,0,0]\n",
    "    for i in range(n+1):\n",
    "        l = str(i)\n",
    "        for num in range(1,10):\n",
    "            ans[num-1] += l.count(str(num))\n",
    "        #for an in ans:\n",
    "         #   if ans == i:\n",
    "          #      c += i\n",
    "        if ans[0] == i:\n",
    "            c += i\n",
    "    return ans,c"
   ]
  },
  {
   "cell_type": "code",
   "execution_count": 94,
   "metadata": {},
   "outputs": [
    {
     "data": {
      "text/plain": [
       "([20, 20, 20, 20, 20, 20, 20, 20, 20], 1)"
      ]
     },
     "execution_count": 94,
     "metadata": {},
     "output_type": "execute_result"
    }
   ],
   "source": [
    "bf(99)"
   ]
  },
  {
   "cell_type": "code",
   "execution_count": 79,
   "metadata": {},
   "outputs": [],
   "source": [
    "import numpy as np"
   ]
  },
  {
   "cell_type": "code",
   "execution_count": 91,
   "metadata": {},
   "outputs": [
    {
     "data": {
      "text/plain": [
       "array([2, 2, 5, 5, 2, 2, 2, 2, 2])"
      ]
     },
     "execution_count": 91,
     "metadata": {},
     "output_type": "execute_result"
    }
   ],
   "source": [
    "def dumb_f(n):\n",
    "    ddivs = []\n",
    "    m = n\n",
    "    while m:\n",
    "        m,d    = divmod(m,10)\n",
    "        ddivs += [d]\n",
    "    ans = np.array([0,0,0,0,0,0,0,0,0])\n",
    "    oness = np.ones_like(ans)\n",
    "    for i in range(len(ddivs[1:])):\n",
    "        for j in range(ddivs[i]-1):\n",
    "            ans   += oness\n",
    "            ans[j]+= 10\n",
    "        ans[ddivs[i]-2] += ddivs[0]\n",
    "    return ans \n",
    "dumb_f(23)"
   ]
  },
  {
   "cell_type": "code",
   "execution_count": 73,
   "metadata": {},
   "outputs": [
    {
     "name": "stdout",
     "output_type": "stream",
     "text": [
      "Wall time: 42 s\n"
     ]
    },
    {
     "data": {
      "text/plain": [
       "([7000001,\n",
       "  7000000,\n",
       "  7000000,\n",
       "  7000000,\n",
       "  7000000,\n",
       "  7000000,\n",
       "  7000000,\n",
       "  7000000,\n",
       "  7000000],\n",
       " 23599713)"
      ]
     },
     "execution_count": 73,
     "metadata": {},
     "output_type": "execute_result"
    }
   ],
   "source": [
    "%time f(10000000)"
   ]
  },
  {
   "cell_type": "code",
   "execution_count": 72,
   "metadata": {},
   "outputs": [
    {
     "data": {
      "text/plain": [
       "205082766639"
      ]
     },
     "execution_count": 72,
     "metadata": {},
     "output_type": "execute_result"
    }
   ],
   "source": [
    "22786974071*9"
   ]
  },
  {
   "cell_type": "code",
   "execution_count": 39,
   "metadata": {},
   "outputs": [],
   "source": [
    "def bf156(n):\n",
    "    s = 0\n",
    "    for l in range(n):\n",
    "        if f(l,d) == l:\n",
    "            s += l\n",
    "    return s"
   ]
  },
  {
   "cell_type": "code",
   "execution_count": 20,
   "metadata": {},
   "outputs": [
    {
     "data": {
      "text/plain": [
       "2"
      ]
     },
     "execution_count": 20,
     "metadata": {},
     "output_type": "execute_result"
    }
   ],
   "source": [
    "bf156(1000)"
   ]
  }
 ],
 "metadata": {
  "kernelspec": {
   "display_name": "Python 3",
   "language": "python",
   "name": "python3"
  },
  "language_info": {
   "codemirror_mode": {
    "name": "ipython",
    "version": 3
   },
   "file_extension": ".py",
   "mimetype": "text/x-python",
   "name": "python",
   "nbconvert_exporter": "python",
   "pygments_lexer": "ipython3",
   "version": "3.6.5"
  }
 },
 "nbformat": 4,
 "nbformat_minor": 2
}
