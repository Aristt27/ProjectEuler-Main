{
 "cells": [
  {
   "cell_type": "markdown",
   "metadata": {},
   "source": [
    "## Prime generating integers\n",
    "Problem 357  \n",
    "Consider the divisors of 30: 1,2,3,5,6,10,15,30.  \n",
    "It can be seen that for every divisor d of 30, d+30/d is prime.  \n",
    "\n",
    "Find the sum of all positive integers n not exceeding 100 000 000  \n",
    "such that for every divisor d of n, d+n/d is prime. "
   ]
  },
  {
   "cell_type": "code",
   "execution_count": 12,
   "metadata": {},
   "outputs": [],
   "source": [
    "import numpy as np\n",
    "import itertools\n",
    "import functools\n",
    "import operator"
   ]
  },
  {
   "cell_type": "code",
   "execution_count": 3,
   "metadata": {},
   "outputs": [],
   "source": [
    "def prime_generator(n):\n",
    "    \"\"\"\n",
    "    Sieve of Eratosthenes\n",
    "    Create a candidate list within which non-primes will be\n",
    "    marked as None.\n",
    "    \"\"\"    \n",
    "    cand = [i for i in range(3, n + 1, 2)]\n",
    "    end = int(n ** 0.5) // 2\n",
    "\n",
    "    # Loop over candidates (cand), marking out each multiple.\n",
    "    for i in range(end):\n",
    "        if cand[i]:\n",
    "            cand[cand[i] + i::cand[i]] = [None] * (\n",
    "                (n // cand[i]) - (n // (2 * cand[i])) - 1)\n",
    "\n",
    "    # Filter out non-primes and return the list.\n",
    "    return [2] + [i for i in cand if i]"
   ]
  },
  {
   "cell_type": "code",
   "execution_count": 4,
   "metadata": {},
   "outputs": [],
   "source": [
    "def how_many_times_divides(n, div):\n",
    "    \"\"\"\n",
    "    >>> list(how_many_times_divides(40, 2))\n",
    "    [2, 2, 2]\n",
    "    \"\"\"\n",
    "    while n > 1:\n",
    "        if n % div != 0:\n",
    "            break\n",
    "        n //= div\n",
    "        yield div\n",
    "        \n",
    "def factorize(n):\n",
    "    \"\"\"\n",
    "    >>> list(factorize(480))\n",
    "    [2, 2, 2, 2, 2, 3, 5]\n",
    "    \"\"\"\n",
    "    for item in primes_list:\n",
    "        if item > n:\n",
    "            break\n",
    "        yield from how_many_times_divides(n, item)"
   ]
  },
  {
   "cell_type": "code",
   "execution_count": 26,
   "metadata": {},
   "outputs": [],
   "source": [
    "primes_list = prime_generator(20000000)"
   ]
  },
  {
   "cell_type": "code",
   "execution_count": 18,
   "metadata": {},
   "outputs": [],
   "source": [
    "def calculate_divisors(n):\n",
    "    prime_multiples_list = list(factorize(n))\n",
    "\n",
    "    \"\"\"\n",
    "    construct unique combinations\n",
    "    A, B, B, C --> A, B, C, AB, AC, BB, BC, ABC, ABB, BBC\n",
    "    \"\"\"\n",
    "    unique_combinations = set()\n",
    "    for i in range(1, len(prime_multiples_list)):\n",
    "        unique_combinations.update(\n",
    "            set(itertools.combinations(prime_multiples_list, i)))\n",
    "\n",
    "    return [1] + sorted(list(functools.reduce(operator.mul, i) for i in unique_combinations)) + [n]"
   ]
  },
  {
   "cell_type": "code",
   "execution_count": 19,
   "metadata": {},
   "outputs": [
    {
     "data": {
      "text/plain": [
       "[1, 3, 5, 15]"
      ]
     },
     "execution_count": 19,
     "metadata": {},
     "output_type": "execute_result"
    }
   ],
   "source": [
    "calculate_divisors(15)"
   ]
  },
  {
   "cell_type": "code",
   "execution_count": 21,
   "metadata": {},
   "outputs": [
    {
     "data": {
      "text/plain": [
       "[1, 2, 3, 5, 6, 10, 15, 30]"
      ]
     },
     "execution_count": 21,
     "metadata": {},
     "output_type": "execute_result"
    }
   ],
   "source": [
    "calculate_divisors(30)"
   ]
  },
  {
   "cell_type": "code",
   "execution_count": 34,
   "metadata": {},
   "outputs": [],
   "source": [
    "def pe357(n):\n",
    "    \n",
    "    ans = 3\n",
    "    \n",
    "    for l in range(3,n):\n",
    "        divisors_l = calculate_divisors(l)\n",
    "        goal       = len(divisors_l)\n",
    "        j = 0\n",
    "        for d in divisors_l:\n",
    "            if (d + l/d) in primes_list:\n",
    "                j += 1\n",
    "            else:\n",
    "                break\n",
    "        if j == goal:\n",
    "            ans += l\n",
    "    return ans"
   ]
  },
  {
   "cell_type": "code",
   "execution_count": 35,
   "metadata": {},
   "outputs": [
    {
     "name": "stdout",
     "output_type": "stream",
     "text": [
      "1.95 s ± 24.8 ms per loop (mean ± std. dev. of 7 runs, 1 loop each)\n"
     ]
    }
   ],
   "source": [
    "%timeit pe357(31)"
   ]
  }
 ],
 "metadata": {
  "kernelspec": {
   "display_name": "Python 3",
   "language": "python",
   "name": "python3"
  },
  "language_info": {
   "codemirror_mode": {
    "name": "ipython",
    "version": 3
   },
   "file_extension": ".py",
   "mimetype": "text/x-python",
   "name": "python",
   "nbconvert_exporter": "python",
   "pygments_lexer": "ipython3",
   "version": "3.6.5"
  }
 },
 "nbformat": 4,
 "nbformat_minor": 2
}
