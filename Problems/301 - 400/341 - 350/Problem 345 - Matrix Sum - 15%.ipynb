{
 "cells": [
  {
   "cell_type": "markdown",
   "metadata": {},
   "source": [
    "# Problem 345 - Matrix Sum\n",
    "\n",
    "We define the Matrix Sum of a matrix as the maximum sum of matrix elements with each element being the only one in his row and column. For example, the Matrix Sum of the matrix below equals 3315 ( = 863 + 383 + 343 + 959 + 767):  \n",
    "  \n",
    "  7  53 183 439 $863$  \n",
    "497 $383$ 563  79 973  \n",
    "287  63 $343$ 169 583  \n",
    "627 343 773 $959$ 943  \n",
    "$767$ 473 103 699 303  "
   ]
  },
  {
   "cell_type": "code",
   "execution_count": 182,
   "metadata": {},
   "outputs": [],
   "source": [
    "import numpy as np\n",
    "import matplotlib.pyplot as plt"
   ]
  },
  {
   "cell_type": "code",
   "execution_count": 105,
   "metadata": {},
   "outputs": [],
   "source": [
    "m1 = [[7,53,183,439,863],[497,383,563,79,973],[287,63,343,169,583],[627,343,773,959,943],[767,473,103,699,303]]"
   ]
  },
  {
   "cell_type": "code",
   "execution_count": 126,
   "metadata": {},
   "outputs": [],
   "source": [
    "m2 =[[7,53,183,439,863,497,383,563,79,973,287,63,343,169,583],\n",
    "[627,343,773,959,943,767,473,103,699,303,957,703,583,639,913],\n",
    "[447,283,463,29,23,487,463,993,119,883,327,493,423,159,743],\n",
    "[217,623,3,399,853,407,103,983,89,463,290,516,212,462,350],\n",
    "[960,376,682,962,300,780,486,502,912,800,250,346,172,812,350],\n",
    "[870,456,192,162,593,473,915,45,989,873,823,965,425,329,803],\n",
    "[973,965,905,919,133,673,665,235,509,613,673,815,165,992,326],\n",
    "[322,148,972,962,286,255,941,541,265,323,925,281,601,95,973],\n",
    "[445,721,11,525,473,65,511,164,138,672,18,428,154,448,848],\n",
    "[414,456,310,312,798,104,566,520,302,248,694,976,430,392,198],\n",
    "[184,829,373,181,631,101,969,613,840,740,778,458,284,760,390],\n",
    "[821,461,843,513,17,901,711,993,293,157,274,94,192,156,574],\n",
    "[34,124,4,878,450,476,712,914,838,669,875,299,823,329,699],\n",
    "[815,559,813,459,522,788,168,586,966,232,308,833,251,631,107],\n",
    "[813,883,451,509,615,77,281,613,459,205,380,274,302,35,805]]"
   ]
  },
  {
   "cell_type": "code",
   "execution_count": 162,
   "metadata": {},
   "outputs": [],
   "source": [
    "def quasi_max_sum(matrix):\n",
    "    \n",
    "    lenght = len(matrix)\n",
    "    \n",
    "    if lenght == 1:\n",
    "        #print(matrix[0][0])\n",
    "        return matrix[0][0]\n",
    "    \n",
    "    linex           = np.random.randint(lenght)\n",
    "    l_max, idx_max = np.max(matrix[linex]),np.argmax(matrix[linex])\n",
    "    _matrix        = matrix[:linex] + matrix[linex+1:]\n",
    "    \n",
    "    new_matrix = []\n",
    "    \n",
    "    for line in _matrix:\n",
    "        new_line = [line[:idx_max] + line[idx_max+1:]]\n",
    "        new_matrix += new_line\n",
    "    #print(new_matrix,l_max)\n",
    "    \n",
    "    ans = l_max + quasi_max_sum(new_matrix)\n",
    "    return ans"
   ]
  },
  {
   "cell_type": "code",
   "execution_count": 193,
   "metadata": {},
   "outputs": [],
   "source": [
    "def pe345(matrix,t=10):\n",
    "    \n",
    "    l   = []\n",
    "    ans = 0\n",
    "    \n",
    "    for time in range(t):\n",
    "        candidate = quasi_max_sum(matrix)\n",
    "        l.append([time,candidate])\n",
    "        if candidate > ans:\n",
    "            ans = candidate\n",
    "            \n",
    "    return l,ans"
   ]
  },
  {
   "cell_type": "code",
   "execution_count": 173,
   "metadata": {},
   "outputs": [
    {
     "name": "stdout",
     "output_type": "stream",
     "text": [
      "621 µs ± 80.5 µs per loop (mean ± std. dev. of 7 runs, 1000 loops each)\n"
     ]
    }
   ],
   "source": [
    "%timeit pe345(m1)"
   ]
  },
  {
   "cell_type": "code",
   "execution_count": 175,
   "metadata": {},
   "outputs": [
    {
     "name": "stdout",
     "output_type": "stream",
     "text": [
      "259 µs ± 10.5 µs per loop (mean ± std. dev. of 7 runs, 1000 loops each)\n"
     ]
    }
   ],
   "source": [
    "%timeit pe345(m2,1)"
   ]
  },
  {
   "cell_type": "code",
   "execution_count": 176,
   "metadata": {},
   "outputs": [
    {
     "name": "stdout",
     "output_type": "stream",
     "text": [
      "2.77 ms ± 239 µs per loop (mean ± std. dev. of 7 runs, 100 loops each)\n"
     ]
    }
   ],
   "source": [
    "%timeit pe345(m2,10)"
   ]
  },
  {
   "cell_type": "code",
   "execution_count": 177,
   "metadata": {},
   "outputs": [
    {
     "name": "stdout",
     "output_type": "stream",
     "text": [
      "24.8 ms ± 330 µs per loop (mean ± std. dev. of 7 runs, 10 loops each)\n"
     ]
    }
   ],
   "source": [
    "%timeit pe345(m2,100)"
   ]
  },
  {
   "cell_type": "code",
   "execution_count": 178,
   "metadata": {},
   "outputs": [
    {
     "name": "stdout",
     "output_type": "stream",
     "text": [
      "267 ms ± 12.7 ms per loop (mean ± std. dev. of 7 runs, 1 loop each)\n"
     ]
    }
   ],
   "source": [
    "%timeit pe345(m2,1000)"
   ]
  },
  {
   "cell_type": "code",
   "execution_count": 179,
   "metadata": {},
   "outputs": [
    {
     "name": "stdout",
     "output_type": "stream",
     "text": [
      "3.14 s ± 456 ms per loop (mean ± std. dev. of 7 runs, 1 loop each)\n"
     ]
    }
   ],
   "source": [
    "%timeit pe345(m2,10000)"
   ]
  },
  {
   "cell_type": "code",
   "execution_count": 227,
   "metadata": {},
   "outputs": [],
   "source": [
    "ls,ans = pe345(m2,100)"
   ]
  },
  {
   "cell_type": "code",
   "execution_count": 228,
   "metadata": {},
   "outputs": [
    {
     "data": {
      "text/plain": [
       "13938"
      ]
     },
     "execution_count": 228,
     "metadata": {},
     "output_type": "execute_result"
    }
   ],
   "source": [
    "ans"
   ]
  },
  {
   "cell_type": "markdown",
   "metadata": {},
   "source": [
    "##### first blog post "
   ]
  },
  {
   "cell_type": "markdown",
   "metadata": {},
   "source": [
    "Aristt   Brazil   Python - Tue, 9 Apr 2019, 00:34  \n",
    "I solved it using a random-gluttonous-recursive algorithm. Starting with a nxn matrix, choosing a random row, take the maximum value of this row then solved the problem for the n-1 dimensional matrix. In about 100 iterations the answer was correct. Code runs in 24.1 ms, Python:  \n",
    "  \n",
    "def quasi_max_sum(matrix):\n",
    "    \n",
    "    lenght = len(matrix)\n",
    "    \n",
    "    if lenght == 1:\n",
    "        # stop the recursion\n",
    "        return matrix[0][0]\n",
    "    \n",
    "    line_x           = np.random.randint(lenght)\n",
    "    l_max, idx_max   = np.max(matrix[line_x]),np.argmax(matrix[line_x]) # always go full greedy\n",
    "    _matrix          = matrix[:line_x] + matrix[line_x+1:] \n",
    "    \n",
    "    new_matrix = []\n",
    "    \n",
    "    for line in _matrix: # build the n-1 dimensional matrix\n",
    "\n",
    "        new_line    = [line[:idx_max] + line[idx_max+1:]]\n",
    "        new_matrix += new_line\n",
    "    \n",
    "    ans = l_max + quasi_max_sum(new_matrix) # recursion :3\n",
    "\n",
    "    return ans  \n",
    "\n",
    "\n",
    "\n",
    " #####  Then you iterate this function a couple times until it stabilizes in a answer #####  \n",
    "\n",
    "def pe345(matrix,t=100):\n",
    "    \n",
    "    times_values   = [] # why not plot a histogram (^~^)\n",
    "    ans = 0\n",
    "    \n",
    "    for time in range(t):\n",
    "\n",
    "        candidate = quasi_max_sum(matrix)\n",
    "        times_values.append([time,candidate])\n",
    "        if candidate > ans:\n",
    "            ans = candidate\n",
    "            \n",
    "    return times_values,ans"
   ]
  }
 ],
 "metadata": {
  "kernelspec": {
   "display_name": "Python 3",
   "language": "python",
   "name": "python3"
  },
  "language_info": {
   "codemirror_mode": {
    "name": "ipython",
    "version": 3
   },
   "file_extension": ".py",
   "mimetype": "text/x-python",
   "name": "python",
   "nbconvert_exporter": "python",
   "pygments_lexer": "ipython3",
   "version": "3.6.5"
  }
 },
 "nbformat": 4,
 "nbformat_minor": 2
}
