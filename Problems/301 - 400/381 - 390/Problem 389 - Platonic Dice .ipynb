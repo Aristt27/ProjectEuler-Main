{
 "cells": [
  {
   "cell_type": "markdown",
   "metadata": {},
   "source": [
    "### Platonic Dice\n",
    "\n",
    "Problem 389  \n",
    "\n",
    "An unbiased single 4-sided die is thrown and its value, T, is noted.   \n",
    "T unbiased 6-sided dice are thrown and their scores are added together. The sum, C, is noted.  \n",
    "C unbiased 8-sided dice are thrown and their scores are added together. The sum, O, is noted.  \n",
    "O unbiased 12-sided dice are thrown and their scores are added together. The sum, D, is noted.  \n",
    "D unbiased 20-sided dice are thrown and their scores are added together. The sum, I, is noted.  \n",
    "Find the variance of I, and give your answer rounded to 4 decimal places."
   ]
  },
  {
   "cell_type": "code",
   "execution_count": 1,
   "metadata": {},
   "outputs": [],
   "source": [
    "import numpy as np"
   ]
  },
  {
   "cell_type": "code",
   "execution_count": 109,
   "metadata": {},
   "outputs": [],
   "source": [
    "def game():\n",
    "    T = np.random.randint(4)\n",
    "    C = sum(np.random.randint(1,7,[T+1]))\n",
    "    O = sum(np.random.randint(1,9,[C+1]))\n",
    "    D = sum(np.random.randint(1,13,[O+1]))\n",
    "    I = sum(np.random.randint(1,21,[D+1]))\n",
    "    return I"
   ]
  },
  {
   "cell_type": "code",
   "execution_count": 110,
   "metadata": {},
   "outputs": [],
   "source": [
    "def pe389(n):\n",
    "    l = []\n",
    "    for _ in range(n):\n",
    "        l.append(game())\n",
    "    return np.var(l)"
   ]
  },
  {
   "cell_type": "code",
   "execution_count": 111,
   "metadata": {},
   "outputs": [
    {
     "data": {
      "text/plain": [
       "2423968.6549836393"
      ]
     },
     "execution_count": 111,
     "metadata": {},
     "output_type": "execute_result"
    }
   ],
   "source": [
    "pe389(100000)"
   ]
  },
  {
   "cell_type": "code",
   "execution_count": 112,
   "metadata": {},
   "outputs": [
    {
     "data": {
      "text/plain": [
       "2441012.105246579"
      ]
     },
     "execution_count": 112,
     "metadata": {},
     "output_type": "execute_result"
    }
   ],
   "source": [
    "pe389(100000)"
   ]
  },
  {
   "cell_type": "code",
   "execution_count": 113,
   "metadata": {},
   "outputs": [
    {
     "data": {
      "text/plain": [
       "2453722.0925077116"
      ]
     },
     "execution_count": 113,
     "metadata": {},
     "output_type": "execute_result"
    }
   ],
   "source": [
    "pe389(100000)"
   ]
  }
 ],
 "metadata": {
  "kernelspec": {
   "display_name": "Python 3",
   "language": "python",
   "name": "python3"
  },
  "language_info": {
   "codemirror_mode": {
    "name": "ipython",
    "version": 3
   },
   "file_extension": ".py",
   "mimetype": "text/x-python",
   "name": "python",
   "nbconvert_exporter": "python",
   "pygments_lexer": "ipython3",
   "version": "3.6.5"
  }
 },
 "nbformat": 4,
 "nbformat_minor": 2
}
