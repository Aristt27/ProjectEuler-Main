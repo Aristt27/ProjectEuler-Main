{
 "cells": [
  {
   "cell_type": "markdown",
   "metadata": {},
   "source": [
    "## Under The Rainbow \n",
    "Problem 493\n",
    "\n",
    "70 coloured balls are placed in an urn, 10 for each of the seven rainbow colours.\n",
    "\n",
    "What is the expected number of distinct colours in 20 randomly picked balls?\n",
    "\n",
    "Give your answer with nine digits after the decimal point (a.bcdefghij)."
   ]
  },
  {
   "cell_type": "code",
   "execution_count": 2,
   "metadata": {},
   "outputs": [],
   "source": [
    "import numpy as np"
   ]
  },
  {
   "cell_type": "code",
   "execution_count": 258,
   "metadata": {},
   "outputs": [],
   "source": [
    "def pick_n_balls(n):\n",
    "    'random stuff'\n",
    "    \n",
    "    urn = [ 1,2,3,4,5,6,7, \n",
    "            1,2,3,4,5,6,7,\n",
    "            1,2,3,4,5,6,7,\n",
    "            1,2,3,4,5,6,7,\n",
    "            1,2,3,4,5,6,7,\n",
    "            1,2,3,4,5,6,7,\n",
    "            1,2,3,4,5,6,7,\n",
    "            1,2,3,4,5,6,7,\n",
    "            1,2,3,4,5,6,7,\n",
    "            1,2,3,4,5,6,7 ]\n",
    "    \n",
    "    picked_balls = set()\n",
    "    j = 0\n",
    "    \n",
    "    for _ in range(n):\n",
    "        j += 1\n",
    "        pick = np.random.randint(71-j)\n",
    "        picked_balls.add(urn[pick])\n",
    "        urn = urn[:pick] + urn[pick+1:]\n",
    "        \n",
    "    return len(picked_balls)"
   ]
  },
  {
   "cell_type": "code",
   "execution_count": 259,
   "metadata": {},
   "outputs": [],
   "source": [
    "def pe493(n,k):\n",
    "    'woo'\n",
    "    mean = 0\n",
    "    for _ in range(k):\n",
    "        mean += pick_n_balls(n)\n",
    "    return mean/k"
   ]
  },
  {
   "cell_type": "code",
   "execution_count": 265,
   "metadata": {},
   "outputs": [
    {
     "data": {
      "text/plain": [
       "6.7"
      ]
     },
     "execution_count": 265,
     "metadata": {},
     "output_type": "execute_result"
    }
   ],
   "source": [
    "pe493(20,10) # 406 µs ± 5.81 µs per loop (mean ± std. dev. of 7 runs, 1000 loops each)"
   ]
  },
  {
   "cell_type": "code",
   "execution_count": 266,
   "metadata": {},
   "outputs": [
    {
     "data": {
      "text/plain": [
       "6.73"
      ]
     },
     "execution_count": 266,
     "metadata": {},
     "output_type": "execute_result"
    }
   ],
   "source": [
    "pe493(20,100) # 4.58 ms ± 605 µs per loop (mean ± std. dev. of 7 runs, 100 loops each)"
   ]
  },
  {
   "cell_type": "code",
   "execution_count": 267,
   "metadata": {},
   "outputs": [
    {
     "data": {
      "text/plain": [
       "6.806"
      ]
     },
     "execution_count": 267,
     "metadata": {},
     "output_type": "execute_result"
    }
   ],
   "source": [
    "pe493(20,1000) # 42.2 ms ± 3.26 ms per loop (mean ± std. dev. of 7 runs, 10 loops each)"
   ]
  },
  {
   "cell_type": "code",
   "execution_count": 268,
   "metadata": {},
   "outputs": [
    {
     "data": {
      "text/plain": [
       "6.8285"
      ]
     },
     "execution_count": 268,
     "metadata": {},
     "output_type": "execute_result"
    }
   ],
   "source": [
    "pe493(20,10000) # 399 ms ± 828 µs per loop (mean ± std. dev. of 7 runs, 1 loop each)"
   ]
  },
  {
   "cell_type": "code",
   "execution_count": 269,
   "metadata": {},
   "outputs": [
    {
     "data": {
      "text/plain": [
       "6.81851"
      ]
     },
     "execution_count": 269,
     "metadata": {},
     "output_type": "execute_result"
    }
   ],
   "source": [
    "pe493(20,100000) # 4.21 s ± 232 ms per loop (mean ± std. dev. of 7 runs, 1 loop each)"
   ]
  },
  {
   "cell_type": "code",
   "execution_count": 270,
   "metadata": {},
   "outputs": [
    {
     "data": {
      "text/plain": [
       "6.81813"
      ]
     },
     "execution_count": 270,
     "metadata": {},
     "output_type": "execute_result"
    }
   ],
   "source": [
    "pe493(20,100000)"
   ]
  },
  {
   "cell_type": "code",
   "execution_count": 271,
   "metadata": {},
   "outputs": [
    {
     "data": {
      "text/plain": [
       "6.81963"
      ]
     },
     "execution_count": 271,
     "metadata": {},
     "output_type": "execute_result"
    }
   ],
   "source": [
    "pe493(20,100000)"
   ]
  },
  {
   "cell_type": "markdown",
   "metadata": {},
   "source": [
    "# Slightly Diffrerent Aproach"
   ]
  },
  {
   "cell_type": "code",
   "execution_count": 210,
   "metadata": {},
   "outputs": [],
   "source": [
    "def pick_n(n):\n",
    "    'random stuff'\n",
    "    \n",
    "    balls  = np.array([0.,1.,2.,3.,4.,5.,6.,7.,8.,9.,10.,11.,12.,13.,14.,15.,16.,17.,18.,19.,20.,\n",
    "                21.,22.,23.,24.,25.,26.,27.,28.,29.,30.,31.,32.,33.,34.,35.,36.,37.,38.,39.,40.,\n",
    "                41.,42.,43.,44.,45.,46.,47.,48.,49.,50.,51.,52.,53.,54.,55.,56.,57.,58.,59.,60.,\n",
    "                61.,62.,63.,64.,65.,66.,67.,68.,69.])\n",
    "    \n",
    "    j   = 0\n",
    "    the_set = set()\n",
    "    \n",
    "    for _ in range(n):\n",
    "        \n",
    "        j += 1\n",
    "        pick = np.random.randint(70-j)\n",
    "        balls += np.hstack((np.zeros(pick),np.ones(70-pick)))\n",
    "        the_set.add(pick%7 + 1)\n",
    "        \n",
    "    return len(the_set)"
   ]
  },
  {
   "cell_type": "code",
   "execution_count": 211,
   "metadata": {},
   "outputs": [],
   "source": [
    "def pe493_set(n,k):\n",
    "    'woo2'\n",
    "    mean = 0\n",
    "    for _ in range(k):\n",
    "        mean += pick_n(n)\n",
    "    return mean/k"
   ]
  },
  {
   "cell_type": "code",
   "execution_count": 217,
   "metadata": {},
   "outputs": [
    {
     "data": {
      "text/plain": [
       "6.9"
      ]
     },
     "execution_count": 217,
     "metadata": {},
     "output_type": "execute_result"
    }
   ],
   "source": [
    "pe493_set(20,10) # 1.83 ms ± 159 µs per loop (mean ± std. dev. of 7 runs, 1000 loops each)"
   ]
  },
  {
   "cell_type": "code",
   "execution_count": 221,
   "metadata": {},
   "outputs": [
    {
     "data": {
      "text/plain": [
       "6.74"
      ]
     },
     "execution_count": 221,
     "metadata": {},
     "output_type": "execute_result"
    }
   ],
   "source": [
    "pe493_set(20,100) # 17.3 ms ± 604 µs per loop (mean ± std. dev. of 7 runs, 100 loops each)"
   ]
  },
  {
   "cell_type": "code",
   "execution_count": 224,
   "metadata": {},
   "outputs": [
    {
     "data": {
      "text/plain": [
       "6.674"
      ]
     },
     "execution_count": 224,
     "metadata": {},
     "output_type": "execute_result"
    }
   ],
   "source": [
    "pe493_set(20,1000) # 178 ms ± 9.78 ms per loop (mean ± std. dev. of 7 runs, 10 loops each)"
   ]
  },
  {
   "cell_type": "code",
   "execution_count": 226,
   "metadata": {},
   "outputs": [
    {
     "data": {
      "text/plain": [
       "6.6754"
      ]
     },
     "execution_count": 226,
     "metadata": {},
     "output_type": "execute_result"
    }
   ],
   "source": [
    "pe493_set(20,10000) # 1.91 s ± 220 ms per loop (mean ± std. dev. of 7 runs, 1 loop each)"
   ]
  }
 ],
 "metadata": {
  "kernelspec": {
   "display_name": "Python 3",
   "language": "python",
   "name": "python3"
  },
  "language_info": {
   "codemirror_mode": {
    "name": "ipython",
    "version": 3
   },
   "file_extension": ".py",
   "mimetype": "text/x-python",
   "name": "python",
   "nbconvert_exporter": "python",
   "pygments_lexer": "ipython3",
   "version": "3.6.5"
  }
 },
 "nbformat": 4,
 "nbformat_minor": 2
}
