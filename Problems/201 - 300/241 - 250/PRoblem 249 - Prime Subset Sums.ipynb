{
 "cells": [
  {
   "cell_type": "markdown",
   "metadata": {},
   "source": [
    "### Problem 249\n",
    "\n",
    "Let S = {2, 3, 5, ..., 4999} be the set of prime numbers less than 5000.\n",
    "\n",
    "Find the number of subsets of S, the sum of whose elements is a prime number.\n",
    "Enter the rightmost 16 digits as your answer.\n"
   ]
  },
  {
   "cell_type": "code",
   "execution_count": 9,
   "metadata": {},
   "outputs": [],
   "source": [
    "import math\n",
    "import itertools"
   ]
  },
  {
   "cell_type": "code",
   "execution_count": 10,
   "metadata": {},
   "outputs": [],
   "source": [
    "def atkins(limit):\n",
    "    P = [2,3]\n",
    "    sieve=[False]*(limit+1)\n",
    "    for x in range(1,int(math.sqrt(limit))+1):\n",
    "        for y in range(1,int(math.sqrt(limit))+1):\n",
    "            n = 4*x**2 + y**2\n",
    "            if n<=limit and (n%12==1 or n%12==5) : sieve[n] = not sieve[n]\n",
    "            n = 3*x**2+y**2\n",
    "            if n<= limit and n%12==7 : sieve[n] = not sieve[n]\n",
    "            n = 3*x**2 - y**2\n",
    "            if x>y and n<=limit and n%12==11 : sieve[n] = not sieve[n]\n",
    "    for x in range(5,int(math.sqrt(limit))):\n",
    "        if sieve[x]:\n",
    "            for y in range(x**2,limit+1,x**2):\n",
    "                sieve[y] = False\n",
    "    for p in range(5,limit):\n",
    "        if sieve[p] : P.append(p)\n",
    "    return P\n"
   ]
  },
  {
   "cell_type": "code",
   "execution_count": 11,
   "metadata": {},
   "outputs": [],
   "source": [
    "S = atkins(5000)\n",
    "P"
   ]
  },
  {
   "cell_type": "code",
   "execution_count": 18,
   "metadata": {},
   "outputs": [
    {
     "data": {
      "text/plain": [
       "1548136"
      ]
     },
     "execution_count": 18,
     "metadata": {},
     "output_type": "execute_result"
    }
   ],
   "source": [
    "sum(S)"
   ]
  },
  {
   "cell_type": "code",
   "execution_count": 12,
   "metadata": {},
   "outputs": [
    {
     "data": {
      "text/plain": [
       "669"
      ]
     },
     "execution_count": 12,
     "metadata": {},
     "output_type": "execute_result"
    }
   ],
   "source": [
    "len(S)"
   ]
  },
  {
   "cell_type": "code",
   "execution_count": 17,
   "metadata": {},
   "outputs": [
    {
     "data": {
      "text/plain": [
       "223446"
      ]
     },
     "execution_count": 17,
     "metadata": {},
     "output_type": "execute_result"
    }
   ],
   "source": [
    "len(list(itertools.combinations(S,2)))"
   ]
  },
  {
   "cell_type": "code",
   "execution_count": null,
   "metadata": {},
   "outputs": [],
   "source": [
    "def euler_249():\n",
    "    for n in range(3,669,2):\n",
    "        for i in list(itertools.combinations(S,n)):\n",
    "            if sum(i)"
   ]
  }
 ],
 "metadata": {
  "kernelspec": {
   "display_name": "Python 3",
   "language": "python",
   "name": "python3"
  },
  "language_info": {
   "codemirror_mode": {
    "name": "ipython",
    "version": 3
   },
   "file_extension": ".py",
   "mimetype": "text/x-python",
   "name": "python",
   "nbconvert_exporter": "python",
   "pygments_lexer": "ipython3",
   "version": "3.5.2"
  }
 },
 "nbformat": 4,
 "nbformat_minor": 2
}
