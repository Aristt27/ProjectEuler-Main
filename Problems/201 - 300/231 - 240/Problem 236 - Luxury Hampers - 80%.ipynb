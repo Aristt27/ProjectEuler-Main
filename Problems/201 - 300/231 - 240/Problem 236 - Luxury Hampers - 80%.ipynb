{
 "cells": [
  {
   "cell_type": "markdown",
   "metadata": {},
   "source": [
    "### Problem 236: Luxury Hampers"
   ]
  },
  {
   "cell_type": "markdown",
   "metadata": {},
   "source": [
    "Suppliers 'A' and 'B' provided the following numbers of products for the luxury hamper market:\n",
    "\n",
    "                                      Product\t'A'\t'B' \n",
    "                                Beluga Caviar\t5248\t640\n",
    "                                Christmas Cake\t1312\t1888\n",
    "                                Gammon Joint\t2624\t3776\n",
    "                                Vintage Port\t5760\t3776\n",
    "                                Champagne Truffles\t3936\t5664\n",
    "                                  \n",
    "Although the suppliers try very hard to ship their goods in perfect condition, there is inevitably some spoilage - i.e. products gone bad.  \n",
    "  \n",
    "The suppliers compare their performance using two types of statistic:  \n",
    "  \n",
    "The five per-product spoilage rates for each supplier are equal to the number of products gone bad divided by the number of products supplied, for each of the five products in turn. \n",
    "  \n",
    "The overall spoilage rate for each supplier is equal to the total number of products gone bad divided by the total number of products provided by that supplier.  \n",
    "  \n",
    "To their surprise, the suppliers found that each of the five per-product spoilage rates was worse (higher) for 'B' than for 'A' by the same factor (ratio of spoilage rates), m>1; and yet, paradoxically, the overall spoilage rate was worse for 'A' than for 'B', also by a factor of m.  \n",
    "  \n",
    "\n",
    "There are thirty-five m>1 for which this surprising result could have occurred, the smallest of which is 1476/1475.  \n",
    "  \n",
    "What's the largest possible value of m?  \n",
    "Give your answer as a fraction reduced to its lowest terms, in the form u/v.  "
   ]
  },
  {
   "cell_type": "code",
   "execution_count": 118,
   "metadata": {},
   "outputs": [],
   "source": [
    "import numpy as np\n",
    "from copy import deepcopy"
   ]
  },
  {
   "cell_type": "code",
   "execution_count": 7,
   "metadata": {},
   "outputs": [],
   "source": [
    "a_products = [5248,1312,2624,5760,3936]\n",
    "b_products = [640,1888,3776,3776,5664]"
   ]
  },
  {
   "cell_type": "code",
   "execution_count": 8,
   "metadata": {},
   "outputs": [],
   "source": [
    "def five_per_prod_spoil(spoiled,products):\n",
    "    'returns the number of products spoiled divided by the products supplied for each of the five products'\n",
    "\n",
    "    val_ans = []\n",
    "    for spoil,prod in zip(spoiled,products):\n",
    "        val_ans += [spoil/prod]\n",
    "    \n",
    "    return val_ans"
   ]
  },
  {
   "cell_type": "code",
   "execution_count": 53,
   "metadata": {},
   "outputs": [],
   "source": [
    "def overall_spoilage(spoiled,products):\n",
    "    'returns the overall spoilage'\n",
    "    return sum(spoiled)/sum(products)"
   ]
  },
  {
   "cell_type": "code",
   "execution_count": 54,
   "metadata": {},
   "outputs": [],
   "source": [
    "def val_Rater(a_spoils,b_spoils):\n",
    "    \n",
    "    a_fpp = five_per_prod_spoil(a_spoils,a_products)\n",
    "    b_fpp = five_per_prod_spoil(b_spoils,b_products)\n",
    "    \n",
    "    a_os  = overall_spoilage(a_spoils,a_products)\n",
    "    b_os  = overall_spoilage(b_spoils,b_products)\n",
    "    \n",
    "    ratios     = [a_os,b_os]\n",
    "    val_ratios = []\n",
    "    \n",
    "    for anum,bnum in zip(a_fpp,b_fpp):\n",
    "    \n",
    "        val_ratios.append(bnum/anum)\n",
    "        \n",
    "    return val_ratios,ratios"
   ]
  },
  {
   "cell_type": "code",
   "execution_count": 125,
   "metadata": {},
   "outputs": [],
   "source": [
    "def shift(a,k_a):\n",
    "    aa = deepcopy(a)\n",
    "    \n",
    "    mag,idx = divmod(k_a,5)\n",
    "    mag += 1\n",
    "    \n",
    "    aa[idx] += mag\n",
    "    return aa"
   ]
  },
  {
   "cell_type": "code",
   "execution_count": 126,
   "metadata": {},
   "outputs": [
    {
     "data": {
      "text/plain": [
       "2"
      ]
     },
     "execution_count": 126,
     "metadata": {},
     "output_type": "execute_result"
    }
   ],
   "source": [
    "a = [True,True]\n",
    "sum(a)"
   ]
  },
  {
   "cell_type": "code",
   "execution_count": 141,
   "metadata": {},
   "outputs": [],
   "source": [
    "def pe236():\n",
    "    'brute forcing'\n",
    "    l = 0\n",
    "    \n",
    "    a_spoils = [1,1,1,1,1]\n",
    "    aa_spoils = [1,1,1,1,1]\n",
    "    b_spoils = [1,1,1,1,1]\n",
    "    bb_spoils = [1,1,1,1,1]\n",
    "    \n",
    "    val_ratios, ratios = val_Rater(a_spoils,b_spoils)\n",
    "    m = ratios[0]/ratios[1]\n",
    "    \n",
    "    j = 0\n",
    "    k_a = 0\n",
    "    k_b = 0\n",
    "    \n",
    "    while l < 1:\n",
    "        if k_a >= 999:\n",
    "            print(a_spoils)\n",
    "            a_spoils = deepcopy(aa_spoils)\n",
    "            k_a = 1\n",
    "        if k_b >= 999:\n",
    "            b_spoils = deepcopy(bb_spoils)\n",
    "            k_b = 1\n",
    "        \n",
    "        \n",
    "        if sum(np.isclose(m*np.ones_like(val_ratios),val_ratios,atol = 1e-8)) == 5:\n",
    "            \n",
    "            l += 1\n",
    "            #print(val_ratios,m)\n",
    "            if j == 0:\n",
    "                \n",
    "                aa_spoils = shift(a_spoils,k_a)\n",
    "                k_a += 1\n",
    "                j   += 1\n",
    "                val_ratios,ratios = val_Rater(aa_spoils,bb_spoils)\n",
    "                m    = ratios[0]/ratios[1]\n",
    "            else:\n",
    "                bb_spoils = shift(b_spoils,k_b)\n",
    "                k_b += 1\n",
    "                j   -= 1\n",
    "                val_ratios,ratios = val_Rater(aa_spoils,bb_spoils)\n",
    "                m    = ratios[0]/ratios[1]\n",
    "        else:\n",
    "            if j == 0:\n",
    "                aa_spoils = shift(a_spoils,k_a)\n",
    "                k_a += 1\n",
    "                j   += 1\n",
    "                val_ratios,ratios = val_Rater(aa_spoils,bb_spoils)\n",
    "                m    = ratios[0]/ratios[1]\n",
    "            else:\n",
    "                bb_spoils = shift(b_spoils,k_b)\n",
    "                k_b += 1\n",
    "                j   -= 1\n",
    "                val_ratios,ratios = val_Rater(aa_spoils,bb_spoils)\n",
    "                m    = ratios[0]/ratios[1]\n",
    "\n",
    "            \n",
    "    return ratios\n",
    "        "
   ]
  },
  {
   "cell_type": "code",
   "execution_count": 142,
   "metadata": {
    "scrolled": false
   },
   "outputs": [
    {
     "name": "stdout",
     "output_type": "stream",
     "text": [
      "[1, 1, 1, 1, 1]\n",
      "[1, 1, 1, 201, 1]\n",
      "[1, 1, 1, 401, 1]\n",
      "[1, 1, 1, 601, 1]\n",
      "[1, 1, 1, 801, 1]\n",
      "[1, 1, 1, 1001, 1]\n",
      "[1, 1, 1, 1201, 1]\n",
      "[1, 1, 1, 1401, 1]\n",
      "[1, 1, 1, 1601, 1]\n",
      "[1, 1, 1, 1801, 1]\n",
      "[1, 1, 1, 2001, 1]\n",
      "[1, 1, 1, 2201, 1]\n",
      "[1, 1, 1, 2401, 1]\n",
      "[1, 1, 1, 2601, 1]\n",
      "[1, 1, 1, 2801, 1]\n",
      "[1, 1, 1, 3001, 1]\n",
      "[1, 1, 1, 3201, 1]\n",
      "[1, 1, 1, 3401, 1]\n",
      "[1, 1, 1, 3601, 1]\n",
      "[1, 1, 1, 3801, 1]\n",
      "[1, 1, 1, 4001, 1]\n",
      "[1, 1, 1, 4201, 1]\n"
     ]
    },
    {
     "ename": "KeyboardInterrupt",
     "evalue": "",
     "output_type": "error",
     "traceback": [
      "\u001b[1;31m---------------------------------------------------------------------------\u001b[0m",
      "\u001b[1;31mKeyboardInterrupt\u001b[0m                         Traceback (most recent call last)",
      "\u001b[1;32m<ipython-input-142-2af2ce0d9be4>\u001b[0m in \u001b[0;36m<module>\u001b[1;34m()\u001b[0m\n\u001b[1;32m----> 1\u001b[1;33m \u001b[0mpe236\u001b[0m\u001b[1;33m(\u001b[0m\u001b[1;33m)\u001b[0m\u001b[1;33m\u001b[0m\u001b[0m\n\u001b[0m",
      "\u001b[1;32m<ipython-input-141-327223309253>\u001b[0m in \u001b[0;36mpe236\u001b[1;34m()\u001b[0m\n\u001b[0;32m     25\u001b[0m \u001b[1;33m\u001b[0m\u001b[0m\n\u001b[0;32m     26\u001b[0m \u001b[1;33m\u001b[0m\u001b[0m\n\u001b[1;32m---> 27\u001b[1;33m         \u001b[1;32mif\u001b[0m \u001b[0msum\u001b[0m\u001b[1;33m(\u001b[0m\u001b[0mnp\u001b[0m\u001b[1;33m.\u001b[0m\u001b[0misclose\u001b[0m\u001b[1;33m(\u001b[0m\u001b[0mm\u001b[0m\u001b[1;33m*\u001b[0m\u001b[0mnp\u001b[0m\u001b[1;33m.\u001b[0m\u001b[0mones_like\u001b[0m\u001b[1;33m(\u001b[0m\u001b[0mval_ratios\u001b[0m\u001b[1;33m)\u001b[0m\u001b[1;33m,\u001b[0m\u001b[0mval_ratios\u001b[0m\u001b[1;33m,\u001b[0m\u001b[0matol\u001b[0m \u001b[1;33m=\u001b[0m \u001b[1;36m1e-8\u001b[0m\u001b[1;33m)\u001b[0m\u001b[1;33m)\u001b[0m \u001b[1;33m==\u001b[0m \u001b[1;36m5\u001b[0m\u001b[1;33m:\u001b[0m\u001b[1;33m\u001b[0m\u001b[0m\n\u001b[0m\u001b[0;32m     28\u001b[0m \u001b[1;33m\u001b[0m\u001b[0m\n\u001b[0;32m     29\u001b[0m             \u001b[0ml\u001b[0m \u001b[1;33m+=\u001b[0m \u001b[1;36m1\u001b[0m\u001b[1;33m\u001b[0m\u001b[0m\n",
      "\u001b[1;32m~\\Anaconda3\\lib\\site-packages\\numpy\\core\\numeric.py\u001b[0m in \u001b[0;36misclose\u001b[1;34m(a, b, rtol, atol, equal_nan)\u001b[0m\n\u001b[0;32m   2332\u001b[0m     \u001b[0mxfin\u001b[0m \u001b[1;33m=\u001b[0m \u001b[0misfinite\u001b[0m\u001b[1;33m(\u001b[0m\u001b[0mx\u001b[0m\u001b[1;33m)\u001b[0m\u001b[1;33m\u001b[0m\u001b[0m\n\u001b[0;32m   2333\u001b[0m     \u001b[0myfin\u001b[0m \u001b[1;33m=\u001b[0m \u001b[0misfinite\u001b[0m\u001b[1;33m(\u001b[0m\u001b[0my\u001b[0m\u001b[1;33m)\u001b[0m\u001b[1;33m\u001b[0m\u001b[0m\n\u001b[1;32m-> 2334\u001b[1;33m     \u001b[1;32mif\u001b[0m \u001b[0mall\u001b[0m\u001b[1;33m(\u001b[0m\u001b[0mxfin\u001b[0m\u001b[1;33m)\u001b[0m \u001b[1;32mand\u001b[0m \u001b[0mall\u001b[0m\u001b[1;33m(\u001b[0m\u001b[0myfin\u001b[0m\u001b[1;33m)\u001b[0m\u001b[1;33m:\u001b[0m\u001b[1;33m\u001b[0m\u001b[0m\n\u001b[0m\u001b[0;32m   2335\u001b[0m         \u001b[1;32mreturn\u001b[0m \u001b[0mwithin_tol\u001b[0m\u001b[1;33m(\u001b[0m\u001b[0mx\u001b[0m\u001b[1;33m,\u001b[0m \u001b[0my\u001b[0m\u001b[1;33m,\u001b[0m \u001b[0matol\u001b[0m\u001b[1;33m,\u001b[0m \u001b[0mrtol\u001b[0m\u001b[1;33m)\u001b[0m\u001b[1;33m\u001b[0m\u001b[0m\n\u001b[0;32m   2336\u001b[0m     \u001b[1;32melse\u001b[0m\u001b[1;33m:\u001b[0m\u001b[1;33m\u001b[0m\u001b[0m\n",
      "\u001b[1;32m~\\Anaconda3\\lib\\site-packages\\numpy\\core\\fromnumeric.py\u001b[0m in \u001b[0;36mall\u001b[1;34m(a, axis, out, keepdims)\u001b[0m\n\u001b[0;32m   2096\u001b[0m     \u001b[1;32mif\u001b[0m \u001b[0mkeepdims\u001b[0m \u001b[1;32mis\u001b[0m \u001b[1;32mnot\u001b[0m \u001b[0mnp\u001b[0m\u001b[1;33m.\u001b[0m\u001b[0m_NoValue\u001b[0m\u001b[1;33m:\u001b[0m\u001b[1;33m\u001b[0m\u001b[0m\n\u001b[0;32m   2097\u001b[0m         \u001b[0mkwargs\u001b[0m\u001b[1;33m[\u001b[0m\u001b[1;34m'keepdims'\u001b[0m\u001b[1;33m]\u001b[0m \u001b[1;33m=\u001b[0m \u001b[0mkeepdims\u001b[0m\u001b[1;33m\u001b[0m\u001b[0m\n\u001b[1;32m-> 2098\u001b[1;33m     \u001b[1;32mreturn\u001b[0m \u001b[0marr\u001b[0m\u001b[1;33m.\u001b[0m\u001b[0mall\u001b[0m\u001b[1;33m(\u001b[0m\u001b[0maxis\u001b[0m\u001b[1;33m=\u001b[0m\u001b[0maxis\u001b[0m\u001b[1;33m,\u001b[0m \u001b[0mout\u001b[0m\u001b[1;33m=\u001b[0m\u001b[0mout\u001b[0m\u001b[1;33m,\u001b[0m \u001b[1;33m**\u001b[0m\u001b[0mkwargs\u001b[0m\u001b[1;33m)\u001b[0m\u001b[1;33m\u001b[0m\u001b[0m\n\u001b[0m\u001b[0;32m   2099\u001b[0m \u001b[1;33m\u001b[0m\u001b[0m\n\u001b[0;32m   2100\u001b[0m \u001b[1;33m\u001b[0m\u001b[0m\n",
      "\u001b[1;31mKeyboardInterrupt\u001b[0m: "
     ]
    }
   ],
   "source": [
    "pe236()"
   ]
  },
  {
   "cell_type": "code",
   "execution_count": null,
   "metadata": {},
   "outputs": [],
   "source": []
  }
 ],
 "metadata": {
  "kernelspec": {
   "display_name": "Python 3",
   "language": "python",
   "name": "python3"
  },
  "language_info": {
   "codemirror_mode": {
    "name": "ipython",
    "version": 3
   },
   "file_extension": ".py",
   "mimetype": "text/x-python",
   "name": "python",
   "nbconvert_exporter": "python",
   "pygments_lexer": "ipython3",
   "version": "3.6.5"
  }
 },
 "nbformat": 4,
 "nbformat_minor": 2
}
