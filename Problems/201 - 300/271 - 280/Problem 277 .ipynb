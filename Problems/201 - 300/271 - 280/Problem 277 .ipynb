{
 "cells": [
  {
   "cell_type": "markdown",
   "metadata": {},
   "source": [
    "## A Modified Collatz sequence\n",
    "\n",
    "A modified Collatz sequence of integers is obtained from a starting value a1 in the following way:\n",
    "\n",
    "$a_{n+1} = \\frac{a_n}{3}$ if an is divisible by 3. We shall denote this as a large downward step, \"D\".\n",
    "\n",
    "$a_{n+1} = \\frac{4a_n + 2}{3}$ if an divided by 3 gives a remainder of 1. We shall denote this as an upward step, \"U\".\n",
    "\n",
    "$a_{n+1} = \\frac{2a_n - 1}{3}$ if an divided by 3 gives a remainder of 2. We shall denote this as a small downward step, \"d\".\n",
    "\n",
    "The sequence terminates when some $a_n$ = 1.\n",
    "\n",
    "Given any integer, we can list out the sequence of steps.\n",
    "For instance if $a_1=231$, then the sequence {$a_n$}={231,77,51,17,11,7,10,14,9,3,1} corresponds to the steps \"DdDddUUdDD\".\n",
    "\n",
    "Of course, there are other sequences that begin with that same sequence \"DdDddUUdDD....\".\n",
    "For instance, if $a_1=1004064$, then the sequence is DdDddUUdDDDdUDUUUdDdUUDDDUdDD.\n",
    "In fact, 1004064 is the smallest possible $a_1$ > $10^6$ that begins with the sequence DdDddUUdDD.\n",
    "\n",
    "What is the smallest $a_1$ > $10^15$ that begins with the sequence \"UDDDUdddDDUDDddDdDddDDUDDdUUDd\"?"
   ]
  }
 ],
 "metadata": {
  "kernelspec": {
   "display_name": "Python 3",
   "language": "python",
   "name": "python3"
  },
  "language_info": {
   "codemirror_mode": {
    "name": "ipython",
    "version": 3
   },
   "file_extension": ".py",
   "mimetype": "text/x-python",
   "name": "python",
   "nbconvert_exporter": "python",
   "pygments_lexer": "ipython3",
   "version": "3.6.5"
  }
 },
 "nbformat": 4,
 "nbformat_minor": 2
}
