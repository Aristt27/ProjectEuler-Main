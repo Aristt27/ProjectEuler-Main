{
 "cells": [
  {
   "cell_type": "markdown",
   "metadata": {},
   "source": [
    "### Problem 220 ###\n",
    "Let $D_{0}$ be the two-letter string \"Fa\". For n≥1, derive $D_{n}$ from Dn-1 by the string-rewriting rules:\n",
    "\n",
    "\"a\" → \"aRbFR\"\n",
    "\"b\" → \"LFaLb\"\n",
    "\n",
    "Thus, $D_{0}$ = \"Fa\", D1 = \"FaRbFR\", $D_{2}$ = \"FaRbFRRLFaLbFR\", and so on.\n",
    "\n",
    "These strings can be interpreted as instructions to a computer graphics program, with \"F\" meaning \"draw forward one unit\", \"L\" meaning \"turn left 90 degrees\", \"R\" meaning \"turn right 90 degrees\", and \"a\" and \"b\" being ignored. The initial position of the computer cursor is (0,0), pointing up towards (0,1).\n",
    "\n",
    "Then $D_{n}$ is an exotic drawing known as the Heighway Dragon of order n. For example, $D_{10}$ is shown below; counting each \"F\" as one step, the highlighted spot at (18,16) is the position reached after 500 steps.\n",
    "\n",
    "\n",
    "What is the position of the cursor after $10^{12}$ steps in $D_{50}$ ?\n",
    "Give your answer in the form x,y with no spaces."
   ]
  },
  {
   "cell_type": "code",
   "execution_count": 1,
   "metadata": {},
   "outputs": [],
   "source": [
    "def dragon(n):\n",
    "    'iter n times the dragon string-rewritingly'\n",
    "    d0 = 'Fa'\n",
    "    for i in range(n):\n",
    "        ans = ''\n",
    "        for x in d0:\n",
    "            if x == 'a': \n",
    "                ans += 'aRbFR'\n",
    "            if x == 'b':\n",
    "                ans += 'LFaLb'\n",
    "            elif x != 'a' and x!= 'b':\n",
    "                ans += x\n",
    "        d0 = ans\n",
    "    return ans"
   ]
  },
  {
   "cell_type": "code",
   "execution_count": 333,
   "metadata": {
    "collapsed": true
   },
   "outputs": [],
   "source": [
    "def dragon2(n,d0 = 'Fa'):\n",
    "    'iter n times the dragon string-rewritingly from a d0'\n",
    "    if n == 0:\n",
    "        return d0\n",
    "    ans = ''\n",
    "    for x in d0:\n",
    "        if x == 'a': \n",
    "            ans += 'aRbFR'\n",
    "        if x == 'b':\n",
    "            ans += 'LFaLb'\n",
    "        elif x != 'a' and x!= 'b':\n",
    "            ans += x\n",
    "    d0 = ans\n",
    "    return dragon2(n-1,d0)"
   ]
  },
  {
   "cell_type": "code",
   "execution_count": 337,
   "metadata": {},
   "outputs": [
    {
     "name": "stdout",
     "output_type": "stream",
     "text": [
      "10 loops, best of 3: 53.9 ms per loop\n"
     ]
    }
   ],
   "source": [
    "%timeit dragon(15)"
   ]
  },
  {
   "cell_type": "code",
   "execution_count": 338,
   "metadata": {},
   "outputs": [
    {
     "name": "stdout",
     "output_type": "stream",
     "text": [
      "10 loops, best of 3: 52.9 ms per loop\n"
     ]
    }
   ],
   "source": [
    "%timeit dragon2(15)"
   ]
  },
  {
   "cell_type": "code",
   "execution_count": 12,
   "metadata": {},
   "outputs": [],
   "source": [
    "def turnleft(l,local):\n",
    "    c = l.index(1)\n",
    "    a,b = local\n",
    "    if c == 0:\n",
    "        udlr = [0,0,1,0]\n",
    "    if c == 1:\n",
    "        udlr = [0,0,0,1]\n",
    "    if c == 2:\n",
    "        udlr = [0,1,0,0]\n",
    "    if c == 3:\n",
    "        udlr = [1,0,0,0]\n",
    "        \n",
    "    direction = newdirection(udlr,local)\n",
    "    return udlr, direction\n",
    "\n",
    "def turnright(l,local):\n",
    "    c = l.index(1)\n",
    "    a,b = local\n",
    "    if c == 0:\n",
    "        udlr = [0,0,0,1]\n",
    "    if c == 1:\n",
    "        udlr = [0,0,1,0]\n",
    "    if c == 2:\n",
    "        udlr = [1,0,0,0]\n",
    "    if c == 3:\n",
    "        udlr = [0,1,0,0]\n",
    "        \n",
    "    direction = newdirection(udlr,local)\n",
    "    return udlr, direction"
   ]
  },
  {
   "cell_type": "code",
   "execution_count": 11,
   "metadata": {},
   "outputs": [],
   "source": [
    "def newdirection(udlr,direction):\n",
    "    u,d,l,r = udlr\n",
    "    a,b = direction    \n",
    "    if u == 1:\n",
    "        direction = [a,b+1]\n",
    "    if d == 1:\n",
    "        direction = [a,b-1]\n",
    "    if l == 1:\n",
    "        direction = [a-1,b]\n",
    "    if r == 1:\n",
    "        direction = [a+1,b]\n",
    "    return direction"
   ]
  },
  {
   "cell_type": "code",
   "execution_count": 83,
   "metadata": {},
   "outputs": [],
   "source": [
    "def dragon_walk(n,k):\n",
    "    'walks through the dragon(n) curve k steps'\n",
    "    start = [0,0]\n",
    "    direction = [0,1]\n",
    "    udlr = [1,0,0,0]  # up down left right\n",
    "    walk = dragon(n)\n",
    "    #first I simplify dragon:\n",
    "    while 'a' in walk:\n",
    "        walk = walk.replace(\"a\",\"\")\n",
    "    while 'b' in walk:\n",
    "        walk = walk.replace(\"b\",\"\")\n",
    "    while 'RL' in walk:\n",
    "        walk = walk.replace(\"RL\", \"\")\n",
    "    while 'LR' in walk:\n",
    "        walk = walk.replace(\"LR\", \"\")\n",
    "        \n",
    "    i = 0 #steps\n",
    "    j = 0 #walk count\n",
    "    \n",
    "    while i < k: #stepping process\n",
    "        if walk[j] == 'L':\n",
    "            udlr, direction = turnleft(udlr,start)\n",
    "            j+= 1    \n",
    "        if walk[j] == 'R':\n",
    "            udlr, direction = turnright(udlr,start)\n",
    "            j+=1\n",
    "        if walk[j] == 'F':\n",
    "            start = direction\n",
    "            direction = newdirection(udlr,direction)\n",
    "            j+=1\n",
    "            i+=1\n",
    "    return start"
   ]
  },
  {
   "cell_type": "code",
   "execution_count": 118,
   "metadata": {
    "collapsed": true
   },
   "outputs": [],
   "source": [
    "def dragon_walk2(n,k):\n",
    "    'walks through the dragon(n) curve k steps'\n",
    "    start = [0,0]\n",
    "    direction = [0,1]\n",
    "    udlr = [1,0,0,0]  # up down left right\n",
    "    walk = dragon(n)\n",
    "    #first I simplify dragon:\n",
    "    while 'a' in walk:\n",
    "        walk = walk.replace(\"a\",\"\")\n",
    "    while 'b' in walk:\n",
    "        walk = walk.replace(\"b\",\"\")\n",
    "    while 'RL' in walk:\n",
    "        walk = walk.replace(\"RL\", \"\")\n",
    "    while 'LR' in walk:\n",
    "        walk = walk.replace(\"LR\", \"\")\n",
    "    while 'F' in walk:\n",
    "        walk = walk.replace(\"F\",\"\")\n",
    "        \n",
    "    #steps\n",
    "    i=1\n",
    "    #walk count\n",
    "    start = direction  #primeiro passo\n",
    "    direction = newdirection(udlr,direction)\n",
    "    \n",
    "    while i < k: #stepping process\n",
    "        if walk[i] == 'L':\n",
    "            udlr, direction = turnleft(udlr,start)\n",
    "            start = direction\n",
    "            direction = newdirection(udlr,direction)\n",
    "            i+= 1    \n",
    "        if walk[i] == 'R':\n",
    "            udlr, direction = turnright(udlr,start)\n",
    "            start = direction\n",
    "            direction = newdirection(udlr,direction)\n",
    "            i+=1\n",
    "    a,b = start\n",
    "    \n",
    "    return [b,-a]"
   ]
  },
  {
   "cell_type": "code",
   "execution_count": 74,
   "metadata": {},
   "outputs": [],
   "source": [
    "walk = dragon(10)\n",
    "#first I simplify dragon:\n",
    "while 'a' in walk:\n",
    "    walk = walk.replace(\"a\",\"\")\n",
    "while 'b' in walk:\n",
    "    walk = walk.replace(\"b\",\"\")\n",
    "while 'RL' in walk:\n",
    "    walk = walk.replace(\"RL\", \"\")\n",
    "while 'LR' in walk:\n",
    "    walk = walk.replace(\"LR\", \"\")  "
   ]
  },
  {
   "cell_type": "code",
   "execution_count": 142,
   "metadata": {},
   "outputs": [
    {
     "data": {
      "text/plain": [
       "'FaRbFRRLFaLbFR'"
      ]
     },
     "execution_count": 142,
     "metadata": {},
     "output_type": "execute_result"
    }
   ],
   "source": [
    "dragon(2)"
   ]
  },
  {
   "cell_type": "code",
   "execution_count": 67,
   "metadata": {},
   "outputs": [
    {
     "name": "stdout",
     "output_type": "stream",
     "text": [
      "10 loops, best of 3: 40.2 ms per loop\n"
     ]
    }
   ],
   "source": [
    "%timeit dragon(15)"
   ]
  },
  {
   "cell_type": "code",
   "execution_count": 68,
   "metadata": {},
   "outputs": [
    {
     "name": "stdout",
     "output_type": "stream",
     "text": [
      "1 loop, best of 3: 2.43 s per loop\n"
     ]
    }
   ],
   "source": [
    "%timeit dragon(20)"
   ]
  },
  {
   "cell_type": "code",
   "execution_count": 69,
   "metadata": {},
   "outputs": [
    {
     "name": "stdout",
     "output_type": "stream",
     "text": [
      "1 loop, best of 3: 7.78 s per loop\n"
     ]
    }
   ],
   "source": [
    "%timeit dragon(21)"
   ]
  },
  {
   "cell_type": "code",
   "execution_count": 135,
   "metadata": {},
   "outputs": [
    {
     "name": "stdout",
     "output_type": "stream",
     "text": [
      "1 loop, best of 3: 27.5 s per loop\n"
     ]
    }
   ],
   "source": [
    "%timeit dragon(22)"
   ]
  },
  {
   "cell_type": "code",
   "execution_count": 158,
   "metadata": {},
   "outputs": [
    {
     "data": {
      "text/plain": [
       "2.000000953675226"
      ]
     },
     "execution_count": 158,
     "metadata": {},
     "output_type": "execute_result"
    }
   ],
   "source": [
    "len(dragon(20))/len(dragon(19))"
   ]
  },
  {
   "cell_type": "code",
   "execution_count": 156,
   "metadata": {},
   "outputs": [
    {
     "data": {
      "text/plain": [
       "4194302"
      ]
     },
     "execution_count": 156,
     "metadata": {},
     "output_type": "execute_result"
    }
   ],
   "source": [
    "len(dragon(20))"
   ]
  },
  {
   "cell_type": "code",
   "execution_count": 155,
   "metadata": {},
   "outputs": [],
   "source": [
    "d21 = dragon2(1,d20)"
   ]
  },
  {
   "cell_type": "code",
   "execution_count": null,
   "metadata": {
    "collapsed": true
   },
   "outputs": [],
   "source": [
    "d50 = dragon2(29,d21)"
   ]
  },
  {
   "cell_type": "code",
   "execution_count": 178,
   "metadata": {
    "collapsed": true
   },
   "outputs": [],
   "source": [
    "def dragon_walk3(dn,k):\n",
    "    'walks through the dragon(n+1) dn+1 curve k steps'\n",
    "    start = [0,0]\n",
    "    direction = [0,1]\n",
    "    udlr = [1,0,0,0]  # up down left right\n",
    "    walk = dragon2(50,dn)\n",
    "    #first I simplify dragon:\n",
    "    while 'a' in walk:\n",
    "        walk = walk.replace(\"a\",\"\")\n",
    "    while 'b' in walk:\n",
    "        walk = walk.replace(\"b\",\"\")\n",
    "    while 'RL' in walk:\n",
    "        walk = walk.replace(\"RL\", \"\")\n",
    "    while 'LR' in walk:\n",
    "        walk = walk.replace(\"LR\", \"\")\n",
    "    while 'F' in walk:\n",
    "        walk = walk.replace(\"F\",\"\")\n",
    "        \n",
    "    #steps\n",
    "    i=1\n",
    "    #walk count\n",
    "    start = direction  #primeiro passo\n",
    "    direction = newdirection(udlr,direction)\n",
    "    \n",
    "    while i < k: #stepping process\n",
    "        if walk[i] == 'L':\n",
    "            udlr, direction = turnleft(udlr,start)\n",
    "            start = direction\n",
    "            direction = newdirection(udlr,direction)\n",
    "            i+= 1    \n",
    "        if walk[i] == 'R':\n",
    "            udlr, direction = turnright(udlr,start)\n",
    "            start = direction\n",
    "            direction = newdirection(udlr,direction)\n",
    "            i+=1\n",
    "    a,b = start\n",
    "    \n",
    "    return [b,-a]"
   ]
  },
  {
   "cell_type": "code",
   "execution_count": null,
   "metadata": {
    "collapsed": true
   },
   "outputs": [],
   "source": [
    "def smarter_dragon"
   ]
  },
  {
   "cell_type": "code",
   "execution_count": 197,
   "metadata": {
    "collapsed": true
   },
   "outputs": [],
   "source": [
    "def dragon5(n,dn='Fa',lim = 501):\n",
    "    'iter n times the dragon(n) string-rewritingly'\n",
    "    for i in range(n):\n",
    "        ans = ''\n",
    "        for x in dn:\n",
    "            if x == 'a': \n",
    "                ans += 'aRbFR'\n",
    "            if x == 'b':\n",
    "                ans += 'LFaLb'\n",
    "            elif x != 'a' and x!= 'b':\n",
    "                ans += x\n",
    "            while 'RL' in ans:\n",
    "                ans = ans.replace(\"RL\", \"\")\n",
    "            while 'LR' in ans:\n",
    "                ans = ans.replace(\"LR\", \"\")         \n",
    "        dn = ans[:lim]\n",
    "    return ans"
   ]
  },
  {
   "cell_type": "code",
   "execution_count": 194,
   "metadata": {},
   "outputs": [
    {
     "ename": "MemoryError",
     "evalue": "",
     "output_type": "error",
     "traceback": [
      "\u001b[1;31m---------------------------------------------------------------------------\u001b[0m",
      "\u001b[1;31mMemoryError\u001b[0m                               Traceback (most recent call last)",
      "\u001b[1;32m<ipython-input-194-8f94fd58eef5>\u001b[0m in \u001b[0;36m<module>\u001b[1;34m()\u001b[0m\n\u001b[1;32m----> 1\u001b[1;33m \u001b[1;36m3\u001b[0m\u001b[1;33m*\u001b[0m\u001b[1;33m(\u001b[0m\u001b[1;36m2\u001b[0m\u001b[1;33m**\u001b[0m\u001b[1;33m(\u001b[0m\u001b[1;36m50\u001b[0m\u001b[1;33m)\u001b[0m\u001b[1;33m)\u001b[0m \u001b[1;33m*\u001b[0m \u001b[1;33m[\u001b[0m \u001b[1;36m1\u001b[0m\u001b[1;33m]\u001b[0m\u001b[1;33m\u001b[0m\u001b[0m\n\u001b[0m",
      "\u001b[1;31mMemoryError\u001b[0m: "
     ]
    }
   ],
   "source": [
    "3*(2**(50))*[1]"
   ]
  },
  {
   "cell_type": "code",
   "execution_count": 184,
   "metadata": {},
   "outputs": [
    {
     "name": "stdout",
     "output_type": "stream",
     "text": [
      "1000 loops, best of 3: 1.47 ms per loop\n"
     ]
    }
   ],
   "source": [
    "%timeit dragon(10)"
   ]
  },
  {
   "cell_type": "code",
   "execution_count": 179,
   "metadata": {},
   "outputs": [
    {
     "name": "stdout",
     "output_type": "stream",
     "text": [
      "100 loops, best of 3: 2.69 ms per loop\n"
     ]
    }
   ],
   "source": [
    "%timeit dragon_walk(10,500)"
   ]
  },
  {
   "cell_type": "code",
   "execution_count": 180,
   "metadata": {
    "collapsed": true
   },
   "outputs": [],
   "source": [
    "d9 = dragon5(9)"
   ]
  },
  {
   "cell_type": "code",
   "execution_count": null,
   "metadata": {
    "collapsed": true
   },
   "outputs": [],
   "source": [
    "dragon_walk3(d9,500)"
   ]
  },
  {
   "cell_type": "code",
   "execution_count": 181,
   "metadata": {
    "collapsed": true
   },
   "outputs": [],
   "source": [
    "def dragon_walk3(dn,k):\n",
    "    'walks through the dragon(n+1) curve k steps'\n",
    "    start = [0,0]\n",
    "    direction = [0,1]\n",
    "    udlr = [1,0,0,0]  # up down left right\n",
    "    walk = dragon5(1,dn)\n",
    "    #first I simplify dragon:\n",
    "    while 'a' in walk:\n",
    "        walk = walk.replace(\"a\",\"\")\n",
    "    while 'b' in walk:\n",
    "        walk = walk.replace(\"b\",\"\")\n",
    "    while 'RL' in walk:\n",
    "        walk = walk.replace(\"RL\", \"\")\n",
    "    while 'LR' in walk:\n",
    "        walk = walk.replace(\"LR\", \"\")\n",
    "    while 'F' in walk:\n",
    "        walk = walk.replace(\"F\",\"\")\n",
    "        \n",
    "    #steps\n",
    "    i=1\n",
    "    #walk count\n",
    "    start = direction  #primeiro passo\n",
    "    direction = newdirection(udlr,direction)\n",
    "    \n",
    "    while i < k: #stepping process\n",
    "        if walk[i] == 'L':\n",
    "            udlr, direction = turnleft(udlr,start)\n",
    "            start = direction\n",
    "            direction = newdirection(udlr,direction)\n",
    "            i+= 1    \n",
    "        if walk[i] == 'R':\n",
    "            udlr, direction = turnright(udlr,start)\n",
    "            start = direction\n",
    "            direction = newdirection(udlr,direction)\n",
    "            i+=1\n",
    "    a,b = start\n",
    "    \n",
    "    return [b,-a]"
   ]
  },
  {
   "cell_type": "code",
   "execution_count": 183,
   "metadata": {},
   "outputs": [
    {
     "name": "stdout",
     "output_type": "stream",
     "text": [
      "100 loops, best of 3: 6.54 ms per loop\n"
     ]
    }
   ],
   "source": [
    "%timeit dragon_walk3(d9,500)"
   ]
  },
  {
   "cell_type": "code",
   "execution_count": null,
   "metadata": {
    "collapsed": true
   },
   "outputs": [],
   "source": [
    "def iterative_dragon(n):\n",
    "    'we need to create dragon(k) and walk dragon(k)'"
   ]
  },
  {
   "cell_type": "code",
   "execution_count": 1,
   "metadata": {},
   "outputs": [],
   "source": [
    "def dragon_walk5(start,dn,k):\n",
    "    'walks through the dragon(n+1) curve k steps starting somewhere'\n",
    "    direction = [0,1]\n",
    "    udlr = [1,0,0,0]  # up down left right\n",
    "    walk = dragon77(1,dn)\n",
    "    #first I simplify dragon:\n",
    "    while 'a' in walk:\n",
    "        walk = walk.replace(\"a\",\"\")\n",
    "    while 'b' in walk:\n",
    "        walk = walk.replace(\"b\",\"\")\n",
    "    while 'RL' in walk:\n",
    "        walk = walk.replace(\"RL\", \"\")\n",
    "    while 'LR' in walk:\n",
    "        walk = walk.replace(\"LR\", \"\")\n",
    "    while 'F' in walk:\n",
    "        walk = walk.replace(\"F\",\"\")\n",
    "        \n",
    "    #steps\n",
    "    i=1\n",
    "    #walk count\n",
    "    start = direction  #primeiro passo\n",
    "    direction = newdirection(udlr,direction)\n",
    "    \n",
    "    while i < k: #stepping process\n",
    "        if walk[i] == 'L':\n",
    "            udlr, direction = turnleft(udlr,start)\n",
    "            start = direction\n",
    "            direction = newdirection(udlr,direction)\n",
    "            i+= 1    \n",
    "        if walk[i] == 'R':\n",
    "            udlr, direction = turnright(udlr,start)\n",
    "            start = direction\n",
    "            direction = newdirection(udlr,direction)\n",
    "            i+=1\n",
    "    a,b = start\n",
    "    \n",
    "    return [b,-a]"
   ]
  },
  {
   "cell_type": "code",
   "execution_count": 196,
   "metadata": {
    "collapsed": true
   },
   "outputs": [],
   "source": [
    "# remider that i only need to know the first 10^12 movements"
   ]
  },
  {
   "cell_type": "code",
   "execution_count": null,
   "metadata": {
    "collapsed": true
   },
   "outputs": [],
   "source": [
    "dragon_walk5()"
   ]
  },
  {
   "cell_type": "code",
   "execution_count": 6,
   "metadata": {},
   "outputs": [],
   "source": [
    "def dragon77(n,dn='Fa',lim = 501):\n",
    "    'iter n times the dragon(n) string-rewritingly up to 500 steps'\n",
    "    steps = 0\n",
    "    for i in range(n):\n",
    "        ans = ''\n",
    "        for x in dn:\n",
    "            if x == 'a': \n",
    "                ans += 'aRbFR'\n",
    "            if x == 'b':\n",
    "                ans += 'LFaLb'\n",
    "            elif x != 'a' and x!= 'b':\n",
    "                ans += x\n",
    "            while 'RL' in ans:\n",
    "                ans = ans.replace(\"RL\", \"\")\n",
    "            while 'LR' in ans:\n",
    "                ans = ans.replace(\"LR\", \"\")\n",
    "        if lim > 0: \n",
    "            dn = ans[:lim]\n",
    "        else:\n",
    "            dn = ans\n",
    "    return ans, steps"
   ]
  },
  {
   "cell_type": "code",
   "execution_count": 17,
   "metadata": {},
   "outputs": [
    {
     "data": {
      "text/plain": [
       "('FaRbFRFaLbFRFaRbFLFaLbFRFaRbFRFaLbFLFaRbFLFaLbFRFaRbFRFaLbFRFaRbFLFaLbFLFaRbFRFaLbFLFaRbFLFaLbFRFaRbFRFaLbFRFaRbFLFaLbFRFaRbFRFaLbFLFaRbFLFaLbFLFaRbFRFaLbFRFaRbFLFaLbFLFaRbFRFaLbFLFaRbFLFaLbFRFaRbFRFaLbFRFaRbFLFaLbFRFaRbFRFaLbFLFaRbFLFaLbFRFaRbFRFaLbFRFaRbFLFaLbFLFaRbFRFaLbFLFaRbFLFaLbFLFaRbFRFaLbFRFaRbFLFaLbFRFaRbFRFaLbFLFaRbFLFaLbFLFaRbFRFaLbFRFaRbFLFaLbFLFaRbFRFaLbFLFaRbFLFaLbFRFaRbFRFaLbFRFaRbFLFaLbFRFaRbFRFaLbFLFaRbFLFaLbFRFaRbFRFaLbFRFaRbFLFaLbFLFaRbFRFaLbFLFaRbFLFaLbFRFaRbFRFaLbFRFaRbFLFaLbFRFaRbFRFaLbFLFaRbFLFaLbFLFaRbFRFaLbFRFaRbFLFaLbFLFaRbFRFaLbFLFaRbFLFaLbFLFaRbFRFaLbFRFaRbFLFaLbFRFaRbFRFaLbFLFaRbFLFaLbFRFaRbFRFaLbFRFaRbFLFaLbFLFaRbFRFaLbFLFaRbFLFaLbFLFaRbFRFaLbFRFaRbFLFaLbFRFaRbFRFaLbFLFaRbFLFaLbFLFaRbFRFaLbFRFaRbFLFaLbFLFaRbFRFaLbFLFaRbFLFaLbFRFaRbFRFaLbFRFaRbFLFaLbFRFaRbFRFaLbFLFaRbFLFaLbFRFaRbFRFaLbFRFaRbFLFaLbFLFaRbFRFaLbFLFaRbFLFaLbFRFaRbFRFaLbFRFaRbFLFaLbFRFaRbFRFaLbFLFaRbFLFaLbFLFaRbFRFaLbFRFaRbFLFaLbFLFaRbFRFaLbFLFaRbFLFaLbFRFaRbFRFaLbFRFaRbFLFaLbFRFaRbFRFaLbFLFaRbF',\n",
       " 0)"
      ]
     },
     "execution_count": 17,
     "metadata": {},
     "output_type": "execute_result"
    }
   ],
   "source": [
    "dragon77(11,'Fa')"
   ]
  },
  {
   "cell_type": "code",
   "execution_count": 16,
   "metadata": {},
   "outputs": [],
   "source": [
    "def dragon_walk5(start,dn,k):\n",
    "    'walks through the dragon(n+1) curve k steps starting somewhere'\n",
    "    direction = [0,1]\n",
    "    udlr = [1,0,0,0]  # up down left right\n",
    "    walk,steps = dragon77(1,dn)\n",
    "    #first I simplify dragon:\n",
    "    while 'a' in walk:\n",
    "        walk = walk.replace(\"a\",\"\")\n",
    "    while 'b' in walk:\n",
    "        walk = walk.replace(\"b\",\"\")\n",
    "    while 'RL' in walk:\n",
    "        walk = walk.replace(\"RL\", \"\")\n",
    "    while 'LR' in walk:\n",
    "        walk = walk.replace(\"LR\", \"\")\n",
    "    while 'F' in walk:\n",
    "        walk = walk.replace(\"F\",\"\")\n",
    "    while 'FLFLFLFL' in walk:\n",
    "        walk = ans.replace(\"FLFLFLFL\", \"\")\n",
    "        steps += 4\n",
    "    while 'FRFRFRFR' in walk:\n",
    "        walk = ans.replace(\"FRFRFRFR\", \"\")\n",
    "        steps += 4\n",
    "        \n",
    "    #steps\n",
    "    i=steps +1\n",
    "    #walk count\n",
    "    start = direction  #primeiro passo\n",
    "    direction = newdirection(udlr,direction)\n",
    "    \n",
    "    while i < k: #stepping process\n",
    "        if walk[i] == 'L':\n",
    "            udlr, direction = turnleft(udlr,start)\n",
    "            start = direction\n",
    "            direction = newdirection(udlr,direction)\n",
    "            i+= 1    \n",
    "        if walk[i] == 'R':\n",
    "            udlr, direction = turnright(udlr,start)\n",
    "            start = direction\n",
    "            direction = newdirection(udlr,direction)\n",
    "            i+=1\n",
    "    a,b = start\n",
    "    \n",
    "    return [b,-a]"
   ]
  },
  {
   "cell_type": "code",
   "execution_count": null,
   "metadata": {},
   "outputs": [],
   "source": [
    "d38  = dragon(38)"
   ]
  },
  {
   "cell_type": "code",
   "execution_count": null,
   "metadata": {},
   "outputs": [],
   "source": [
    "dragon_walk5([0,0],d38,10**12)"
   ]
  },
  {
   "cell_type": "code",
   "execution_count": 201,
   "metadata": {},
   "outputs": [
    {
     "data": {
      "text/plain": [
       "[18, 16]"
      ]
     },
     "execution_count": 201,
     "metadata": {},
     "output_type": "execute_result"
    }
   ],
   "source": [
    "dragon_walk5([0,0],dragon77(9),500)"
   ]
  },
  {
   "cell_type": "code",
   "execution_count": 230,
   "metadata": {},
   "outputs": [
    {
     "data": {
      "text/plain": [
       "True"
      ]
     },
     "execution_count": 230,
     "metadata": {},
     "output_type": "execute_result"
    }
   ],
   "source": [
    "dragon77(20,d5,1000) == dragon77(25,'Fa',1000)"
   ]
  },
  {
   "cell_type": "code",
   "execution_count": 225,
   "metadata": {},
   "outputs": [
    {
     "data": {
      "text/plain": [
       "[34, -2]"
      ]
     },
     "execution_count": 225,
     "metadata": {},
     "output_type": "execute_result"
    }
   ],
   "source": [
    "dragon_walk5([0,0],dragon77(25,'Fa',1000),(1000))"
   ]
  },
  {
   "cell_type": "code",
   "execution_count": 226,
   "metadata": {
    "collapsed": true
   },
   "outputs": [],
   "source": [
    "d5 = dragon77(5,'Fa',1000)"
   ]
  },
  {
   "cell_type": "code",
   "execution_count": 227,
   "metadata": {},
   "outputs": [
    {
     "data": {
      "text/plain": [
       "[34, -2]"
      ]
     },
     "execution_count": 227,
     "metadata": {},
     "output_type": "execute_result"
    }
   ],
   "source": [
    "dragon_walk5([18,16],dragon77(20,d5,1000),(1000))"
   ]
  },
  {
   "cell_type": "code",
   "execution_count": 241,
   "metadata": {
    "collapsed": true
   },
   "outputs": [],
   "source": [
    "import numpy as np"
   ]
  },
  {
   "cell_type": "code",
   "execution_count": 299,
   "metadata": {},
   "outputs": [],
   "source": [
    "n = np.log2((10**12)/3)"
   ]
  },
  {
   "cell_type": "code",
   "execution_count": 300,
   "metadata": {},
   "outputs": [
    {
     "data": {
      "text/plain": [
       "38.278174637927194"
      ]
     },
     "execution_count": 300,
     "metadata": {},
     "output_type": "execute_result"
    }
   ],
   "source": [
    "n"
   ]
  },
  {
   "cell_type": "code",
   "execution_count": null,
   "metadata": {
    "collapsed": true
   },
   "outputs": [],
   "source": [
    "' o len de dragon77 é 3/4 do len de qualquer dragon'\n",
    "' mas ele demora mais xd'\n",
    "' ideia entao é calcular o dragon(21) usando o d20'"
   ]
  },
  {
   "cell_type": "code",
   "execution_count": 247,
   "metadata": {},
   "outputs": [],
   "source": [
    "d20 = dragon(20)"
   ]
  },
  {
   "cell_type": "code",
   "execution_count": 250,
   "metadata": {},
   "outputs": [
    {
     "data": {
      "text/plain": [
       "8388606"
      ]
     },
     "execution_count": 250,
     "metadata": {},
     "output_type": "execute_result"
    }
   ],
   "source": [
    "len(dragon2(1,d20))"
   ]
  },
  {
   "cell_type": "code",
   "execution_count": 253,
   "metadata": {},
   "outputs": [
    {
     "data": {
      "text/plain": [
       "6291454.5"
      ]
     },
     "execution_count": 253,
     "metadata": {},
     "output_type": "execute_result"
    }
   ],
   "source": [
    "3*8388606/4\n",
    "\n"
   ]
  },
  {
   "cell_type": "code",
   "execution_count": null,
   "metadata": {
    "collapsed": true
   },
   "outputs": [],
   "source": [
    "len(dragon77(19,'Fa',-1))"
   ]
  },
  {
   "cell_type": "code",
   "execution_count": 275,
   "metadata": {},
   "outputs": [
    {
     "data": {
      "text/plain": [
       "True"
      ]
     },
     "execution_count": 275,
     "metadata": {},
     "output_type": "execute_result"
    }
   ],
   "source": [
    "dragon_walk5([0,0],dragon77(5,d5,-1),300) == dragon_walk5([0,0],dragon(10),300)"
   ]
  },
  {
   "cell_type": "code",
   "execution_count": 293,
   "metadata": {},
   "outputs": [
    {
     "data": {
      "text/plain": [
       "1.649266655232"
      ]
     },
     "execution_count": 293,
     "metadata": {},
     "output_type": "execute_result"
    }
   ],
   "source": [
    "(3*(2**19)*len(d20))/(4*(10**12))"
   ]
  },
  {
   "cell_type": "code",
   "execution_count": 295,
   "metadata": {
    "collapsed": true
   },
   "outputs": [],
   "source": [
    "limi = (10**12) +1"
   ]
  },
  {
   "cell_type": "code",
   "execution_count": 297,
   "metadata": {},
   "outputs": [
    {
     "name": "stdout",
     "output_type": "stream",
     "text": [
      "1 loop, best of 3: 843 ms per loop\n"
     ]
    }
   ],
   "source": [
    "%timeit dragon(19)"
   ]
  },
  {
   "cell_type": "code",
   "execution_count": 34,
   "metadata": {},
   "outputs": [
    {
     "name": "stdout",
     "output_type": "stream",
     "text": [
      "1.53 s ± 3.8 ms per loop (mean ± std. dev. of 7 runs, 1 loop each)\n"
     ]
    }
   ],
   "source": [
    "%timeit dragon(20)"
   ]
  },
  {
   "cell_type": "code",
   "execution_count": 301,
   "metadata": {},
   "outputs": [
    {
     "data": {
      "text/plain": [
       "4194302"
      ]
     },
     "execution_count": 301,
     "metadata": {},
     "output_type": "execute_result"
    }
   ],
   "source": [
    "len(d20)"
   ]
  },
  {
   "cell_type": "code",
   "execution_count": 302,
   "metadata": {
    "collapsed": true
   },
   "outputs": [],
   "source": [
    "tlimi = 4194302"
   ]
  },
  {
   "cell_type": "code",
   "execution_count": null,
   "metadata": {
    "collapsed": true
   },
   "outputs": [],
   "source": [
    "%timeit dragon_walk5([0,0],d20,10000)"
   ]
  },
  {
   "cell_type": "code",
   "execution_count": 307,
   "metadata": {
    "collapsed": true
   },
   "outputs": [],
   "source": [
    "def walkwalk(dn):\n",
    "    walk = dn\n",
    "    #first I simplify dragon:\n",
    "    while 'a' in walk:\n",
    "        walk = walk.replace(\"a\",\"\")\n",
    "    while 'b' in walk:\n",
    "        walk = walk.replace(\"b\",\"\")\n",
    "    while 'RL' in walk:\n",
    "        walk = walk.replace(\"RL\", \"\")\n",
    "    while 'LR' in walk:\n",
    "        walk = walk.replace(\"LR\", \"\")\n",
    "    while 'F' in walk:\n",
    "        walk = walk.replace(\"F\",\"\")\n",
    "    return walk"
   ]
  },
  {
   "cell_type": "code",
   "execution_count": null,
   "metadata": {
    "collapsed": true
   },
   "outputs": [],
   "source": [
    "d10 = dragon(10)"
   ]
  },
  {
   "cell_type": "code",
   "execution_count": 313,
   "metadata": {},
   "outputs": [],
   "source": [
    "d15 = dragon(15)"
   ]
  },
  {
   "cell_type": "code",
   "execution_count": 315,
   "metadata": {},
   "outputs": [
    {
     "data": {
      "text/plain": [
       "[-6, 4]"
      ]
     },
     "execution_count": 315,
     "metadata": {},
     "output_type": "execute_result"
    }
   ],
   "source": [
    "dragon_walk(10,100)"
   ]
  },
  {
   "cell_type": "code",
   "execution_count": 319,
   "metadata": {},
   "outputs": [
    {
     "name": "stdout",
     "output_type": "stream",
     "text": [
      "1 loop, best of 3: 2.42 s per loop\n"
     ]
    }
   ],
   "source": [
    "%timeit dragon_walk(39,(10**12))"
   ]
  },
  {
   "cell_type": "code",
   "execution_count": 317,
   "metadata": {},
   "outputs": [
    {
     "data": {
      "text/plain": [
       "[-6, 4]"
      ]
     },
     "execution_count": 317,
     "metadata": {},
     "output_type": "execute_result"
    }
   ],
   "source": [
    "dragon_walk(15,100)"
   ]
  },
  {
   "cell_type": "code",
   "execution_count": null,
   "metadata": {},
   "outputs": [],
   "source": [
    "%timeit dragon_walk5([0,0],d15,1000)"
   ]
  },
  {
   "cell_type": "code",
   "execution_count": null,
   "metadata": {
    "collapsed": true
   },
   "outputs": [],
   "source": [
    "%timeit dragon_walk5([0,0],d15,10000)"
   ]
  },
  {
   "cell_type": "code",
   "execution_count": 2,
   "metadata": {},
   "outputs": [],
   "source": [
    "dragon22 = dragon(22)"
   ]
  },
  {
   "cell_type": "code",
   "execution_count": 3,
   "metadata": {},
   "outputs": [],
   "source": [
    "d = dragon22[:500].replace('b','')"
   ]
  },
  {
   "cell_type": "code",
   "execution_count": 4,
   "metadata": {},
   "outputs": [],
   "source": [
    "dd = d.replace('a','')"
   ]
  },
  {
   "cell_type": "code",
   "execution_count": 5,
   "metadata": {},
   "outputs": [],
   "source": [
    "ddc = dd.replace('RL','')"
   ]
  },
  {
   "cell_type": "code",
   "execution_count": 6,
   "metadata": {},
   "outputs": [],
   "source": [
    "dddc  = ddc.replace('LR','')"
   ]
  },
  {
   "cell_type": "code",
   "execution_count": 7,
   "metadata": {},
   "outputs": [
    {
     "data": {
      "text/plain": [
       "'FRFRFLFRFRFLFLFRFRFRFLFLFRFLFLFRFRFRFLFRFRFLFLFLFRFRFLFLFRFLFLFRFRFRFLFRFRFLFLFRFRFRFLFLFRFLFLFLFRFRFLFRFRFLFLFLFRFRFLFLFRFLFLFRFRFRFLFRFRFLFLFRFRFRFLFLFRFLFLFRFRFRFLFRFRFLFLFLFRFRFLFLFRFLFLFLFRFRFLFRFRFLFLFRFRFRFLFLFRFLFLFLFRFRFLFRFRFLFLFLFRFRFLFLFR'"
      ]
     },
     "execution_count": 7,
     "metadata": {},
     "output_type": "execute_result"
    }
   ],
   "source": [
    "dddc"
   ]
  },
  {
   "cell_type": "code",
   "execution_count": null,
   "metadata": {},
   "outputs": [],
   "source": []
  },
  {
   "cell_type": "code",
   "execution_count": 24,
   "metadata": {},
   "outputs": [
    {
     "data": {
      "text/plain": [
       "16777214"
      ]
     },
     "execution_count": 24,
     "metadata": {},
     "output_type": "execute_result"
    }
   ],
   "source": [
    "len(dragon22)"
   ]
  },
  {
   "cell_type": "code",
   "execution_count": 19,
   "metadata": {},
   "outputs": [],
   "source": [
    "import copy\n",
    "dragon22_ = copy.deepcopy(dragon22)"
   ]
  },
  {
   "cell_type": "code",
   "execution_count": 25,
   "metadata": {},
   "outputs": [],
   "source": [
    "dragon23 = dragon(23)"
   ]
  },
  {
   "cell_type": "code",
   "execution_count": 27,
   "metadata": {},
   "outputs": [
    {
     "data": {
      "text/plain": [
       "33554430"
      ]
     },
     "execution_count": 27,
     "metadata": {},
     "output_type": "execute_result"
    }
   ],
   "source": [
    "len(dragon23)"
   ]
  },
  {
   "cell_type": "markdown",
   "metadata": {},
   "source": [
    "### dragon_walk(39,(10**12))"
   ]
  },
  {
   "cell_type": "markdown",
   "metadata": {},
   "source": [
    "now i want to not loop around squares"
   ]
  },
  {
   "cell_type": "code",
   "execution_count": null,
   "metadata": {},
   "outputs": [],
   "source": []
  }
 ],
 "metadata": {
  "kernelspec": {
   "display_name": "Python 3",
   "language": "python",
   "name": "python3"
  },
  "language_info": {
   "codemirror_mode": {
    "name": "ipython",
    "version": 3
   },
   "file_extension": ".py",
   "mimetype": "text/x-python",
   "name": "python",
   "nbconvert_exporter": "python",
   "pygments_lexer": "ipython3",
   "version": "3.5.2"
  }
 },
 "nbformat": 4,
 "nbformat_minor": 1
}
