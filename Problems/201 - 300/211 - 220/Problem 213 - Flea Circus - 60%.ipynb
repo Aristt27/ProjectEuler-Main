{
 "cells": [
  {
   "cell_type": "markdown",
   "metadata": {},
   "source": [
    "### Flea Circus \n",
    "A 30×30 grid of squares contains 900 fleas, initially one flea per square.\n",
    "When a bell is rung, each flea jumps to an adjacent square at random (usually 4 possibilities, except for fleas on the edge of the grid or at the corners).\n",
    "\n",
    "What is the expected number of unoccupied squares after 50 rings of the bell? Give your answer rounded to six decimal places."
   ]
  },
  {
   "cell_type": "code",
   "execution_count": 9,
   "metadata": {},
   "outputs": [],
   "source": [
    "import numpy as np\n",
    "from copy import deepcopy"
   ]
  },
  {
   "cell_type": "code",
   "execution_count": 10,
   "metadata": {},
   "outputs": [],
   "source": [
    "def new_board(n):\n",
    "    board = np.ones([n,n])\n",
    "    return board"
   ]
  },
  {
   "cell_type": "code",
   "execution_count": 62,
   "metadata": {},
   "outputs": [],
   "source": [
    "def bell_ring(board):\n",
    "    'rings the bell 1 time and make the fleas jump'\n",
    "    \n",
    "    height = len(board)\n",
    "    width  = len(board[0])\n",
    "    area   = height*width\n",
    "    flea_flight = np.zeros([height,width])\n",
    "    \n",
    "    for n in range(area):\n",
    "\n",
    "        i,j = divmod(n,height)\n",
    "        sqr = int(board[i][j])\n",
    "        for flea in range(sqr): # alive detection\n",
    "\n",
    "            if i == 0: # first line\n",
    "\n",
    "                if j == i:\n",
    "                    coin = np.random.randint(2)\n",
    "                    if coin == 0: \n",
    "                        flea_flight[i+1][j] += 1\n",
    "                    if coin == 1:\n",
    "                        flea_flight[i][j+1] += 1\n",
    "\n",
    "                elif j == (height - 1):\n",
    "                    coin = np.random.randint(2)\n",
    "                    if coin == 0: \n",
    "                        flea_flight[i+1][j] += 1\n",
    "                    if coin == 1:\n",
    "                        flea_flight[i][j-1] += 1\n",
    "                else:\n",
    "                    coin = np.random.randint(3)\n",
    "                    if coin == 0: \n",
    "                        flea_flight[i+1][j] += 1\n",
    "                    if coin == 1:\n",
    "                        flea_flight[i][j-1] += 1\n",
    "                    if coin == 2:\n",
    "                        flea_flight[i][j+1] += 1\n",
    "\n",
    "\n",
    "            elif i == (height - 1):\n",
    "\n",
    "                if j == 0:\n",
    "                    coin = np.random.randint(2)\n",
    "                    if coin == 0: \n",
    "                        flea_flight[i-1][j] += 1\n",
    "                    if coin == 1:\n",
    "                        flea_flight[i][j+1] += 1\n",
    "\n",
    "                elif j == i:\n",
    "                    coin = np.random.randint(2)\n",
    "                    if coin == 0: \n",
    "                        flea_flight[i-1][j] += 1\n",
    "                    if coin == 1:\n",
    "                        flea_flight[i][j-1] += 1\n",
    "                else:\n",
    "                    coin = np.random.randint(3)\n",
    "                    if coin == 0: \n",
    "                        flea_flight[i-1][j] += 1\n",
    "                    if coin == 1:\n",
    "                        flea_flight[i][j+1] += 1\n",
    "                    if coin == 2:\n",
    "                        flea_flight[i][j-1] += 1\n",
    "\n",
    "\n",
    "            else:\n",
    "                if j == 0:\n",
    "                    coin = np.random.randint(3)\n",
    "                    if coin == 0: \n",
    "                        flea_flight[i+1][j] += 1\n",
    "                    if coin == 1:\n",
    "                        flea_flight[i-1][j] += 1\n",
    "                    if coin == 2: \n",
    "                        flea_flight[i][j+1] += 1\n",
    "\n",
    "\n",
    "                elif j == (height - 1):\n",
    "                    coin = np.random.randint(3)\n",
    "                    if coin == 0:\n",
    "                        flea_flight[i-1][j] += 1\n",
    "                    if coin == 1:\n",
    "                        flea_flight[i+1][j] += 1\n",
    "                    if coin == 2: \n",
    "                        flea_flight[i][j-1] += 1\n",
    "\n",
    "                else:\n",
    "                    coin = np.random.randint(4)\n",
    "                    if coin == 0: \n",
    "                        flea_flight[i+1][j] += 1\n",
    "                    if coin == 1:\n",
    "                        flea_flight[i-1][j] += 1\n",
    "                    if coin == 2:\n",
    "                        flea_flight[i][j+1] += 1\n",
    "                    if coin == 3: \n",
    "                        flea_flight[i][j-1] += 1\n",
    "    return flea_flight"
   ]
  },
  {
   "cell_type": "code",
   "execution_count": 77,
   "metadata": {},
   "outputs": [],
   "source": [
    "def bell_iter(n,ts):\n",
    "    board = new_board(n)\n",
    "    for t in range(ts):\n",
    "        board = bell_ring(board)\n",
    "    return board"
   ]
  },
  {
   "cell_type": "code",
   "execution_count": 105,
   "metadata": {},
   "outputs": [],
   "source": [
    "def pe213(prec,dim=30,times=50):\n",
    "    ans = []\n",
    "    for _ in range(prec):\n",
    "        fleas = bell_iter(dim,times)\n",
    "        zeroes = 0\n",
    "        for line in fleas:\n",
    "            line = list(line)\n",
    "            zeroes += line.count(0)\n",
    "        ans += [zeroes]\n",
    "    return sum(ans)/prec"
   ]
  },
  {
   "cell_type": "code",
   "execution_count": 106,
   "metadata": {},
   "outputs": [
    {
     "name": "stdout",
     "output_type": "stream",
     "text": [
      "148 ms ± 10.9 ms per loop (mean ± std. dev. of 7 runs, 10 loops each)\n"
     ]
    }
   ],
   "source": [
    "%timeit bell_iter(30,50)"
   ]
  },
  {
   "cell_type": "code",
   "execution_count": 107,
   "metadata": {},
   "outputs": [],
   "source": [
    "# prec = 10 ~ 1.5 sec\n",
    "# prec = 400 ~ 1 minute"
   ]
  },
  {
   "cell_type": "code",
   "execution_count": 108,
   "metadata": {},
   "outputs": [
    {
     "name": "stdout",
     "output_type": "stream",
     "text": [
      "1.48 s ± 105 ms per loop (mean ± std. dev. of 7 runs, 1 loop each)\n"
     ]
    }
   ],
   "source": [
    "%timeit pe213(10)"
   ]
  },
  {
   "cell_type": "code",
   "execution_count": 115,
   "metadata": {},
   "outputs": [
    {
     "data": {
      "text/plain": [
       "330.655"
      ]
     },
     "execution_count": 115,
     "metadata": {},
     "output_type": "execute_result"
    }
   ],
   "source": [
    "pe213(400)"
   ]
  },
  {
   "cell_type": "code",
   "execution_count": 116,
   "metadata": {},
   "outputs": [
    {
     "data": {
      "text/plain": [
       "331.115"
      ]
     },
     "execution_count": 116,
     "metadata": {},
     "output_type": "execute_result"
    }
   ],
   "source": [
    "pe213(400)"
   ]
  },
  {
   "cell_type": "code",
   "execution_count": 117,
   "metadata": {},
   "outputs": [
    {
     "data": {
      "text/plain": [
       "331.105"
      ]
     },
     "execution_count": 117,
     "metadata": {},
     "output_type": "execute_result"
    }
   ],
   "source": [
    "pe213(400)"
   ]
  },
  {
   "cell_type": "code",
   "execution_count": 118,
   "metadata": {},
   "outputs": [
    {
     "data": {
      "text/plain": [
       "331.29"
      ]
     },
     "execution_count": 118,
     "metadata": {},
     "output_type": "execute_result"
    }
   ],
   "source": [
    "pe213(400)"
   ]
  }
 ],
 "metadata": {
  "kernelspec": {
   "display_name": "Python 3",
   "language": "python",
   "name": "python3"
  },
  "language_info": {
   "codemirror_mode": {
    "name": "ipython",
    "version": 3
   },
   "file_extension": ".py",
   "mimetype": "text/x-python",
   "name": "python",
   "nbconvert_exporter": "python",
   "pygments_lexer": "ipython3",
   "version": "3.6.5"
  }
 },
 "nbformat": 4,
 "nbformat_minor": 2
}
