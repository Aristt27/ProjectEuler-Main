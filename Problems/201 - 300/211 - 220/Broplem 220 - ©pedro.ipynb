{
 "cells": [
  {
   "cell_type": "code",
   "execution_count": 8,
   "metadata": {},
   "outputs": [],
   "source": [
    "def _f(string):\n",
    "    return string.upper().replace(\"A\",\"aRbFR\").replace(\"B\",\"LFaLb\")\n",
    "\n",
    "def f(string,n=1):\n",
    "    if not n:\n",
    "        return string\n",
    "    else:\n",
    "        return f(_f(string), n-1)"
   ]
  },
  {
   "cell_type": "code",
   "execution_count": 12,
   "metadata": {},
   "outputs": [],
   "source": [
    "def dragon(n):\n",
    "    'iter n times the dragon string-rewritingly'\n",
    "    d0 = 'Fa'\n",
    "    for i in range(n):\n",
    "        ans = ''\n",
    "        for x in d0:\n",
    "            if x == 'a': \n",
    "                ans += 'aRbFR'\n",
    "            if x == 'b':\n",
    "                ans += 'LFaLb'\n",
    "            elif x != 'a' and x!= 'b':\n",
    "                ans += x\n",
    "        d0 = ans\n",
    "    return ans"
   ]
  },
  {
   "cell_type": "code",
   "execution_count": null,
   "metadata": {},
   "outputs": [
    {
     "name": "stdout",
     "output_type": "stream",
     "text": [
      "94.7 µs ± 252 ns per loop (mean ± std. dev. of 7 runs, 10000 loops each)\n"
     ]
    }
   ],
   "source": [
    "%timeit f('Fa',10)\n",
    "%timeit dragon(10)"
   ]
  },
  {
   "cell_type": "code",
   "execution_count": null,
   "metadata": {},
   "outputs": [],
   "source": []
  }
 ],
 "metadata": {
  "kernelspec": {
   "display_name": "Python 3",
   "language": "python",
   "name": "python3"
  },
  "language_info": {
   "codemirror_mode": {
    "name": "ipython",
    "version": 3
   },
   "file_extension": ".py",
   "mimetype": "text/x-python",
   "name": "python",
   "nbconvert_exporter": "python",
   "pygments_lexer": "ipython3",
   "version": "3.5.2"
  }
 },
 "nbformat": 4,
 "nbformat_minor": 2
}
